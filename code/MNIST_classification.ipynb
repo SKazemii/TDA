{
 "cells": [
  {
   "cell_type": "markdown",
   "source": [
    "# Classifying handwritten digits\n",
    "\n",
    "This notebook shows how ``giotto-tda`` can be used to generate topological features for image classification. We'll be using the famous MNIST dataset, which contains images of handwritten digits and is a standard benchmark for testing new classification algorithms.\n",
    "\n",
    "<div style=\"text-align: center\">\n",
    "<img src='images/mnist.png'>\n",
    "<p style=\"text-align: center;\"> <b>Figure 1:</b> A few digits from the MNIST dataset. Figure reference: <a href=\"https://en.wikipedia.org/wiki/MNIST_database\">en.wikipedia.org/wiki/MNIST_database</a>. </p>\n",
    "</div>\n",
    "\n",
    "If you are looking at a static version of this notebook and would like to run its contents, head over to [GitHub](https://github.com/giotto-ai/giotto-tda/blob/master/examples/MNIST_classification.ipynb).\n",
    "\n",
    "\n",
    "## Useful references\n",
    "\n",
    "* [_A Topological \"Reading\" Lesson: Classification of MNIST using TDA_](https://arxiv.org/abs/1910.08345) by Adélie Garin and Guillaume Tauzin\n",
    "* [_The MNIST Database of Handwritten Digits_](http://yann.lecun.com/exdb/mnist/) by Yann LeCun, Corinna Cortes, and Christopher J.C. Burges\n",
    "\n",
    "**License: AGPLv3**"
   ],
   "metadata": {}
  },
  {
   "cell_type": "markdown",
   "source": [
    "## Load the MNIST dataset"
   ],
   "metadata": {}
  },
  {
   "cell_type": "markdown",
   "source": [
    "To get started, let's fetch the MNIST dataset using one of ``scikit-learn``'s helper functions:"
   ],
   "metadata": {}
  },
  {
   "cell_type": "code",
   "execution_count": 1,
   "source": [
    "from sklearn.datasets import fetch_openml\n",
    "\n",
    "X, y = fetch_openml(\"mnist_784\", version=1, return_X_y=True)"
   ],
   "outputs": [],
   "metadata": {}
  },
  {
   "cell_type": "markdown",
   "source": [
    "By looking at the shapes of these arrays"
   ],
   "metadata": {}
  },
  {
   "cell_type": "code",
   "execution_count": 4,
   "source": [
    "print(f\"X shape: {X.shape}, y shape: {y.shape}\")\n",
    "print(type(X))"
   ],
   "outputs": [
    {
     "output_type": "stream",
     "name": "stdout",
     "text": [
      "X shape: (70000, 784), y shape: (70000,)\n",
      "<class 'pandas.core.frame.DataFrame'>\n"
     ]
    }
   ],
   "metadata": {}
  },
  {
   "cell_type": "markdown",
   "source": [
    "we see that there are 70,000 images, where each image has 784 features that represent pixel intensity. Let's reshape the feature vector to a 28x28 array and visualise one of the \"8\" digits using ``giotto-tda``'s plotting API:"
   ],
   "metadata": {}
  },
  {
   "cell_type": "code",
   "execution_count": 5,
   "source": [
    "import numpy as np\n",
    "from gtda.plotting import plot_heatmap\n",
    "\n",
    "im8_idx = np.flatnonzero(y == \"8\")[0]\n",
    "img8 = X.values[im8_idx].reshape(28, 28)\n",
    "plot_heatmap(img8)"
   ],
   "outputs": [
    {
     "output_type": "display_data",
     "data": {
      "application/vnd.plotly.v1+json": {
       "config": {
        "plotlyServerURL": "https://plot.ly"
       },
       "data": [
        {
         "colorscale": [
          [
           0,
           "rgb(255,255,255)"
          ],
          [
           0.125,
           "rgb(240,240,240)"
          ],
          [
           0.25,
           "rgb(217,217,217)"
          ],
          [
           0.375,
           "rgb(189,189,189)"
          ],
          [
           0.5,
           "rgb(150,150,150)"
          ],
          [
           0.625,
           "rgb(115,115,115)"
          ],
          [
           0.75,
           "rgb(82,82,82)"
          ],
          [
           0.875,
           "rgb(37,37,37)"
          ],
          [
           1,
           "rgb(0,0,0)"
          ]
         ],
         "type": "heatmap",
         "z": [
          [
           0,
           0,
           0,
           0,
           0,
           0,
           0,
           0,
           0,
           0,
           0,
           0,
           0,
           0,
           0,
           0,
           0,
           0,
           0,
           0,
           0,
           0,
           0,
           0,
           0,
           0,
           0,
           0
          ],
          [
           0,
           0,
           0,
           0,
           0,
           0,
           0,
           0,
           0,
           0,
           0,
           0,
           0,
           0,
           0,
           0,
           0,
           0,
           0,
           0,
           0,
           0,
           0,
           0,
           0,
           0,
           0,
           0
          ],
          [
           0,
           0,
           0,
           0,
           0,
           0,
           0,
           0,
           0,
           0,
           0,
           0,
           0,
           0,
           0,
           0,
           0,
           0,
           0,
           0,
           0,
           0,
           0,
           0,
           0,
           0,
           0,
           0
          ],
          [
           0,
           0,
           0,
           0,
           0,
           0,
           0,
           0,
           0,
           0,
           0,
           0,
           0,
           0,
           0,
           0,
           0,
           0,
           0,
           0,
           0,
           0,
           0,
           0,
           0,
           0,
           0,
           0
          ],
          [
           0,
           0,
           0,
           0,
           0,
           0,
           0,
           0,
           0,
           0,
           0,
           0,
           0,
           0,
           0,
           0,
           0,
           0,
           0,
           0,
           0,
           0,
           0,
           0,
           0,
           0,
           0,
           0
          ],
          [
           0,
           0,
           0,
           0,
           0,
           0,
           0,
           0,
           0,
           0,
           0,
           0,
           0,
           0,
           0,
           0,
           0,
           0,
           0,
           11,
           203,
           229,
           32,
           0,
           0,
           0,
           0,
           0
          ],
          [
           0,
           0,
           0,
           0,
           0,
           0,
           0,
           0,
           0,
           0,
           0,
           0,
           0,
           0,
           0,
           26,
           47,
           47,
           30,
           95,
           254,
           215,
           13,
           0,
           0,
           0,
           0,
           0
          ],
          [
           0,
           0,
           0,
           0,
           0,
           0,
           0,
           0,
           0,
           0,
           0,
           45,
           154,
           185,
           185,
           223,
           253,
           253,
           133,
           175,
           255,
           188,
           19,
           0,
           0,
           0,
           0,
           0
          ],
          [
           0,
           0,
           0,
           0,
           0,
           0,
           0,
           0,
           0,
           0,
           0,
           110,
           253,
           253,
           253,
           246,
           161,
           228,
           253,
           253,
           254,
           92,
           0,
           0,
           0,
           0,
           0,
           0
          ],
          [
           0,
           0,
           0,
           0,
           0,
           0,
           0,
           0,
           0,
           0,
           128,
           245,
           253,
           158,
           137,
           21,
           0,
           48,
           233,
           253,
           233,
           8,
           0,
           0,
           0,
           0,
           0,
           0
          ],
          [
           0,
           0,
           0,
           0,
           0,
           0,
           0,
           0,
           0,
           0,
           139,
           254,
           223,
           25,
           0,
           0,
           36,
           170,
           254,
           244,
           106,
           0,
           0,
           0,
           0,
           0,
           0,
           0
          ],
          [
           0,
           0,
           0,
           0,
           0,
           0,
           0,
           0,
           0,
           0,
           55,
           212,
           253,
           161,
           11,
           26,
           178,
           253,
           236,
           113,
           0,
           0,
           0,
           0,
           0,
           0,
           0,
           0
          ],
          [
           0,
           0,
           0,
           0,
           0,
           0,
           0,
           0,
           0,
           0,
           7,
           155,
           253,
           228,
           80,
           223,
           253,
           253,
           109,
           0,
           0,
           0,
           0,
           0,
           0,
           0,
           0,
           0
          ],
          [
           0,
           0,
           0,
           0,
           0,
           0,
           0,
           0,
           0,
           0,
           0,
           141,
           253,
           253,
           253,
           254,
           253,
           154,
           29,
           0,
           0,
           0,
           0,
           0,
           0,
           0,
           0,
           0
          ],
          [
           0,
           0,
           0,
           0,
           0,
           0,
           0,
           0,
           0,
           0,
           0,
           110,
           253,
           253,
           253,
           254,
           179,
           38,
           0,
           0,
           0,
           0,
           0,
           0,
           0,
           0,
           0,
           0
          ],
          [
           0,
           0,
           0,
           0,
           0,
           0,
           0,
           0,
           0,
           0,
           3,
           171,
           254,
           254,
           254,
           179,
           0,
           0,
           0,
           0,
           0,
           0,
           0,
           0,
           0,
           0,
           0,
           0
          ],
          [
           0,
           0,
           0,
           0,
           0,
           0,
           0,
           0,
           0,
           0,
           171,
           253,
           253,
           253,
           253,
           178,
           0,
           0,
           0,
           0,
           0,
           0,
           0,
           0,
           0,
           0,
           0,
           0
          ],
          [
           0,
           0,
           0,
           0,
           0,
           0,
           0,
           0,
           26,
           123,
           254,
           253,
           203,
           156,
           253,
           200,
           0,
           0,
           0,
           0,
           0,
           0,
           0,
           0,
           0,
           0,
           0,
           0
          ],
          [
           0,
           0,
           0,
           0,
           0,
           0,
           0,
           0,
           93,
           253,
           254,
           121,
           13,
           93,
           253,
           158,
           0,
           0,
           0,
           0,
           0,
           0,
           0,
           0,
           0,
           0,
           0,
           0
          ],
          [
           0,
           0,
           0,
           0,
           0,
           0,
           0,
           64,
           239,
           253,
           76,
           8,
           32,
           219,
           253,
           126,
           0,
           0,
           0,
           0,
           0,
           0,
           0,
           0,
           0,
           0,
           0,
           0
          ],
          [
           0,
           0,
           0,
           0,
           0,
           0,
           0,
           133,
           254,
           191,
           0,
           5,
           108,
           234,
           254,
           106,
           0,
           0,
           0,
           0,
           0,
           0,
           0,
           0,
           0,
           0,
           0,
           0
          ],
          [
           0,
           0,
           0,
           0,
           0,
           0,
           0,
           132,
           253,
           190,
           5,
           85,
           253,
           236,
           154,
           0,
           0,
           0,
           0,
           0,
           0,
           0,
           0,
           0,
           0,
           0,
           0,
           0
          ],
          [
           0,
           0,
           0,
           0,
           0,
           0,
           0,
           153,
           253,
           169,
           192,
           253,
           253,
           77,
           0,
           0,
           0,
           0,
           0,
           0,
           0,
           0,
           0,
           0,
           0,
           0,
           0,
           0
          ],
          [
           0,
           0,
           0,
           0,
           0,
           0,
           0,
           112,
           253,
           253,
           254,
           236,
           129,
           9,
           0,
           0,
           0,
           0,
           0,
           0,
           0,
           0,
           0,
           0,
           0,
           0,
           0,
           0
          ],
          [
           0,
           0,
           0,
           0,
           0,
           0,
           0,
           17,
           118,
           243,
           191,
           113,
           0,
           0,
           0,
           0,
           0,
           0,
           0,
           0,
           0,
           0,
           0,
           0,
           0,
           0,
           0,
           0
          ],
          [
           0,
           0,
           0,
           0,
           0,
           0,
           0,
           0,
           0,
           0,
           0,
           0,
           0,
           0,
           0,
           0,
           0,
           0,
           0,
           0,
           0,
           0,
           0,
           0,
           0,
           0,
           0,
           0
          ],
          [
           0,
           0,
           0,
           0,
           0,
           0,
           0,
           0,
           0,
           0,
           0,
           0,
           0,
           0,
           0,
           0,
           0,
           0,
           0,
           0,
           0,
           0,
           0,
           0,
           0,
           0,
           0,
           0
          ],
          [
           0,
           0,
           0,
           0,
           0,
           0,
           0,
           0,
           0,
           0,
           0,
           0,
           0,
           0,
           0,
           0,
           0,
           0,
           0,
           0,
           0,
           0,
           0,
           0,
           0,
           0,
           0,
           0
          ]
         ]
        }
       ],
       "layout": {
        "plot_bgcolor": "white",
        "template": {
         "data": {
          "bar": [
           {
            "error_x": {
             "color": "#2a3f5f"
            },
            "error_y": {
             "color": "#2a3f5f"
            },
            "marker": {
             "line": {
              "color": "#E5ECF6",
              "width": 0.5
             }
            },
            "type": "bar"
           }
          ],
          "barpolar": [
           {
            "marker": {
             "line": {
              "color": "#E5ECF6",
              "width": 0.5
             }
            },
            "type": "barpolar"
           }
          ],
          "carpet": [
           {
            "aaxis": {
             "endlinecolor": "#2a3f5f",
             "gridcolor": "white",
             "linecolor": "white",
             "minorgridcolor": "white",
             "startlinecolor": "#2a3f5f"
            },
            "baxis": {
             "endlinecolor": "#2a3f5f",
             "gridcolor": "white",
             "linecolor": "white",
             "minorgridcolor": "white",
             "startlinecolor": "#2a3f5f"
            },
            "type": "carpet"
           }
          ],
          "choropleth": [
           {
            "colorbar": {
             "outlinewidth": 0,
             "ticks": ""
            },
            "type": "choropleth"
           }
          ],
          "contour": [
           {
            "colorbar": {
             "outlinewidth": 0,
             "ticks": ""
            },
            "colorscale": [
             [
              0,
              "#0d0887"
             ],
             [
              0.1111111111111111,
              "#46039f"
             ],
             [
              0.2222222222222222,
              "#7201a8"
             ],
             [
              0.3333333333333333,
              "#9c179e"
             ],
             [
              0.4444444444444444,
              "#bd3786"
             ],
             [
              0.5555555555555556,
              "#d8576b"
             ],
             [
              0.6666666666666666,
              "#ed7953"
             ],
             [
              0.7777777777777778,
              "#fb9f3a"
             ],
             [
              0.8888888888888888,
              "#fdca26"
             ],
             [
              1,
              "#f0f921"
             ]
            ],
            "type": "contour"
           }
          ],
          "contourcarpet": [
           {
            "colorbar": {
             "outlinewidth": 0,
             "ticks": ""
            },
            "type": "contourcarpet"
           }
          ],
          "heatmap": [
           {
            "colorbar": {
             "outlinewidth": 0,
             "ticks": ""
            },
            "colorscale": [
             [
              0,
              "#0d0887"
             ],
             [
              0.1111111111111111,
              "#46039f"
             ],
             [
              0.2222222222222222,
              "#7201a8"
             ],
             [
              0.3333333333333333,
              "#9c179e"
             ],
             [
              0.4444444444444444,
              "#bd3786"
             ],
             [
              0.5555555555555556,
              "#d8576b"
             ],
             [
              0.6666666666666666,
              "#ed7953"
             ],
             [
              0.7777777777777778,
              "#fb9f3a"
             ],
             [
              0.8888888888888888,
              "#fdca26"
             ],
             [
              1,
              "#f0f921"
             ]
            ],
            "type": "heatmap"
           }
          ],
          "heatmapgl": [
           {
            "colorbar": {
             "outlinewidth": 0,
             "ticks": ""
            },
            "colorscale": [
             [
              0,
              "#0d0887"
             ],
             [
              0.1111111111111111,
              "#46039f"
             ],
             [
              0.2222222222222222,
              "#7201a8"
             ],
             [
              0.3333333333333333,
              "#9c179e"
             ],
             [
              0.4444444444444444,
              "#bd3786"
             ],
             [
              0.5555555555555556,
              "#d8576b"
             ],
             [
              0.6666666666666666,
              "#ed7953"
             ],
             [
              0.7777777777777778,
              "#fb9f3a"
             ],
             [
              0.8888888888888888,
              "#fdca26"
             ],
             [
              1,
              "#f0f921"
             ]
            ],
            "type": "heatmapgl"
           }
          ],
          "histogram": [
           {
            "marker": {
             "colorbar": {
              "outlinewidth": 0,
              "ticks": ""
             }
            },
            "type": "histogram"
           }
          ],
          "histogram2d": [
           {
            "colorbar": {
             "outlinewidth": 0,
             "ticks": ""
            },
            "colorscale": [
             [
              0,
              "#0d0887"
             ],
             [
              0.1111111111111111,
              "#46039f"
             ],
             [
              0.2222222222222222,
              "#7201a8"
             ],
             [
              0.3333333333333333,
              "#9c179e"
             ],
             [
              0.4444444444444444,
              "#bd3786"
             ],
             [
              0.5555555555555556,
              "#d8576b"
             ],
             [
              0.6666666666666666,
              "#ed7953"
             ],
             [
              0.7777777777777778,
              "#fb9f3a"
             ],
             [
              0.8888888888888888,
              "#fdca26"
             ],
             [
              1,
              "#f0f921"
             ]
            ],
            "type": "histogram2d"
           }
          ],
          "histogram2dcontour": [
           {
            "colorbar": {
             "outlinewidth": 0,
             "ticks": ""
            },
            "colorscale": [
             [
              0,
              "#0d0887"
             ],
             [
              0.1111111111111111,
              "#46039f"
             ],
             [
              0.2222222222222222,
              "#7201a8"
             ],
             [
              0.3333333333333333,
              "#9c179e"
             ],
             [
              0.4444444444444444,
              "#bd3786"
             ],
             [
              0.5555555555555556,
              "#d8576b"
             ],
             [
              0.6666666666666666,
              "#ed7953"
             ],
             [
              0.7777777777777778,
              "#fb9f3a"
             ],
             [
              0.8888888888888888,
              "#fdca26"
             ],
             [
              1,
              "#f0f921"
             ]
            ],
            "type": "histogram2dcontour"
           }
          ],
          "mesh3d": [
           {
            "colorbar": {
             "outlinewidth": 0,
             "ticks": ""
            },
            "type": "mesh3d"
           }
          ],
          "parcoords": [
           {
            "line": {
             "colorbar": {
              "outlinewidth": 0,
              "ticks": ""
             }
            },
            "type": "parcoords"
           }
          ],
          "pie": [
           {
            "automargin": true,
            "type": "pie"
           }
          ],
          "scatter": [
           {
            "marker": {
             "colorbar": {
              "outlinewidth": 0,
              "ticks": ""
             }
            },
            "type": "scatter"
           }
          ],
          "scatter3d": [
           {
            "line": {
             "colorbar": {
              "outlinewidth": 0,
              "ticks": ""
             }
            },
            "marker": {
             "colorbar": {
              "outlinewidth": 0,
              "ticks": ""
             }
            },
            "type": "scatter3d"
           }
          ],
          "scattercarpet": [
           {
            "marker": {
             "colorbar": {
              "outlinewidth": 0,
              "ticks": ""
             }
            },
            "type": "scattercarpet"
           }
          ],
          "scattergeo": [
           {
            "marker": {
             "colorbar": {
              "outlinewidth": 0,
              "ticks": ""
             }
            },
            "type": "scattergeo"
           }
          ],
          "scattergl": [
           {
            "marker": {
             "colorbar": {
              "outlinewidth": 0,
              "ticks": ""
             }
            },
            "type": "scattergl"
           }
          ],
          "scattermapbox": [
           {
            "marker": {
             "colorbar": {
              "outlinewidth": 0,
              "ticks": ""
             }
            },
            "type": "scattermapbox"
           }
          ],
          "scatterpolar": [
           {
            "marker": {
             "colorbar": {
              "outlinewidth": 0,
              "ticks": ""
             }
            },
            "type": "scatterpolar"
           }
          ],
          "scatterpolargl": [
           {
            "marker": {
             "colorbar": {
              "outlinewidth": 0,
              "ticks": ""
             }
            },
            "type": "scatterpolargl"
           }
          ],
          "scatterternary": [
           {
            "marker": {
             "colorbar": {
              "outlinewidth": 0,
              "ticks": ""
             }
            },
            "type": "scatterternary"
           }
          ],
          "surface": [
           {
            "colorbar": {
             "outlinewidth": 0,
             "ticks": ""
            },
            "colorscale": [
             [
              0,
              "#0d0887"
             ],
             [
              0.1111111111111111,
              "#46039f"
             ],
             [
              0.2222222222222222,
              "#7201a8"
             ],
             [
              0.3333333333333333,
              "#9c179e"
             ],
             [
              0.4444444444444444,
              "#bd3786"
             ],
             [
              0.5555555555555556,
              "#d8576b"
             ],
             [
              0.6666666666666666,
              "#ed7953"
             ],
             [
              0.7777777777777778,
              "#fb9f3a"
             ],
             [
              0.8888888888888888,
              "#fdca26"
             ],
             [
              1,
              "#f0f921"
             ]
            ],
            "type": "surface"
           }
          ],
          "table": [
           {
            "cells": {
             "fill": {
              "color": "#EBF0F8"
             },
             "line": {
              "color": "white"
             }
            },
            "header": {
             "fill": {
              "color": "#C8D4E3"
             },
             "line": {
              "color": "white"
             }
            },
            "type": "table"
           }
          ]
         },
         "layout": {
          "annotationdefaults": {
           "arrowcolor": "#2a3f5f",
           "arrowhead": 0,
           "arrowwidth": 1
          },
          "autotypenumbers": "strict",
          "coloraxis": {
           "colorbar": {
            "outlinewidth": 0,
            "ticks": ""
           }
          },
          "colorscale": {
           "diverging": [
            [
             0,
             "#8e0152"
            ],
            [
             0.1,
             "#c51b7d"
            ],
            [
             0.2,
             "#de77ae"
            ],
            [
             0.3,
             "#f1b6da"
            ],
            [
             0.4,
             "#fde0ef"
            ],
            [
             0.5,
             "#f7f7f7"
            ],
            [
             0.6,
             "#e6f5d0"
            ],
            [
             0.7,
             "#b8e186"
            ],
            [
             0.8,
             "#7fbc41"
            ],
            [
             0.9,
             "#4d9221"
            ],
            [
             1,
             "#276419"
            ]
           ],
           "sequential": [
            [
             0,
             "#0d0887"
            ],
            [
             0.1111111111111111,
             "#46039f"
            ],
            [
             0.2222222222222222,
             "#7201a8"
            ],
            [
             0.3333333333333333,
             "#9c179e"
            ],
            [
             0.4444444444444444,
             "#bd3786"
            ],
            [
             0.5555555555555556,
             "#d8576b"
            ],
            [
             0.6666666666666666,
             "#ed7953"
            ],
            [
             0.7777777777777778,
             "#fb9f3a"
            ],
            [
             0.8888888888888888,
             "#fdca26"
            ],
            [
             1,
             "#f0f921"
            ]
           ],
           "sequentialminus": [
            [
             0,
             "#0d0887"
            ],
            [
             0.1111111111111111,
             "#46039f"
            ],
            [
             0.2222222222222222,
             "#7201a8"
            ],
            [
             0.3333333333333333,
             "#9c179e"
            ],
            [
             0.4444444444444444,
             "#bd3786"
            ],
            [
             0.5555555555555556,
             "#d8576b"
            ],
            [
             0.6666666666666666,
             "#ed7953"
            ],
            [
             0.7777777777777778,
             "#fb9f3a"
            ],
            [
             0.8888888888888888,
             "#fdca26"
            ],
            [
             1,
             "#f0f921"
            ]
           ]
          },
          "colorway": [
           "#636efa",
           "#EF553B",
           "#00cc96",
           "#ab63fa",
           "#FFA15A",
           "#19d3f3",
           "#FF6692",
           "#B6E880",
           "#FF97FF",
           "#FECB52"
          ],
          "font": {
           "color": "#2a3f5f"
          },
          "geo": {
           "bgcolor": "white",
           "lakecolor": "white",
           "landcolor": "#E5ECF6",
           "showlakes": true,
           "showland": true,
           "subunitcolor": "white"
          },
          "hoverlabel": {
           "align": "left"
          },
          "hovermode": "closest",
          "mapbox": {
           "style": "light"
          },
          "paper_bgcolor": "white",
          "plot_bgcolor": "#E5ECF6",
          "polar": {
           "angularaxis": {
            "gridcolor": "white",
            "linecolor": "white",
            "ticks": ""
           },
           "bgcolor": "#E5ECF6",
           "radialaxis": {
            "gridcolor": "white",
            "linecolor": "white",
            "ticks": ""
           }
          },
          "scene": {
           "xaxis": {
            "backgroundcolor": "#E5ECF6",
            "gridcolor": "white",
            "gridwidth": 2,
            "linecolor": "white",
            "showbackground": true,
            "ticks": "",
            "zerolinecolor": "white"
           },
           "yaxis": {
            "backgroundcolor": "#E5ECF6",
            "gridcolor": "white",
            "gridwidth": 2,
            "linecolor": "white",
            "showbackground": true,
            "ticks": "",
            "zerolinecolor": "white"
           },
           "zaxis": {
            "backgroundcolor": "#E5ECF6",
            "gridcolor": "white",
            "gridwidth": 2,
            "linecolor": "white",
            "showbackground": true,
            "ticks": "",
            "zerolinecolor": "white"
           }
          },
          "shapedefaults": {
           "line": {
            "color": "#2a3f5f"
           }
          },
          "ternary": {
           "aaxis": {
            "gridcolor": "white",
            "linecolor": "white",
            "ticks": ""
           },
           "baxis": {
            "gridcolor": "white",
            "linecolor": "white",
            "ticks": ""
           },
           "bgcolor": "#E5ECF6",
           "caxis": {
            "gridcolor": "white",
            "linecolor": "white",
            "ticks": ""
           }
          },
          "title": {
           "x": 0.05
          },
          "xaxis": {
           "automargin": true,
           "gridcolor": "white",
           "linecolor": "white",
           "ticks": "",
           "title": {
            "standoff": 15
           },
           "zerolinecolor": "white",
           "zerolinewidth": 2
          },
          "yaxis": {
           "automargin": true,
           "gridcolor": "white",
           "linecolor": "white",
           "ticks": "",
           "title": {
            "standoff": 15
           },
           "zerolinecolor": "white",
           "zerolinewidth": 2
          }
         }
        },
        "xaxis": {
         "constrain": "domain",
         "scaleanchor": "y"
        },
        "yaxis": {
         "autorange": "reversed",
         "constrain": "domain"
        }
       }
      }
     },
     "metadata": {}
    }
   ],
   "metadata": {}
  },
  {
   "cell_type": "markdown",
   "source": [
    "### Create train and test sets"
   ],
   "metadata": {}
  },
  {
   "cell_type": "markdown",
   "source": [
    "For this example, we will work with a small subset of images – to run a full-blown analysis simply change the values of ``train_size`` and ``test_size`` below:"
   ],
   "metadata": {}
  },
  {
   "cell_type": "code",
   "execution_count": 6,
   "source": [
    "from sklearn.model_selection import train_test_split\n",
    "\n",
    "train_size, test_size = 60, 10\n",
    "\n",
    "# Reshape to (n_samples, n_pixels_x, n_pixels_y)\n",
    "X = X.values.reshape((-1, 28, 28))\n",
    "\n",
    "X_train, X_test, y_train, y_test = train_test_split(\n",
    "    X, y, train_size=train_size, test_size=test_size, stratify=y, random_state=666\n",
    ")\n",
    "\n",
    "print(f\"X_train shape: {X_train.shape}, y_train shape: {y_train.shape}\")\n",
    "print(f\"X_test shape: {X_test.shape}, y_test shape: {y_test.shape}\")"
   ],
   "outputs": [
    {
     "output_type": "stream",
     "name": "stdout",
     "text": [
      "X_train shape: (60, 28, 28), y_train shape: (60,)\n",
      "X_test shape: (10, 28, 28), y_test shape: (10,)\n"
     ]
    }
   ],
   "metadata": {}
  },
  {
   "cell_type": "markdown",
   "source": [
    "## From pixels to topological features"
   ],
   "metadata": {}
  },
  {
   "cell_type": "markdown",
   "source": [
    "As shown in the figure below, several steps are required to extract topological features from an image. Since our images are made of pixels, it is convenient to use filtrations of [_cubical complexes_](https://giotto-ai.github.io/gtda-docs/latest/theory/glossary.html#cubical-complex) instead of simplicial ones. Let's go through each of these steps for a single \"8\" digit using ``giotto-tda``!"
   ],
   "metadata": {}
  },
  {
   "cell_type": "markdown",
   "source": [
    "<div style=\"text-align: center\">\n",
    "<img src='images/example_pipeline_images.png' width='600'>\n",
    "<p style=\"text-align: center;\"> <b>Figure 2:</b> An example of a topological feature extraction pipeline. Figure reference: <a href=\"https://arxiv.org/abs/1910.08345\">arXiv:1910.08345</a>. </p>\n",
    "</div>"
   ],
   "metadata": {}
  },
  {
   "cell_type": "markdown",
   "source": [
    "### Binarize the image"
   ],
   "metadata": {}
  },
  {
   "cell_type": "markdown",
   "source": [
    "In ``giotto-tda``, filtrations of cubical complexes are built from _binary images_ consisting of only black and white pixels. We can convert our greyscale image to binary by applying a threshold on each pixel value via the ``Binarizer`` transformer:"
   ],
   "metadata": {}
  },
  {
   "cell_type": "code",
   "execution_count": 7,
   "source": [
    "from gtda.images import Binarizer\n",
    "\n",
    "# Pick out index of first 8 image\n",
    "im8_idx = np.flatnonzero(y_train == \"8\")[0]\n",
    "# Reshape to (n_samples, n_pixels_x, n_pixels_y) format\n",
    "im8 = X_train[im8_idx][None, :, :]\n",
    "\n",
    "binarizer = Binarizer(threshold=0.4)\n",
    "im8_binarized = binarizer.fit_transform(im8)\n",
    "\n",
    "binarizer.plot(im8_binarized)"
   ],
   "outputs": [
    {
     "output_type": "display_data",
     "data": {
      "application/vnd.plotly.v1+json": {
       "config": {
        "plotlyServerURL": "https://plot.ly"
       },
       "data": [
        {
         "colorscale": [
          [
           0,
           "rgb(255,255,255)"
          ],
          [
           0.125,
           "rgb(240,240,240)"
          ],
          [
           0.25,
           "rgb(217,217,217)"
          ],
          [
           0.375,
           "rgb(189,189,189)"
          ],
          [
           0.5,
           "rgb(150,150,150)"
          ],
          [
           0.625,
           "rgb(115,115,115)"
          ],
          [
           0.75,
           "rgb(82,82,82)"
          ],
          [
           0.875,
           "rgb(37,37,37)"
          ],
          [
           1,
           "rgb(0,0,0)"
          ]
         ],
         "type": "heatmap",
         "z": [
          [
           0,
           0,
           0,
           0,
           0,
           0,
           0,
           0,
           0,
           0,
           0,
           0,
           0,
           0,
           0,
           0,
           0,
           0,
           0,
           0,
           0,
           0,
           0,
           0,
           0,
           0,
           0,
           0
          ],
          [
           0,
           0,
           0,
           0,
           0,
           0,
           0,
           0,
           0,
           0,
           0,
           0,
           0,
           0,
           0,
           0,
           0,
           0,
           0,
           0,
           0,
           0,
           0,
           0,
           0,
           0,
           0,
           0
          ],
          [
           0,
           0,
           0,
           0,
           0,
           0,
           0,
           0,
           0,
           0,
           0,
           0,
           0,
           0,
           0,
           0,
           0,
           0,
           0,
           0,
           0,
           0,
           0,
           0,
           0,
           0,
           0,
           0
          ],
          [
           0,
           0,
           0,
           0,
           0,
           0,
           0,
           0,
           0,
           0,
           0,
           0,
           0,
           0,
           0,
           0,
           0,
           0,
           0,
           0,
           0,
           0,
           0,
           0,
           0,
           0,
           0,
           0
          ],
          [
           0,
           0,
           0,
           0,
           0,
           0,
           0,
           0,
           0,
           0,
           0,
           0,
           0,
           0,
           0,
           0,
           0,
           0,
           0,
           0,
           0,
           0,
           0,
           0,
           0,
           0,
           0,
           0
          ],
          [
           0,
           0,
           0,
           0,
           0,
           0,
           0,
           0,
           0,
           0,
           1,
           1,
           1,
           1,
           1,
           1,
           0,
           0,
           0,
           0,
           0,
           0,
           0,
           0,
           0,
           0,
           0,
           0
          ],
          [
           0,
           0,
           0,
           0,
           0,
           0,
           0,
           0,
           0,
           1,
           1,
           1,
           0,
           0,
           1,
           1,
           1,
           0,
           0,
           0,
           0,
           0,
           0,
           0,
           0,
           0,
           0,
           0
          ],
          [
           0,
           0,
           0,
           0,
           0,
           0,
           0,
           0,
           0,
           1,
           1,
           0,
           0,
           0,
           0,
           1,
           1,
           0,
           0,
           0,
           0,
           0,
           0,
           0,
           0,
           0,
           0,
           0
          ],
          [
           0,
           0,
           0,
           0,
           0,
           0,
           0,
           0,
           0,
           1,
           1,
           0,
           0,
           0,
           0,
           0,
           1,
           1,
           0,
           0,
           0,
           0,
           0,
           0,
           0,
           0,
           0,
           0
          ],
          [
           0,
           0,
           0,
           0,
           0,
           0,
           0,
           0,
           0,
           0,
           1,
           1,
           0,
           0,
           0,
           0,
           0,
           1,
           0,
           1,
           0,
           0,
           0,
           0,
           0,
           0,
           0,
           0
          ],
          [
           0,
           0,
           0,
           0,
           0,
           0,
           0,
           0,
           0,
           0,
           0,
           1,
           1,
           0,
           0,
           0,
           0,
           1,
           1,
           1,
           0,
           0,
           0,
           0,
           0,
           0,
           0,
           0
          ],
          [
           0,
           0,
           0,
           0,
           0,
           0,
           0,
           0,
           0,
           0,
           0,
           0,
           1,
           1,
           0,
           0,
           0,
           1,
           1,
           0,
           0,
           0,
           0,
           0,
           0,
           0,
           0,
           0
          ],
          [
           0,
           0,
           0,
           0,
           0,
           0,
           0,
           0,
           0,
           0,
           0,
           0,
           1,
           1,
           1,
           0,
           1,
           1,
           1,
           0,
           0,
           0,
           0,
           0,
           0,
           0,
           0,
           0
          ],
          [
           0,
           0,
           0,
           0,
           0,
           0,
           0,
           0,
           0,
           0,
           0,
           0,
           0,
           0,
           1,
           1,
           1,
           1,
           0,
           0,
           0,
           0,
           0,
           0,
           0,
           0,
           0,
           0
          ],
          [
           0,
           0,
           0,
           0,
           0,
           0,
           0,
           0,
           0,
           0,
           0,
           0,
           0,
           0,
           1,
           1,
           1,
           0,
           0,
           0,
           0,
           0,
           0,
           0,
           0,
           0,
           0,
           0
          ],
          [
           0,
           0,
           0,
           0,
           0,
           0,
           0,
           0,
           0,
           0,
           0,
           0,
           0,
           0,
           1,
           1,
           1,
           0,
           0,
           0,
           0,
           0,
           0,
           0,
           0,
           0,
           0,
           0
          ],
          [
           0,
           0,
           0,
           0,
           0,
           0,
           0,
           0,
           0,
           0,
           0,
           0,
           0,
           1,
           1,
           1,
           1,
           0,
           0,
           0,
           0,
           0,
           0,
           0,
           0,
           0,
           0,
           0
          ],
          [
           0,
           0,
           0,
           0,
           0,
           0,
           0,
           0,
           0,
           0,
           0,
           0,
           1,
           1,
           0,
           0,
           1,
           1,
           0,
           0,
           0,
           0,
           0,
           0,
           0,
           0,
           0,
           0
          ],
          [
           0,
           0,
           0,
           0,
           0,
           0,
           0,
           0,
           0,
           0,
           0,
           1,
           1,
           1,
           0,
           0,
           1,
           1,
           0,
           0,
           0,
           0,
           0,
           0,
           0,
           0,
           0,
           0
          ],
          [
           0,
           0,
           0,
           0,
           0,
           0,
           0,
           0,
           0,
           0,
           0,
           1,
           1,
           0,
           0,
           1,
           1,
           1,
           0,
           0,
           0,
           0,
           0,
           0,
           0,
           0,
           0,
           0
          ],
          [
           0,
           0,
           0,
           0,
           0,
           0,
           0,
           0,
           0,
           0,
           1,
           1,
           0,
           0,
           0,
           1,
           1,
           0,
           0,
           0,
           0,
           0,
           0,
           0,
           0,
           0,
           0,
           0
          ],
          [
           0,
           0,
           0,
           0,
           0,
           0,
           0,
           0,
           0,
           0,
           1,
           1,
           0,
           0,
           1,
           1,
           1,
           0,
           0,
           0,
           0,
           0,
           0,
           0,
           0,
           0,
           0,
           0
          ],
          [
           0,
           0,
           0,
           0,
           0,
           0,
           0,
           0,
           0,
           1,
           1,
           1,
           0,
           1,
           1,
           1,
           0,
           0,
           0,
           0,
           0,
           0,
           0,
           0,
           0,
           0,
           0,
           0
          ],
          [
           0,
           0,
           0,
           0,
           0,
           0,
           0,
           0,
           0,
           0,
           1,
           1,
           1,
           1,
           1,
           0,
           0,
           0,
           0,
           0,
           0,
           0,
           0,
           0,
           0,
           0,
           0,
           0
          ],
          [
           0,
           0,
           0,
           0,
           0,
           0,
           0,
           0,
           0,
           0,
           1,
           1,
           1,
           0,
           0,
           0,
           0,
           0,
           0,
           0,
           0,
           0,
           0,
           0,
           0,
           0,
           0,
           0
          ],
          [
           0,
           0,
           0,
           0,
           0,
           0,
           0,
           0,
           0,
           0,
           0,
           0,
           0,
           0,
           0,
           0,
           0,
           0,
           0,
           0,
           0,
           0,
           0,
           0,
           0,
           0,
           0,
           0
          ],
          [
           0,
           0,
           0,
           0,
           0,
           0,
           0,
           0,
           0,
           0,
           0,
           0,
           0,
           0,
           0,
           0,
           0,
           0,
           0,
           0,
           0,
           0,
           0,
           0,
           0,
           0,
           0,
           0
          ],
          [
           0,
           0,
           0,
           0,
           0,
           0,
           0,
           0,
           0,
           0,
           0,
           0,
           0,
           0,
           0,
           0,
           0,
           0,
           0,
           0,
           0,
           0,
           0,
           0,
           0,
           0,
           0,
           0
          ]
         ]
        }
       ],
       "layout": {
        "plot_bgcolor": "white",
        "template": {
         "data": {
          "bar": [
           {
            "error_x": {
             "color": "#2a3f5f"
            },
            "error_y": {
             "color": "#2a3f5f"
            },
            "marker": {
             "line": {
              "color": "#E5ECF6",
              "width": 0.5
             }
            },
            "type": "bar"
           }
          ],
          "barpolar": [
           {
            "marker": {
             "line": {
              "color": "#E5ECF6",
              "width": 0.5
             }
            },
            "type": "barpolar"
           }
          ],
          "carpet": [
           {
            "aaxis": {
             "endlinecolor": "#2a3f5f",
             "gridcolor": "white",
             "linecolor": "white",
             "minorgridcolor": "white",
             "startlinecolor": "#2a3f5f"
            },
            "baxis": {
             "endlinecolor": "#2a3f5f",
             "gridcolor": "white",
             "linecolor": "white",
             "minorgridcolor": "white",
             "startlinecolor": "#2a3f5f"
            },
            "type": "carpet"
           }
          ],
          "choropleth": [
           {
            "colorbar": {
             "outlinewidth": 0,
             "ticks": ""
            },
            "type": "choropleth"
           }
          ],
          "contour": [
           {
            "colorbar": {
             "outlinewidth": 0,
             "ticks": ""
            },
            "colorscale": [
             [
              0,
              "#0d0887"
             ],
             [
              0.1111111111111111,
              "#46039f"
             ],
             [
              0.2222222222222222,
              "#7201a8"
             ],
             [
              0.3333333333333333,
              "#9c179e"
             ],
             [
              0.4444444444444444,
              "#bd3786"
             ],
             [
              0.5555555555555556,
              "#d8576b"
             ],
             [
              0.6666666666666666,
              "#ed7953"
             ],
             [
              0.7777777777777778,
              "#fb9f3a"
             ],
             [
              0.8888888888888888,
              "#fdca26"
             ],
             [
              1,
              "#f0f921"
             ]
            ],
            "type": "contour"
           }
          ],
          "contourcarpet": [
           {
            "colorbar": {
             "outlinewidth": 0,
             "ticks": ""
            },
            "type": "contourcarpet"
           }
          ],
          "heatmap": [
           {
            "colorbar": {
             "outlinewidth": 0,
             "ticks": ""
            },
            "colorscale": [
             [
              0,
              "#0d0887"
             ],
             [
              0.1111111111111111,
              "#46039f"
             ],
             [
              0.2222222222222222,
              "#7201a8"
             ],
             [
              0.3333333333333333,
              "#9c179e"
             ],
             [
              0.4444444444444444,
              "#bd3786"
             ],
             [
              0.5555555555555556,
              "#d8576b"
             ],
             [
              0.6666666666666666,
              "#ed7953"
             ],
             [
              0.7777777777777778,
              "#fb9f3a"
             ],
             [
              0.8888888888888888,
              "#fdca26"
             ],
             [
              1,
              "#f0f921"
             ]
            ],
            "type": "heatmap"
           }
          ],
          "heatmapgl": [
           {
            "colorbar": {
             "outlinewidth": 0,
             "ticks": ""
            },
            "colorscale": [
             [
              0,
              "#0d0887"
             ],
             [
              0.1111111111111111,
              "#46039f"
             ],
             [
              0.2222222222222222,
              "#7201a8"
             ],
             [
              0.3333333333333333,
              "#9c179e"
             ],
             [
              0.4444444444444444,
              "#bd3786"
             ],
             [
              0.5555555555555556,
              "#d8576b"
             ],
             [
              0.6666666666666666,
              "#ed7953"
             ],
             [
              0.7777777777777778,
              "#fb9f3a"
             ],
             [
              0.8888888888888888,
              "#fdca26"
             ],
             [
              1,
              "#f0f921"
             ]
            ],
            "type": "heatmapgl"
           }
          ],
          "histogram": [
           {
            "marker": {
             "colorbar": {
              "outlinewidth": 0,
              "ticks": ""
             }
            },
            "type": "histogram"
           }
          ],
          "histogram2d": [
           {
            "colorbar": {
             "outlinewidth": 0,
             "ticks": ""
            },
            "colorscale": [
             [
              0,
              "#0d0887"
             ],
             [
              0.1111111111111111,
              "#46039f"
             ],
             [
              0.2222222222222222,
              "#7201a8"
             ],
             [
              0.3333333333333333,
              "#9c179e"
             ],
             [
              0.4444444444444444,
              "#bd3786"
             ],
             [
              0.5555555555555556,
              "#d8576b"
             ],
             [
              0.6666666666666666,
              "#ed7953"
             ],
             [
              0.7777777777777778,
              "#fb9f3a"
             ],
             [
              0.8888888888888888,
              "#fdca26"
             ],
             [
              1,
              "#f0f921"
             ]
            ],
            "type": "histogram2d"
           }
          ],
          "histogram2dcontour": [
           {
            "colorbar": {
             "outlinewidth": 0,
             "ticks": ""
            },
            "colorscale": [
             [
              0,
              "#0d0887"
             ],
             [
              0.1111111111111111,
              "#46039f"
             ],
             [
              0.2222222222222222,
              "#7201a8"
             ],
             [
              0.3333333333333333,
              "#9c179e"
             ],
             [
              0.4444444444444444,
              "#bd3786"
             ],
             [
              0.5555555555555556,
              "#d8576b"
             ],
             [
              0.6666666666666666,
              "#ed7953"
             ],
             [
              0.7777777777777778,
              "#fb9f3a"
             ],
             [
              0.8888888888888888,
              "#fdca26"
             ],
             [
              1,
              "#f0f921"
             ]
            ],
            "type": "histogram2dcontour"
           }
          ],
          "mesh3d": [
           {
            "colorbar": {
             "outlinewidth": 0,
             "ticks": ""
            },
            "type": "mesh3d"
           }
          ],
          "parcoords": [
           {
            "line": {
             "colorbar": {
              "outlinewidth": 0,
              "ticks": ""
             }
            },
            "type": "parcoords"
           }
          ],
          "pie": [
           {
            "automargin": true,
            "type": "pie"
           }
          ],
          "scatter": [
           {
            "marker": {
             "colorbar": {
              "outlinewidth": 0,
              "ticks": ""
             }
            },
            "type": "scatter"
           }
          ],
          "scatter3d": [
           {
            "line": {
             "colorbar": {
              "outlinewidth": 0,
              "ticks": ""
             }
            },
            "marker": {
             "colorbar": {
              "outlinewidth": 0,
              "ticks": ""
             }
            },
            "type": "scatter3d"
           }
          ],
          "scattercarpet": [
           {
            "marker": {
             "colorbar": {
              "outlinewidth": 0,
              "ticks": ""
             }
            },
            "type": "scattercarpet"
           }
          ],
          "scattergeo": [
           {
            "marker": {
             "colorbar": {
              "outlinewidth": 0,
              "ticks": ""
             }
            },
            "type": "scattergeo"
           }
          ],
          "scattergl": [
           {
            "marker": {
             "colorbar": {
              "outlinewidth": 0,
              "ticks": ""
             }
            },
            "type": "scattergl"
           }
          ],
          "scattermapbox": [
           {
            "marker": {
             "colorbar": {
              "outlinewidth": 0,
              "ticks": ""
             }
            },
            "type": "scattermapbox"
           }
          ],
          "scatterpolar": [
           {
            "marker": {
             "colorbar": {
              "outlinewidth": 0,
              "ticks": ""
             }
            },
            "type": "scatterpolar"
           }
          ],
          "scatterpolargl": [
           {
            "marker": {
             "colorbar": {
              "outlinewidth": 0,
              "ticks": ""
             }
            },
            "type": "scatterpolargl"
           }
          ],
          "scatterternary": [
           {
            "marker": {
             "colorbar": {
              "outlinewidth": 0,
              "ticks": ""
             }
            },
            "type": "scatterternary"
           }
          ],
          "surface": [
           {
            "colorbar": {
             "outlinewidth": 0,
             "ticks": ""
            },
            "colorscale": [
             [
              0,
              "#0d0887"
             ],
             [
              0.1111111111111111,
              "#46039f"
             ],
             [
              0.2222222222222222,
              "#7201a8"
             ],
             [
              0.3333333333333333,
              "#9c179e"
             ],
             [
              0.4444444444444444,
              "#bd3786"
             ],
             [
              0.5555555555555556,
              "#d8576b"
             ],
             [
              0.6666666666666666,
              "#ed7953"
             ],
             [
              0.7777777777777778,
              "#fb9f3a"
             ],
             [
              0.8888888888888888,
              "#fdca26"
             ],
             [
              1,
              "#f0f921"
             ]
            ],
            "type": "surface"
           }
          ],
          "table": [
           {
            "cells": {
             "fill": {
              "color": "#EBF0F8"
             },
             "line": {
              "color": "white"
             }
            },
            "header": {
             "fill": {
              "color": "#C8D4E3"
             },
             "line": {
              "color": "white"
             }
            },
            "type": "table"
           }
          ]
         },
         "layout": {
          "annotationdefaults": {
           "arrowcolor": "#2a3f5f",
           "arrowhead": 0,
           "arrowwidth": 1
          },
          "autotypenumbers": "strict",
          "coloraxis": {
           "colorbar": {
            "outlinewidth": 0,
            "ticks": ""
           }
          },
          "colorscale": {
           "diverging": [
            [
             0,
             "#8e0152"
            ],
            [
             0.1,
             "#c51b7d"
            ],
            [
             0.2,
             "#de77ae"
            ],
            [
             0.3,
             "#f1b6da"
            ],
            [
             0.4,
             "#fde0ef"
            ],
            [
             0.5,
             "#f7f7f7"
            ],
            [
             0.6,
             "#e6f5d0"
            ],
            [
             0.7,
             "#b8e186"
            ],
            [
             0.8,
             "#7fbc41"
            ],
            [
             0.9,
             "#4d9221"
            ],
            [
             1,
             "#276419"
            ]
           ],
           "sequential": [
            [
             0,
             "#0d0887"
            ],
            [
             0.1111111111111111,
             "#46039f"
            ],
            [
             0.2222222222222222,
             "#7201a8"
            ],
            [
             0.3333333333333333,
             "#9c179e"
            ],
            [
             0.4444444444444444,
             "#bd3786"
            ],
            [
             0.5555555555555556,
             "#d8576b"
            ],
            [
             0.6666666666666666,
             "#ed7953"
            ],
            [
             0.7777777777777778,
             "#fb9f3a"
            ],
            [
             0.8888888888888888,
             "#fdca26"
            ],
            [
             1,
             "#f0f921"
            ]
           ],
           "sequentialminus": [
            [
             0,
             "#0d0887"
            ],
            [
             0.1111111111111111,
             "#46039f"
            ],
            [
             0.2222222222222222,
             "#7201a8"
            ],
            [
             0.3333333333333333,
             "#9c179e"
            ],
            [
             0.4444444444444444,
             "#bd3786"
            ],
            [
             0.5555555555555556,
             "#d8576b"
            ],
            [
             0.6666666666666666,
             "#ed7953"
            ],
            [
             0.7777777777777778,
             "#fb9f3a"
            ],
            [
             0.8888888888888888,
             "#fdca26"
            ],
            [
             1,
             "#f0f921"
            ]
           ]
          },
          "colorway": [
           "#636efa",
           "#EF553B",
           "#00cc96",
           "#ab63fa",
           "#FFA15A",
           "#19d3f3",
           "#FF6692",
           "#B6E880",
           "#FF97FF",
           "#FECB52"
          ],
          "font": {
           "color": "#2a3f5f"
          },
          "geo": {
           "bgcolor": "white",
           "lakecolor": "white",
           "landcolor": "#E5ECF6",
           "showlakes": true,
           "showland": true,
           "subunitcolor": "white"
          },
          "hoverlabel": {
           "align": "left"
          },
          "hovermode": "closest",
          "mapbox": {
           "style": "light"
          },
          "paper_bgcolor": "white",
          "plot_bgcolor": "#E5ECF6",
          "polar": {
           "angularaxis": {
            "gridcolor": "white",
            "linecolor": "white",
            "ticks": ""
           },
           "bgcolor": "#E5ECF6",
           "radialaxis": {
            "gridcolor": "white",
            "linecolor": "white",
            "ticks": ""
           }
          },
          "scene": {
           "xaxis": {
            "backgroundcolor": "#E5ECF6",
            "gridcolor": "white",
            "gridwidth": 2,
            "linecolor": "white",
            "showbackground": true,
            "ticks": "",
            "zerolinecolor": "white"
           },
           "yaxis": {
            "backgroundcolor": "#E5ECF6",
            "gridcolor": "white",
            "gridwidth": 2,
            "linecolor": "white",
            "showbackground": true,
            "ticks": "",
            "zerolinecolor": "white"
           },
           "zaxis": {
            "backgroundcolor": "#E5ECF6",
            "gridcolor": "white",
            "gridwidth": 2,
            "linecolor": "white",
            "showbackground": true,
            "ticks": "",
            "zerolinecolor": "white"
           }
          },
          "shapedefaults": {
           "line": {
            "color": "#2a3f5f"
           }
          },
          "ternary": {
           "aaxis": {
            "gridcolor": "white",
            "linecolor": "white",
            "ticks": ""
           },
           "baxis": {
            "gridcolor": "white",
            "linecolor": "white",
            "ticks": ""
           },
           "bgcolor": "#E5ECF6",
           "caxis": {
            "gridcolor": "white",
            "linecolor": "white",
            "ticks": ""
           }
          },
          "title": {
           "x": 0.05
          },
          "xaxis": {
           "automargin": true,
           "gridcolor": "white",
           "linecolor": "white",
           "ticks": "",
           "title": {
            "standoff": 15
           },
           "zerolinecolor": "white",
           "zerolinewidth": 2
          },
          "yaxis": {
           "automargin": true,
           "gridcolor": "white",
           "linecolor": "white",
           "ticks": "",
           "title": {
            "standoff": 15
           },
           "zerolinecolor": "white",
           "zerolinewidth": 2
          }
         }
        },
        "title": {
         "text": "Binarization of image 0"
        },
        "xaxis": {
         "constrain": "domain",
         "scaleanchor": "y"
        },
        "yaxis": {
         "autorange": "reversed",
         "constrain": "domain"
        }
       }
      }
     },
     "metadata": {}
    }
   ],
   "metadata": {}
  },
  {
   "cell_type": "markdown",
   "source": [
    "### From binary image to filtration"
   ],
   "metadata": {}
  },
  {
   "cell_type": "markdown",
   "source": [
    "Now that we have a binary image $\\mathcal{B}$ of our \"8\" digit, we can build a wide variety of different filtrations – see the ``giotto-tda`` [docs](https://giotto-ai.github.io/gtda-docs/latest/modules/images.html#filtrations) for a full list. For our example, we'll use the _radial filtration_ $\\mathcal{R}$, which assigns to each pixel $p$ a value corresponding to its distance from a predefined center $c$ of the image\n",
    "\n",
    "$$ \\mathcal{R}(p) = \\left\\{ \\begin{array}{cl} \n",
    "\\lVert c - p \\rVert_2 &\\mbox{if } \\mathcal{B}(p)=1 \\\\ \n",
    "\\mathcal{R}_\\infty &\\mbox{if } \\mathcal{B}(p)=0 \n",
    "\\end{array} \\right. $$\n",
    "\n",
    "where $\\mathcal{R}_\\infty$ is the distance of the pixel that is furthest from $c$. To reproduce the filtered image from the MNIST [article](https://arxiv.org/abs/1910.08345), we'll pick $c = (20,6)$:"
   ],
   "metadata": {}
  },
  {
   "cell_type": "code",
   "execution_count": 8,
   "source": [
    "from gtda.images import RadialFiltration\n",
    "\n",
    "radial_filtration = RadialFiltration(center=np.array([20, 6]))\n",
    "im8_filtration = radial_filtration.fit_transform(im8_binarized)\n",
    "\n",
    "radial_filtration.plot(im8_filtration, colorscale=\"jet\")"
   ],
   "outputs": [
    {
     "output_type": "display_data",
     "data": {
      "application/vnd.plotly.v1+json": {
       "config": {
        "plotlyServerURL": "https://plot.ly"
       },
       "data": [
        {
         "colorscale": [
          [
           0,
           "rgb(0,0,131)"
          ],
          [
           0.2,
           "rgb(0,60,170)"
          ],
          [
           0.4,
           "rgb(5,255,255)"
          ],
          [
           0.6,
           "rgb(255,255,0)"
          ],
          [
           0.8,
           "rgb(250,0,0)"
          ],
          [
           1,
           "rgb(128,0,0)"
          ]
         ],
         "type": "heatmap",
         "z": [
          [
           30,
           30,
           30,
           30,
           30,
           30,
           30,
           30,
           30,
           30,
           30,
           30,
           30,
           30,
           30,
           30,
           30,
           30,
           30,
           30,
           30,
           30,
           30,
           30,
           30,
           30,
           30,
           30
          ],
          [
           30,
           30,
           30,
           30,
           30,
           30,
           30,
           30,
           30,
           30,
           30,
           30,
           30,
           30,
           30,
           30,
           30,
           30,
           30,
           30,
           30,
           30,
           30,
           30,
           30,
           30,
           30,
           30
          ],
          [
           30,
           30,
           30,
           30,
           30,
           30,
           30,
           30,
           30,
           30,
           30,
           30,
           30,
           30,
           30,
           30,
           30,
           30,
           30,
           30,
           30,
           30,
           30,
           30,
           30,
           30,
           30,
           30
          ],
          [
           30,
           30,
           30,
           30,
           30,
           30,
           30,
           30,
           30,
           30,
           30,
           30,
           30,
           30,
           30,
           30,
           30,
           30,
           30,
           30,
           30,
           30,
           30,
           30,
           30,
           30,
           30,
           30
          ],
          [
           30,
           30,
           30,
           30,
           30,
           30,
           30,
           30,
           30,
           30,
           30,
           30,
           30,
           30,
           30,
           30,
           30,
           30,
           30,
           30,
           30,
           30,
           30,
           30,
           30,
           30,
           30,
           30
          ],
          [
           30,
           30,
           30,
           30,
           30,
           30,
           30,
           30,
           30,
           30,
           10.04987562112089,
           9.055385138137417,
           8.06225774829855,
           7.0710678118654755,
           6.082762530298219,
           5.0990195135927845,
           30,
           30,
           30,
           30,
           30,
           30,
           30,
           30,
           30,
           30,
           30,
           30
          ],
          [
           30,
           30,
           30,
           30,
           30,
           30,
           30,
           30,
           30,
           11,
           10,
           9,
           30,
           30,
           6,
           5,
           4,
           30,
           30,
           30,
           30,
           30,
           30,
           30,
           30,
           30,
           30,
           30
          ],
          [
           30,
           30,
           30,
           30,
           30,
           30,
           30,
           30,
           30,
           11.045361017187261,
           10.04987562112089,
           30,
           30,
           30,
           30,
           5.0990195135927845,
           4.123105625617661,
           30,
           30,
           30,
           30,
           30,
           30,
           30,
           30,
           30,
           30,
           30
          ],
          [
           30,
           30,
           30,
           30,
           30,
           30,
           30,
           30,
           30,
           11.180339887498949,
           10.198039027185569,
           30,
           30,
           30,
           30,
           30,
           4.47213595499958,
           3.605551275463989,
           30,
           30,
           30,
           30,
           30,
           30,
           30,
           30,
           30,
           30
          ],
          [
           30,
           30,
           30,
           30,
           30,
           30,
           30,
           30,
           30,
           30,
           10.44030650891055,
           9.486832980505138,
           30,
           30,
           30,
           30,
           30,
           4.242640687119285,
           30,
           3.1622776601683795,
           30,
           30,
           30,
           30,
           30,
           30,
           30,
           30
          ],
          [
           30,
           30,
           30,
           30,
           30,
           30,
           30,
           30,
           30,
           30,
           30,
           9.848857801796104,
           8.94427190999916,
           30,
           30,
           30,
           30,
           5,
           4.47213595499958,
           4.123105625617661,
           30,
           30,
           30,
           30,
           30,
           30,
           30,
           30
          ],
          [
           30,
           30,
           30,
           30,
           30,
           30,
           30,
           30,
           30,
           30,
           30,
           30,
           9.433981132056603,
           8.602325267042627,
           30,
           30,
           30,
           5.830951894845301,
           5.385164807134504,
           30,
           30,
           30,
           30,
           30,
           30,
           30,
           30,
           30
          ],
          [
           30,
           30,
           30,
           30,
           30,
           30,
           30,
           30,
           30,
           30,
           30,
           30,
           10,
           9.219544457292887,
           8.48528137423857,
           30,
           7.211102550927978,
           6.708203932499369,
           6.324555320336759,
           30,
           30,
           30,
           30,
           30,
           30,
           30,
           30,
           30
          ],
          [
           30,
           30,
           30,
           30,
           30,
           30,
           30,
           30,
           30,
           30,
           30,
           30,
           30,
           30,
           9.219544457292887,
           8.602325267042627,
           8.06225774829855,
           7.615773105863909,
           30,
           30,
           30,
           30,
           30,
           30,
           30,
           30,
           30,
           30
          ],
          [
           30,
           30,
           30,
           30,
           30,
           30,
           30,
           30,
           30,
           30,
           30,
           30,
           30,
           30,
           10,
           9.433981132056603,
           8.94427190999916,
           30,
           30,
           30,
           30,
           30,
           30,
           30,
           30,
           30,
           30,
           30
          ],
          [
           30,
           30,
           30,
           30,
           30,
           30,
           30,
           30,
           30,
           30,
           30,
           30,
           30,
           30,
           10.816653826391969,
           10.295630140987,
           9.848857801796104,
           30,
           30,
           30,
           30,
           30,
           30,
           30,
           30,
           30,
           30,
           30
          ],
          [
           30,
           30,
           30,
           30,
           30,
           30,
           30,
           30,
           30,
           30,
           30,
           30,
           30,
           12.206555615733702,
           11.661903789690601,
           11.180339887498949,
           10.770329614269007,
           30,
           30,
           30,
           30,
           30,
           30,
           30,
           30,
           30,
           30,
           30
          ],
          [
           30,
           30,
           30,
           30,
           30,
           30,
           30,
           30,
           30,
           30,
           30,
           30,
           13.601470508735444,
           13.038404810405298,
           30,
           30,
           11.704699910719626,
           11.40175425099138,
           30,
           30,
           30,
           30,
           30,
           30,
           30,
           30,
           30,
           30
          ],
          [
           30,
           30,
           30,
           30,
           30,
           30,
           30,
           30,
           30,
           30,
           30,
           15,
           14.422205101855956,
           13.892443989449804,
           30,
           30,
           12.649110640673518,
           12.36931687685298,
           30,
           30,
           30,
           30,
           30,
           30,
           30,
           30,
           30,
           30
          ],
          [
           30,
           30,
           30,
           30,
           30,
           30,
           30,
           30,
           30,
           30,
           30,
           15.811388300841896,
           15.264337522473747,
           30,
           30,
           13.92838827718412,
           13.601470508735444,
           13.341664064126334,
           30,
           30,
           30,
           30,
           30,
           30,
           30,
           30,
           30,
           30
          ],
          [
           30,
           30,
           30,
           30,
           30,
           30,
           30,
           30,
           30,
           30,
           17.204650534085253,
           16.64331697709324,
           30,
           30,
           30,
           14.866068747318506,
           14.560219778561036,
           30,
           30,
           30,
           30,
           30,
           30,
           30,
           30,
           30,
           30,
           30
          ],
          [
           30,
           30,
           30,
           30,
           30,
           30,
           30,
           30,
           30,
           30,
           18.027756377319946,
           17.4928556845359,
           30,
           30,
           16.15549442140351,
           15.811388300841896,
           15.524174696260024,
           30,
           30,
           30,
           30,
           30,
           30,
           30,
           30,
           30,
           30,
           30
          ],
          [
           30,
           30,
           30,
           30,
           30,
           30,
           30,
           30,
           30,
           19.4164878389476,
           18.867962264113206,
           18.35755975068582,
           30,
           17.46424919657298,
           17.08800749063506,
           16.76305461424021,
           30,
           30,
           30,
           30,
           30,
           30,
           30,
           30,
           30,
           30,
           30,
           30
          ],
          [
           30,
           30,
           30,
           30,
           30,
           30,
           30,
           30,
           30,
           30,
           19.72308292331602,
           19.235384061671343,
           18.788294228055936,
           18.384776310850235,
           18.027756377319946,
           30,
           30,
           30,
           30,
           30,
           30,
           30,
           30,
           30,
           30,
           30,
           30,
           30
          ],
          [
           30,
           30,
           30,
           30,
           30,
           30,
           30,
           30,
           30,
           30,
           20.591260281974,
           20.12461179749811,
           19.697715603592208,
           30,
           30,
           30,
           30,
           30,
           30,
           30,
           30,
           30,
           30,
           30,
           30,
           30,
           30,
           30
          ],
          [
           30,
           30,
           30,
           30,
           30,
           30,
           30,
           30,
           30,
           30,
           30,
           30,
           30,
           30,
           30,
           30,
           30,
           30,
           30,
           30,
           30,
           30,
           30,
           30,
           30,
           30,
           30,
           30
          ],
          [
           30,
           30,
           30,
           30,
           30,
           30,
           30,
           30,
           30,
           30,
           30,
           30,
           30,
           30,
           30,
           30,
           30,
           30,
           30,
           30,
           30,
           30,
           30,
           30,
           30,
           30,
           30,
           30
          ],
          [
           30,
           30,
           30,
           30,
           30,
           30,
           30,
           30,
           30,
           30,
           30,
           30,
           30,
           30,
           30,
           30,
           30,
           30,
           30,
           30,
           30,
           30,
           30,
           30,
           30,
           30,
           30,
           30
          ]
         ]
        }
       ],
       "layout": {
        "plot_bgcolor": "white",
        "template": {
         "data": {
          "bar": [
           {
            "error_x": {
             "color": "#2a3f5f"
            },
            "error_y": {
             "color": "#2a3f5f"
            },
            "marker": {
             "line": {
              "color": "#E5ECF6",
              "width": 0.5
             }
            },
            "type": "bar"
           }
          ],
          "barpolar": [
           {
            "marker": {
             "line": {
              "color": "#E5ECF6",
              "width": 0.5
             }
            },
            "type": "barpolar"
           }
          ],
          "carpet": [
           {
            "aaxis": {
             "endlinecolor": "#2a3f5f",
             "gridcolor": "white",
             "linecolor": "white",
             "minorgridcolor": "white",
             "startlinecolor": "#2a3f5f"
            },
            "baxis": {
             "endlinecolor": "#2a3f5f",
             "gridcolor": "white",
             "linecolor": "white",
             "minorgridcolor": "white",
             "startlinecolor": "#2a3f5f"
            },
            "type": "carpet"
           }
          ],
          "choropleth": [
           {
            "colorbar": {
             "outlinewidth": 0,
             "ticks": ""
            },
            "type": "choropleth"
           }
          ],
          "contour": [
           {
            "colorbar": {
             "outlinewidth": 0,
             "ticks": ""
            },
            "colorscale": [
             [
              0,
              "#0d0887"
             ],
             [
              0.1111111111111111,
              "#46039f"
             ],
             [
              0.2222222222222222,
              "#7201a8"
             ],
             [
              0.3333333333333333,
              "#9c179e"
             ],
             [
              0.4444444444444444,
              "#bd3786"
             ],
             [
              0.5555555555555556,
              "#d8576b"
             ],
             [
              0.6666666666666666,
              "#ed7953"
             ],
             [
              0.7777777777777778,
              "#fb9f3a"
             ],
             [
              0.8888888888888888,
              "#fdca26"
             ],
             [
              1,
              "#f0f921"
             ]
            ],
            "type": "contour"
           }
          ],
          "contourcarpet": [
           {
            "colorbar": {
             "outlinewidth": 0,
             "ticks": ""
            },
            "type": "contourcarpet"
           }
          ],
          "heatmap": [
           {
            "colorbar": {
             "outlinewidth": 0,
             "ticks": ""
            },
            "colorscale": [
             [
              0,
              "#0d0887"
             ],
             [
              0.1111111111111111,
              "#46039f"
             ],
             [
              0.2222222222222222,
              "#7201a8"
             ],
             [
              0.3333333333333333,
              "#9c179e"
             ],
             [
              0.4444444444444444,
              "#bd3786"
             ],
             [
              0.5555555555555556,
              "#d8576b"
             ],
             [
              0.6666666666666666,
              "#ed7953"
             ],
             [
              0.7777777777777778,
              "#fb9f3a"
             ],
             [
              0.8888888888888888,
              "#fdca26"
             ],
             [
              1,
              "#f0f921"
             ]
            ],
            "type": "heatmap"
           }
          ],
          "heatmapgl": [
           {
            "colorbar": {
             "outlinewidth": 0,
             "ticks": ""
            },
            "colorscale": [
             [
              0,
              "#0d0887"
             ],
             [
              0.1111111111111111,
              "#46039f"
             ],
             [
              0.2222222222222222,
              "#7201a8"
             ],
             [
              0.3333333333333333,
              "#9c179e"
             ],
             [
              0.4444444444444444,
              "#bd3786"
             ],
             [
              0.5555555555555556,
              "#d8576b"
             ],
             [
              0.6666666666666666,
              "#ed7953"
             ],
             [
              0.7777777777777778,
              "#fb9f3a"
             ],
             [
              0.8888888888888888,
              "#fdca26"
             ],
             [
              1,
              "#f0f921"
             ]
            ],
            "type": "heatmapgl"
           }
          ],
          "histogram": [
           {
            "marker": {
             "colorbar": {
              "outlinewidth": 0,
              "ticks": ""
             }
            },
            "type": "histogram"
           }
          ],
          "histogram2d": [
           {
            "colorbar": {
             "outlinewidth": 0,
             "ticks": ""
            },
            "colorscale": [
             [
              0,
              "#0d0887"
             ],
             [
              0.1111111111111111,
              "#46039f"
             ],
             [
              0.2222222222222222,
              "#7201a8"
             ],
             [
              0.3333333333333333,
              "#9c179e"
             ],
             [
              0.4444444444444444,
              "#bd3786"
             ],
             [
              0.5555555555555556,
              "#d8576b"
             ],
             [
              0.6666666666666666,
              "#ed7953"
             ],
             [
              0.7777777777777778,
              "#fb9f3a"
             ],
             [
              0.8888888888888888,
              "#fdca26"
             ],
             [
              1,
              "#f0f921"
             ]
            ],
            "type": "histogram2d"
           }
          ],
          "histogram2dcontour": [
           {
            "colorbar": {
             "outlinewidth": 0,
             "ticks": ""
            },
            "colorscale": [
             [
              0,
              "#0d0887"
             ],
             [
              0.1111111111111111,
              "#46039f"
             ],
             [
              0.2222222222222222,
              "#7201a8"
             ],
             [
              0.3333333333333333,
              "#9c179e"
             ],
             [
              0.4444444444444444,
              "#bd3786"
             ],
             [
              0.5555555555555556,
              "#d8576b"
             ],
             [
              0.6666666666666666,
              "#ed7953"
             ],
             [
              0.7777777777777778,
              "#fb9f3a"
             ],
             [
              0.8888888888888888,
              "#fdca26"
             ],
             [
              1,
              "#f0f921"
             ]
            ],
            "type": "histogram2dcontour"
           }
          ],
          "mesh3d": [
           {
            "colorbar": {
             "outlinewidth": 0,
             "ticks": ""
            },
            "type": "mesh3d"
           }
          ],
          "parcoords": [
           {
            "line": {
             "colorbar": {
              "outlinewidth": 0,
              "ticks": ""
             }
            },
            "type": "parcoords"
           }
          ],
          "pie": [
           {
            "automargin": true,
            "type": "pie"
           }
          ],
          "scatter": [
           {
            "marker": {
             "colorbar": {
              "outlinewidth": 0,
              "ticks": ""
             }
            },
            "type": "scatter"
           }
          ],
          "scatter3d": [
           {
            "line": {
             "colorbar": {
              "outlinewidth": 0,
              "ticks": ""
             }
            },
            "marker": {
             "colorbar": {
              "outlinewidth": 0,
              "ticks": ""
             }
            },
            "type": "scatter3d"
           }
          ],
          "scattercarpet": [
           {
            "marker": {
             "colorbar": {
              "outlinewidth": 0,
              "ticks": ""
             }
            },
            "type": "scattercarpet"
           }
          ],
          "scattergeo": [
           {
            "marker": {
             "colorbar": {
              "outlinewidth": 0,
              "ticks": ""
             }
            },
            "type": "scattergeo"
           }
          ],
          "scattergl": [
           {
            "marker": {
             "colorbar": {
              "outlinewidth": 0,
              "ticks": ""
             }
            },
            "type": "scattergl"
           }
          ],
          "scattermapbox": [
           {
            "marker": {
             "colorbar": {
              "outlinewidth": 0,
              "ticks": ""
             }
            },
            "type": "scattermapbox"
           }
          ],
          "scatterpolar": [
           {
            "marker": {
             "colorbar": {
              "outlinewidth": 0,
              "ticks": ""
             }
            },
            "type": "scatterpolar"
           }
          ],
          "scatterpolargl": [
           {
            "marker": {
             "colorbar": {
              "outlinewidth": 0,
              "ticks": ""
             }
            },
            "type": "scatterpolargl"
           }
          ],
          "scatterternary": [
           {
            "marker": {
             "colorbar": {
              "outlinewidth": 0,
              "ticks": ""
             }
            },
            "type": "scatterternary"
           }
          ],
          "surface": [
           {
            "colorbar": {
             "outlinewidth": 0,
             "ticks": ""
            },
            "colorscale": [
             [
              0,
              "#0d0887"
             ],
             [
              0.1111111111111111,
              "#46039f"
             ],
             [
              0.2222222222222222,
              "#7201a8"
             ],
             [
              0.3333333333333333,
              "#9c179e"
             ],
             [
              0.4444444444444444,
              "#bd3786"
             ],
             [
              0.5555555555555556,
              "#d8576b"
             ],
             [
              0.6666666666666666,
              "#ed7953"
             ],
             [
              0.7777777777777778,
              "#fb9f3a"
             ],
             [
              0.8888888888888888,
              "#fdca26"
             ],
             [
              1,
              "#f0f921"
             ]
            ],
            "type": "surface"
           }
          ],
          "table": [
           {
            "cells": {
             "fill": {
              "color": "#EBF0F8"
             },
             "line": {
              "color": "white"
             }
            },
            "header": {
             "fill": {
              "color": "#C8D4E3"
             },
             "line": {
              "color": "white"
             }
            },
            "type": "table"
           }
          ]
         },
         "layout": {
          "annotationdefaults": {
           "arrowcolor": "#2a3f5f",
           "arrowhead": 0,
           "arrowwidth": 1
          },
          "autotypenumbers": "strict",
          "coloraxis": {
           "colorbar": {
            "outlinewidth": 0,
            "ticks": ""
           }
          },
          "colorscale": {
           "diverging": [
            [
             0,
             "#8e0152"
            ],
            [
             0.1,
             "#c51b7d"
            ],
            [
             0.2,
             "#de77ae"
            ],
            [
             0.3,
             "#f1b6da"
            ],
            [
             0.4,
             "#fde0ef"
            ],
            [
             0.5,
             "#f7f7f7"
            ],
            [
             0.6,
             "#e6f5d0"
            ],
            [
             0.7,
             "#b8e186"
            ],
            [
             0.8,
             "#7fbc41"
            ],
            [
             0.9,
             "#4d9221"
            ],
            [
             1,
             "#276419"
            ]
           ],
           "sequential": [
            [
             0,
             "#0d0887"
            ],
            [
             0.1111111111111111,
             "#46039f"
            ],
            [
             0.2222222222222222,
             "#7201a8"
            ],
            [
             0.3333333333333333,
             "#9c179e"
            ],
            [
             0.4444444444444444,
             "#bd3786"
            ],
            [
             0.5555555555555556,
             "#d8576b"
            ],
            [
             0.6666666666666666,
             "#ed7953"
            ],
            [
             0.7777777777777778,
             "#fb9f3a"
            ],
            [
             0.8888888888888888,
             "#fdca26"
            ],
            [
             1,
             "#f0f921"
            ]
           ],
           "sequentialminus": [
            [
             0,
             "#0d0887"
            ],
            [
             0.1111111111111111,
             "#46039f"
            ],
            [
             0.2222222222222222,
             "#7201a8"
            ],
            [
             0.3333333333333333,
             "#9c179e"
            ],
            [
             0.4444444444444444,
             "#bd3786"
            ],
            [
             0.5555555555555556,
             "#d8576b"
            ],
            [
             0.6666666666666666,
             "#ed7953"
            ],
            [
             0.7777777777777778,
             "#fb9f3a"
            ],
            [
             0.8888888888888888,
             "#fdca26"
            ],
            [
             1,
             "#f0f921"
            ]
           ]
          },
          "colorway": [
           "#636efa",
           "#EF553B",
           "#00cc96",
           "#ab63fa",
           "#FFA15A",
           "#19d3f3",
           "#FF6692",
           "#B6E880",
           "#FF97FF",
           "#FECB52"
          ],
          "font": {
           "color": "#2a3f5f"
          },
          "geo": {
           "bgcolor": "white",
           "lakecolor": "white",
           "landcolor": "#E5ECF6",
           "showlakes": true,
           "showland": true,
           "subunitcolor": "white"
          },
          "hoverlabel": {
           "align": "left"
          },
          "hovermode": "closest",
          "mapbox": {
           "style": "light"
          },
          "paper_bgcolor": "white",
          "plot_bgcolor": "#E5ECF6",
          "polar": {
           "angularaxis": {
            "gridcolor": "white",
            "linecolor": "white",
            "ticks": ""
           },
           "bgcolor": "#E5ECF6",
           "radialaxis": {
            "gridcolor": "white",
            "linecolor": "white",
            "ticks": ""
           }
          },
          "scene": {
           "xaxis": {
            "backgroundcolor": "#E5ECF6",
            "gridcolor": "white",
            "gridwidth": 2,
            "linecolor": "white",
            "showbackground": true,
            "ticks": "",
            "zerolinecolor": "white"
           },
           "yaxis": {
            "backgroundcolor": "#E5ECF6",
            "gridcolor": "white",
            "gridwidth": 2,
            "linecolor": "white",
            "showbackground": true,
            "ticks": "",
            "zerolinecolor": "white"
           },
           "zaxis": {
            "backgroundcolor": "#E5ECF6",
            "gridcolor": "white",
            "gridwidth": 2,
            "linecolor": "white",
            "showbackground": true,
            "ticks": "",
            "zerolinecolor": "white"
           }
          },
          "shapedefaults": {
           "line": {
            "color": "#2a3f5f"
           }
          },
          "ternary": {
           "aaxis": {
            "gridcolor": "white",
            "linecolor": "white",
            "ticks": ""
           },
           "baxis": {
            "gridcolor": "white",
            "linecolor": "white",
            "ticks": ""
           },
           "bgcolor": "#E5ECF6",
           "caxis": {
            "gridcolor": "white",
            "linecolor": "white",
            "ticks": ""
           }
          },
          "title": {
           "x": 0.05
          },
          "xaxis": {
           "automargin": true,
           "gridcolor": "white",
           "linecolor": "white",
           "ticks": "",
           "title": {
            "standoff": 15
           },
           "zerolinecolor": "white",
           "zerolinewidth": 2
          },
          "yaxis": {
           "automargin": true,
           "gridcolor": "white",
           "linecolor": "white",
           "ticks": "",
           "title": {
            "standoff": 15
           },
           "zerolinecolor": "white",
           "zerolinewidth": 2
          }
         }
        },
        "title": {
         "text": "Radial filtration of image 0"
        },
        "xaxis": {
         "constrain": "domain",
         "scaleanchor": "y"
        },
        "yaxis": {
         "autorange": "reversed",
         "constrain": "domain"
        }
       }
      }
     },
     "metadata": {}
    }
   ],
   "metadata": {}
  },
  {
   "cell_type": "markdown",
   "source": [
    "We can see from the resulting plot that we've effectively transformed our binary image into a greyscale one, where the pixel values increase as we move from the upper-right to bottom-left of the image! These pixel values can be used to define a filtration of cubical complexes $\\{K_i\\}_{i\\in \\mathrm{Im}(I)}$, where $K_i$ contains all pixels with value less than the $i$th smallest pixel value in the greyscale image. In other words, $K_i$ is the $i$th sublevel set of the image's cubical complex $K$."
   ],
   "metadata": {}
  },
  {
   "cell_type": "markdown",
   "source": [
    "### From filtration to persistence diagram"
   ],
   "metadata": {}
  },
  {
   "cell_type": "markdown",
   "source": [
    "Given a greyscale filtration it is straightforward to calculate the corresponding persistence diagram. In ``giotto-tda`` we make use of the ``CubicalPersistence`` transformer which is the cubical analogue to simplicial transformers like ``VietorisRipsPersistence``:"
   ],
   "metadata": {}
  },
  {
   "cell_type": "code",
   "execution_count": 11,
   "source": [
    "from gtda.homology import CubicalPersistence\n",
    "\n",
    "cubical_persistence = CubicalPersistence(n_jobs=-1)\n",
    "im8_cubical = cubical_persistence.fit_transform(im8_filtration)\n",
    "\n",
    "print(im8_cubical)\n",
    "cubical_persistence.plot(im8_cubical)\n"
   ],
   "outputs": [
    {
     "output_type": "stream",
     "name": "stdout",
     "text": [
      "[[[ 3.60555128  4.47213595  0.        ]\n",
      "  [ 4.          4.12310563  0.        ]\n",
      "  [ 8.48528137  8.60232527  0.        ]\n",
      "  [10.19803903 30.          1.        ]\n",
      "  [18.78829423 30.          1.        ]]]\n"
     ]
    },
    {
     "output_type": "display_data",
     "data": {
      "application/vnd.plotly.v1+json": {
       "config": {
        "plotlyServerURL": "https://plot.ly"
       },
       "data": [
        {
         "hoverinfo": "none",
         "line": {
          "color": "black",
          "dash": "dash",
          "width": 1
         },
         "mode": "lines",
         "showlegend": false,
         "type": "scatter",
         "x": [
          3.0776623009732686,
          30.527888974490722
         ],
         "y": [
          3.0776623009732686,
          30.527888974490722
         ]
        },
        {
         "hoverinfo": "text",
         "hovertext": [
          "(3.605551275463989, 4.47213595499958)",
          "(4.0, 4.123105625617661)",
          "(8.48528137423857, 8.602325267042627)"
         ],
         "mode": "markers",
         "name": "H0",
         "type": "scatter",
         "x": [
          3.605551275463989,
          4,
          8.48528137423857
         ],
         "y": [
          4.47213595499958,
          4.123105625617661,
          8.602325267042627
         ]
        },
        {
         "hoverinfo": "text",
         "hovertext": [
          "(10.198039027185569, 30.0)",
          "(18.788294228055936, 30.0)"
         ],
         "mode": "markers",
         "name": "H1",
         "type": "scatter",
         "x": [
          10.198039027185569,
          18.788294228055936
         ],
         "y": [
          30,
          30
         ]
        }
       ],
       "layout": {
        "height": 500,
        "plot_bgcolor": "white",
        "template": {
         "data": {
          "bar": [
           {
            "error_x": {
             "color": "#2a3f5f"
            },
            "error_y": {
             "color": "#2a3f5f"
            },
            "marker": {
             "line": {
              "color": "#E5ECF6",
              "width": 0.5
             }
            },
            "type": "bar"
           }
          ],
          "barpolar": [
           {
            "marker": {
             "line": {
              "color": "#E5ECF6",
              "width": 0.5
             }
            },
            "type": "barpolar"
           }
          ],
          "carpet": [
           {
            "aaxis": {
             "endlinecolor": "#2a3f5f",
             "gridcolor": "white",
             "linecolor": "white",
             "minorgridcolor": "white",
             "startlinecolor": "#2a3f5f"
            },
            "baxis": {
             "endlinecolor": "#2a3f5f",
             "gridcolor": "white",
             "linecolor": "white",
             "minorgridcolor": "white",
             "startlinecolor": "#2a3f5f"
            },
            "type": "carpet"
           }
          ],
          "choropleth": [
           {
            "colorbar": {
             "outlinewidth": 0,
             "ticks": ""
            },
            "type": "choropleth"
           }
          ],
          "contour": [
           {
            "colorbar": {
             "outlinewidth": 0,
             "ticks": ""
            },
            "colorscale": [
             [
              0,
              "#0d0887"
             ],
             [
              0.1111111111111111,
              "#46039f"
             ],
             [
              0.2222222222222222,
              "#7201a8"
             ],
             [
              0.3333333333333333,
              "#9c179e"
             ],
             [
              0.4444444444444444,
              "#bd3786"
             ],
             [
              0.5555555555555556,
              "#d8576b"
             ],
             [
              0.6666666666666666,
              "#ed7953"
             ],
             [
              0.7777777777777778,
              "#fb9f3a"
             ],
             [
              0.8888888888888888,
              "#fdca26"
             ],
             [
              1,
              "#f0f921"
             ]
            ],
            "type": "contour"
           }
          ],
          "contourcarpet": [
           {
            "colorbar": {
             "outlinewidth": 0,
             "ticks": ""
            },
            "type": "contourcarpet"
           }
          ],
          "heatmap": [
           {
            "colorbar": {
             "outlinewidth": 0,
             "ticks": ""
            },
            "colorscale": [
             [
              0,
              "#0d0887"
             ],
             [
              0.1111111111111111,
              "#46039f"
             ],
             [
              0.2222222222222222,
              "#7201a8"
             ],
             [
              0.3333333333333333,
              "#9c179e"
             ],
             [
              0.4444444444444444,
              "#bd3786"
             ],
             [
              0.5555555555555556,
              "#d8576b"
             ],
             [
              0.6666666666666666,
              "#ed7953"
             ],
             [
              0.7777777777777778,
              "#fb9f3a"
             ],
             [
              0.8888888888888888,
              "#fdca26"
             ],
             [
              1,
              "#f0f921"
             ]
            ],
            "type": "heatmap"
           }
          ],
          "heatmapgl": [
           {
            "colorbar": {
             "outlinewidth": 0,
             "ticks": ""
            },
            "colorscale": [
             [
              0,
              "#0d0887"
             ],
             [
              0.1111111111111111,
              "#46039f"
             ],
             [
              0.2222222222222222,
              "#7201a8"
             ],
             [
              0.3333333333333333,
              "#9c179e"
             ],
             [
              0.4444444444444444,
              "#bd3786"
             ],
             [
              0.5555555555555556,
              "#d8576b"
             ],
             [
              0.6666666666666666,
              "#ed7953"
             ],
             [
              0.7777777777777778,
              "#fb9f3a"
             ],
             [
              0.8888888888888888,
              "#fdca26"
             ],
             [
              1,
              "#f0f921"
             ]
            ],
            "type": "heatmapgl"
           }
          ],
          "histogram": [
           {
            "marker": {
             "colorbar": {
              "outlinewidth": 0,
              "ticks": ""
             }
            },
            "type": "histogram"
           }
          ],
          "histogram2d": [
           {
            "colorbar": {
             "outlinewidth": 0,
             "ticks": ""
            },
            "colorscale": [
             [
              0,
              "#0d0887"
             ],
             [
              0.1111111111111111,
              "#46039f"
             ],
             [
              0.2222222222222222,
              "#7201a8"
             ],
             [
              0.3333333333333333,
              "#9c179e"
             ],
             [
              0.4444444444444444,
              "#bd3786"
             ],
             [
              0.5555555555555556,
              "#d8576b"
             ],
             [
              0.6666666666666666,
              "#ed7953"
             ],
             [
              0.7777777777777778,
              "#fb9f3a"
             ],
             [
              0.8888888888888888,
              "#fdca26"
             ],
             [
              1,
              "#f0f921"
             ]
            ],
            "type": "histogram2d"
           }
          ],
          "histogram2dcontour": [
           {
            "colorbar": {
             "outlinewidth": 0,
             "ticks": ""
            },
            "colorscale": [
             [
              0,
              "#0d0887"
             ],
             [
              0.1111111111111111,
              "#46039f"
             ],
             [
              0.2222222222222222,
              "#7201a8"
             ],
             [
              0.3333333333333333,
              "#9c179e"
             ],
             [
              0.4444444444444444,
              "#bd3786"
             ],
             [
              0.5555555555555556,
              "#d8576b"
             ],
             [
              0.6666666666666666,
              "#ed7953"
             ],
             [
              0.7777777777777778,
              "#fb9f3a"
             ],
             [
              0.8888888888888888,
              "#fdca26"
             ],
             [
              1,
              "#f0f921"
             ]
            ],
            "type": "histogram2dcontour"
           }
          ],
          "mesh3d": [
           {
            "colorbar": {
             "outlinewidth": 0,
             "ticks": ""
            },
            "type": "mesh3d"
           }
          ],
          "parcoords": [
           {
            "line": {
             "colorbar": {
              "outlinewidth": 0,
              "ticks": ""
             }
            },
            "type": "parcoords"
           }
          ],
          "pie": [
           {
            "automargin": true,
            "type": "pie"
           }
          ],
          "scatter": [
           {
            "marker": {
             "colorbar": {
              "outlinewidth": 0,
              "ticks": ""
             }
            },
            "type": "scatter"
           }
          ],
          "scatter3d": [
           {
            "line": {
             "colorbar": {
              "outlinewidth": 0,
              "ticks": ""
             }
            },
            "marker": {
             "colorbar": {
              "outlinewidth": 0,
              "ticks": ""
             }
            },
            "type": "scatter3d"
           }
          ],
          "scattercarpet": [
           {
            "marker": {
             "colorbar": {
              "outlinewidth": 0,
              "ticks": ""
             }
            },
            "type": "scattercarpet"
           }
          ],
          "scattergeo": [
           {
            "marker": {
             "colorbar": {
              "outlinewidth": 0,
              "ticks": ""
             }
            },
            "type": "scattergeo"
           }
          ],
          "scattergl": [
           {
            "marker": {
             "colorbar": {
              "outlinewidth": 0,
              "ticks": ""
             }
            },
            "type": "scattergl"
           }
          ],
          "scattermapbox": [
           {
            "marker": {
             "colorbar": {
              "outlinewidth": 0,
              "ticks": ""
             }
            },
            "type": "scattermapbox"
           }
          ],
          "scatterpolar": [
           {
            "marker": {
             "colorbar": {
              "outlinewidth": 0,
              "ticks": ""
             }
            },
            "type": "scatterpolar"
           }
          ],
          "scatterpolargl": [
           {
            "marker": {
             "colorbar": {
              "outlinewidth": 0,
              "ticks": ""
             }
            },
            "type": "scatterpolargl"
           }
          ],
          "scatterternary": [
           {
            "marker": {
             "colorbar": {
              "outlinewidth": 0,
              "ticks": ""
             }
            },
            "type": "scatterternary"
           }
          ],
          "surface": [
           {
            "colorbar": {
             "outlinewidth": 0,
             "ticks": ""
            },
            "colorscale": [
             [
              0,
              "#0d0887"
             ],
             [
              0.1111111111111111,
              "#46039f"
             ],
             [
              0.2222222222222222,
              "#7201a8"
             ],
             [
              0.3333333333333333,
              "#9c179e"
             ],
             [
              0.4444444444444444,
              "#bd3786"
             ],
             [
              0.5555555555555556,
              "#d8576b"
             ],
             [
              0.6666666666666666,
              "#ed7953"
             ],
             [
              0.7777777777777778,
              "#fb9f3a"
             ],
             [
              0.8888888888888888,
              "#fdca26"
             ],
             [
              1,
              "#f0f921"
             ]
            ],
            "type": "surface"
           }
          ],
          "table": [
           {
            "cells": {
             "fill": {
              "color": "#EBF0F8"
             },
             "line": {
              "color": "white"
             }
            },
            "header": {
             "fill": {
              "color": "#C8D4E3"
             },
             "line": {
              "color": "white"
             }
            },
            "type": "table"
           }
          ]
         },
         "layout": {
          "annotationdefaults": {
           "arrowcolor": "#2a3f5f",
           "arrowhead": 0,
           "arrowwidth": 1
          },
          "autotypenumbers": "strict",
          "coloraxis": {
           "colorbar": {
            "outlinewidth": 0,
            "ticks": ""
           }
          },
          "colorscale": {
           "diverging": [
            [
             0,
             "#8e0152"
            ],
            [
             0.1,
             "#c51b7d"
            ],
            [
             0.2,
             "#de77ae"
            ],
            [
             0.3,
             "#f1b6da"
            ],
            [
             0.4,
             "#fde0ef"
            ],
            [
             0.5,
             "#f7f7f7"
            ],
            [
             0.6,
             "#e6f5d0"
            ],
            [
             0.7,
             "#b8e186"
            ],
            [
             0.8,
             "#7fbc41"
            ],
            [
             0.9,
             "#4d9221"
            ],
            [
             1,
             "#276419"
            ]
           ],
           "sequential": [
            [
             0,
             "#0d0887"
            ],
            [
             0.1111111111111111,
             "#46039f"
            ],
            [
             0.2222222222222222,
             "#7201a8"
            ],
            [
             0.3333333333333333,
             "#9c179e"
            ],
            [
             0.4444444444444444,
             "#bd3786"
            ],
            [
             0.5555555555555556,
             "#d8576b"
            ],
            [
             0.6666666666666666,
             "#ed7953"
            ],
            [
             0.7777777777777778,
             "#fb9f3a"
            ],
            [
             0.8888888888888888,
             "#fdca26"
            ],
            [
             1,
             "#f0f921"
            ]
           ],
           "sequentialminus": [
            [
             0,
             "#0d0887"
            ],
            [
             0.1111111111111111,
             "#46039f"
            ],
            [
             0.2222222222222222,
             "#7201a8"
            ],
            [
             0.3333333333333333,
             "#9c179e"
            ],
            [
             0.4444444444444444,
             "#bd3786"
            ],
            [
             0.5555555555555556,
             "#d8576b"
            ],
            [
             0.6666666666666666,
             "#ed7953"
            ],
            [
             0.7777777777777778,
             "#fb9f3a"
            ],
            [
             0.8888888888888888,
             "#fdca26"
            ],
            [
             1,
             "#f0f921"
            ]
           ]
          },
          "colorway": [
           "#636efa",
           "#EF553B",
           "#00cc96",
           "#ab63fa",
           "#FFA15A",
           "#19d3f3",
           "#FF6692",
           "#B6E880",
           "#FF97FF",
           "#FECB52"
          ],
          "font": {
           "color": "#2a3f5f"
          },
          "geo": {
           "bgcolor": "white",
           "lakecolor": "white",
           "landcolor": "#E5ECF6",
           "showlakes": true,
           "showland": true,
           "subunitcolor": "white"
          },
          "hoverlabel": {
           "align": "left"
          },
          "hovermode": "closest",
          "mapbox": {
           "style": "light"
          },
          "paper_bgcolor": "white",
          "plot_bgcolor": "#E5ECF6",
          "polar": {
           "angularaxis": {
            "gridcolor": "white",
            "linecolor": "white",
            "ticks": ""
           },
           "bgcolor": "#E5ECF6",
           "radialaxis": {
            "gridcolor": "white",
            "linecolor": "white",
            "ticks": ""
           }
          },
          "scene": {
           "xaxis": {
            "backgroundcolor": "#E5ECF6",
            "gridcolor": "white",
            "gridwidth": 2,
            "linecolor": "white",
            "showbackground": true,
            "ticks": "",
            "zerolinecolor": "white"
           },
           "yaxis": {
            "backgroundcolor": "#E5ECF6",
            "gridcolor": "white",
            "gridwidth": 2,
            "linecolor": "white",
            "showbackground": true,
            "ticks": "",
            "zerolinecolor": "white"
           },
           "zaxis": {
            "backgroundcolor": "#E5ECF6",
            "gridcolor": "white",
            "gridwidth": 2,
            "linecolor": "white",
            "showbackground": true,
            "ticks": "",
            "zerolinecolor": "white"
           }
          },
          "shapedefaults": {
           "line": {
            "color": "#2a3f5f"
           }
          },
          "ternary": {
           "aaxis": {
            "gridcolor": "white",
            "linecolor": "white",
            "ticks": ""
           },
           "baxis": {
            "gridcolor": "white",
            "linecolor": "white",
            "ticks": ""
           },
           "bgcolor": "#E5ECF6",
           "caxis": {
            "gridcolor": "white",
            "linecolor": "white",
            "ticks": ""
           }
          },
          "title": {
           "x": 0.05
          },
          "xaxis": {
           "automargin": true,
           "gridcolor": "white",
           "linecolor": "white",
           "ticks": "",
           "title": {
            "standoff": 15
           },
           "zerolinecolor": "white",
           "zerolinewidth": 2
          },
          "yaxis": {
           "automargin": true,
           "gridcolor": "white",
           "linecolor": "white",
           "ticks": "",
           "title": {
            "standoff": 15
           },
           "zerolinecolor": "white",
           "zerolinewidth": 2
          }
         }
        },
        "width": 500,
        "xaxis": {
         "autorange": false,
         "exponentformat": "e",
         "linecolor": "black",
         "linewidth": 1,
         "mirror": false,
         "range": [
          3.0776623009732686,
          30.527888974490722
         ],
         "showexponent": "all",
         "showline": true,
         "side": "bottom",
         "ticks": "outside",
         "title": {
          "text": "Birth"
         },
         "type": "linear",
         "zeroline": true
        },
        "yaxis": {
         "autorange": false,
         "exponentformat": "e",
         "linecolor": "black",
         "linewidth": 1,
         "mirror": false,
         "range": [
          3.0776623009732686,
          30.527888974490722
         ],
         "scaleanchor": "x",
         "scaleratio": 1,
         "showexponent": "all",
         "showline": true,
         "side": "left",
         "ticks": "outside",
         "title": {
          "text": "Death"
         },
         "type": "linear",
         "zeroline": true
        }
       }
      }
     },
     "metadata": {}
    }
   ],
   "metadata": {}
  },
  {
   "cell_type": "markdown",
   "source": [
    "It works! We can clearly see two persistent $H_1$ generators corresponding to the loops in the digit \"8\", along with a single $H_0$ generator corresponding to the connected components. \n",
    "\n",
    "As a postprocessing step, it is often convenient to rescale the persistence diagrams which can be achieved in ``giotto-tda`` as follows:"
   ],
   "metadata": {}
  },
  {
   "cell_type": "code",
   "execution_count": 13,
   "source": [
    "from gtda.diagrams import Scaler\n",
    "\n",
    "scaler = Scaler()\n",
    "im8_scaled = scaler.fit_transform(im8_cubical)\n",
    "print(im8_scaled)\n",
    "scaler.plot(im8_scaled)"
   ],
   "outputs": [
    {
     "output_type": "stream",
     "name": "stdout",
     "text": [
      "[[[0.36416103 0.45168617 0.        ]\n",
      "  [0.40400039 0.41643407 0.        ]\n",
      "  [0.85701425 0.8688357  0.        ]\n",
      "  [1.03000294 3.03000294 1.        ]\n",
      "  [1.89761956 3.03000294 1.        ]]]\n"
     ]
    },
    {
     "output_type": "display_data",
     "data": {
      "application/vnd.plotly.v1+json": {
       "config": {
        "plotlyServerURL": "https://plot.ly"
       },
       "data": [
        {
         "hoverinfo": "none",
         "line": {
          "color": "black",
          "dash": "dash",
          "width": 1
         },
         "mode": "lines",
         "showlegend": false,
         "type": "scatter",
         "x": [
          0.3108441941884955,
          3.0833197799350907
         ],
         "y": [
          0.3108441941884955,
          3.0833197799350907
         ]
        },
        {
         "hoverinfo": "text",
         "hovertext": [
          "(0.36416103237593, 0.45168616998480626)",
          "(0.4040003922330208, 0.4164340724919274)",
          "(0.857014250849982, 0.8688356955003116)"
         ],
         "mode": "markers",
         "name": "H0",
         "type": "scatter",
         "x": [
          0.36416103237593,
          0.4040003922330208,
          0.857014250849982
         ],
         "y": [
          0.45168616998480626,
          0.4164340724919274,
          0.8688356955003116
         ]
        },
        {
         "hoverinfo": "text",
         "hovertext": [
          "(1.030002941747656, 3.030002941747656)",
          "(1.8976195593809997, 3.030002941747656)"
         ],
         "mode": "markers",
         "name": "H1",
         "type": "scatter",
         "x": [
          1.030002941747656,
          1.8976195593809997
         ],
         "y": [
          3.030002941747656,
          3.030002941747656
         ]
        }
       ],
       "layout": {
        "height": 500,
        "plot_bgcolor": "white",
        "template": {
         "data": {
          "bar": [
           {
            "error_x": {
             "color": "#2a3f5f"
            },
            "error_y": {
             "color": "#2a3f5f"
            },
            "marker": {
             "line": {
              "color": "#E5ECF6",
              "width": 0.5
             }
            },
            "type": "bar"
           }
          ],
          "barpolar": [
           {
            "marker": {
             "line": {
              "color": "#E5ECF6",
              "width": 0.5
             }
            },
            "type": "barpolar"
           }
          ],
          "carpet": [
           {
            "aaxis": {
             "endlinecolor": "#2a3f5f",
             "gridcolor": "white",
             "linecolor": "white",
             "minorgridcolor": "white",
             "startlinecolor": "#2a3f5f"
            },
            "baxis": {
             "endlinecolor": "#2a3f5f",
             "gridcolor": "white",
             "linecolor": "white",
             "minorgridcolor": "white",
             "startlinecolor": "#2a3f5f"
            },
            "type": "carpet"
           }
          ],
          "choropleth": [
           {
            "colorbar": {
             "outlinewidth": 0,
             "ticks": ""
            },
            "type": "choropleth"
           }
          ],
          "contour": [
           {
            "colorbar": {
             "outlinewidth": 0,
             "ticks": ""
            },
            "colorscale": [
             [
              0,
              "#0d0887"
             ],
             [
              0.1111111111111111,
              "#46039f"
             ],
             [
              0.2222222222222222,
              "#7201a8"
             ],
             [
              0.3333333333333333,
              "#9c179e"
             ],
             [
              0.4444444444444444,
              "#bd3786"
             ],
             [
              0.5555555555555556,
              "#d8576b"
             ],
             [
              0.6666666666666666,
              "#ed7953"
             ],
             [
              0.7777777777777778,
              "#fb9f3a"
             ],
             [
              0.8888888888888888,
              "#fdca26"
             ],
             [
              1,
              "#f0f921"
             ]
            ],
            "type": "contour"
           }
          ],
          "contourcarpet": [
           {
            "colorbar": {
             "outlinewidth": 0,
             "ticks": ""
            },
            "type": "contourcarpet"
           }
          ],
          "heatmap": [
           {
            "colorbar": {
             "outlinewidth": 0,
             "ticks": ""
            },
            "colorscale": [
             [
              0,
              "#0d0887"
             ],
             [
              0.1111111111111111,
              "#46039f"
             ],
             [
              0.2222222222222222,
              "#7201a8"
             ],
             [
              0.3333333333333333,
              "#9c179e"
             ],
             [
              0.4444444444444444,
              "#bd3786"
             ],
             [
              0.5555555555555556,
              "#d8576b"
             ],
             [
              0.6666666666666666,
              "#ed7953"
             ],
             [
              0.7777777777777778,
              "#fb9f3a"
             ],
             [
              0.8888888888888888,
              "#fdca26"
             ],
             [
              1,
              "#f0f921"
             ]
            ],
            "type": "heatmap"
           }
          ],
          "heatmapgl": [
           {
            "colorbar": {
             "outlinewidth": 0,
             "ticks": ""
            },
            "colorscale": [
             [
              0,
              "#0d0887"
             ],
             [
              0.1111111111111111,
              "#46039f"
             ],
             [
              0.2222222222222222,
              "#7201a8"
             ],
             [
              0.3333333333333333,
              "#9c179e"
             ],
             [
              0.4444444444444444,
              "#bd3786"
             ],
             [
              0.5555555555555556,
              "#d8576b"
             ],
             [
              0.6666666666666666,
              "#ed7953"
             ],
             [
              0.7777777777777778,
              "#fb9f3a"
             ],
             [
              0.8888888888888888,
              "#fdca26"
             ],
             [
              1,
              "#f0f921"
             ]
            ],
            "type": "heatmapgl"
           }
          ],
          "histogram": [
           {
            "marker": {
             "colorbar": {
              "outlinewidth": 0,
              "ticks": ""
             }
            },
            "type": "histogram"
           }
          ],
          "histogram2d": [
           {
            "colorbar": {
             "outlinewidth": 0,
             "ticks": ""
            },
            "colorscale": [
             [
              0,
              "#0d0887"
             ],
             [
              0.1111111111111111,
              "#46039f"
             ],
             [
              0.2222222222222222,
              "#7201a8"
             ],
             [
              0.3333333333333333,
              "#9c179e"
             ],
             [
              0.4444444444444444,
              "#bd3786"
             ],
             [
              0.5555555555555556,
              "#d8576b"
             ],
             [
              0.6666666666666666,
              "#ed7953"
             ],
             [
              0.7777777777777778,
              "#fb9f3a"
             ],
             [
              0.8888888888888888,
              "#fdca26"
             ],
             [
              1,
              "#f0f921"
             ]
            ],
            "type": "histogram2d"
           }
          ],
          "histogram2dcontour": [
           {
            "colorbar": {
             "outlinewidth": 0,
             "ticks": ""
            },
            "colorscale": [
             [
              0,
              "#0d0887"
             ],
             [
              0.1111111111111111,
              "#46039f"
             ],
             [
              0.2222222222222222,
              "#7201a8"
             ],
             [
              0.3333333333333333,
              "#9c179e"
             ],
             [
              0.4444444444444444,
              "#bd3786"
             ],
             [
              0.5555555555555556,
              "#d8576b"
             ],
             [
              0.6666666666666666,
              "#ed7953"
             ],
             [
              0.7777777777777778,
              "#fb9f3a"
             ],
             [
              0.8888888888888888,
              "#fdca26"
             ],
             [
              1,
              "#f0f921"
             ]
            ],
            "type": "histogram2dcontour"
           }
          ],
          "mesh3d": [
           {
            "colorbar": {
             "outlinewidth": 0,
             "ticks": ""
            },
            "type": "mesh3d"
           }
          ],
          "parcoords": [
           {
            "line": {
             "colorbar": {
              "outlinewidth": 0,
              "ticks": ""
             }
            },
            "type": "parcoords"
           }
          ],
          "pie": [
           {
            "automargin": true,
            "type": "pie"
           }
          ],
          "scatter": [
           {
            "marker": {
             "colorbar": {
              "outlinewidth": 0,
              "ticks": ""
             }
            },
            "type": "scatter"
           }
          ],
          "scatter3d": [
           {
            "line": {
             "colorbar": {
              "outlinewidth": 0,
              "ticks": ""
             }
            },
            "marker": {
             "colorbar": {
              "outlinewidth": 0,
              "ticks": ""
             }
            },
            "type": "scatter3d"
           }
          ],
          "scattercarpet": [
           {
            "marker": {
             "colorbar": {
              "outlinewidth": 0,
              "ticks": ""
             }
            },
            "type": "scattercarpet"
           }
          ],
          "scattergeo": [
           {
            "marker": {
             "colorbar": {
              "outlinewidth": 0,
              "ticks": ""
             }
            },
            "type": "scattergeo"
           }
          ],
          "scattergl": [
           {
            "marker": {
             "colorbar": {
              "outlinewidth": 0,
              "ticks": ""
             }
            },
            "type": "scattergl"
           }
          ],
          "scattermapbox": [
           {
            "marker": {
             "colorbar": {
              "outlinewidth": 0,
              "ticks": ""
             }
            },
            "type": "scattermapbox"
           }
          ],
          "scatterpolar": [
           {
            "marker": {
             "colorbar": {
              "outlinewidth": 0,
              "ticks": ""
             }
            },
            "type": "scatterpolar"
           }
          ],
          "scatterpolargl": [
           {
            "marker": {
             "colorbar": {
              "outlinewidth": 0,
              "ticks": ""
             }
            },
            "type": "scatterpolargl"
           }
          ],
          "scatterternary": [
           {
            "marker": {
             "colorbar": {
              "outlinewidth": 0,
              "ticks": ""
             }
            },
            "type": "scatterternary"
           }
          ],
          "surface": [
           {
            "colorbar": {
             "outlinewidth": 0,
             "ticks": ""
            },
            "colorscale": [
             [
              0,
              "#0d0887"
             ],
             [
              0.1111111111111111,
              "#46039f"
             ],
             [
              0.2222222222222222,
              "#7201a8"
             ],
             [
              0.3333333333333333,
              "#9c179e"
             ],
             [
              0.4444444444444444,
              "#bd3786"
             ],
             [
              0.5555555555555556,
              "#d8576b"
             ],
             [
              0.6666666666666666,
              "#ed7953"
             ],
             [
              0.7777777777777778,
              "#fb9f3a"
             ],
             [
              0.8888888888888888,
              "#fdca26"
             ],
             [
              1,
              "#f0f921"
             ]
            ],
            "type": "surface"
           }
          ],
          "table": [
           {
            "cells": {
             "fill": {
              "color": "#EBF0F8"
             },
             "line": {
              "color": "white"
             }
            },
            "header": {
             "fill": {
              "color": "#C8D4E3"
             },
             "line": {
              "color": "white"
             }
            },
            "type": "table"
           }
          ]
         },
         "layout": {
          "annotationdefaults": {
           "arrowcolor": "#2a3f5f",
           "arrowhead": 0,
           "arrowwidth": 1
          },
          "autotypenumbers": "strict",
          "coloraxis": {
           "colorbar": {
            "outlinewidth": 0,
            "ticks": ""
           }
          },
          "colorscale": {
           "diverging": [
            [
             0,
             "#8e0152"
            ],
            [
             0.1,
             "#c51b7d"
            ],
            [
             0.2,
             "#de77ae"
            ],
            [
             0.3,
             "#f1b6da"
            ],
            [
             0.4,
             "#fde0ef"
            ],
            [
             0.5,
             "#f7f7f7"
            ],
            [
             0.6,
             "#e6f5d0"
            ],
            [
             0.7,
             "#b8e186"
            ],
            [
             0.8,
             "#7fbc41"
            ],
            [
             0.9,
             "#4d9221"
            ],
            [
             1,
             "#276419"
            ]
           ],
           "sequential": [
            [
             0,
             "#0d0887"
            ],
            [
             0.1111111111111111,
             "#46039f"
            ],
            [
             0.2222222222222222,
             "#7201a8"
            ],
            [
             0.3333333333333333,
             "#9c179e"
            ],
            [
             0.4444444444444444,
             "#bd3786"
            ],
            [
             0.5555555555555556,
             "#d8576b"
            ],
            [
             0.6666666666666666,
             "#ed7953"
            ],
            [
             0.7777777777777778,
             "#fb9f3a"
            ],
            [
             0.8888888888888888,
             "#fdca26"
            ],
            [
             1,
             "#f0f921"
            ]
           ],
           "sequentialminus": [
            [
             0,
             "#0d0887"
            ],
            [
             0.1111111111111111,
             "#46039f"
            ],
            [
             0.2222222222222222,
             "#7201a8"
            ],
            [
             0.3333333333333333,
             "#9c179e"
            ],
            [
             0.4444444444444444,
             "#bd3786"
            ],
            [
             0.5555555555555556,
             "#d8576b"
            ],
            [
             0.6666666666666666,
             "#ed7953"
            ],
            [
             0.7777777777777778,
             "#fb9f3a"
            ],
            [
             0.8888888888888888,
             "#fdca26"
            ],
            [
             1,
             "#f0f921"
            ]
           ]
          },
          "colorway": [
           "#636efa",
           "#EF553B",
           "#00cc96",
           "#ab63fa",
           "#FFA15A",
           "#19d3f3",
           "#FF6692",
           "#B6E880",
           "#FF97FF",
           "#FECB52"
          ],
          "font": {
           "color": "#2a3f5f"
          },
          "geo": {
           "bgcolor": "white",
           "lakecolor": "white",
           "landcolor": "#E5ECF6",
           "showlakes": true,
           "showland": true,
           "subunitcolor": "white"
          },
          "hoverlabel": {
           "align": "left"
          },
          "hovermode": "closest",
          "mapbox": {
           "style": "light"
          },
          "paper_bgcolor": "white",
          "plot_bgcolor": "#E5ECF6",
          "polar": {
           "angularaxis": {
            "gridcolor": "white",
            "linecolor": "white",
            "ticks": ""
           },
           "bgcolor": "#E5ECF6",
           "radialaxis": {
            "gridcolor": "white",
            "linecolor": "white",
            "ticks": ""
           }
          },
          "scene": {
           "xaxis": {
            "backgroundcolor": "#E5ECF6",
            "gridcolor": "white",
            "gridwidth": 2,
            "linecolor": "white",
            "showbackground": true,
            "ticks": "",
            "zerolinecolor": "white"
           },
           "yaxis": {
            "backgroundcolor": "#E5ECF6",
            "gridcolor": "white",
            "gridwidth": 2,
            "linecolor": "white",
            "showbackground": true,
            "ticks": "",
            "zerolinecolor": "white"
           },
           "zaxis": {
            "backgroundcolor": "#E5ECF6",
            "gridcolor": "white",
            "gridwidth": 2,
            "linecolor": "white",
            "showbackground": true,
            "ticks": "",
            "zerolinecolor": "white"
           }
          },
          "shapedefaults": {
           "line": {
            "color": "#2a3f5f"
           }
          },
          "ternary": {
           "aaxis": {
            "gridcolor": "white",
            "linecolor": "white",
            "ticks": ""
           },
           "baxis": {
            "gridcolor": "white",
            "linecolor": "white",
            "ticks": ""
           },
           "bgcolor": "#E5ECF6",
           "caxis": {
            "gridcolor": "white",
            "linecolor": "white",
            "ticks": ""
           }
          },
          "title": {
           "x": 0.05
          },
          "xaxis": {
           "automargin": true,
           "gridcolor": "white",
           "linecolor": "white",
           "ticks": "",
           "title": {
            "standoff": 15
           },
           "zerolinecolor": "white",
           "zerolinewidth": 2
          },
          "yaxis": {
           "automargin": true,
           "gridcolor": "white",
           "linecolor": "white",
           "ticks": "",
           "title": {
            "standoff": 15
           },
           "zerolinecolor": "white",
           "zerolinewidth": 2
          }
         }
        },
        "width": 500,
        "xaxis": {
         "autorange": false,
         "exponentformat": "e",
         "linecolor": "black",
         "linewidth": 1,
         "mirror": false,
         "range": [
          0.3108441941884955,
          3.0833197799350907
         ],
         "showexponent": "all",
         "showline": true,
         "side": "bottom",
         "ticks": "outside",
         "title": {
          "text": "Birth"
         },
         "type": "linear",
         "zeroline": true
        },
        "yaxis": {
         "autorange": false,
         "exponentformat": "e",
         "linecolor": "black",
         "linewidth": 1,
         "mirror": false,
         "range": [
          0.3108441941884955,
          3.0833197799350907
         ],
         "scaleanchor": "x",
         "scaleratio": 1,
         "showexponent": "all",
         "showline": true,
         "side": "left",
         "ticks": "outside",
         "title": {
          "text": "Death"
         },
         "type": "linear",
         "zeroline": true
        }
       }
      }
     },
     "metadata": {}
    }
   ],
   "metadata": {}
  },
  {
   "cell_type": "markdown",
   "source": [
    "### From persistence diagram to representation"
   ],
   "metadata": {}
  },
  {
   "cell_type": "markdown",
   "source": [
    "The final step is to define a vectorial representation of the persistence diagram that can be used to obtain machine learning features. Following our example from Figure 2, we convolve our persistence diagram with a Gaussian kernel and symmetrize along the main diagonal, a procedure achieved via the [``HeatKernel``](https://giotto-ai.github.io/gtda-docs/latest/modules/generated/diagrams/representations/gtda.diagrams.HeatKernel.html#gtda.diagrams.HeatKernel) transformer:"
   ],
   "metadata": {}
  },
  {
   "cell_type": "code",
   "execution_count": 14,
   "source": [
    "from gtda.diagrams import HeatKernel\n",
    "\n",
    "heat = HeatKernel(sigma=.15, n_bins=60, n_jobs=-1)\n",
    "im8_heat = heat.fit_transform(im8_scaled)\n",
    "\n",
    "# Visualise the heat kernel for H1\n",
    "heat.plot(im8_heat, homology_dimension_idx=1, colorscale='jet')"
   ],
   "outputs": [
    {
     "output_type": "display_data",
     "data": {
      "application/vnd.plotly.v1+json": {
       "config": {
        "plotlyServerURL": "https://plot.ly"
       },
       "data": [
        {
         "colorscale": [
          [
           0,
           "rgb(0,0,131)"
          ],
          [
           0.2,
           "rgb(0,60,170)"
          ],
          [
           0.4,
           "rgb(5,255,255)"
          ],
          [
           0.6,
           "rgb(255,255,0)"
          ],
          [
           0.8,
           "rgb(250,0,0)"
          ],
          [
           1,
           "rgb(128,0,0)"
          ]
         ],
         "type": "heatmap",
         "x": [
          1.030002941747656,
          1.0639012468324016,
          1.0977995519171475,
          1.1316978570018932,
          1.165596162086639,
          1.1994944671713847,
          1.2333927722561304,
          1.2672910773408763,
          1.301189382425622,
          1.3350876875103679,
          1.3689859925951136,
          1.4028842976798592,
          1.4367826027646051,
          1.4706809078493508,
          1.5045792129340967,
          1.5384775180188424,
          1.572375823103588,
          1.606274128188334,
          1.6401724332730798,
          1.6740707383578255,
          1.7079690434425712,
          1.7418673485273168,
          1.7757656536120627,
          1.8096639586968086,
          1.8435622637815543,
          1.8774605688663,
          1.9113588739510456,
          1.9452571790357915,
          1.9791554841205374,
          2.013053789205283,
          2.046952094290029,
          2.080850399374775,
          2.1147487044595206,
          2.1486470095442662,
          2.182545314629012,
          2.2164436197137576,
          2.2503419247985033,
          2.284240229883249,
          2.3181385349679946,
          2.3520368400527407,
          2.3859351451374864,
          2.4198334502222325,
          2.453731755306978,
          2.487630060391724,
          2.5215283654764695,
          2.555426670561215,
          2.589324975645961,
          2.6232232807307065,
          2.6571215858154527,
          2.6910198909001983,
          2.724918195984944,
          2.75881650106969,
          2.792714806154436,
          2.8266131112391815,
          2.860511416323927,
          2.894409721408673,
          2.9283080264934185,
          2.962206331578164,
          2.9961046366629103,
          3.030002941747656
         ],
         "y": [
          3.030002941747656,
          2.9961046366629103,
          2.962206331578164,
          2.9283080264934185,
          2.894409721408673,
          2.860511416323927,
          2.8266131112391815,
          2.792714806154436,
          2.75881650106969,
          2.724918195984944,
          2.6910198909001983,
          2.6571215858154527,
          2.6232232807307065,
          2.589324975645961,
          2.555426670561215,
          2.5215283654764695,
          2.487630060391724,
          2.453731755306978,
          2.4198334502222325,
          2.3859351451374864,
          2.3520368400527407,
          2.3181385349679946,
          2.284240229883249,
          2.2503419247985033,
          2.2164436197137576,
          2.182545314629012,
          2.1486470095442662,
          2.1147487044595206,
          2.080850399374775,
          2.046952094290029,
          2.013053789205283,
          1.9791554841205374,
          1.9452571790357915,
          1.9113588739510456,
          1.8774605688663,
          1.8435622637815543,
          1.8096639586968086,
          1.7757656536120627,
          1.7418673485273168,
          1.7079690434425712,
          1.6740707383578255,
          1.6401724332730798,
          1.606274128188334,
          1.572375823103588,
          1.5384775180188424,
          1.5045792129340967,
          1.4706809078493508,
          1.4367826027646051,
          1.4028842976798592,
          1.3689859925951136,
          1.3350876875103679,
          1.301189382425622,
          1.2672910773408763,
          1.2333927722561304,
          1.1994944671713847,
          1.165596162086639,
          1.1316978570018932,
          1.0977995519171475,
          1.0639012468324016,
          1.030002941747656
         ],
         "z": [
          [
           7.073948273125358,
           6.895598655866894,
           6.387078677840001,
           5.621506907549483,
           4.701359095827557,
           3.736063879979244,
           2.8211446544029455,
           2.0260200994479804,
           1.384504513075308,
           0.9043350100464268,
           0.5730081934175494,
           0.3693750451879774,
           0.2734513576025355,
           0.2734513576025355,
           0.3693750451879774,
           0.5730081934175494,
           0.9043350100464268,
           1.384504513075308,
           2.0260200994479804,
           2.8211446544029455,
           3.736063879979244,
           4.701359095827557,
           5.621506907549483,
           6.387078677840001,
           6.895598655866894,
           7.073948273125358,
           6.895598655866894,
           6.387078677840001,
           5.621506907549483,
           4.701359095827557,
           3.736063879979244,
           2.8211446544029455,
           2.0242148668860986,
           1.3800920632536338,
           0.8940868336085559,
           0.5503912661651046,
           0.32194639100185535,
           0.17894343979444027,
           0.09450791780809523,
           0.04742865418612205,
           0.022616927252444883,
           0.010248176437871022,
           0.00441244982167413,
           0.0018052325618814968,
           0,
           0,
           0,
           0,
           0,
           0,
           0,
           0,
           0,
           0,
           0,
           0,
           0,
           0,
           0,
           0
          ],
          [
           6.895598655866894,
           6.721745620255356,
           6.226046536578783,
           5.479776495244064,
           4.582827610586007,
           3.641869586026189,
           2.7500174634882137,
           1.9749397274487577,
           1.3495981438928113,
           0.8815347580954819,
           0.5585614109367903,
           0.360062297145363,
           0.26655705429634635,
           0.26655705429634635,
           0.360062297145363,
           0.5585614109367903,
           0.8815347580954819,
           1.3495981438928113,
           1.9749397274487577,
           2.7500174634882137,
           3.641869586026189,
           4.582827610586007,
           5.479776495244064,
           6.226046536578783,
           6.721745620255356,
           6.895598655866894,
           6.721745620255356,
           6.226046536578783,
           5.479776495244064,
           4.582827610586007,
           3.641869586026189,
           2.7500174634882137,
           1.9731800087249822,
           1.3452969415253855,
           0.8715449604688097,
           0.5365147055976666,
           0.31382942245812634,
           0.17443188659019962,
           0.09212516770614669,
           0.04623287468723667,
           0.022046705339123777,
           0.009989797626672282,
           0.004301202367426055,
           0.0017597187237753788,
           0,
           0,
           0,
           0,
           0,
           0,
           0,
           0,
           0,
           0,
           0,
           0,
           0,
           0,
           0,
           0
          ],
          [
           6.387078677840001,
           6.226046536578783,
           5.766903073337676,
           5.075667155066191,
           4.244864293383165,
           3.373297771701241,
           2.5472158084184566,
           1.829296635829409,
           1.2500712351024348,
           0.8165254589485176,
           0.5173699712095693,
           0.3335092912976562,
           0.24689964757091815,
           0.24689964757091815,
           0.3335092912976562,
           0.5173699712095693,
           0.8165254589485176,
           1.2500712351024348,
           1.829296635829409,
           2.5472158084184566,
           3.373297771701241,
           4.244864293383165,
           5.075667155066191,
           5.766903073337676,
           6.226046536578783,
           6.387078677840001,
           6.226046536578783,
           5.766903073337676,
           5.075667155066191,
           4.244864293383165,
           3.373297771701241,
           2.5472158084184566,
           1.82766668859777,
           1.2460872274330372,
           0.8072723648226046,
           0.496949113120862,
           0.2906858871427671,
           0.16156830453404722,
           0.08533134303687089,
           0.042823404154889104,
           0.02042085808870732,
           0.009253094125912948,
           0.003984007669397659,
           0.0016299472316386645,
           0,
           0,
           0,
           0,
           0,
           0,
           0,
           0,
           0,
           0,
           0,
           0,
           0,
           0,
           0,
           0
          ],
          [
           5.621506907549483,
           5.479776495244064,
           5.075667155066191,
           4.467284561817228,
           3.736063879979244,
           2.96896557586367,
           2.24189993333323,
           1.6100324096445484,
           1.1002344635957664,
           0.7186546055232557,
           0.45535666830032556,
           0.29353400503213156,
           0.21730561721541672,
           0.21730561721541672,
           0.29353400503213156,
           0.45535666830032556,
           0.7186546055232557,
           1.1002344635957664,
           1.6100324096445484,
           2.24189993333323,
           2.96896557586367,
           3.736063879979244,
           4.467284561817228,
           5.075667155066191,
           5.479776495244064,
           5.621506907549483,
           5.479776495244064,
           5.075667155066191,
           4.467284561817228,
           3.736063879979244,
           2.96896557586367,
           2.24189993333323,
           1.6085978321038976,
           1.096727989390125,
           0.710510611192092,
           0.4373835070799947,
           0.25584352486054496,
           0.14220230966159975,
           0.07510330755381696,
           0.03769048017158663,
           0.01797316122033085,
           0.00814399433116365,
           0.0035064742056415436,
           0.0014345775406506493,
           0,
           0,
           0,
           0,
           0,
           0,
           0,
           0,
           0,
           0,
           0,
           0,
           0,
           0,
           0,
           0
          ],
          [
           4.701359095827557,
           4.582827610586007,
           4.244864293383165,
           3.736063879979244,
           3.124531943764867,
           2.4829949593302527,
           1.8749379511313167,
           1.3464967024222994,
           0.9201442581209489,
           0.6010227189968781,
           0.3808223043334618,
           0.24548733768150335,
           0.1817362776336903,
           0.1817362776336903,
           0.24548733768150335,
           0.3808223043334618,
           0.6010227189968781,
           0.9201442581209489,
           1.3464967024222994,
           1.8749379511313167,
           2.4829949593302527,
           3.124531943764867,
           3.736063879979244,
           4.244864293383165,
           4.582827610586007,
           4.701359095827557,
           4.582827610586007,
           4.244864293383165,
           3.736063879979244,
           3.124531943764867,
           2.4829949593302527,
           1.8749379511313167,
           1.3452969415253857,
           0.9172117358147257,
           0.5942117619964047,
           0.36579105268268125,
           0.21396616645554106,
           0.11892614079641492,
           0.06281013683727538,
           0.03152117122596228,
           0.015031251650780569,
           0.006810957000473498,
           0.0029325223062233634,
           0.0011997608969136517,
           0,
           0,
           0,
           0,
           0,
           0,
           0,
           0,
           0,
           0,
           0,
           0,
           0,
           0,
           0,
           0
          ],
          [
           3.736063879979244,
           3.641869586026189,
           3.373297771701241,
           2.96896557586367,
           2.4829949593302527,
           1.9731800087249813,
           1.489970838994371,
           1.0700305149835831,
           0.7312178578715548,
           0.47761917899102635,
           0.3026308833063656,
           0.19508324223055115,
           0.14442171480832033,
           0.14442171480832033,
           0.19508324223055115,
           0.3026308833063656,
           0.47761917899102635,
           0.7312178578715548,
           1.0700305149835831,
           1.489970838994371,
           1.9731800087249813,
           2.4829949593302527,
           2.96896557586367,
           3.373297771701241,
           3.641869586026189,
           3.736063879979244,
           3.641869586026189,
           3.373297771701241,
           2.96896557586367,
           2.4829949593302527,
           1.9731800087249813,
           1.489970838994371,
           1.0690770920987946,
           0.7288874486340988,
           0.47220666530745253,
           0.290685887142767,
           0.17003407945196763,
           0.09450791780809527,
           0.04991379700022506,
           0.025049162778583527,
           0.011944996163598627,
           0.005412513683573803,
           0.0023304092374560456,
           0.0009534228847885069,
           0,
           0,
           0,
           0,
           0,
           0,
           0,
           0,
           0,
           0,
           0,
           0,
           0,
           0,
           0,
           0
          ],
          [
           2.8211446544029455,
           2.7500174634882137,
           2.5472158084184566,
           2.24189993333323,
           1.8749379511313167,
           1.489970838994371,
           1.1250940569219052,
           0.8079923053699867,
           0.5521509848888799,
           0.36065571599871665,
           0.2285200484049909,
           0.1473095920365719,
           0.10905449205366992,
           0.10905449205366992,
           0.1473095920365719,
           0.2285200484049909,
           0.36065571599871665,
           0.5521509848888799,
           0.8079923053699867,
           1.1250940569219052,
           1.489970838994371,
           1.8749379511313167,
           2.24189993333323,
           2.5472158084184566,
           2.7500174634882137,
           2.8211446544029455,
           2.7500174634882137,
           2.5472158084184566,
           2.24189993333323,
           1.8749379511313167,
           1.489970838994371,
           1.1250940569219052,
           0.8072723648226046,
           0.5503912661651047,
           0.3565686648840066,
           0.2195002449015275,
           0.12839468213667407,
           0.07136401188208327,
           0.03769048017158663,
           0.018914909899897848,
           0.00901980350346343,
           0.004087051114710026,
           0.0017597187237753794,
           0.0007199405473820418,
           0,
           0,
           0,
           0,
           0,
           0,
           0,
           0,
           0,
           0,
           0,
           0,
           0,
           0,
           0,
           0
          ],
          [
           2.0242148668860986,
           1.9731800087249822,
           1.82766668859777,
           1.6085978321038976,
           1.3452969415253857,
           1.0690770920987946,
           0.8072723648226046,
           0.579746959911079,
           0.3961768605638592,
           0.2587760471667683,
           0.16396666460933765,
           0.10569690773210698,
           0.07824828257963576,
           0.07824828257963576,
           0.10569690773210698,
           0.16396666460933765,
           0.2587760471667683,
           0.3961768605638592,
           0.579746959911079,
           0.8072723648226046,
           1.0690770920987946,
           1.3452969415253857,
           1.6085978321038976,
           1.82766668859777,
           1.9731800087249822,
           2.0242148668860986,
           1.9731800087249822,
           1.82766668859777,
           1.6085978321038976,
           1.3452969415253857,
           1.0690770920987946,
           0.8072723648226046,
           0.5792303914476328,
           0.3949142351977177,
           0.25584352486054496,
           0.15749481626947787,
           0.09212516770614672,
           0.051204780863291534,
           0.027043501716344218,
           0.013571740025960255,
           0.006471848339859779,
           0.002932522306223362,
           0.0012626253661416065,
           0.0005165684634463611,
           0,
           0,
           0,
           0,
           0,
           0,
           0,
           0,
           0,
           0,
           0,
           0,
           0,
           0,
           0,
           0
          ],
          [
           1.3800920632536338,
           1.3452969415253855,
           1.2460872274330372,
           1.096727989390125,
           0.9172117358147257,
           0.7288874486340988,
           0.5503912661651047,
           0.39526642707625387,
           0.2701099324253158,
           0.17643125475330318,
           0.11179104361268903,
           0.07206323096318835,
           0.053348997439934036,
           0.053348997439934036,
           0.07206323096318835,
           0.11179104361268903,
           0.17643125475330318,
           0.2701099324253158,
           0.39526642707625387,
           0.5503912661651047,
           0.7288874486340988,
           0.9172117358147257,
           1.096727989390125,
           1.2460872274330372,
           1.3452969415253855,
           1.3800920632536338,
           1.3452969415253855,
           1.2460872274330372,
           1.096727989390125,
           0.9172117358147257,
           0.7288874486340988,
           0.5503912661651047,
           0.3949142351977177,
           0.2692490854494434,
           0.17443188659019954,
           0.10737859379101493,
           0.0628101368372754,
           0.03491097354639013,
           0.018438023893543907,
           0.009253094125912947,
           0.0044124498216741295,
           0.001999368163103623,
           0.0008608469758723475,
           0.0003521918785361648,
           0,
           0,
           0,
           0,
           0,
           0,
           0,
           0,
           0,
           0,
           0,
           0,
           0,
           0,
           0,
           0
          ],
          [
           0.8940868336085559,
           0.8715449604688097,
           0.8072723648226046,
           0.710510611192092,
           0.5942117619964047,
           0.47220666530745253,
           0.3565686648840066,
           0.25607169088648435,
           0.17498958267973772,
           0.11430024569525758,
           0.0724233570141879,
           0.04668586082553102,
           0.034561923416043513,
           0.034561923416043513,
           0.04668586082553102,
           0.0724233570141879,
           0.11430024569525758,
           0.17498958267973772,
           0.25607169088648435,
           0.3565686648840066,
           0.47220666530745253,
           0.5942117619964047,
           0.710510611192092,
           0.8072723648226046,
           0.8715449604688097,
           0.8940868336085559,
           0.8715449604688097,
           0.8072723648226046,
           0.710510611192092,
           0.5942117619964047,
           0.47220666530745253,
           0.3565686648840066,
           0.25584352486054496,
           0.17443188659019954,
           0.11300496344723658,
           0.0695647699716565,
           0.04069128274744595,
           0.022616927252444886,
           0.011944996163598625,
           0.005994578078085074,
           0.002858587042531397,
           0.0012952822480209753,
           0.000557696089538164,
           0.00022816602593937096,
           0,
           0,
           0,
           0,
           0,
           0,
           0,
           0,
           0,
           0,
           0,
           0,
           0,
           0,
           0,
           0
          ],
          [
           0.5503912661651046,
           0.5365147055976666,
           0.496949113120862,
           0.4373835070799947,
           0.36579105268268125,
           0.290685887142767,
           0.2195002449015275,
           0.15763527308328174,
           0.1077219061465021,
           0.07036213328104796,
           0.04458312287866448,
           0.02873936745949413,
           0.021275988052840433,
           0.021275988052840433,
           0.02873936745949413,
           0.04458312287866448,
           0.07036213328104796,
           0.1077219061465021,
           0.15763527308328174,
           0.2195002449015275,
           0.290685887142767,
           0.36579105268268125,
           0.4373835070799947,
           0.496949113120862,
           0.5365147055976666,
           0.5503912661651046,
           0.5365147055976666,
           0.496949113120862,
           0.4373835070799947,
           0.36579105268268125,
           0.290685887142767,
           0.2195002449015275,
           0.15749481626947787,
           0.10737859379101493,
           0.0695647699716565,
           0.0428234041548891,
           0.025049162778583538,
           0.013922763158245081,
           0.00735322489459535,
           0.0036902046809105934,
           0.0017597187237753788,
           0.0007973633093914578,
           0.00034331235548719114,
           0.0001404568138038497,
           0,
           0,
           0,
           0,
           0,
           0,
           0,
           0,
           0,
           0,
           0,
           0,
           0,
           0,
           0,
           0
          ],
          [
           0.32194639100185535,
           0.31382942245812634,
           0.2906858871427671,
           0.25584352486054496,
           0.21396616645554106,
           0.17003407945196763,
           0.12839468213667407,
           0.09220732664847667,
           0.0630109542932019,
           0.0411576932004397,
           0.026078494323477502,
           0.016810832951125988,
           0.012445196698589707,
           0.012445196698589707,
           0.016810832951125988,
           0.026078494323477502,
           0.0411576932004397,
           0.0630109542932019,
           0.09220732664847667,
           0.12839468213667407,
           0.17003407945196763,
           0.21396616645554106,
           0.25584352486054496,
           0.2906858871427671,
           0.31382942245812634,
           0.32194639100185535,
           0.31382942245812634,
           0.2906858871427671,
           0.25584352486054496,
           0.21396616645554106,
           0.17003407945196763,
           0.12839468213667407,
           0.09212516770614672,
           0.0628101368372754,
           0.04069128274744595,
           0.025049162778583538,
           0.014652281113348585,
           0.008143994331163652,
           0.0043012023674260545,
           0.0021585518377774037,
           0.0010293315448939675,
           0.00046641045299376007,
           0.00020081745592651047,
           0.00008215894232995363,
           0,
           0,
           0,
           0,
           0,
           0,
           0,
           0,
           0,
           0,
           0,
           0,
           0,
           0,
           0,
           0
          ],
          [
           0.17894343979444027,
           0.17443188659019962,
           0.16156830453404722,
           0.14220230966159975,
           0.11892614079641492,
           0.09450791780809527,
           0.07136401188208327,
           0.051250446241631845,
           0.035022591403706164,
           0.022876166346739644,
           0.01449488364935874,
           0.009343755228077306,
           0.006917258178400329,
           0.006917258178400329,
           0.009343755228077306,
           0.01449488364935874,
           0.022876166346739644,
           0.035022591403706164,
           0.051250446241631845,
           0.07136401188208327,
           0.09450791780809527,
           0.11892614079641492,
           0.14220230966159975,
           0.16156830453404722,
           0.17443188659019962,
           0.17894343979444027,
           0.17443188659019962,
           0.16156830453404722,
           0.14220230966159975,
           0.11892614079641492,
           0.09450791780809527,
           0.07136401188208327,
           0.051204780863291534,
           0.03491097354639013,
           0.022616927252444886,
           0.013922763158245081,
           0.008143994331163652,
           0.004526574609983585,
           0.0023906835684167444,
           0.0011997608969136519,
           0.00057212049111366,
           0.0002592390942947565,
           0.00011161785731603713,
           0.000045665378340303325,
           0,
           0,
           0,
           0,
           0,
           0,
           0,
           0,
           0,
           0,
           0,
           0,
           0,
           0,
           0,
           0
          ],
          [
           0.09450791780809523,
           0.09212516770614669,
           0.08533134303687089,
           0.07510330755381696,
           0.06281013683727538,
           0.04991379700022506,
           0.03769048017158663,
           0.02706761961542909,
           0.018496974203749506,
           0.012081911755723143,
           0.007655386943187962,
           0.004934848978696824,
           0.0036533089345583505,
           0.0036533089345583505,
           0.004934848978696824,
           0.007655386943187962,
           0.012081911755723143,
           0.018496974203749506,
           0.02706761961542909,
           0.03769048017158663,
           0.04991379700022506,
           0.06281013683727538,
           0.07510330755381696,
           0.08533134303687089,
           0.09212516770614669,
           0.09450791780809523,
           0.09212516770614669,
           0.08533134303687089,
           0.07510330755381696,
           0.06281013683727538,
           0.04991379700022506,
           0.03769048017158663,
           0.027043501716344218,
           0.018438023893543907,
           0.011944996163598625,
           0.00735322489459535,
           0.0043012023674260545,
           0.0023906835684167444,
           0.0012626253661416058,
           0.0006336466112707694,
           0.00030216204859261227,
           0.00013691559212451838,
           0.00005895031020560211,
           0.000024117899084865182,
           0,
           0,
           0,
           0,
           0,
           0,
           0,
           0,
           0,
           0,
           0,
           0,
           0,
           0,
           0,
           0
          ],
          [
           0.04742865418612205,
           0.04623287468723667,
           0.042823404154889104,
           0.03769048017158663,
           0.03152117122596228,
           0.025049162778583527,
           0.018914909899897848,
           0.013583843556774625,
           0.009282678249039894,
           0.006063288958846916,
           0.0038418442434281965,
           0.002476546421714742,
           0.0018334075081844216,
           0.0018334075081844216,
           0.002476546421714742,
           0.0038418442434281965,
           0.006063288958846916,
           0.009282678249039894,
           0.013583843556774625,
           0.018914909899897848,
           0.025049162778583527,
           0.03152117122596228,
           0.03769048017158663,
           0.042823404154889104,
           0.04623287468723667,
           0.04742865418612205,
           0.04623287468723667,
           0.042823404154889104,
           0.03769048017158663,
           0.03152117122596228,
           0.025049162778583527,
           0.018914909899897848,
           0.013571740025960255,
           0.009253094125912947,
           0.005994578078085074,
           0.0036902046809105934,
           0.0021585518377774037,
           0.0011997608969136519,
           0.0006336466112707694,
           0.0003179945839373385,
           0.00015163956251760375,
           0.00006871088076184118,
           0.0000295841231269475,
           0.000012103530814366108,
           0,
           0,
           0,
           0,
           0,
           0,
           0,
           0,
           0,
           0,
           0,
           0,
           0,
           0,
           0,
           0
          ],
          [
           0.022616927252444883,
           0.022046705339123777,
           0.02042085808870732,
           0.01797316122033085,
           0.015031251650780569,
           0.011944996163598627,
           0.00901980350346343,
           0.006477620054883613,
           0.004426557368516252,
           0.0028913526568695898,
           0.0018320298827763173,
           0.0011809711074115712,
           0.0008742825397062723,
           0.0008742825397062723,
           0.0011809711074115712,
           0.0018320298827763173,
           0.0028913526568695898,
           0.004426557368516252,
           0.006477620054883613,
           0.00901980350346343,
           0.011944996163598627,
           0.015031251650780569,
           0.01797316122033085,
           0.02042085808870732,
           0.022046705339123777,
           0.022616927252444883,
           0.022046705339123777,
           0.02042085808870732,
           0.01797316122033085,
           0.015031251650780569,
           0.011944996163598627,
           0.00901980350346343,
           0.006471848339859779,
           0.0044124498216741295,
           0.002858587042531397,
           0.0017597187237753788,
           0.0010293315448939675,
           0.00057212049111366,
           0.00030216204859261227,
           0.00015163956251760375,
           0.00007231115900093879,
           0.00003276561433819255,
           0.00001410754684212245,
           0.000005771715023833479,
           0,
           0,
           0,
           0,
           0,
           0,
           0,
           0,
           0,
           0,
           0,
           0,
           0,
           0,
           0,
           0
          ],
          [
           0.010248176437871022,
           0.009989797626672282,
           0.009253094125912948,
           0.00814399433116365,
           0.006810957000473498,
           0.005412513683573803,
           0.004087051114710026,
           0.0029351375842959822,
           0.002005760571211492,
           0.0013101289950209127,
           0.0008301289237296502,
           0.0005351213337556012,
           0.0003961546864192749,
           0.0003961546864192749,
           0.0005351213337556012,
           0.0008301289237296502,
           0.0013101289950209127,
           0.002005760571211492,
           0.0029351375842959822,
           0.004087051114710026,
           0.005412513683573803,
           0.006810957000473498,
           0.00814399433116365,
           0.009253094125912948,
           0.009989797626672282,
           0.010248176437871022,
           0.009989797626672282,
           0.009253094125912948,
           0.00814399433116365,
           0.006810957000473498,
           0.005412513683573803,
           0.004087051114710026,
           0.002932522306223362,
           0.001999368163103623,
           0.0012952822480209753,
           0.0007973633093914578,
           0.00046641045299376007,
           0.0002592390942947565,
           0.00013691559212451838,
           0.00006871088076184118,
           0.00003276561433819255,
           0.000014386061612279214,
           0.000005266375263379663,
           0,
           -0.000005771715023833479,
           -0.000012103530814366108,
           -0.000024117899084865182,
           -0.000045665378340303325,
           -0.00008215894232995363,
           -0.0001404568138038497,
           -0.00022816602593937096,
           -0.0003521918785361648,
           -0.0005165684634463611,
           -0.0007199405473820418,
           -0.0009534228847885069,
           -0.0011997608969136517,
           -0.0014345775406506493,
           -0.0016299472316386645,
           -0.0017597187237753788,
           -0.0018052325618814968
          ],
          [
           0.00441244982167413,
           0.004301202367426055,
           0.003984007669397659,
           0.0035064742056415436,
           0.0029325223062233634,
           0.0023304092374560456,
           0.0017597187237753794,
           0.0012637513989860955,
           0.0008635992879726153,
           0.0005640884976460326,
           0.0003574199023293136,
           0.000230401579053458,
           0.00017056816752163926,
           0.00017056816752163926,
           0.000230401579053458,
           0.0003574199023293136,
           0.0005640884976460326,
           0.0008635992879726153,
           0.0012637513989860955,
           0.0017597187237753794,
           0.0023304092374560456,
           0.0029325223062233634,
           0.0035064742056415436,
           0.003984007669397659,
           0.004301202367426055,
           0.00441244982167413,
           0.004301202367426055,
           0.003984007669397659,
           0.0035064742056415436,
           0.0029325223062233634,
           0.0023304092374560456,
           0.0017597187237753794,
           0.0012626253661416065,
           0.0008608469758723475,
           0.000557696089538164,
           0.00034331235548719114,
           0.00020081745592651047,
           0.00011161785731603713,
           0.00005895031020560211,
           0.0000295841231269475,
           0.00001410754684212245,
           0.000005266375263379663,
           0,
           -0.000005266375263379663,
           -0.00001410754684212245,
           -0.0000295841231269475,
           -0.00005895031020560211,
           -0.00011161785731603713,
           -0.00020081745592651047,
           -0.00034331235548719114,
           -0.000557696089538164,
           -0.0008608469758723475,
           -0.0012626253661416065,
           -0.0017597187237753794,
           -0.0023304092374560456,
           -0.0029325223062233634,
           -0.0035064742056415436,
           -0.003984007669397659,
           -0.004301202367426055,
           -0.00441244982167413
          ],
          [
           0.0018052325618814968,
           0.0017597187237753788,
           0.0016299472316386645,
           0.0014345775406506493,
           0.0011997608969136517,
           0.0009534228847885069,
           0.0007199405473820418,
           0.000517029148834019,
           0.0003533179113806536,
           0.0002307813040119908,
           0.00014622852882768318,
           0.00009426247314431976,
           0.00006978327742516851,
           0.00006978327742516851,
           0.00009426247314431976,
           0.00014622852882768318,
           0.0002307813040119908,
           0.0003533179113806536,
           0.000517029148834019,
           0.0007199405473820418,
           0.0009534228847885069,
           0.0011997608969136517,
           0.0014345775406506493,
           0.0016299472316386645,
           0.0017597187237753788,
           0.0018052325618814968,
           0.0017597187237753788,
           0.0016299472316386645,
           0.0014345775406506493,
           0.0011997608969136517,
           0.0009534228847885069,
           0.0007199405473820418,
           0.0005165684634463611,
           0.0003521918785361648,
           0.00022816602593937096,
           0.0001404568138038497,
           0.00008215894232995363,
           0.000045665378340303325,
           0.000024117899084865182,
           0.000012103530814366108,
           0.000005771715023833479,
           0,
           -0.000005266375263379663,
           -0.000014386061612279214,
           -0.00003276561433819255,
           -0.00006871088076184118,
           -0.00013691559212451838,
           -0.0002592390942947565,
           -0.00046641045299376007,
           -0.0007973633093914578,
           -0.0012952822480209753,
           -0.001999368163103623,
           -0.002932522306223362,
           -0.004087051114710026,
           -0.005412513683573803,
           -0.006810957000473498,
           -0.00814399433116365,
           -0.009253094125912948,
           -0.009989797626672282,
           -0.010248176437871022
          ],
          [
           0,
           0,
           0,
           0,
           0,
           0,
           0,
           0,
           0,
           0,
           0,
           0,
           0,
           0,
           0,
           0,
           0,
           0,
           0,
           0,
           0,
           0,
           0,
           0,
           0,
           0,
           0,
           0,
           0,
           0,
           0,
           0,
           0,
           0,
           0,
           0,
           0,
           0,
           0,
           0,
           0,
           -0.000005771715023833479,
           -0.00001410754684212245,
           -0.00003276561433819255,
           -0.00007231115900093879,
           -0.00015163956251760375,
           -0.00030216204859261227,
           -0.00057212049111366,
           -0.0010293315448939675,
           -0.0017597187237753788,
           -0.002858587042531397,
           -0.0044124498216741295,
           -0.006471848339859779,
           -0.00901980350346343,
           -0.011944996163598627,
           -0.015031251650780569,
           -0.01797316122033085,
           -0.02042085808870732,
           -0.022046705339123777,
           -0.022616927252444883
          ],
          [
           0,
           0,
           0,
           0,
           0,
           0,
           0,
           0,
           0,
           0,
           0,
           0,
           0,
           0,
           0,
           0,
           0,
           0,
           0,
           0,
           0,
           0,
           0,
           0,
           0,
           0,
           0,
           0,
           0,
           0,
           0,
           0,
           0,
           0,
           0,
           0,
           0,
           0,
           0,
           0,
           0,
           -0.000012103530814366108,
           -0.0000295841231269475,
           -0.00006871088076184118,
           -0.00015163956251760375,
           -0.0003179945839373385,
           -0.0006336466112707694,
           -0.0011997608969136519,
           -0.0021585518377774037,
           -0.0036902046809105934,
           -0.005994578078085074,
           -0.009253094125912947,
           -0.013571740025960255,
           -0.018914909899897848,
           -0.025049162778583527,
           -0.03152117122596228,
           -0.03769048017158663,
           -0.042823404154889104,
           -0.04623287468723667,
           -0.04742865418612205
          ],
          [
           0,
           0,
           0,
           0,
           0,
           0,
           0,
           0,
           0,
           0,
           0,
           0,
           0,
           0,
           0,
           0,
           0,
           0,
           0,
           0,
           0,
           0,
           0,
           0,
           0,
           0,
           0,
           0,
           0,
           0,
           0,
           0,
           0,
           0,
           0,
           0,
           0,
           0,
           0,
           0,
           0,
           -0.000024117899084865182,
           -0.00005895031020560211,
           -0.00013691559212451838,
           -0.00030216204859261227,
           -0.0006336466112707694,
           -0.0012626253661416058,
           -0.0023906835684167444,
           -0.0043012023674260545,
           -0.00735322489459535,
           -0.011944996163598625,
           -0.018438023893543907,
           -0.027043501716344218,
           -0.03769048017158663,
           -0.04991379700022506,
           -0.06281013683727538,
           -0.07510330755381696,
           -0.08533134303687089,
           -0.09212516770614669,
           -0.09450791780809523
          ],
          [
           0,
           0,
           0,
           0,
           0,
           0,
           0,
           0,
           0,
           0,
           0,
           0,
           0,
           0,
           0,
           0,
           0,
           0,
           0,
           0,
           0,
           0,
           0,
           0,
           0,
           0,
           0,
           0,
           0,
           0,
           0,
           0,
           0,
           0,
           0,
           0,
           0,
           0,
           0,
           0,
           0,
           -0.000045665378340303325,
           -0.00011161785731603713,
           -0.0002592390942947565,
           -0.00057212049111366,
           -0.0011997608969136519,
           -0.0023906835684167444,
           -0.004526574609983585,
           -0.008143994331163652,
           -0.013922763158245081,
           -0.022616927252444886,
           -0.03491097354639013,
           -0.051204780863291534,
           -0.07136401188208327,
           -0.09450791780809527,
           -0.11892614079641492,
           -0.14220230966159975,
           -0.16156830453404722,
           -0.17443188659019962,
           -0.17894343979444027
          ],
          [
           0,
           0,
           0,
           0,
           0,
           0,
           0,
           0,
           0,
           0,
           0,
           0,
           0,
           0,
           0,
           0,
           0,
           0,
           0,
           0,
           0,
           0,
           0,
           0,
           0,
           0,
           0,
           0,
           0,
           0,
           0,
           0,
           0,
           0,
           0,
           0,
           0,
           0,
           0,
           0,
           0,
           -0.00008215894232995363,
           -0.00020081745592651047,
           -0.00046641045299376007,
           -0.0010293315448939675,
           -0.0021585518377774037,
           -0.0043012023674260545,
           -0.008143994331163652,
           -0.014652281113348585,
           -0.025049162778583538,
           -0.04069128274744595,
           -0.0628101368372754,
           -0.09212516770614672,
           -0.12839468213667407,
           -0.17003407945196763,
           -0.21396616645554106,
           -0.25584352486054496,
           -0.2906858871427671,
           -0.31382942245812634,
           -0.32194639100185535
          ],
          [
           0,
           0,
           0,
           0,
           0,
           0,
           0,
           0,
           0,
           0,
           0,
           0,
           0,
           0,
           0,
           0,
           0,
           0,
           0,
           0,
           0,
           0,
           0,
           0,
           0,
           0,
           0,
           0,
           0,
           0,
           0,
           0,
           0,
           0,
           0,
           0,
           0,
           0,
           0,
           0,
           0,
           -0.0001404568138038497,
           -0.00034331235548719114,
           -0.0007973633093914578,
           -0.0017597187237753788,
           -0.0036902046809105934,
           -0.00735322489459535,
           -0.013922763158245081,
           -0.025049162778583538,
           -0.0428234041548891,
           -0.0695647699716565,
           -0.10737859379101493,
           -0.15749481626947787,
           -0.2195002449015275,
           -0.290685887142767,
           -0.36579105268268125,
           -0.4373835070799947,
           -0.496949113120862,
           -0.5365147055976666,
           -0.5503912661651046
          ],
          [
           0,
           0,
           0,
           0,
           0,
           0,
           0,
           0,
           0,
           0,
           0,
           0,
           0,
           0,
           0,
           0,
           0,
           0,
           0,
           0,
           0,
           0,
           0,
           0,
           0,
           0,
           0,
           0,
           0,
           0,
           0,
           0,
           0,
           0,
           0,
           0,
           0,
           0,
           0,
           0,
           0,
           -0.00022816602593937096,
           -0.000557696089538164,
           -0.0012952822480209753,
           -0.002858587042531397,
           -0.005994578078085074,
           -0.011944996163598625,
           -0.022616927252444886,
           -0.04069128274744595,
           -0.0695647699716565,
           -0.11300496344723658,
           -0.17443188659019954,
           -0.25584352486054496,
           -0.3565686648840066,
           -0.47220666530745253,
           -0.5942117619964047,
           -0.710510611192092,
           -0.8072723648226046,
           -0.8715449604688097,
           -0.8940868336085559
          ],
          [
           0,
           0,
           0,
           0,
           0,
           0,
           0,
           0,
           0,
           0,
           0,
           0,
           0,
           0,
           0,
           0,
           0,
           0,
           0,
           0,
           0,
           0,
           0,
           0,
           0,
           0,
           0,
           0,
           0,
           0,
           0,
           0,
           0,
           0,
           0,
           0,
           0,
           0,
           0,
           0,
           0,
           -0.0003521918785361648,
           -0.0008608469758723475,
           -0.001999368163103623,
           -0.0044124498216741295,
           -0.009253094125912947,
           -0.018438023893543907,
           -0.03491097354639013,
           -0.0628101368372754,
           -0.10737859379101493,
           -0.17443188659019954,
           -0.2692490854494434,
           -0.3949142351977177,
           -0.5503912661651047,
           -0.7288874486340988,
           -0.9172117358147257,
           -1.096727989390125,
           -1.2460872274330372,
           -1.3452969415253855,
           -1.3800920632536338
          ],
          [
           0,
           0,
           0,
           0,
           0,
           0,
           0,
           0,
           0,
           0,
           0,
           0,
           0,
           0,
           0,
           0,
           0,
           0,
           0,
           0,
           0,
           0,
           0,
           0,
           0,
           0,
           0,
           0,
           0,
           0,
           0,
           0,
           0,
           0,
           0,
           0,
           0,
           0,
           0,
           0,
           0,
           -0.0005165684634463611,
           -0.0012626253661416065,
           -0.002932522306223362,
           -0.006471848339859779,
           -0.013571740025960255,
           -0.027043501716344218,
           -0.051204780863291534,
           -0.09212516770614672,
           -0.15749481626947787,
           -0.25584352486054496,
           -0.3949142351977177,
           -0.5792303914476328,
           -0.8072723648226046,
           -1.0690770920987946,
           -1.3452969415253857,
           -1.6085978321038976,
           -1.82766668859777,
           -1.9731800087249822,
           -2.0242148668860986
          ],
          [
           0,
           0,
           0,
           0,
           0,
           0,
           0,
           0,
           0,
           0,
           0,
           0,
           0,
           0,
           0,
           0,
           0,
           0,
           0,
           0,
           0,
           0,
           0,
           0,
           0,
           0,
           0,
           0,
           0,
           0,
           0,
           0,
           0,
           0,
           0,
           0,
           0,
           0,
           0,
           0,
           0,
           -0.0007199405473820418,
           -0.0017597187237753794,
           -0.004087051114710026,
           -0.00901980350346343,
           -0.018914909899897848,
           -0.03769048017158663,
           -0.07136401188208327,
           -0.12839468213667407,
           -0.2195002449015275,
           -0.3565686648840066,
           -0.5503912661651047,
           -0.8072723648226046,
           -1.1250940569219052,
           -1.489970838994371,
           -1.8749379511313167,
           -2.24189993333323,
           -2.5472158084184566,
           -2.7500174634882137,
           -2.8211446544029455
          ],
          [
           0,
           0,
           0,
           0,
           0,
           0,
           0,
           0,
           0,
           0,
           0,
           0,
           0,
           0,
           0,
           0,
           0,
           0,
           0,
           0,
           0,
           0,
           0,
           0,
           0,
           0,
           0,
           0,
           0,
           0,
           0,
           0,
           0,
           0,
           0,
           0,
           0,
           0,
           0,
           0,
           0,
           -0.0009534228847885069,
           -0.0023304092374560456,
           -0.005412513683573803,
           -0.011944996163598627,
           -0.025049162778583527,
           -0.04991379700022506,
           -0.09450791780809527,
           -0.17003407945196763,
           -0.290685887142767,
           -0.47220666530745253,
           -0.7288874486340988,
           -1.0690770920987946,
           -1.489970838994371,
           -1.9731800087249813,
           -2.4829949593302527,
           -2.96896557586367,
           -3.373297771701241,
           -3.641869586026189,
           -3.736063879979244
          ],
          [
           0,
           0,
           0,
           0,
           0,
           0,
           0,
           0,
           0,
           0,
           0,
           0,
           0,
           0,
           0,
           0,
           0,
           0,
           0,
           0,
           0,
           0,
           0,
           0,
           0,
           0,
           0,
           0,
           0,
           0,
           0,
           0,
           0,
           0,
           0,
           0,
           0,
           0,
           0,
           0,
           0,
           -0.0011997608969136517,
           -0.0029325223062233634,
           -0.006810957000473498,
           -0.015031251650780569,
           -0.03152117122596228,
           -0.06281013683727538,
           -0.11892614079641492,
           -0.21396616645554106,
           -0.36579105268268125,
           -0.5942117619964047,
           -0.9172117358147257,
           -1.3452969415253857,
           -1.8749379511313167,
           -2.4829949593302527,
           -3.124531943764867,
           -3.736063879979244,
           -4.244864293383165,
           -4.582827610586007,
           -4.701359095827557
          ],
          [
           0,
           0,
           0,
           0,
           0,
           0,
           0,
           0,
           0,
           0,
           0,
           0,
           0,
           0,
           0,
           0,
           0,
           0,
           0,
           0,
           0,
           0,
           0,
           0,
           0,
           0,
           0,
           0,
           0,
           0,
           0,
           0,
           0,
           0,
           0,
           0,
           0,
           0,
           0,
           0,
           0,
           -0.0014345775406506493,
           -0.0035064742056415436,
           -0.00814399433116365,
           -0.01797316122033085,
           -0.03769048017158663,
           -0.07510330755381696,
           -0.14220230966159975,
           -0.25584352486054496,
           -0.4373835070799947,
           -0.710510611192092,
           -1.096727989390125,
           -1.6085978321038976,
           -2.24189993333323,
           -2.96896557586367,
           -3.736063879979244,
           -4.467284561817228,
           -5.075667155066191,
           -5.479776495244064,
           -5.621506907549483
          ],
          [
           0,
           0,
           0,
           0,
           0,
           0,
           0,
           0,
           0,
           0,
           0,
           0,
           0,
           0,
           0,
           0,
           0,
           0,
           0,
           0,
           0,
           0,
           0,
           0,
           0,
           0,
           0,
           0,
           0,
           0,
           0,
           0,
           0,
           0,
           0,
           0,
           0,
           0,
           0,
           0,
           0,
           -0.0016299472316386645,
           -0.003984007669397659,
           -0.009253094125912948,
           -0.02042085808870732,
           -0.042823404154889104,
           -0.08533134303687089,
           -0.16156830453404722,
           -0.2906858871427671,
           -0.496949113120862,
           -0.8072723648226046,
           -1.2460872274330372,
           -1.82766668859777,
           -2.5472158084184566,
           -3.373297771701241,
           -4.244864293383165,
           -5.075667155066191,
           -5.766903073337676,
           -6.226046536578783,
           -6.387078677840001
          ],
          [
           0,
           0,
           0,
           0,
           0,
           0,
           0,
           0,
           0,
           0,
           0,
           0,
           0,
           0,
           0,
           0,
           0,
           0,
           0,
           0,
           0,
           0,
           0,
           0,
           0,
           0,
           0,
           0,
           0,
           0,
           0,
           0,
           0,
           0,
           0,
           0,
           0,
           0,
           0,
           0,
           0,
           -0.0017597187237753788,
           -0.004301202367426055,
           -0.009989797626672282,
           -0.022046705339123777,
           -0.04623287468723667,
           -0.09212516770614669,
           -0.17443188659019962,
           -0.31382942245812634,
           -0.5365147055976666,
           -0.8715449604688097,
           -1.3452969415253855,
           -1.9731800087249822,
           -2.7500174634882137,
           -3.641869586026189,
           -4.582827610586007,
           -5.479776495244064,
           -6.226046536578783,
           -6.721745620255356,
           -6.895598655866894
          ],
          [
           0,
           0,
           0,
           0,
           0,
           0,
           0,
           0,
           0,
           0,
           0,
           0,
           0,
           0,
           0,
           0,
           0,
           0,
           0,
           0,
           0,
           0,
           0,
           0,
           0,
           0,
           0,
           0,
           0,
           0,
           0,
           0,
           0,
           0,
           0,
           0,
           0,
           0,
           0,
           0,
           0,
           -0.0018052325618814968,
           -0.00441244982167413,
           -0.010248176437871022,
           -0.022616927252444883,
           -0.04742865418612205,
           -0.09450791780809523,
           -0.17894343979444027,
           -0.32194639100185535,
           -0.5503912661651046,
           -0.8940868336085559,
           -1.3800920632536338,
           -2.0242148668860986,
           -2.8211446544029455,
           -3.736063879979244,
           -4.701359095827557,
           -5.621506907549483,
           -6.387078677840001,
           -6.895598655866894,
           -7.073948273125358
          ],
          [
           0,
           0,
           0,
           0,
           0,
           0,
           0,
           0,
           0,
           0,
           0,
           0,
           0,
           0,
           0,
           0,
           0,
           0,
           0,
           0,
           0,
           0,
           0,
           0,
           0,
           0,
           0,
           0,
           0,
           0,
           0,
           0,
           0,
           0,
           0,
           0,
           0,
           0,
           0,
           0,
           0,
           -0.0017597187237753788,
           -0.004301202367426055,
           -0.009989797626672282,
           -0.022046705339123777,
           -0.04623287468723667,
           -0.09212516770614669,
           -0.17443188659019962,
           -0.31382942245812634,
           -0.5365147055976666,
           -0.8715449604688097,
           -1.3452969415253855,
           -1.9731800087249822,
           -2.7500174634882137,
           -3.641869586026189,
           -4.582827610586007,
           -5.479776495244064,
           -6.226046536578783,
           -6.721745620255356,
           -6.895598655866894
          ],
          [
           0,
           0,
           0,
           0,
           0,
           0,
           0,
           0,
           0,
           0,
           0,
           0,
           0,
           0,
           0,
           0,
           0,
           0,
           0,
           0,
           0,
           0,
           0,
           0,
           0,
           0,
           0,
           0,
           0,
           0,
           0,
           0,
           0,
           0,
           0,
           0,
           0,
           0,
           0,
           0,
           0,
           -0.0016299472316386645,
           -0.003984007669397659,
           -0.009253094125912948,
           -0.02042085808870732,
           -0.042823404154889104,
           -0.08533134303687089,
           -0.16156830453404722,
           -0.2906858871427671,
           -0.496949113120862,
           -0.8072723648226046,
           -1.2460872274330372,
           -1.82766668859777,
           -2.5472158084184566,
           -3.373297771701241,
           -4.244864293383165,
           -5.075667155066191,
           -5.766903073337676,
           -6.226046536578783,
           -6.387078677840001
          ],
          [
           0,
           0,
           0,
           0,
           0,
           0,
           0,
           0,
           0,
           0,
           0,
           0,
           0,
           0,
           0,
           0,
           0,
           0,
           0,
           0,
           0,
           0,
           0,
           0,
           0,
           0,
           0,
           0,
           0,
           0,
           0,
           0,
           0,
           0,
           0,
           0,
           0,
           0,
           0,
           0,
           0,
           -0.0014345775406506493,
           -0.0035064742056415436,
           -0.00814399433116365,
           -0.01797316122033085,
           -0.03769048017158663,
           -0.07510330755381696,
           -0.14220230966159975,
           -0.25584352486054496,
           -0.4373835070799947,
           -0.710510611192092,
           -1.096727989390125,
           -1.6085978321038976,
           -2.24189993333323,
           -2.96896557586367,
           -3.736063879979244,
           -4.467284561817228,
           -5.075667155066191,
           -5.479776495244064,
           -5.621506907549483
          ],
          [
           0,
           0,
           0,
           0,
           0,
           0,
           0,
           0,
           0,
           0,
           0,
           0,
           0,
           0,
           0,
           0,
           0,
           0,
           0,
           0,
           0,
           0,
           0,
           0,
           0,
           0,
           0,
           0,
           0,
           0,
           0,
           0,
           0,
           0,
           0,
           0,
           0,
           0,
           0,
           0,
           0,
           -0.0011997608969136517,
           -0.0029325223062233634,
           -0.006810957000473498,
           -0.015031251650780569,
           -0.03152117122596228,
           -0.06281013683727538,
           -0.11892614079641492,
           -0.21396616645554106,
           -0.36579105268268125,
           -0.5942117619964047,
           -0.9172117358147257,
           -1.3452969415253857,
           -1.8749379511313167,
           -2.4829949593302527,
           -3.124531943764867,
           -3.736063879979244,
           -4.244864293383165,
           -4.582827610586007,
           -4.701359095827557
          ],
          [
           0,
           0,
           0,
           0,
           0,
           0,
           0,
           0,
           0,
           0,
           0,
           0,
           0,
           0,
           0,
           0,
           0,
           0,
           0,
           0,
           0,
           0,
           0,
           0,
           0,
           0,
           0,
           0,
           0,
           0,
           0,
           0,
           0,
           0,
           0,
           0,
           0,
           0,
           0,
           0,
           0,
           -0.0009534228847885069,
           -0.0023304092374560456,
           -0.005412513683573803,
           -0.011944996163598627,
           -0.025049162778583527,
           -0.04991379700022506,
           -0.09450791780809527,
           -0.17003407945196763,
           -0.290685887142767,
           -0.47220666530745253,
           -0.7288874486340988,
           -1.0690770920987946,
           -1.489970838994371,
           -1.9731800087249813,
           -2.4829949593302527,
           -2.96896557586367,
           -3.373297771701241,
           -3.641869586026189,
           -3.736063879979244
          ],
          [
           0,
           0,
           0,
           0,
           0,
           0,
           0,
           0,
           0,
           0,
           0,
           0,
           0,
           0,
           0,
           0,
           0,
           0,
           0,
           0,
           0,
           0,
           0,
           0,
           0,
           0,
           0,
           0,
           0,
           0,
           0,
           0,
           0,
           0,
           0,
           0,
           0,
           0,
           0,
           0,
           0,
           -0.0007199405473820418,
           -0.0017597187237753794,
           -0.004087051114710026,
           -0.00901980350346343,
           -0.018914909899897848,
           -0.03769048017158663,
           -0.07136401188208327,
           -0.12839468213667407,
           -0.2195002449015275,
           -0.3565686648840066,
           -0.5503912661651047,
           -0.8072723648226046,
           -1.1250940569219052,
           -1.489970838994371,
           -1.8749379511313167,
           -2.24189993333323,
           -2.5472158084184566,
           -2.7500174634882137,
           -2.8211446544029455
          ],
          [
           0,
           0,
           0,
           0,
           0,
           0,
           0,
           0,
           0,
           0,
           0,
           0,
           0,
           0,
           0,
           0,
           0,
           0,
           0,
           0,
           0,
           0,
           0,
           0,
           0,
           0,
           0,
           0,
           0,
           0,
           0,
           0,
           0,
           0,
           0,
           0,
           0,
           0,
           0,
           0,
           0,
           -0.000517029148834019,
           -0.0012637513989860955,
           -0.0029351375842959822,
           -0.006477620054883613,
           -0.013583843556774625,
           -0.02706761961542909,
           -0.051250446241631845,
           -0.09220732664847667,
           -0.15763527308328174,
           -0.25607169088648435,
           -0.39526642707625387,
           -0.579746959911079,
           -0.8079923053699867,
           -1.0700305149835831,
           -1.3464967024222994,
           -1.6100324096445484,
           -1.829296635829409,
           -1.9749397274487577,
           -2.0260200994479804
          ],
          [
           0,
           0,
           0,
           0,
           0,
           0,
           0,
           0,
           0,
           0,
           0,
           0,
           0,
           0,
           0,
           0,
           0,
           0,
           0,
           0,
           0,
           0,
           0,
           0,
           0,
           0,
           0,
           0,
           0,
           0,
           0,
           0,
           0,
           0,
           0,
           0,
           0,
           0,
           0,
           0,
           0,
           -0.0003533179113806536,
           -0.0008635992879726153,
           -0.002005760571211492,
           -0.004426557368516252,
           -0.009282678249039894,
           -0.018496974203749506,
           -0.035022591403706164,
           -0.0630109542932019,
           -0.1077219061465021,
           -0.17498958267973772,
           -0.2701099324253158,
           -0.3961768605638592,
           -0.5521509848888799,
           -0.7312178578715548,
           -0.9201442581209489,
           -1.1002344635957664,
           -1.2500712351024348,
           -1.3495981438928113,
           -1.384504513075308
          ],
          [
           0,
           0,
           0,
           0,
           0,
           0,
           0,
           0,
           0,
           0,
           0,
           0,
           0,
           0,
           0,
           0,
           0,
           0,
           0,
           0,
           0,
           0,
           0,
           0,
           0,
           0,
           0,
           0,
           0,
           0,
           0,
           0,
           0,
           0,
           0,
           0,
           0,
           0,
           0,
           0,
           0,
           -0.0002307813040119908,
           -0.0005640884976460326,
           -0.0013101289950209127,
           -0.0028913526568695898,
           -0.006063288958846916,
           -0.012081911755723143,
           -0.022876166346739644,
           -0.0411576932004397,
           -0.07036213328104796,
           -0.11430024569525758,
           -0.17643125475330318,
           -0.2587760471667683,
           -0.36065571599871665,
           -0.47761917899102635,
           -0.6010227189968781,
           -0.7186546055232557,
           -0.8165254589485176,
           -0.8815347580954819,
           -0.9043350100464268
          ],
          [
           0,
           0,
           0,
           0,
           0,
           0,
           0,
           0,
           0,
           0,
           0,
           0,
           0,
           0,
           0,
           0,
           0,
           0,
           0,
           0,
           0,
           0,
           0,
           0,
           0,
           0,
           0,
           0,
           0,
           0,
           0,
           0,
           0,
           0,
           0,
           0,
           0,
           0,
           0,
           0,
           0,
           -0.00014622852882768318,
           -0.0003574199023293136,
           -0.0008301289237296502,
           -0.0018320298827763173,
           -0.0038418442434281965,
           -0.007655386943187962,
           -0.01449488364935874,
           -0.026078494323477502,
           -0.04458312287866448,
           -0.0724233570141879,
           -0.11179104361268903,
           -0.16396666460933765,
           -0.2285200484049909,
           -0.3026308833063656,
           -0.3808223043334618,
           -0.45535666830032556,
           -0.5173699712095693,
           -0.5585614109367903,
           -0.5730081934175494
          ],
          [
           0,
           0,
           0,
           0,
           0,
           0,
           0,
           0,
           0,
           0,
           0,
           0,
           0,
           0,
           0,
           0,
           0,
           0,
           0,
           0,
           0,
           0,
           0,
           0,
           0,
           0,
           0,
           0,
           0,
           0,
           0,
           0,
           0,
           0,
           0,
           0,
           0,
           0,
           0,
           0,
           0,
           -0.00009426247314431976,
           -0.000230401579053458,
           -0.0005351213337556012,
           -0.0011809711074115712,
           -0.002476546421714742,
           -0.004934848978696824,
           -0.009343755228077306,
           -0.016810832951125988,
           -0.02873936745949413,
           -0.04668586082553102,
           -0.07206323096318835,
           -0.10569690773210698,
           -0.1473095920365719,
           -0.19508324223055115,
           -0.24548733768150335,
           -0.29353400503213156,
           -0.3335092912976562,
           -0.360062297145363,
           -0.3693750451879774
          ],
          [
           0,
           0,
           0,
           0,
           0,
           0,
           0,
           0,
           0,
           0,
           0,
           0,
           0,
           0,
           0,
           0,
           0,
           0,
           0,
           0,
           0,
           0,
           0,
           0,
           0,
           0,
           0,
           0,
           0,
           0,
           0,
           0,
           0,
           0,
           0,
           0,
           0,
           0,
           0,
           0,
           0,
           -0.00006978327742516851,
           -0.00017056816752163926,
           -0.0003961546864192749,
           -0.0008742825397062723,
           -0.0018334075081844216,
           -0.0036533089345583505,
           -0.006917258178400329,
           -0.012445196698589707,
           -0.021275988052840433,
           -0.034561923416043513,
           -0.053348997439934036,
           -0.07824828257963576,
           -0.10905449205366992,
           -0.14442171480832033,
           -0.1817362776336903,
           -0.21730561721541672,
           -0.24689964757091815,
           -0.26655705429634635,
           -0.2734513576025355
          ],
          [
           0,
           0,
           0,
           0,
           0,
           0,
           0,
           0,
           0,
           0,
           0,
           0,
           0,
           0,
           0,
           0,
           0,
           0,
           0,
           0,
           0,
           0,
           0,
           0,
           0,
           0,
           0,
           0,
           0,
           0,
           0,
           0,
           0,
           0,
           0,
           0,
           0,
           0,
           0,
           0,
           0,
           -0.00006978327742516851,
           -0.00017056816752163926,
           -0.0003961546864192749,
           -0.0008742825397062723,
           -0.0018334075081844216,
           -0.0036533089345583505,
           -0.006917258178400329,
           -0.012445196698589707,
           -0.021275988052840433,
           -0.034561923416043513,
           -0.053348997439934036,
           -0.07824828257963576,
           -0.10905449205366992,
           -0.14442171480832033,
           -0.1817362776336903,
           -0.21730561721541672,
           -0.24689964757091815,
           -0.26655705429634635,
           -0.2734513576025355
          ],
          [
           0,
           0,
           0,
           0,
           0,
           0,
           0,
           0,
           0,
           0,
           0,
           0,
           0,
           0,
           0,
           0,
           0,
           0,
           0,
           0,
           0,
           0,
           0,
           0,
           0,
           0,
           0,
           0,
           0,
           0,
           0,
           0,
           0,
           0,
           0,
           0,
           0,
           0,
           0,
           0,
           0,
           -0.00009426247314431976,
           -0.000230401579053458,
           -0.0005351213337556012,
           -0.0011809711074115712,
           -0.002476546421714742,
           -0.004934848978696824,
           -0.009343755228077306,
           -0.016810832951125988,
           -0.02873936745949413,
           -0.04668586082553102,
           -0.07206323096318835,
           -0.10569690773210698,
           -0.1473095920365719,
           -0.19508324223055115,
           -0.24548733768150335,
           -0.29353400503213156,
           -0.3335092912976562,
           -0.360062297145363,
           -0.3693750451879774
          ],
          [
           0,
           0,
           0,
           0,
           0,
           0,
           0,
           0,
           0,
           0,
           0,
           0,
           0,
           0,
           0,
           0,
           0,
           0,
           0,
           0,
           0,
           0,
           0,
           0,
           0,
           0,
           0,
           0,
           0,
           0,
           0,
           0,
           0,
           0,
           0,
           0,
           0,
           0,
           0,
           0,
           0,
           -0.00014622852882768318,
           -0.0003574199023293136,
           -0.0008301289237296502,
           -0.0018320298827763173,
           -0.0038418442434281965,
           -0.007655386943187962,
           -0.01449488364935874,
           -0.026078494323477502,
           -0.04458312287866448,
           -0.0724233570141879,
           -0.11179104361268903,
           -0.16396666460933765,
           -0.2285200484049909,
           -0.3026308833063656,
           -0.3808223043334618,
           -0.45535666830032556,
           -0.5173699712095693,
           -0.5585614109367903,
           -0.5730081934175494
          ],
          [
           0,
           0,
           0,
           0,
           0,
           0,
           0,
           0,
           0,
           0,
           0,
           0,
           0,
           0,
           0,
           0,
           0,
           0,
           0,
           0,
           0,
           0,
           0,
           0,
           0,
           0,
           0,
           0,
           0,
           0,
           0,
           0,
           0,
           0,
           0,
           0,
           0,
           0,
           0,
           0,
           0,
           -0.0002307813040119908,
           -0.0005640884976460326,
           -0.0013101289950209127,
           -0.0028913526568695898,
           -0.006063288958846916,
           -0.012081911755723143,
           -0.022876166346739644,
           -0.0411576932004397,
           -0.07036213328104796,
           -0.11430024569525758,
           -0.17643125475330318,
           -0.2587760471667683,
           -0.36065571599871665,
           -0.47761917899102635,
           -0.6010227189968781,
           -0.7186546055232557,
           -0.8165254589485176,
           -0.8815347580954819,
           -0.9043350100464268
          ],
          [
           0,
           0,
           0,
           0,
           0,
           0,
           0,
           0,
           0,
           0,
           0,
           0,
           0,
           0,
           0,
           0,
           0,
           0,
           0,
           0,
           0,
           0,
           0,
           0,
           0,
           0,
           0,
           0,
           0,
           0,
           0,
           0,
           0,
           0,
           0,
           0,
           0,
           0,
           0,
           0,
           0,
           -0.0003533179113806536,
           -0.0008635992879726153,
           -0.002005760571211492,
           -0.004426557368516252,
           -0.009282678249039894,
           -0.018496974203749506,
           -0.035022591403706164,
           -0.0630109542932019,
           -0.1077219061465021,
           -0.17498958267973772,
           -0.2701099324253158,
           -0.3961768605638592,
           -0.5521509848888799,
           -0.7312178578715548,
           -0.9201442581209489,
           -1.1002344635957664,
           -1.2500712351024348,
           -1.3495981438928113,
           -1.384504513075308
          ],
          [
           0,
           0,
           0,
           0,
           0,
           0,
           0,
           0,
           0,
           0,
           0,
           0,
           0,
           0,
           0,
           0,
           0,
           0,
           0,
           0,
           0,
           0,
           0,
           0,
           0,
           0,
           0,
           0,
           0,
           0,
           0,
           0,
           0,
           0,
           0,
           0,
           0,
           0,
           0,
           0,
           0,
           -0.000517029148834019,
           -0.0012637513989860955,
           -0.0029351375842959822,
           -0.006477620054883613,
           -0.013583843556774625,
           -0.02706761961542909,
           -0.051250446241631845,
           -0.09220732664847667,
           -0.15763527308328174,
           -0.25607169088648435,
           -0.39526642707625387,
           -0.579746959911079,
           -0.8079923053699867,
           -1.0700305149835831,
           -1.3464967024222994,
           -1.6100324096445484,
           -1.829296635829409,
           -1.9749397274487577,
           -2.0260200994479804
          ],
          [
           0,
           0,
           0,
           0,
           0,
           0,
           0,
           0,
           0,
           0,
           0,
           0,
           0,
           0,
           0,
           0,
           0,
           0,
           0,
           0,
           0,
           0,
           0,
           0,
           0,
           0,
           0,
           0,
           0,
           0,
           0,
           0,
           0,
           0,
           0,
           0,
           0,
           0,
           0,
           0,
           0,
           -0.0007199405473820418,
           -0.0017597187237753794,
           -0.004087051114710026,
           -0.00901980350346343,
           -0.018914909899897848,
           -0.03769048017158663,
           -0.07136401188208327,
           -0.12839468213667407,
           -0.2195002449015275,
           -0.3565686648840066,
           -0.5503912661651047,
           -0.8072723648226046,
           -1.1250940569219052,
           -1.489970838994371,
           -1.8749379511313167,
           -2.24189993333323,
           -2.5472158084184566,
           -2.7500174634882137,
           -2.8211446544029455
          ],
          [
           0,
           0,
           0,
           0,
           0,
           0,
           0,
           0,
           0,
           0,
           0,
           0,
           0,
           0,
           0,
           0,
           0,
           0,
           0,
           0,
           0,
           0,
           0,
           0,
           0,
           0,
           0,
           0,
           0,
           0,
           0,
           0,
           0,
           0,
           0,
           0,
           0,
           0,
           0,
           0,
           0,
           -0.0009534228847885069,
           -0.0023304092374560456,
           -0.005412513683573803,
           -0.011944996163598627,
           -0.025049162778583527,
           -0.04991379700022506,
           -0.09450791780809527,
           -0.17003407945196763,
           -0.290685887142767,
           -0.47220666530745253,
           -0.7288874486340988,
           -1.0690770920987946,
           -1.489970838994371,
           -1.9731800087249813,
           -2.4829949593302527,
           -2.96896557586367,
           -3.373297771701241,
           -3.641869586026189,
           -3.736063879979244
          ],
          [
           0,
           0,
           0,
           0,
           0,
           0,
           0,
           0,
           0,
           0,
           0,
           0,
           0,
           0,
           0,
           0,
           0,
           0,
           0,
           0,
           0,
           0,
           0,
           0,
           0,
           0,
           0,
           0,
           0,
           0,
           0,
           0,
           0,
           0,
           0,
           0,
           0,
           0,
           0,
           0,
           0,
           -0.0011997608969136517,
           -0.0029325223062233634,
           -0.006810957000473498,
           -0.015031251650780569,
           -0.03152117122596228,
           -0.06281013683727538,
           -0.11892614079641492,
           -0.21396616645554106,
           -0.36579105268268125,
           -0.5942117619964047,
           -0.9172117358147257,
           -1.3452969415253857,
           -1.8749379511313167,
           -2.4829949593302527,
           -3.124531943764867,
           -3.736063879979244,
           -4.244864293383165,
           -4.582827610586007,
           -4.701359095827557
          ],
          [
           0,
           0,
           0,
           0,
           0,
           0,
           0,
           0,
           0,
           0,
           0,
           0,
           0,
           0,
           0,
           0,
           0,
           0,
           0,
           0,
           0,
           0,
           0,
           0,
           0,
           0,
           0,
           0,
           0,
           0,
           0,
           0,
           0,
           0,
           0,
           0,
           0,
           0,
           0,
           0,
           0,
           -0.0014345775406506493,
           -0.0035064742056415436,
           -0.00814399433116365,
           -0.01797316122033085,
           -0.03769048017158663,
           -0.07510330755381696,
           -0.14220230966159975,
           -0.25584352486054496,
           -0.4373835070799947,
           -0.710510611192092,
           -1.096727989390125,
           -1.6085978321038976,
           -2.24189993333323,
           -2.96896557586367,
           -3.736063879979244,
           -4.467284561817228,
           -5.075667155066191,
           -5.479776495244064,
           -5.621506907549483
          ],
          [
           0,
           0,
           0,
           0,
           0,
           0,
           0,
           0,
           0,
           0,
           0,
           0,
           0,
           0,
           0,
           0,
           0,
           0,
           0,
           0,
           0,
           0,
           0,
           0,
           0,
           0,
           0,
           0,
           0,
           0,
           0,
           0,
           0,
           0,
           0,
           0,
           0,
           0,
           0,
           0,
           0,
           -0.0016299472316386645,
           -0.003984007669397659,
           -0.009253094125912948,
           -0.02042085808870732,
           -0.042823404154889104,
           -0.08533134303687089,
           -0.16156830453404722,
           -0.2906858871427671,
           -0.496949113120862,
           -0.8072723648226046,
           -1.2460872274330372,
           -1.82766668859777,
           -2.5472158084184566,
           -3.373297771701241,
           -4.244864293383165,
           -5.075667155066191,
           -5.766903073337676,
           -6.226046536578783,
           -6.387078677840001
          ],
          [
           0,
           0,
           0,
           0,
           0,
           0,
           0,
           0,
           0,
           0,
           0,
           0,
           0,
           0,
           0,
           0,
           0,
           0,
           0,
           0,
           0,
           0,
           0,
           0,
           0,
           0,
           0,
           0,
           0,
           0,
           0,
           0,
           0,
           0,
           0,
           0,
           0,
           0,
           0,
           0,
           0,
           -0.0017597187237753788,
           -0.004301202367426055,
           -0.009989797626672282,
           -0.022046705339123777,
           -0.04623287468723667,
           -0.09212516770614669,
           -0.17443188659019962,
           -0.31382942245812634,
           -0.5365147055976666,
           -0.8715449604688097,
           -1.3452969415253855,
           -1.9731800087249822,
           -2.7500174634882137,
           -3.641869586026189,
           -4.582827610586007,
           -5.479776495244064,
           -6.226046536578783,
           -6.721745620255356,
           -6.895598655866894
          ],
          [
           0,
           0,
           0,
           0,
           0,
           0,
           0,
           0,
           0,
           0,
           0,
           0,
           0,
           0,
           0,
           0,
           0,
           0,
           0,
           0,
           0,
           0,
           0,
           0,
           0,
           0,
           0,
           0,
           0,
           0,
           0,
           0,
           0,
           0,
           0,
           0,
           0,
           0,
           0,
           0,
           0,
           -0.0018052325618814968,
           -0.00441244982167413,
           -0.010248176437871022,
           -0.022616927252444883,
           -0.04742865418612205,
           -0.09450791780809523,
           -0.17894343979444027,
           -0.32194639100185535,
           -0.5503912661651046,
           -0.8940868336085559,
           -1.3800920632536338,
           -2.0242148668860986,
           -2.8211446544029455,
           -3.736063879979244,
           -4.701359095827557,
           -5.621506907549483,
           -6.387078677840001,
           -6.895598655866894,
           -7.073948273125358
          ]
         ]
        }
       ],
       "layout": {
        "plot_bgcolor": "white",
        "template": {
         "data": {
          "bar": [
           {
            "error_x": {
             "color": "#2a3f5f"
            },
            "error_y": {
             "color": "#2a3f5f"
            },
            "marker": {
             "line": {
              "color": "#E5ECF6",
              "width": 0.5
             }
            },
            "type": "bar"
           }
          ],
          "barpolar": [
           {
            "marker": {
             "line": {
              "color": "#E5ECF6",
              "width": 0.5
             }
            },
            "type": "barpolar"
           }
          ],
          "carpet": [
           {
            "aaxis": {
             "endlinecolor": "#2a3f5f",
             "gridcolor": "white",
             "linecolor": "white",
             "minorgridcolor": "white",
             "startlinecolor": "#2a3f5f"
            },
            "baxis": {
             "endlinecolor": "#2a3f5f",
             "gridcolor": "white",
             "linecolor": "white",
             "minorgridcolor": "white",
             "startlinecolor": "#2a3f5f"
            },
            "type": "carpet"
           }
          ],
          "choropleth": [
           {
            "colorbar": {
             "outlinewidth": 0,
             "ticks": ""
            },
            "type": "choropleth"
           }
          ],
          "contour": [
           {
            "colorbar": {
             "outlinewidth": 0,
             "ticks": ""
            },
            "colorscale": [
             [
              0,
              "#0d0887"
             ],
             [
              0.1111111111111111,
              "#46039f"
             ],
             [
              0.2222222222222222,
              "#7201a8"
             ],
             [
              0.3333333333333333,
              "#9c179e"
             ],
             [
              0.4444444444444444,
              "#bd3786"
             ],
             [
              0.5555555555555556,
              "#d8576b"
             ],
             [
              0.6666666666666666,
              "#ed7953"
             ],
             [
              0.7777777777777778,
              "#fb9f3a"
             ],
             [
              0.8888888888888888,
              "#fdca26"
             ],
             [
              1,
              "#f0f921"
             ]
            ],
            "type": "contour"
           }
          ],
          "contourcarpet": [
           {
            "colorbar": {
             "outlinewidth": 0,
             "ticks": ""
            },
            "type": "contourcarpet"
           }
          ],
          "heatmap": [
           {
            "colorbar": {
             "outlinewidth": 0,
             "ticks": ""
            },
            "colorscale": [
             [
              0,
              "#0d0887"
             ],
             [
              0.1111111111111111,
              "#46039f"
             ],
             [
              0.2222222222222222,
              "#7201a8"
             ],
             [
              0.3333333333333333,
              "#9c179e"
             ],
             [
              0.4444444444444444,
              "#bd3786"
             ],
             [
              0.5555555555555556,
              "#d8576b"
             ],
             [
              0.6666666666666666,
              "#ed7953"
             ],
             [
              0.7777777777777778,
              "#fb9f3a"
             ],
             [
              0.8888888888888888,
              "#fdca26"
             ],
             [
              1,
              "#f0f921"
             ]
            ],
            "type": "heatmap"
           }
          ],
          "heatmapgl": [
           {
            "colorbar": {
             "outlinewidth": 0,
             "ticks": ""
            },
            "colorscale": [
             [
              0,
              "#0d0887"
             ],
             [
              0.1111111111111111,
              "#46039f"
             ],
             [
              0.2222222222222222,
              "#7201a8"
             ],
             [
              0.3333333333333333,
              "#9c179e"
             ],
             [
              0.4444444444444444,
              "#bd3786"
             ],
             [
              0.5555555555555556,
              "#d8576b"
             ],
             [
              0.6666666666666666,
              "#ed7953"
             ],
             [
              0.7777777777777778,
              "#fb9f3a"
             ],
             [
              0.8888888888888888,
              "#fdca26"
             ],
             [
              1,
              "#f0f921"
             ]
            ],
            "type": "heatmapgl"
           }
          ],
          "histogram": [
           {
            "marker": {
             "colorbar": {
              "outlinewidth": 0,
              "ticks": ""
             }
            },
            "type": "histogram"
           }
          ],
          "histogram2d": [
           {
            "colorbar": {
             "outlinewidth": 0,
             "ticks": ""
            },
            "colorscale": [
             [
              0,
              "#0d0887"
             ],
             [
              0.1111111111111111,
              "#46039f"
             ],
             [
              0.2222222222222222,
              "#7201a8"
             ],
             [
              0.3333333333333333,
              "#9c179e"
             ],
             [
              0.4444444444444444,
              "#bd3786"
             ],
             [
              0.5555555555555556,
              "#d8576b"
             ],
             [
              0.6666666666666666,
              "#ed7953"
             ],
             [
              0.7777777777777778,
              "#fb9f3a"
             ],
             [
              0.8888888888888888,
              "#fdca26"
             ],
             [
              1,
              "#f0f921"
             ]
            ],
            "type": "histogram2d"
           }
          ],
          "histogram2dcontour": [
           {
            "colorbar": {
             "outlinewidth": 0,
             "ticks": ""
            },
            "colorscale": [
             [
              0,
              "#0d0887"
             ],
             [
              0.1111111111111111,
              "#46039f"
             ],
             [
              0.2222222222222222,
              "#7201a8"
             ],
             [
              0.3333333333333333,
              "#9c179e"
             ],
             [
              0.4444444444444444,
              "#bd3786"
             ],
             [
              0.5555555555555556,
              "#d8576b"
             ],
             [
              0.6666666666666666,
              "#ed7953"
             ],
             [
              0.7777777777777778,
              "#fb9f3a"
             ],
             [
              0.8888888888888888,
              "#fdca26"
             ],
             [
              1,
              "#f0f921"
             ]
            ],
            "type": "histogram2dcontour"
           }
          ],
          "mesh3d": [
           {
            "colorbar": {
             "outlinewidth": 0,
             "ticks": ""
            },
            "type": "mesh3d"
           }
          ],
          "parcoords": [
           {
            "line": {
             "colorbar": {
              "outlinewidth": 0,
              "ticks": ""
             }
            },
            "type": "parcoords"
           }
          ],
          "pie": [
           {
            "automargin": true,
            "type": "pie"
           }
          ],
          "scatter": [
           {
            "marker": {
             "colorbar": {
              "outlinewidth": 0,
              "ticks": ""
             }
            },
            "type": "scatter"
           }
          ],
          "scatter3d": [
           {
            "line": {
             "colorbar": {
              "outlinewidth": 0,
              "ticks": ""
             }
            },
            "marker": {
             "colorbar": {
              "outlinewidth": 0,
              "ticks": ""
             }
            },
            "type": "scatter3d"
           }
          ],
          "scattercarpet": [
           {
            "marker": {
             "colorbar": {
              "outlinewidth": 0,
              "ticks": ""
             }
            },
            "type": "scattercarpet"
           }
          ],
          "scattergeo": [
           {
            "marker": {
             "colorbar": {
              "outlinewidth": 0,
              "ticks": ""
             }
            },
            "type": "scattergeo"
           }
          ],
          "scattergl": [
           {
            "marker": {
             "colorbar": {
              "outlinewidth": 0,
              "ticks": ""
             }
            },
            "type": "scattergl"
           }
          ],
          "scattermapbox": [
           {
            "marker": {
             "colorbar": {
              "outlinewidth": 0,
              "ticks": ""
             }
            },
            "type": "scattermapbox"
           }
          ],
          "scatterpolar": [
           {
            "marker": {
             "colorbar": {
              "outlinewidth": 0,
              "ticks": ""
             }
            },
            "type": "scatterpolar"
           }
          ],
          "scatterpolargl": [
           {
            "marker": {
             "colorbar": {
              "outlinewidth": 0,
              "ticks": ""
             }
            },
            "type": "scatterpolargl"
           }
          ],
          "scatterternary": [
           {
            "marker": {
             "colorbar": {
              "outlinewidth": 0,
              "ticks": ""
             }
            },
            "type": "scatterternary"
           }
          ],
          "surface": [
           {
            "colorbar": {
             "outlinewidth": 0,
             "ticks": ""
            },
            "colorscale": [
             [
              0,
              "#0d0887"
             ],
             [
              0.1111111111111111,
              "#46039f"
             ],
             [
              0.2222222222222222,
              "#7201a8"
             ],
             [
              0.3333333333333333,
              "#9c179e"
             ],
             [
              0.4444444444444444,
              "#bd3786"
             ],
             [
              0.5555555555555556,
              "#d8576b"
             ],
             [
              0.6666666666666666,
              "#ed7953"
             ],
             [
              0.7777777777777778,
              "#fb9f3a"
             ],
             [
              0.8888888888888888,
              "#fdca26"
             ],
             [
              1,
              "#f0f921"
             ]
            ],
            "type": "surface"
           }
          ],
          "table": [
           {
            "cells": {
             "fill": {
              "color": "#EBF0F8"
             },
             "line": {
              "color": "white"
             }
            },
            "header": {
             "fill": {
              "color": "#C8D4E3"
             },
             "line": {
              "color": "white"
             }
            },
            "type": "table"
           }
          ]
         },
         "layout": {
          "annotationdefaults": {
           "arrowcolor": "#2a3f5f",
           "arrowhead": 0,
           "arrowwidth": 1
          },
          "autotypenumbers": "strict",
          "coloraxis": {
           "colorbar": {
            "outlinewidth": 0,
            "ticks": ""
           }
          },
          "colorscale": {
           "diverging": [
            [
             0,
             "#8e0152"
            ],
            [
             0.1,
             "#c51b7d"
            ],
            [
             0.2,
             "#de77ae"
            ],
            [
             0.3,
             "#f1b6da"
            ],
            [
             0.4,
             "#fde0ef"
            ],
            [
             0.5,
             "#f7f7f7"
            ],
            [
             0.6,
             "#e6f5d0"
            ],
            [
             0.7,
             "#b8e186"
            ],
            [
             0.8,
             "#7fbc41"
            ],
            [
             0.9,
             "#4d9221"
            ],
            [
             1,
             "#276419"
            ]
           ],
           "sequential": [
            [
             0,
             "#0d0887"
            ],
            [
             0.1111111111111111,
             "#46039f"
            ],
            [
             0.2222222222222222,
             "#7201a8"
            ],
            [
             0.3333333333333333,
             "#9c179e"
            ],
            [
             0.4444444444444444,
             "#bd3786"
            ],
            [
             0.5555555555555556,
             "#d8576b"
            ],
            [
             0.6666666666666666,
             "#ed7953"
            ],
            [
             0.7777777777777778,
             "#fb9f3a"
            ],
            [
             0.8888888888888888,
             "#fdca26"
            ],
            [
             1,
             "#f0f921"
            ]
           ],
           "sequentialminus": [
            [
             0,
             "#0d0887"
            ],
            [
             0.1111111111111111,
             "#46039f"
            ],
            [
             0.2222222222222222,
             "#7201a8"
            ],
            [
             0.3333333333333333,
             "#9c179e"
            ],
            [
             0.4444444444444444,
             "#bd3786"
            ],
            [
             0.5555555555555556,
             "#d8576b"
            ],
            [
             0.6666666666666666,
             "#ed7953"
            ],
            [
             0.7777777777777778,
             "#fb9f3a"
            ],
            [
             0.8888888888888888,
             "#fdca26"
            ],
            [
             1,
             "#f0f921"
            ]
           ]
          },
          "colorway": [
           "#636efa",
           "#EF553B",
           "#00cc96",
           "#ab63fa",
           "#FFA15A",
           "#19d3f3",
           "#FF6692",
           "#B6E880",
           "#FF97FF",
           "#FECB52"
          ],
          "font": {
           "color": "#2a3f5f"
          },
          "geo": {
           "bgcolor": "white",
           "lakecolor": "white",
           "landcolor": "#E5ECF6",
           "showlakes": true,
           "showland": true,
           "subunitcolor": "white"
          },
          "hoverlabel": {
           "align": "left"
          },
          "hovermode": "closest",
          "mapbox": {
           "style": "light"
          },
          "paper_bgcolor": "white",
          "plot_bgcolor": "#E5ECF6",
          "polar": {
           "angularaxis": {
            "gridcolor": "white",
            "linecolor": "white",
            "ticks": ""
           },
           "bgcolor": "#E5ECF6",
           "radialaxis": {
            "gridcolor": "white",
            "linecolor": "white",
            "ticks": ""
           }
          },
          "scene": {
           "xaxis": {
            "backgroundcolor": "#E5ECF6",
            "gridcolor": "white",
            "gridwidth": 2,
            "linecolor": "white",
            "showbackground": true,
            "ticks": "",
            "zerolinecolor": "white"
           },
           "yaxis": {
            "backgroundcolor": "#E5ECF6",
            "gridcolor": "white",
            "gridwidth": 2,
            "linecolor": "white",
            "showbackground": true,
            "ticks": "",
            "zerolinecolor": "white"
           },
           "zaxis": {
            "backgroundcolor": "#E5ECF6",
            "gridcolor": "white",
            "gridwidth": 2,
            "linecolor": "white",
            "showbackground": true,
            "ticks": "",
            "zerolinecolor": "white"
           }
          },
          "shapedefaults": {
           "line": {
            "color": "#2a3f5f"
           }
          },
          "ternary": {
           "aaxis": {
            "gridcolor": "white",
            "linecolor": "white",
            "ticks": ""
           },
           "baxis": {
            "gridcolor": "white",
            "linecolor": "white",
            "ticks": ""
           },
           "bgcolor": "#E5ECF6",
           "caxis": {
            "gridcolor": "white",
            "linecolor": "white",
            "ticks": ""
           }
          },
          "title": {
           "x": 0.05
          },
          "xaxis": {
           "automargin": true,
           "gridcolor": "white",
           "linecolor": "white",
           "ticks": "",
           "title": {
            "standoff": 15
           },
           "zerolinecolor": "white",
           "zerolinewidth": 2
          },
          "yaxis": {
           "automargin": true,
           "gridcolor": "white",
           "linecolor": "white",
           "ticks": "",
           "title": {
            "standoff": 15
           },
           "zerolinecolor": "white",
           "zerolinewidth": 2
          }
         }
        },
        "title": {
         "text": "Heat kernel representation of diagram 0 in homology dimension 1"
        },
        "xaxis": {
         "constrain": "domain",
         "scaleanchor": "y"
        },
        "yaxis": {
         "autorange": true,
         "constrain": "domain"
        }
       }
      }
     },
     "metadata": {}
    }
   ],
   "metadata": {}
  },
  {
   "cell_type": "markdown",
   "source": [
    "### Combining all steps as a single pipeline\n",
    "\n",
    "We've now seen how each step in Figure 2 is implemented in ``giotto-tda`` – let's combine them as a single ``scikit-learn`` pipeline:"
   ],
   "metadata": {}
  },
  {
   "cell_type": "code",
   "execution_count": 15,
   "source": [
    "from sklearn.pipeline import Pipeline\n",
    "from gtda.diagrams import Amplitude\n",
    "\n",
    "steps = [\n",
    "    (\"binarizer\", Binarizer(threshold=0.4)),\n",
    "    (\"filtration\", RadialFiltration(center=np.array([20, 6]))),\n",
    "    (\"diagram\", CubicalPersistence()),\n",
    "    (\"rescaling\", Scaler()),\n",
    "    (\"amplitude\", Amplitude(metric=\"heat\", metric_params={'sigma':0.15, 'n_bins':60}))\n",
    "]\n",
    "\n",
    "heat_pipeline = Pipeline(steps)"
   ],
   "outputs": [],
   "metadata": {}
  },
  {
   "cell_type": "code",
   "execution_count": 16,
   "source": [
    "im8_pipeline = heat_pipeline.fit_transform(im8)\n",
    "im8_pipeline"
   ],
   "outputs": [
    {
     "output_type": "execute_result",
     "data": {
      "text/plain": [
       "array([[0.57234335, 2.49781365]])"
      ]
     },
     "metadata": {},
     "execution_count": 16
    }
   ],
   "metadata": {}
  },
  {
   "cell_type": "markdown",
   "source": [
    "In the final step we've used the [``Amplitude``](https://giotto-ai.github.io/gtda-docs/latest/modules/generated/diagrams/features/gtda.diagrams.Amplitude.html) transformer to \"vectorize\" the persistence diagram via the heat kernel method above. In our example, this produces a vector of amplitudes $\\mathbf{a} = (a_0, a_1)$ where each amplitude $a_i$ corresponds to a given homology dimension in the persistence diagram. By extracting these feature vectors from each image, we can feed them into a machine learning classifier – let's tackle this in the next section!"
   ],
   "metadata": {}
  },
  {
   "cell_type": "markdown",
   "source": [
    "## Building a full-blown feature extraction pipeline"
   ],
   "metadata": {}
  },
  {
   "cell_type": "markdown",
   "source": [
    "Now that we've seen how to extract topological features for a single image, let's make it more realistic and extract a wide variety of features over the whole training set. The resulting pipeline resembles the figure below, where different filtrations and vectorizations of persistence diagrams can be concatenated to produce informative feature vectors.\n",
    "\n",
    "<div style=\"text-align: center\">\n",
    "<img src='images/diagram_pipeline_images.png' width='500'>\n",
    "<p style=\"text-align: center;\"> <b>Figure 3:</b> A full-blown topological feature extraction pipeline </p>\n",
    "</div>"
   ],
   "metadata": {}
  },
  {
   "cell_type": "markdown",
   "source": [
    "To keep things simple, we'll augment our radial filtration with a _height filtration_ $\\mathcal{H}$, defined by choosing a unit vector $v \\in \\mathbb{R}^2$ in some _direction_ and assigning values $\\mathcal{H}(p) = \\langle p, v \\rangle$ based on the distance of $p$ to the hyperplane defined by $v$. Following the article by Garin and Tauzin, we'll pick a uniform set of directions and centers for our filtrations as shown in the figure below.\n",
    "\n",
    "<div style=\"text-align: center\">\n",
    "<img src='images/directions_and_centers.png' width='250'>\n",
    "</div>\n",
    "\n",
    "We'll also generate features from persistence diagrams by using [_persistence entropy_](https://giotto-ai.github.io/gtda-docs/latest/modules/generated/diagrams/features/gtda.diagrams.PersistenceEntropy.html) and a broad set of amplitudes. Putting it all together yields the following pipeline"
   ],
   "metadata": {}
  },
  {
   "cell_type": "code",
   "execution_count": 18,
   "source": [
    "from sklearn.pipeline import make_pipeline, make_union\n",
    "from gtda.diagrams import PersistenceEntropy\n",
    "from gtda.images import HeightFiltration\n",
    "\n",
    "direction_list = [[1, 0], [1, 1], [0, 1], [-1, 1], [-1, 0], [-1, -1], [0, -1], [1, -1]]\n",
    "\n",
    "center_list = [\n",
    "    [13, 6],\n",
    "    [6, 13],\n",
    "    [13, 13],\n",
    "    [20, 13],\n",
    "    [13, 20],\n",
    "    [6, 6],\n",
    "    [6, 20],\n",
    "    [20, 6],\n",
    "    [20, 20],\n",
    "]\n",
    "\n",
    "# Creating a list of all filtration transformer, we will be applying\n",
    "filtration_list = (\n",
    "    [\n",
    "        HeightFiltration(direction=np.array(direction), n_jobs=-1)\n",
    "        for direction in direction_list\n",
    "    ]\n",
    "    + [RadialFiltration(center=np.array(center), n_jobs=-1) for center in center_list]\n",
    ")\n",
    "\n",
    "# Creating the diagram generation pipeline\n",
    "diagram_steps = [\n",
    "    [\n",
    "        Binarizer(threshold=0.4, n_jobs=-1),\n",
    "        filtration,\n",
    "        CubicalPersistence(n_jobs=-1),\n",
    "        Scaler(n_jobs=-1),\n",
    "    ]\n",
    "    for filtration in filtration_list\n",
    "]\n",
    "\n",
    "# Listing all metrics we want to use to extract diagram amplitudes\n",
    "metric_list = [\n",
    "    {\"metric\": \"bottleneck\", \"metric_params\": {}},\n",
    "    {\"metric\": \"wasserstein\", \"metric_params\": {\"p\": 1}},\n",
    "    {\"metric\": \"wasserstein\", \"metric_params\": {\"p\": 2}},\n",
    "    {\"metric\": \"landscape\", \"metric_params\": {\"p\": 1, \"n_layers\": 1, \"n_bins\": 100}},\n",
    "    {\"metric\": \"landscape\", \"metric_params\": {\"p\": 1, \"n_layers\": 2, \"n_bins\": 100}},\n",
    "    {\"metric\": \"landscape\", \"metric_params\": {\"p\": 2, \"n_layers\": 1, \"n_bins\": 100}},\n",
    "    {\"metric\": \"landscape\", \"metric_params\": {\"p\": 2, \"n_layers\": 2, \"n_bins\": 100}},\n",
    "    {\"metric\": \"betti\", \"metric_params\": {\"p\": 1, \"n_bins\": 100}},\n",
    "    {\"metric\": \"betti\", \"metric_params\": {\"p\": 2, \"n_bins\": 100}},\n",
    "    {\"metric\": \"heat\", \"metric_params\": {\"p\": 1, \"sigma\": 1.6, \"n_bins\": 100}},\n",
    "    {\"metric\": \"heat\", \"metric_params\": {\"p\": 1, \"sigma\": 3.2, \"n_bins\": 100}},\n",
    "    {\"metric\": \"heat\", \"metric_params\": {\"p\": 2, \"sigma\": 1.6, \"n_bins\": 100}},\n",
    "    {\"metric\": \"heat\", \"metric_params\": {\"p\": 2, \"sigma\": 3.2, \"n_bins\": 100}},\n",
    "]\n",
    "\n",
    "#\n",
    "feature_union = make_union(\n",
    "    *[PersistenceEntropy(nan_fill_value=-1)]\n",
    "    + [Amplitude(**metric, n_jobs=-1) for metric in metric_list]\n",
    ")\n",
    "\n",
    "tda_union = make_union(\n",
    "    *[make_pipeline(*diagram_step, feature_union) for diagram_step in diagram_steps],\n",
    "    n_jobs=-1\n",
    ")"
   ],
   "outputs": [],
   "metadata": {}
  },
  {
   "cell_type": "markdown",
   "source": [
    "which can be visualised using ``scikit-learn``'s nifty [HTML feature](https://scikit-learn.org/stable/modules/compose.html#visualizing-composite-estimators):"
   ],
   "metadata": {}
  },
  {
   "cell_type": "code",
   "execution_count": 20,
   "source": [
    "print(tda_union)"
   ],
   "outputs": [
    {
     "output_type": "stream",
     "name": "stdout",
     "text": [
      "FeatureUnion(n_jobs=-1,\n",
      "             transformer_list=[('pipeline-1',\n",
      "                                Pipeline(steps=[('binarizer',\n",
      "                                                 Binarizer(n_jobs=-1,\n",
      "                                                           threshold=0.4)),\n",
      "                                                ('heightfiltration',\n",
      "                                                 HeightFiltration(direction=array([1, 0]),\n",
      "                                                                  n_jobs=-1)),\n",
      "                                                ('cubicalpersistence',\n",
      "                                                 CubicalPersistence(n_jobs=-1)),\n",
      "                                                ('scaler', Scaler(n_jobs=-1)),\n",
      "                                                ('featureunion',\n",
      "                                                 FeatureUnion(transformer_list=[('persistenceentropy',\n",
      "                                                                                 Persist...\n",
      "                                                                                           metric_params={'n_bins': 100,\n",
      "                                                                                                          'p': 1,\n",
      "                                                                                                          'sigma': 1.6},\n",
      "                                                                                           n_jobs=-1)),\n",
      "                                                                                ('amplitude-11',\n",
      "                                                                                 Amplitude(metric='heat',\n",
      "                                                                                           metric_params={'n_bins': 100,\n",
      "                                                                                                          'p': 1,\n",
      "                                                                                                          'sigma': 3.2},\n",
      "                                                                                           n_jobs=-1)),\n",
      "                                                                                ('amplitude-12',\n",
      "                                                                                 Amplitude(metric='heat',\n",
      "                                                                                           metric_params={'n_bins': 100,\n",
      "                                                                                                          'p': 2,\n",
      "                                                                                                          'sigma': 1.6},\n",
      "                                                                                           n_jobs=-1)),\n",
      "                                                                                ('amplitude-13',\n",
      "                                                                                 Amplitude(metric='heat',\n",
      "                                                                                           metric_params={'n_bins': 100,\n",
      "                                                                                                          'p': 2,\n",
      "                                                                                                          'sigma': 3.2},\n",
      "                                                                                           n_jobs=-1))]))]))])\n"
     ]
    }
   ],
   "metadata": {}
  },
  {
   "cell_type": "code",
   "execution_count": 19,
   "source": [
    "from sklearn import set_config\n",
    "set_config(display='diagram')  \n",
    "\n",
    "tda_union"
   ],
   "outputs": [
    {
     "output_type": "execute_result",
     "data": {
      "text/plain": [
       "FeatureUnion(n_jobs=-1,\n",
       "             transformer_list=[('pipeline-1',\n",
       "                                Pipeline(steps=[('binarizer',\n",
       "                                                 Binarizer(n_jobs=-1,\n",
       "                                                           threshold=0.4)),\n",
       "                                                ('heightfiltration',\n",
       "                                                 HeightFiltration(direction=array([1, 0]),\n",
       "                                                                  n_jobs=-1)),\n",
       "                                                ('cubicalpersistence',\n",
       "                                                 CubicalPersistence(n_jobs=-1)),\n",
       "                                                ('scaler', Scaler(n_jobs=-1)),\n",
       "                                                ('featureunion',\n",
       "                                                 FeatureUnion(transformer_list=[('persistenceentropy',\n",
       "                                                                                 Persist...\n",
       "                                                                                           metric_params={'n_bins': 100,\n",
       "                                                                                                          'p': 1,\n",
       "                                                                                                          'sigma': 1.6},\n",
       "                                                                                           n_jobs=-1)),\n",
       "                                                                                ('amplitude-11',\n",
       "                                                                                 Amplitude(metric='heat',\n",
       "                                                                                           metric_params={'n_bins': 100,\n",
       "                                                                                                          'p': 1,\n",
       "                                                                                                          'sigma': 3.2},\n",
       "                                                                                           n_jobs=-1)),\n",
       "                                                                                ('amplitude-12',\n",
       "                                                                                 Amplitude(metric='heat',\n",
       "                                                                                           metric_params={'n_bins': 100,\n",
       "                                                                                                          'p': 2,\n",
       "                                                                                                          'sigma': 1.6},\n",
       "                                                                                           n_jobs=-1)),\n",
       "                                                                                ('amplitude-13',\n",
       "                                                                                 Amplitude(metric='heat',\n",
       "                                                                                           metric_params={'n_bins': 100,\n",
       "                                                                                                          'p': 2,\n",
       "                                                                                                          'sigma': 3.2},\n",
       "                                                                                           n_jobs=-1))]))]))])"
      ],
      "text/html": [
       "<style>#sk-a6e5af50-c0c3-4739-bf21-44ef3fabfd12 {color: black;background-color: white;}#sk-a6e5af50-c0c3-4739-bf21-44ef3fabfd12 pre{padding: 0;}#sk-a6e5af50-c0c3-4739-bf21-44ef3fabfd12 div.sk-toggleable {background-color: white;}#sk-a6e5af50-c0c3-4739-bf21-44ef3fabfd12 label.sk-toggleable__label {cursor: pointer;display: block;width: 100%;margin-bottom: 0;padding: 0.2em 0.3em;box-sizing: border-box;text-align: center;}#sk-a6e5af50-c0c3-4739-bf21-44ef3fabfd12 div.sk-toggleable__content {max-height: 0;max-width: 0;overflow: hidden;text-align: left;background-color: #f0f8ff;}#sk-a6e5af50-c0c3-4739-bf21-44ef3fabfd12 div.sk-toggleable__content pre {margin: 0.2em;color: black;border-radius: 0.25em;background-color: #f0f8ff;}#sk-a6e5af50-c0c3-4739-bf21-44ef3fabfd12 input.sk-toggleable__control:checked~div.sk-toggleable__content {max-height: 200px;max-width: 100%;overflow: auto;}#sk-a6e5af50-c0c3-4739-bf21-44ef3fabfd12 div.sk-estimator input.sk-toggleable__control:checked~label.sk-toggleable__label {background-color: #d4ebff;}#sk-a6e5af50-c0c3-4739-bf21-44ef3fabfd12 div.sk-label input.sk-toggleable__control:checked~label.sk-toggleable__label {background-color: #d4ebff;}#sk-a6e5af50-c0c3-4739-bf21-44ef3fabfd12 input.sk-hidden--visually {border: 0;clip: rect(1px 1px 1px 1px);clip: rect(1px, 1px, 1px, 1px);height: 1px;margin: -1px;overflow: hidden;padding: 0;position: absolute;width: 1px;}#sk-a6e5af50-c0c3-4739-bf21-44ef3fabfd12 div.sk-estimator {font-family: monospace;background-color: #f0f8ff;margin: 0.25em 0.25em;border: 1px dotted black;border-radius: 0.25em;box-sizing: border-box;}#sk-a6e5af50-c0c3-4739-bf21-44ef3fabfd12 div.sk-estimator:hover {background-color: #d4ebff;}#sk-a6e5af50-c0c3-4739-bf21-44ef3fabfd12 div.sk-parallel-item::after {content: \"\";width: 100%;border-bottom: 1px solid gray;flex-grow: 1;}#sk-a6e5af50-c0c3-4739-bf21-44ef3fabfd12 div.sk-label:hover label.sk-toggleable__label {background-color: #d4ebff;}#sk-a6e5af50-c0c3-4739-bf21-44ef3fabfd12 div.sk-serial::before {content: \"\";position: absolute;border-left: 1px solid gray;box-sizing: border-box;top: 2em;bottom: 0;left: 50%;}#sk-a6e5af50-c0c3-4739-bf21-44ef3fabfd12 div.sk-serial {display: flex;flex-direction: column;align-items: center;background-color: white;}#sk-a6e5af50-c0c3-4739-bf21-44ef3fabfd12 div.sk-item {z-index: 1;}#sk-a6e5af50-c0c3-4739-bf21-44ef3fabfd12 div.sk-parallel {display: flex;align-items: stretch;justify-content: center;background-color: white;}#sk-a6e5af50-c0c3-4739-bf21-44ef3fabfd12 div.sk-parallel-item {display: flex;flex-direction: column;position: relative;background-color: white;}#sk-a6e5af50-c0c3-4739-bf21-44ef3fabfd12 div.sk-parallel-item:first-child::after {align-self: flex-end;width: 50%;}#sk-a6e5af50-c0c3-4739-bf21-44ef3fabfd12 div.sk-parallel-item:last-child::after {align-self: flex-start;width: 50%;}#sk-a6e5af50-c0c3-4739-bf21-44ef3fabfd12 div.sk-parallel-item:only-child::after {width: 0;}#sk-a6e5af50-c0c3-4739-bf21-44ef3fabfd12 div.sk-dashed-wrapped {border: 1px dashed gray;margin: 0.2em;box-sizing: border-box;padding-bottom: 0.1em;background-color: white;position: relative;}#sk-a6e5af50-c0c3-4739-bf21-44ef3fabfd12 div.sk-label label {font-family: monospace;font-weight: bold;background-color: white;display: inline-block;line-height: 1.2em;}#sk-a6e5af50-c0c3-4739-bf21-44ef3fabfd12 div.sk-label-container {position: relative;z-index: 2;text-align: center;}#sk-a6e5af50-c0c3-4739-bf21-44ef3fabfd12 div.sk-container {display: inline-block;position: relative;}</style><div id=\"sk-a6e5af50-c0c3-4739-bf21-44ef3fabfd12\" class\"sk-top-container\"><div class=\"sk-container\"><div class=\"sk-item sk-dashed-wrapped\"><div class=\"sk-label-container\"><div class=\"sk-label sk-toggleable\"><input class=\"sk-toggleable__control sk-hidden--visually\" id=\"cdcec7a6-addd-4b17-b03e-5155613ef57a\" type=\"checkbox\" ><label class=\"sk-toggleable__label\" for=\"cdcec7a6-addd-4b17-b03e-5155613ef57a\">FeatureUnion</label><div class=\"sk-toggleable__content\"><pre>FeatureUnion(n_jobs=-1,\n",
       "             transformer_list=[('pipeline-1',\n",
       "                                Pipeline(steps=[('binarizer',\n",
       "                                                 Binarizer(n_jobs=-1,\n",
       "                                                           threshold=0.4)),\n",
       "                                                ('heightfiltration',\n",
       "                                                 HeightFiltration(direction=array([1, 0]),\n",
       "                                                                  n_jobs=-1)),\n",
       "                                                ('cubicalpersistence',\n",
       "                                                 CubicalPersistence(n_jobs=-1)),\n",
       "                                                ('scaler', Scaler(n_jobs=-1)),\n",
       "                                                ('featureunion',\n",
       "                                                 FeatureUnion(transformer_list=[('persistenceentropy',\n",
       "                                                                                 Persist...\n",
       "                                                                                           metric_params={'n_bins': 100,\n",
       "                                                                                                          'p': 1,\n",
       "                                                                                                          'sigma': 1.6},\n",
       "                                                                                           n_jobs=-1)),\n",
       "                                                                                ('amplitude-11',\n",
       "                                                                                 Amplitude(metric='heat',\n",
       "                                                                                           metric_params={'n_bins': 100,\n",
       "                                                                                                          'p': 1,\n",
       "                                                                                                          'sigma': 3.2},\n",
       "                                                                                           n_jobs=-1)),\n",
       "                                                                                ('amplitude-12',\n",
       "                                                                                 Amplitude(metric='heat',\n",
       "                                                                                           metric_params={'n_bins': 100,\n",
       "                                                                                                          'p': 2,\n",
       "                                                                                                          'sigma': 1.6},\n",
       "                                                                                           n_jobs=-1)),\n",
       "                                                                                ('amplitude-13',\n",
       "                                                                                 Amplitude(metric='heat',\n",
       "                                                                                           metric_params={'n_bins': 100,\n",
       "                                                                                                          'p': 2,\n",
       "                                                                                                          'sigma': 3.2},\n",
       "                                                                                           n_jobs=-1))]))]))])</pre></div></div></div><div class=\"sk-parallel\"><div class=\"sk-parallel-item\"><div class=\"sk-item\"><div class=\"sk-label-container\"><div class=\"sk-label sk-toggleable\"><label>pipeline-1</label></div></div><div class=\"sk-serial\"><div class=\"sk-item\"><div class=\"sk-serial\"><div class=\"sk-item\"><div class=\"sk-estimator sk-toggleable\"><input class=\"sk-toggleable__control sk-hidden--visually\" id=\"0d884316-0437-48cc-a785-377c27924f00\" type=\"checkbox\" ><label class=\"sk-toggleable__label\" for=\"0d884316-0437-48cc-a785-377c27924f00\">Binarizer</label><div class=\"sk-toggleable__content\"><pre>Binarizer(n_jobs=-1, threshold=0.4)</pre></div></div></div><div class=\"sk-item\"><div class=\"sk-estimator sk-toggleable\"><input class=\"sk-toggleable__control sk-hidden--visually\" id=\"4cc3a6f0-ab64-40a6-9546-90b0b135efa0\" type=\"checkbox\" ><label class=\"sk-toggleable__label\" for=\"4cc3a6f0-ab64-40a6-9546-90b0b135efa0\">HeightFiltration</label><div class=\"sk-toggleable__content\"><pre>HeightFiltration(direction=array([1, 0]), n_jobs=-1)</pre></div></div></div><div class=\"sk-item\"><div class=\"sk-estimator sk-toggleable\"><input class=\"sk-toggleable__control sk-hidden--visually\" id=\"1ad17bf3-a152-47ee-9aca-e12d5ddab92a\" type=\"checkbox\" ><label class=\"sk-toggleable__label\" for=\"1ad17bf3-a152-47ee-9aca-e12d5ddab92a\">CubicalPersistence</label><div class=\"sk-toggleable__content\"><pre>CubicalPersistence(n_jobs=-1)</pre></div></div></div><div class=\"sk-item\"><div class=\"sk-estimator sk-toggleable\"><input class=\"sk-toggleable__control sk-hidden--visually\" id=\"3b234e45-054d-49d9-af8c-9bc31b122faa\" type=\"checkbox\" ><label class=\"sk-toggleable__label\" for=\"3b234e45-054d-49d9-af8c-9bc31b122faa\">Scaler</label><div class=\"sk-toggleable__content\"><pre>Scaler(n_jobs=-1)</pre></div></div></div><div class=\"sk-item sk-dashed-wrapped\"><div class=\"sk-label-container\"><div class=\"sk-label sk-toggleable\"><input class=\"sk-toggleable__control sk-hidden--visually\" id=\"ca45064b-6575-4908-b530-0d9323780744\" type=\"checkbox\" ><label class=\"sk-toggleable__label\" for=\"ca45064b-6575-4908-b530-0d9323780744\">featureunion: FeatureUnion</label><div class=\"sk-toggleable__content\"><pre>FeatureUnion(transformer_list=[('persistenceentropy',\n",
       "                                PersistenceEntropy(nan_fill_value=-1)),\n",
       "                               ('amplitude-1',\n",
       "                                Amplitude(metric='bottleneck', metric_params={},\n",
       "                                          n_jobs=-1)),\n",
       "                               ('amplitude-2',\n",
       "                                Amplitude(metric='wasserstein',\n",
       "                                          metric_params={'p': 1}, n_jobs=-1)),\n",
       "                               ('amplitude-3',\n",
       "                                Amplitude(metric='wasserstein',\n",
       "                                          metric_params={'p': 2}, n_jobs=-1)),\n",
       "                               ('amplitude-4',\n",
       "                                Amplitude...\n",
       "                                          metric_params={'n_bins': 100, 'p': 1,\n",
       "                                                         'sigma': 1.6},\n",
       "                                          n_jobs=-1)),\n",
       "                               ('amplitude-11',\n",
       "                                Amplitude(metric='heat',\n",
       "                                          metric_params={'n_bins': 100, 'p': 1,\n",
       "                                                         'sigma': 3.2},\n",
       "                                          n_jobs=-1)),\n",
       "                               ('amplitude-12',\n",
       "                                Amplitude(metric='heat',\n",
       "                                          metric_params={'n_bins': 100, 'p': 2,\n",
       "                                                         'sigma': 1.6},\n",
       "                                          n_jobs=-1)),\n",
       "                               ('amplitude-13',\n",
       "                                Amplitude(metric='heat',\n",
       "                                          metric_params={'n_bins': 100, 'p': 2,\n",
       "                                                         'sigma': 3.2},\n",
       "                                          n_jobs=-1))])</pre></div></div></div><div class=\"sk-parallel\"><div class=\"sk-parallel-item\"><div class=\"sk-item\"><div class=\"sk-label-container\"><div class=\"sk-label sk-toggleable\"><label>persistenceentropy</label></div></div><div class=\"sk-serial\"><div class=\"sk-item\"><div class=\"sk-estimator sk-toggleable\"><input class=\"sk-toggleable__control sk-hidden--visually\" id=\"4c7997f8-9b83-4da5-9e13-71ad71885e1a\" type=\"checkbox\" ><label class=\"sk-toggleable__label\" for=\"4c7997f8-9b83-4da5-9e13-71ad71885e1a\">PersistenceEntropy</label><div class=\"sk-toggleable__content\"><pre>PersistenceEntropy(nan_fill_value=-1)</pre></div></div></div></div></div></div><div class=\"sk-parallel-item\"><div class=\"sk-item\"><div class=\"sk-label-container\"><div class=\"sk-label sk-toggleable\"><label>amplitude-1</label></div></div><div class=\"sk-serial\"><div class=\"sk-item\"><div class=\"sk-estimator sk-toggleable\"><input class=\"sk-toggleable__control sk-hidden--visually\" id=\"e041fa94-457e-4a99-91ae-f9afa885dc3f\" type=\"checkbox\" ><label class=\"sk-toggleable__label\" for=\"e041fa94-457e-4a99-91ae-f9afa885dc3f\">Amplitude</label><div class=\"sk-toggleable__content\"><pre>Amplitude(metric='bottleneck', metric_params={}, n_jobs=-1)</pre></div></div></div></div></div></div><div class=\"sk-parallel-item\"><div class=\"sk-item\"><div class=\"sk-label-container\"><div class=\"sk-label sk-toggleable\"><label>amplitude-2</label></div></div><div class=\"sk-serial\"><div class=\"sk-item\"><div class=\"sk-estimator sk-toggleable\"><input class=\"sk-toggleable__control sk-hidden--visually\" id=\"7b9399a0-62f3-4a1c-9327-897f9b3fe737\" type=\"checkbox\" ><label class=\"sk-toggleable__label\" for=\"7b9399a0-62f3-4a1c-9327-897f9b3fe737\">Amplitude</label><div class=\"sk-toggleable__content\"><pre>Amplitude(metric='wasserstein', metric_params={'p': 1}, n_jobs=-1)</pre></div></div></div></div></div></div><div class=\"sk-parallel-item\"><div class=\"sk-item\"><div class=\"sk-label-container\"><div class=\"sk-label sk-toggleable\"><label>amplitude-3</label></div></div><div class=\"sk-serial\"><div class=\"sk-item\"><div class=\"sk-estimator sk-toggleable\"><input class=\"sk-toggleable__control sk-hidden--visually\" id=\"abe8958e-1fcd-4a6e-8778-e9cce55a9d50\" type=\"checkbox\" ><label class=\"sk-toggleable__label\" for=\"abe8958e-1fcd-4a6e-8778-e9cce55a9d50\">Amplitude</label><div class=\"sk-toggleable__content\"><pre>Amplitude(metric='wasserstein', metric_params={'p': 2}, n_jobs=-1)</pre></div></div></div></div></div></div><div class=\"sk-parallel-item\"><div class=\"sk-item\"><div class=\"sk-label-container\"><div class=\"sk-label sk-toggleable\"><label>amplitude-4</label></div></div><div class=\"sk-serial\"><div class=\"sk-item\"><div class=\"sk-estimator sk-toggleable\"><input class=\"sk-toggleable__control sk-hidden--visually\" id=\"9cea4a2d-c39b-45be-adf3-0e8ea393f086\" type=\"checkbox\" ><label class=\"sk-toggleable__label\" for=\"9cea4a2d-c39b-45be-adf3-0e8ea393f086\">Amplitude</label><div class=\"sk-toggleable__content\"><pre>Amplitude(metric_params={'n_bins': 100, 'n_layers': 1, 'p': 1}, n_jobs=-1)</pre></div></div></div></div></div></div><div class=\"sk-parallel-item\"><div class=\"sk-item\"><div class=\"sk-label-container\"><div class=\"sk-label sk-toggleable\"><label>amplitude-5</label></div></div><div class=\"sk-serial\"><div class=\"sk-item\"><div class=\"sk-estimator sk-toggleable\"><input class=\"sk-toggleable__control sk-hidden--visually\" id=\"c9b93b08-5ebc-40b3-ba33-d46a9df1db25\" type=\"checkbox\" ><label class=\"sk-toggleable__label\" for=\"c9b93b08-5ebc-40b3-ba33-d46a9df1db25\">Amplitude</label><div class=\"sk-toggleable__content\"><pre>Amplitude(metric_params={'n_bins': 100, 'n_layers': 2, 'p': 1}, n_jobs=-1)</pre></div></div></div></div></div></div><div class=\"sk-parallel-item\"><div class=\"sk-item\"><div class=\"sk-label-container\"><div class=\"sk-label sk-toggleable\"><label>amplitude-6</label></div></div><div class=\"sk-serial\"><div class=\"sk-item\"><div class=\"sk-estimator sk-toggleable\"><input class=\"sk-toggleable__control sk-hidden--visually\" id=\"e33ab2ae-6002-40f8-99b3-d9ccea0ee889\" type=\"checkbox\" ><label class=\"sk-toggleable__label\" for=\"e33ab2ae-6002-40f8-99b3-d9ccea0ee889\">Amplitude</label><div class=\"sk-toggleable__content\"><pre>Amplitude(metric_params={'n_bins': 100, 'n_layers': 1, 'p': 2}, n_jobs=-1)</pre></div></div></div></div></div></div><div class=\"sk-parallel-item\"><div class=\"sk-item\"><div class=\"sk-label-container\"><div class=\"sk-label sk-toggleable\"><label>amplitude-7</label></div></div><div class=\"sk-serial\"><div class=\"sk-item\"><div class=\"sk-estimator sk-toggleable\"><input class=\"sk-toggleable__control sk-hidden--visually\" id=\"047dda69-5969-4ae5-bbad-dfd0c0abf2ce\" type=\"checkbox\" ><label class=\"sk-toggleable__label\" for=\"047dda69-5969-4ae5-bbad-dfd0c0abf2ce\">Amplitude</label><div class=\"sk-toggleable__content\"><pre>Amplitude(metric_params={'n_bins': 100, 'n_layers': 2, 'p': 2}, n_jobs=-1)</pre></div></div></div></div></div></div><div class=\"sk-parallel-item\"><div class=\"sk-item\"><div class=\"sk-label-container\"><div class=\"sk-label sk-toggleable\"><label>amplitude-8</label></div></div><div class=\"sk-serial\"><div class=\"sk-item\"><div class=\"sk-estimator sk-toggleable\"><input class=\"sk-toggleable__control sk-hidden--visually\" id=\"58107311-4e36-4d1e-849b-5667a9759aa1\" type=\"checkbox\" ><label class=\"sk-toggleable__label\" for=\"58107311-4e36-4d1e-849b-5667a9759aa1\">Amplitude</label><div class=\"sk-toggleable__content\"><pre>Amplitude(metric='betti', metric_params={'n_bins': 100, 'p': 1}, n_jobs=-1)</pre></div></div></div></div></div></div><div class=\"sk-parallel-item\"><div class=\"sk-item\"><div class=\"sk-label-container\"><div class=\"sk-label sk-toggleable\"><label>amplitude-9</label></div></div><div class=\"sk-serial\"><div class=\"sk-item\"><div class=\"sk-estimator sk-toggleable\"><input class=\"sk-toggleable__control sk-hidden--visually\" id=\"a54b6e97-cfc9-4756-b39a-91346a59c070\" type=\"checkbox\" ><label class=\"sk-toggleable__label\" for=\"a54b6e97-cfc9-4756-b39a-91346a59c070\">Amplitude</label><div class=\"sk-toggleable__content\"><pre>Amplitude(metric='betti', metric_params={'n_bins': 100, 'p': 2}, n_jobs=-1)</pre></div></div></div></div></div></div><div class=\"sk-parallel-item\"><div class=\"sk-item\"><div class=\"sk-label-container\"><div class=\"sk-label sk-toggleable\"><label>amplitude-10</label></div></div><div class=\"sk-serial\"><div class=\"sk-item\"><div class=\"sk-estimator sk-toggleable\"><input class=\"sk-toggleable__control sk-hidden--visually\" id=\"e859f1b3-719a-4234-8db2-7087ff474721\" type=\"checkbox\" ><label class=\"sk-toggleable__label\" for=\"e859f1b3-719a-4234-8db2-7087ff474721\">Amplitude</label><div class=\"sk-toggleable__content\"><pre>Amplitude(metric='heat', metric_params={'n_bins': 100, 'p': 1, 'sigma': 1.6},\n",
       "          n_jobs=-1)</pre></div></div></div></div></div></div><div class=\"sk-parallel-item\"><div class=\"sk-item\"><div class=\"sk-label-container\"><div class=\"sk-label sk-toggleable\"><label>amplitude-11</label></div></div><div class=\"sk-serial\"><div class=\"sk-item\"><div class=\"sk-estimator sk-toggleable\"><input class=\"sk-toggleable__control sk-hidden--visually\" id=\"e385969c-a81a-49d2-9d95-90b349ef419e\" type=\"checkbox\" ><label class=\"sk-toggleable__label\" for=\"e385969c-a81a-49d2-9d95-90b349ef419e\">Amplitude</label><div class=\"sk-toggleable__content\"><pre>Amplitude(metric='heat', metric_params={'n_bins': 100, 'p': 1, 'sigma': 3.2},\n",
       "          n_jobs=-1)</pre></div></div></div></div></div></div><div class=\"sk-parallel-item\"><div class=\"sk-item\"><div class=\"sk-label-container\"><div class=\"sk-label sk-toggleable\"><label>amplitude-12</label></div></div><div class=\"sk-serial\"><div class=\"sk-item\"><div class=\"sk-estimator sk-toggleable\"><input class=\"sk-toggleable__control sk-hidden--visually\" id=\"a5aedc40-b741-40cf-bd59-b949027c867b\" type=\"checkbox\" ><label class=\"sk-toggleable__label\" for=\"a5aedc40-b741-40cf-bd59-b949027c867b\">Amplitude</label><div class=\"sk-toggleable__content\"><pre>Amplitude(metric='heat', metric_params={'n_bins': 100, 'p': 2, 'sigma': 1.6},\n",
       "          n_jobs=-1)</pre></div></div></div></div></div></div><div class=\"sk-parallel-item\"><div class=\"sk-item\"><div class=\"sk-label-container\"><div class=\"sk-label sk-toggleable\"><label>amplitude-13</label></div></div><div class=\"sk-serial\"><div class=\"sk-item\"><div class=\"sk-estimator sk-toggleable\"><input class=\"sk-toggleable__control sk-hidden--visually\" id=\"e3577fc3-43d0-4633-9578-4807a37e50a8\" type=\"checkbox\" ><label class=\"sk-toggleable__label\" for=\"e3577fc3-43d0-4633-9578-4807a37e50a8\">Amplitude</label><div class=\"sk-toggleable__content\"><pre>Amplitude(metric='heat', metric_params={'n_bins': 100, 'p': 2, 'sigma': 3.2},\n",
       "          n_jobs=-1)</pre></div></div></div></div></div></div></div></div></div></div></div></div></div><div class=\"sk-parallel-item\"><div class=\"sk-item\"><div class=\"sk-label-container\"><div class=\"sk-label sk-toggleable\"><label>pipeline-2</label></div></div><div class=\"sk-serial\"><div class=\"sk-item\"><div class=\"sk-serial\"><div class=\"sk-item\"><div class=\"sk-estimator sk-toggleable\"><input class=\"sk-toggleable__control sk-hidden--visually\" id=\"53a3bf2d-36b8-492b-9e64-47484009b08a\" type=\"checkbox\" ><label class=\"sk-toggleable__label\" for=\"53a3bf2d-36b8-492b-9e64-47484009b08a\">Binarizer</label><div class=\"sk-toggleable__content\"><pre>Binarizer(n_jobs=-1, threshold=0.4)</pre></div></div></div><div class=\"sk-item\"><div class=\"sk-estimator sk-toggleable\"><input class=\"sk-toggleable__control sk-hidden--visually\" id=\"e7aa0873-6004-4d90-a432-fb9f9ca7b0d5\" type=\"checkbox\" ><label class=\"sk-toggleable__label\" for=\"e7aa0873-6004-4d90-a432-fb9f9ca7b0d5\">HeightFiltration</label><div class=\"sk-toggleable__content\"><pre>HeightFiltration(direction=array([1, 1]), n_jobs=-1)</pre></div></div></div><div class=\"sk-item\"><div class=\"sk-estimator sk-toggleable\"><input class=\"sk-toggleable__control sk-hidden--visually\" id=\"5ae0b996-5c0b-409a-86f8-bc2a31e838ec\" type=\"checkbox\" ><label class=\"sk-toggleable__label\" for=\"5ae0b996-5c0b-409a-86f8-bc2a31e838ec\">CubicalPersistence</label><div class=\"sk-toggleable__content\"><pre>CubicalPersistence(n_jobs=-1)</pre></div></div></div><div class=\"sk-item\"><div class=\"sk-estimator sk-toggleable\"><input class=\"sk-toggleable__control sk-hidden--visually\" id=\"4503c145-2f9a-49d1-866c-eb2a038df70d\" type=\"checkbox\" ><label class=\"sk-toggleable__label\" for=\"4503c145-2f9a-49d1-866c-eb2a038df70d\">Scaler</label><div class=\"sk-toggleable__content\"><pre>Scaler(n_jobs=-1)</pre></div></div></div><div class=\"sk-item sk-dashed-wrapped\"><div class=\"sk-label-container\"><div class=\"sk-label sk-toggleable\"><input class=\"sk-toggleable__control sk-hidden--visually\" id=\"372ed520-e382-4402-a404-a616ca37c578\" type=\"checkbox\" ><label class=\"sk-toggleable__label\" for=\"372ed520-e382-4402-a404-a616ca37c578\">featureunion: FeatureUnion</label><div class=\"sk-toggleable__content\"><pre>FeatureUnion(transformer_list=[('persistenceentropy',\n",
       "                                PersistenceEntropy(nan_fill_value=-1)),\n",
       "                               ('amplitude-1',\n",
       "                                Amplitude(metric='bottleneck', metric_params={},\n",
       "                                          n_jobs=-1)),\n",
       "                               ('amplitude-2',\n",
       "                                Amplitude(metric='wasserstein',\n",
       "                                          metric_params={'p': 1}, n_jobs=-1)),\n",
       "                               ('amplitude-3',\n",
       "                                Amplitude(metric='wasserstein',\n",
       "                                          metric_params={'p': 2}, n_jobs=-1)),\n",
       "                               ('amplitude-4',\n",
       "                                Amplitude...\n",
       "                                          metric_params={'n_bins': 100, 'p': 1,\n",
       "                                                         'sigma': 1.6},\n",
       "                                          n_jobs=-1)),\n",
       "                               ('amplitude-11',\n",
       "                                Amplitude(metric='heat',\n",
       "                                          metric_params={'n_bins': 100, 'p': 1,\n",
       "                                                         'sigma': 3.2},\n",
       "                                          n_jobs=-1)),\n",
       "                               ('amplitude-12',\n",
       "                                Amplitude(metric='heat',\n",
       "                                          metric_params={'n_bins': 100, 'p': 2,\n",
       "                                                         'sigma': 1.6},\n",
       "                                          n_jobs=-1)),\n",
       "                               ('amplitude-13',\n",
       "                                Amplitude(metric='heat',\n",
       "                                          metric_params={'n_bins': 100, 'p': 2,\n",
       "                                                         'sigma': 3.2},\n",
       "                                          n_jobs=-1))])</pre></div></div></div><div class=\"sk-parallel\"><div class=\"sk-parallel-item\"><div class=\"sk-item\"><div class=\"sk-label-container\"><div class=\"sk-label sk-toggleable\"><label>persistenceentropy</label></div></div><div class=\"sk-serial\"><div class=\"sk-item\"><div class=\"sk-estimator sk-toggleable\"><input class=\"sk-toggleable__control sk-hidden--visually\" id=\"1b65eda6-7fa7-4a7c-aa8b-6e687ca2aaa0\" type=\"checkbox\" ><label class=\"sk-toggleable__label\" for=\"1b65eda6-7fa7-4a7c-aa8b-6e687ca2aaa0\">PersistenceEntropy</label><div class=\"sk-toggleable__content\"><pre>PersistenceEntropy(nan_fill_value=-1)</pre></div></div></div></div></div></div><div class=\"sk-parallel-item\"><div class=\"sk-item\"><div class=\"sk-label-container\"><div class=\"sk-label sk-toggleable\"><label>amplitude-1</label></div></div><div class=\"sk-serial\"><div class=\"sk-item\"><div class=\"sk-estimator sk-toggleable\"><input class=\"sk-toggleable__control sk-hidden--visually\" id=\"289df589-005a-4ef0-a348-6b7e2694ac05\" type=\"checkbox\" ><label class=\"sk-toggleable__label\" for=\"289df589-005a-4ef0-a348-6b7e2694ac05\">Amplitude</label><div class=\"sk-toggleable__content\"><pre>Amplitude(metric='bottleneck', metric_params={}, n_jobs=-1)</pre></div></div></div></div></div></div><div class=\"sk-parallel-item\"><div class=\"sk-item\"><div class=\"sk-label-container\"><div class=\"sk-label sk-toggleable\"><label>amplitude-2</label></div></div><div class=\"sk-serial\"><div class=\"sk-item\"><div class=\"sk-estimator sk-toggleable\"><input class=\"sk-toggleable__control sk-hidden--visually\" id=\"0edb5626-7db4-4991-a920-3cd83a58d519\" type=\"checkbox\" ><label class=\"sk-toggleable__label\" for=\"0edb5626-7db4-4991-a920-3cd83a58d519\">Amplitude</label><div class=\"sk-toggleable__content\"><pre>Amplitude(metric='wasserstein', metric_params={'p': 1}, n_jobs=-1)</pre></div></div></div></div></div></div><div class=\"sk-parallel-item\"><div class=\"sk-item\"><div class=\"sk-label-container\"><div class=\"sk-label sk-toggleable\"><label>amplitude-3</label></div></div><div class=\"sk-serial\"><div class=\"sk-item\"><div class=\"sk-estimator sk-toggleable\"><input class=\"sk-toggleable__control sk-hidden--visually\" id=\"99454288-18df-4726-b7d3-03e31f2fd002\" type=\"checkbox\" ><label class=\"sk-toggleable__label\" for=\"99454288-18df-4726-b7d3-03e31f2fd002\">Amplitude</label><div class=\"sk-toggleable__content\"><pre>Amplitude(metric='wasserstein', metric_params={'p': 2}, n_jobs=-1)</pre></div></div></div></div></div></div><div class=\"sk-parallel-item\"><div class=\"sk-item\"><div class=\"sk-label-container\"><div class=\"sk-label sk-toggleable\"><label>amplitude-4</label></div></div><div class=\"sk-serial\"><div class=\"sk-item\"><div class=\"sk-estimator sk-toggleable\"><input class=\"sk-toggleable__control sk-hidden--visually\" id=\"afd2aac2-5486-4828-9bed-b6009c09162a\" type=\"checkbox\" ><label class=\"sk-toggleable__label\" for=\"afd2aac2-5486-4828-9bed-b6009c09162a\">Amplitude</label><div class=\"sk-toggleable__content\"><pre>Amplitude(metric_params={'n_bins': 100, 'n_layers': 1, 'p': 1}, n_jobs=-1)</pre></div></div></div></div></div></div><div class=\"sk-parallel-item\"><div class=\"sk-item\"><div class=\"sk-label-container\"><div class=\"sk-label sk-toggleable\"><label>amplitude-5</label></div></div><div class=\"sk-serial\"><div class=\"sk-item\"><div class=\"sk-estimator sk-toggleable\"><input class=\"sk-toggleable__control sk-hidden--visually\" id=\"18d787bd-1985-48b6-b9ff-4c4434c90654\" type=\"checkbox\" ><label class=\"sk-toggleable__label\" for=\"18d787bd-1985-48b6-b9ff-4c4434c90654\">Amplitude</label><div class=\"sk-toggleable__content\"><pre>Amplitude(metric_params={'n_bins': 100, 'n_layers': 2, 'p': 1}, n_jobs=-1)</pre></div></div></div></div></div></div><div class=\"sk-parallel-item\"><div class=\"sk-item\"><div class=\"sk-label-container\"><div class=\"sk-label sk-toggleable\"><label>amplitude-6</label></div></div><div class=\"sk-serial\"><div class=\"sk-item\"><div class=\"sk-estimator sk-toggleable\"><input class=\"sk-toggleable__control sk-hidden--visually\" id=\"eef2ae39-4c15-47db-b7eb-776357f0e078\" type=\"checkbox\" ><label class=\"sk-toggleable__label\" for=\"eef2ae39-4c15-47db-b7eb-776357f0e078\">Amplitude</label><div class=\"sk-toggleable__content\"><pre>Amplitude(metric_params={'n_bins': 100, 'n_layers': 1, 'p': 2}, n_jobs=-1)</pre></div></div></div></div></div></div><div class=\"sk-parallel-item\"><div class=\"sk-item\"><div class=\"sk-label-container\"><div class=\"sk-label sk-toggleable\"><label>amplitude-7</label></div></div><div class=\"sk-serial\"><div class=\"sk-item\"><div class=\"sk-estimator sk-toggleable\"><input class=\"sk-toggleable__control sk-hidden--visually\" id=\"1f1feb9d-eb75-4018-87b9-09f1b9a4a026\" type=\"checkbox\" ><label class=\"sk-toggleable__label\" for=\"1f1feb9d-eb75-4018-87b9-09f1b9a4a026\">Amplitude</label><div class=\"sk-toggleable__content\"><pre>Amplitude(metric_params={'n_bins': 100, 'n_layers': 2, 'p': 2}, n_jobs=-1)</pre></div></div></div></div></div></div><div class=\"sk-parallel-item\"><div class=\"sk-item\"><div class=\"sk-label-container\"><div class=\"sk-label sk-toggleable\"><label>amplitude-8</label></div></div><div class=\"sk-serial\"><div class=\"sk-item\"><div class=\"sk-estimator sk-toggleable\"><input class=\"sk-toggleable__control sk-hidden--visually\" id=\"e3bec640-b7d7-4258-ab13-32ec56a9dc52\" type=\"checkbox\" ><label class=\"sk-toggleable__label\" for=\"e3bec640-b7d7-4258-ab13-32ec56a9dc52\">Amplitude</label><div class=\"sk-toggleable__content\"><pre>Amplitude(metric='betti', metric_params={'n_bins': 100, 'p': 1}, n_jobs=-1)</pre></div></div></div></div></div></div><div class=\"sk-parallel-item\"><div class=\"sk-item\"><div class=\"sk-label-container\"><div class=\"sk-label sk-toggleable\"><label>amplitude-9</label></div></div><div class=\"sk-serial\"><div class=\"sk-item\"><div class=\"sk-estimator sk-toggleable\"><input class=\"sk-toggleable__control sk-hidden--visually\" id=\"22a09063-5d51-49df-bf4e-e68e1dedecfb\" type=\"checkbox\" ><label class=\"sk-toggleable__label\" for=\"22a09063-5d51-49df-bf4e-e68e1dedecfb\">Amplitude</label><div class=\"sk-toggleable__content\"><pre>Amplitude(metric='betti', metric_params={'n_bins': 100, 'p': 2}, n_jobs=-1)</pre></div></div></div></div></div></div><div class=\"sk-parallel-item\"><div class=\"sk-item\"><div class=\"sk-label-container\"><div class=\"sk-label sk-toggleable\"><label>amplitude-10</label></div></div><div class=\"sk-serial\"><div class=\"sk-item\"><div class=\"sk-estimator sk-toggleable\"><input class=\"sk-toggleable__control sk-hidden--visually\" id=\"939d4ae8-eda7-4d0e-a98a-a3da8c7d3c5f\" type=\"checkbox\" ><label class=\"sk-toggleable__label\" for=\"939d4ae8-eda7-4d0e-a98a-a3da8c7d3c5f\">Amplitude</label><div class=\"sk-toggleable__content\"><pre>Amplitude(metric='heat', metric_params={'n_bins': 100, 'p': 1, 'sigma': 1.6},\n",
       "          n_jobs=-1)</pre></div></div></div></div></div></div><div class=\"sk-parallel-item\"><div class=\"sk-item\"><div class=\"sk-label-container\"><div class=\"sk-label sk-toggleable\"><label>amplitude-11</label></div></div><div class=\"sk-serial\"><div class=\"sk-item\"><div class=\"sk-estimator sk-toggleable\"><input class=\"sk-toggleable__control sk-hidden--visually\" id=\"9a18fa9d-00d6-43bd-9598-708080f20823\" type=\"checkbox\" ><label class=\"sk-toggleable__label\" for=\"9a18fa9d-00d6-43bd-9598-708080f20823\">Amplitude</label><div class=\"sk-toggleable__content\"><pre>Amplitude(metric='heat', metric_params={'n_bins': 100, 'p': 1, 'sigma': 3.2},\n",
       "          n_jobs=-1)</pre></div></div></div></div></div></div><div class=\"sk-parallel-item\"><div class=\"sk-item\"><div class=\"sk-label-container\"><div class=\"sk-label sk-toggleable\"><label>amplitude-12</label></div></div><div class=\"sk-serial\"><div class=\"sk-item\"><div class=\"sk-estimator sk-toggleable\"><input class=\"sk-toggleable__control sk-hidden--visually\" id=\"79585715-8427-4c48-b5c6-3380106e035c\" type=\"checkbox\" ><label class=\"sk-toggleable__label\" for=\"79585715-8427-4c48-b5c6-3380106e035c\">Amplitude</label><div class=\"sk-toggleable__content\"><pre>Amplitude(metric='heat', metric_params={'n_bins': 100, 'p': 2, 'sigma': 1.6},\n",
       "          n_jobs=-1)</pre></div></div></div></div></div></div><div class=\"sk-parallel-item\"><div class=\"sk-item\"><div class=\"sk-label-container\"><div class=\"sk-label sk-toggleable\"><label>amplitude-13</label></div></div><div class=\"sk-serial\"><div class=\"sk-item\"><div class=\"sk-estimator sk-toggleable\"><input class=\"sk-toggleable__control sk-hidden--visually\" id=\"67d9aeae-2190-45fa-93af-fce52aaf08c6\" type=\"checkbox\" ><label class=\"sk-toggleable__label\" for=\"67d9aeae-2190-45fa-93af-fce52aaf08c6\">Amplitude</label><div class=\"sk-toggleable__content\"><pre>Amplitude(metric='heat', metric_params={'n_bins': 100, 'p': 2, 'sigma': 3.2},\n",
       "          n_jobs=-1)</pre></div></div></div></div></div></div></div></div></div></div></div></div></div><div class=\"sk-parallel-item\"><div class=\"sk-item\"><div class=\"sk-label-container\"><div class=\"sk-label sk-toggleable\"><label>pipeline-3</label></div></div><div class=\"sk-serial\"><div class=\"sk-item\"><div class=\"sk-serial\"><div class=\"sk-item\"><div class=\"sk-estimator sk-toggleable\"><input class=\"sk-toggleable__control sk-hidden--visually\" id=\"e844e013-5396-490d-a473-dfb415095b47\" type=\"checkbox\" ><label class=\"sk-toggleable__label\" for=\"e844e013-5396-490d-a473-dfb415095b47\">Binarizer</label><div class=\"sk-toggleable__content\"><pre>Binarizer(n_jobs=-1, threshold=0.4)</pre></div></div></div><div class=\"sk-item\"><div class=\"sk-estimator sk-toggleable\"><input class=\"sk-toggleable__control sk-hidden--visually\" id=\"43095246-cf8a-4d2b-947c-5b77fe0ac68f\" type=\"checkbox\" ><label class=\"sk-toggleable__label\" for=\"43095246-cf8a-4d2b-947c-5b77fe0ac68f\">HeightFiltration</label><div class=\"sk-toggleable__content\"><pre>HeightFiltration(direction=array([0, 1]), n_jobs=-1)</pre></div></div></div><div class=\"sk-item\"><div class=\"sk-estimator sk-toggleable\"><input class=\"sk-toggleable__control sk-hidden--visually\" id=\"500f95ef-5391-43f2-b7f9-0aca47272b68\" type=\"checkbox\" ><label class=\"sk-toggleable__label\" for=\"500f95ef-5391-43f2-b7f9-0aca47272b68\">CubicalPersistence</label><div class=\"sk-toggleable__content\"><pre>CubicalPersistence(n_jobs=-1)</pre></div></div></div><div class=\"sk-item\"><div class=\"sk-estimator sk-toggleable\"><input class=\"sk-toggleable__control sk-hidden--visually\" id=\"c64910ef-d6e0-4bc9-84d3-2335e0cec9c7\" type=\"checkbox\" ><label class=\"sk-toggleable__label\" for=\"c64910ef-d6e0-4bc9-84d3-2335e0cec9c7\">Scaler</label><div class=\"sk-toggleable__content\"><pre>Scaler(n_jobs=-1)</pre></div></div></div><div class=\"sk-item sk-dashed-wrapped\"><div class=\"sk-label-container\"><div class=\"sk-label sk-toggleable\"><input class=\"sk-toggleable__control sk-hidden--visually\" id=\"6cd4fa12-1104-4efb-8d9d-eed662a32bea\" type=\"checkbox\" ><label class=\"sk-toggleable__label\" for=\"6cd4fa12-1104-4efb-8d9d-eed662a32bea\">featureunion: FeatureUnion</label><div class=\"sk-toggleable__content\"><pre>FeatureUnion(transformer_list=[('persistenceentropy',\n",
       "                                PersistenceEntropy(nan_fill_value=-1)),\n",
       "                               ('amplitude-1',\n",
       "                                Amplitude(metric='bottleneck', metric_params={},\n",
       "                                          n_jobs=-1)),\n",
       "                               ('amplitude-2',\n",
       "                                Amplitude(metric='wasserstein',\n",
       "                                          metric_params={'p': 1}, n_jobs=-1)),\n",
       "                               ('amplitude-3',\n",
       "                                Amplitude(metric='wasserstein',\n",
       "                                          metric_params={'p': 2}, n_jobs=-1)),\n",
       "                               ('amplitude-4',\n",
       "                                Amplitude...\n",
       "                                          metric_params={'n_bins': 100, 'p': 1,\n",
       "                                                         'sigma': 1.6},\n",
       "                                          n_jobs=-1)),\n",
       "                               ('amplitude-11',\n",
       "                                Amplitude(metric='heat',\n",
       "                                          metric_params={'n_bins': 100, 'p': 1,\n",
       "                                                         'sigma': 3.2},\n",
       "                                          n_jobs=-1)),\n",
       "                               ('amplitude-12',\n",
       "                                Amplitude(metric='heat',\n",
       "                                          metric_params={'n_bins': 100, 'p': 2,\n",
       "                                                         'sigma': 1.6},\n",
       "                                          n_jobs=-1)),\n",
       "                               ('amplitude-13',\n",
       "                                Amplitude(metric='heat',\n",
       "                                          metric_params={'n_bins': 100, 'p': 2,\n",
       "                                                         'sigma': 3.2},\n",
       "                                          n_jobs=-1))])</pre></div></div></div><div class=\"sk-parallel\"><div class=\"sk-parallel-item\"><div class=\"sk-item\"><div class=\"sk-label-container\"><div class=\"sk-label sk-toggleable\"><label>persistenceentropy</label></div></div><div class=\"sk-serial\"><div class=\"sk-item\"><div class=\"sk-estimator sk-toggleable\"><input class=\"sk-toggleable__control sk-hidden--visually\" id=\"d3334ef5-84de-4354-a3d8-00ff9bf7473d\" type=\"checkbox\" ><label class=\"sk-toggleable__label\" for=\"d3334ef5-84de-4354-a3d8-00ff9bf7473d\">PersistenceEntropy</label><div class=\"sk-toggleable__content\"><pre>PersistenceEntropy(nan_fill_value=-1)</pre></div></div></div></div></div></div><div class=\"sk-parallel-item\"><div class=\"sk-item\"><div class=\"sk-label-container\"><div class=\"sk-label sk-toggleable\"><label>amplitude-1</label></div></div><div class=\"sk-serial\"><div class=\"sk-item\"><div class=\"sk-estimator sk-toggleable\"><input class=\"sk-toggleable__control sk-hidden--visually\" id=\"2026e039-e7eb-4ed1-b06e-ef748adfd639\" type=\"checkbox\" ><label class=\"sk-toggleable__label\" for=\"2026e039-e7eb-4ed1-b06e-ef748adfd639\">Amplitude</label><div class=\"sk-toggleable__content\"><pre>Amplitude(metric='bottleneck', metric_params={}, n_jobs=-1)</pre></div></div></div></div></div></div><div class=\"sk-parallel-item\"><div class=\"sk-item\"><div class=\"sk-label-container\"><div class=\"sk-label sk-toggleable\"><label>amplitude-2</label></div></div><div class=\"sk-serial\"><div class=\"sk-item\"><div class=\"sk-estimator sk-toggleable\"><input class=\"sk-toggleable__control sk-hidden--visually\" id=\"34213e96-aa2a-4a99-bf92-e67e17e9514a\" type=\"checkbox\" ><label class=\"sk-toggleable__label\" for=\"34213e96-aa2a-4a99-bf92-e67e17e9514a\">Amplitude</label><div class=\"sk-toggleable__content\"><pre>Amplitude(metric='wasserstein', metric_params={'p': 1}, n_jobs=-1)</pre></div></div></div></div></div></div><div class=\"sk-parallel-item\"><div class=\"sk-item\"><div class=\"sk-label-container\"><div class=\"sk-label sk-toggleable\"><label>amplitude-3</label></div></div><div class=\"sk-serial\"><div class=\"sk-item\"><div class=\"sk-estimator sk-toggleable\"><input class=\"sk-toggleable__control sk-hidden--visually\" id=\"a8f216d5-5912-4c30-9c1b-14f734c5f566\" type=\"checkbox\" ><label class=\"sk-toggleable__label\" for=\"a8f216d5-5912-4c30-9c1b-14f734c5f566\">Amplitude</label><div class=\"sk-toggleable__content\"><pre>Amplitude(metric='wasserstein', metric_params={'p': 2}, n_jobs=-1)</pre></div></div></div></div></div></div><div class=\"sk-parallel-item\"><div class=\"sk-item\"><div class=\"sk-label-container\"><div class=\"sk-label sk-toggleable\"><label>amplitude-4</label></div></div><div class=\"sk-serial\"><div class=\"sk-item\"><div class=\"sk-estimator sk-toggleable\"><input class=\"sk-toggleable__control sk-hidden--visually\" id=\"100adabe-9c8a-4a03-b691-e2c9d9344695\" type=\"checkbox\" ><label class=\"sk-toggleable__label\" for=\"100adabe-9c8a-4a03-b691-e2c9d9344695\">Amplitude</label><div class=\"sk-toggleable__content\"><pre>Amplitude(metric_params={'n_bins': 100, 'n_layers': 1, 'p': 1}, n_jobs=-1)</pre></div></div></div></div></div></div><div class=\"sk-parallel-item\"><div class=\"sk-item\"><div class=\"sk-label-container\"><div class=\"sk-label sk-toggleable\"><label>amplitude-5</label></div></div><div class=\"sk-serial\"><div class=\"sk-item\"><div class=\"sk-estimator sk-toggleable\"><input class=\"sk-toggleable__control sk-hidden--visually\" id=\"ce094a36-0038-417b-84b1-5b45906005b1\" type=\"checkbox\" ><label class=\"sk-toggleable__label\" for=\"ce094a36-0038-417b-84b1-5b45906005b1\">Amplitude</label><div class=\"sk-toggleable__content\"><pre>Amplitude(metric_params={'n_bins': 100, 'n_layers': 2, 'p': 1}, n_jobs=-1)</pre></div></div></div></div></div></div><div class=\"sk-parallel-item\"><div class=\"sk-item\"><div class=\"sk-label-container\"><div class=\"sk-label sk-toggleable\"><label>amplitude-6</label></div></div><div class=\"sk-serial\"><div class=\"sk-item\"><div class=\"sk-estimator sk-toggleable\"><input class=\"sk-toggleable__control sk-hidden--visually\" id=\"370c4b32-0c1f-4e81-8e17-14e984511b70\" type=\"checkbox\" ><label class=\"sk-toggleable__label\" for=\"370c4b32-0c1f-4e81-8e17-14e984511b70\">Amplitude</label><div class=\"sk-toggleable__content\"><pre>Amplitude(metric_params={'n_bins': 100, 'n_layers': 1, 'p': 2}, n_jobs=-1)</pre></div></div></div></div></div></div><div class=\"sk-parallel-item\"><div class=\"sk-item\"><div class=\"sk-label-container\"><div class=\"sk-label sk-toggleable\"><label>amplitude-7</label></div></div><div class=\"sk-serial\"><div class=\"sk-item\"><div class=\"sk-estimator sk-toggleable\"><input class=\"sk-toggleable__control sk-hidden--visually\" id=\"70d58de0-50b8-4951-b541-3656ea0b6cec\" type=\"checkbox\" ><label class=\"sk-toggleable__label\" for=\"70d58de0-50b8-4951-b541-3656ea0b6cec\">Amplitude</label><div class=\"sk-toggleable__content\"><pre>Amplitude(metric_params={'n_bins': 100, 'n_layers': 2, 'p': 2}, n_jobs=-1)</pre></div></div></div></div></div></div><div class=\"sk-parallel-item\"><div class=\"sk-item\"><div class=\"sk-label-container\"><div class=\"sk-label sk-toggleable\"><label>amplitude-8</label></div></div><div class=\"sk-serial\"><div class=\"sk-item\"><div class=\"sk-estimator sk-toggleable\"><input class=\"sk-toggleable__control sk-hidden--visually\" id=\"67b887f0-5041-454c-9ec8-bca054f6a016\" type=\"checkbox\" ><label class=\"sk-toggleable__label\" for=\"67b887f0-5041-454c-9ec8-bca054f6a016\">Amplitude</label><div class=\"sk-toggleable__content\"><pre>Amplitude(metric='betti', metric_params={'n_bins': 100, 'p': 1}, n_jobs=-1)</pre></div></div></div></div></div></div><div class=\"sk-parallel-item\"><div class=\"sk-item\"><div class=\"sk-label-container\"><div class=\"sk-label sk-toggleable\"><label>amplitude-9</label></div></div><div class=\"sk-serial\"><div class=\"sk-item\"><div class=\"sk-estimator sk-toggleable\"><input class=\"sk-toggleable__control sk-hidden--visually\" id=\"97d5257f-1c0c-48d3-aec2-65625fc8511b\" type=\"checkbox\" ><label class=\"sk-toggleable__label\" for=\"97d5257f-1c0c-48d3-aec2-65625fc8511b\">Amplitude</label><div class=\"sk-toggleable__content\"><pre>Amplitude(metric='betti', metric_params={'n_bins': 100, 'p': 2}, n_jobs=-1)</pre></div></div></div></div></div></div><div class=\"sk-parallel-item\"><div class=\"sk-item\"><div class=\"sk-label-container\"><div class=\"sk-label sk-toggleable\"><label>amplitude-10</label></div></div><div class=\"sk-serial\"><div class=\"sk-item\"><div class=\"sk-estimator sk-toggleable\"><input class=\"sk-toggleable__control sk-hidden--visually\" id=\"35704bf9-2c21-463e-b24d-605047408f51\" type=\"checkbox\" ><label class=\"sk-toggleable__label\" for=\"35704bf9-2c21-463e-b24d-605047408f51\">Amplitude</label><div class=\"sk-toggleable__content\"><pre>Amplitude(metric='heat', metric_params={'n_bins': 100, 'p': 1, 'sigma': 1.6},\n",
       "          n_jobs=-1)</pre></div></div></div></div></div></div><div class=\"sk-parallel-item\"><div class=\"sk-item\"><div class=\"sk-label-container\"><div class=\"sk-label sk-toggleable\"><label>amplitude-11</label></div></div><div class=\"sk-serial\"><div class=\"sk-item\"><div class=\"sk-estimator sk-toggleable\"><input class=\"sk-toggleable__control sk-hidden--visually\" id=\"2ff90ec6-fadb-4735-8a6e-e7d7155a5e9d\" type=\"checkbox\" ><label class=\"sk-toggleable__label\" for=\"2ff90ec6-fadb-4735-8a6e-e7d7155a5e9d\">Amplitude</label><div class=\"sk-toggleable__content\"><pre>Amplitude(metric='heat', metric_params={'n_bins': 100, 'p': 1, 'sigma': 3.2},\n",
       "          n_jobs=-1)</pre></div></div></div></div></div></div><div class=\"sk-parallel-item\"><div class=\"sk-item\"><div class=\"sk-label-container\"><div class=\"sk-label sk-toggleable\"><label>amplitude-12</label></div></div><div class=\"sk-serial\"><div class=\"sk-item\"><div class=\"sk-estimator sk-toggleable\"><input class=\"sk-toggleable__control sk-hidden--visually\" id=\"a7d9c99c-a78f-4026-8355-247b4a340f17\" type=\"checkbox\" ><label class=\"sk-toggleable__label\" for=\"a7d9c99c-a78f-4026-8355-247b4a340f17\">Amplitude</label><div class=\"sk-toggleable__content\"><pre>Amplitude(metric='heat', metric_params={'n_bins': 100, 'p': 2, 'sigma': 1.6},\n",
       "          n_jobs=-1)</pre></div></div></div></div></div></div><div class=\"sk-parallel-item\"><div class=\"sk-item\"><div class=\"sk-label-container\"><div class=\"sk-label sk-toggleable\"><label>amplitude-13</label></div></div><div class=\"sk-serial\"><div class=\"sk-item\"><div class=\"sk-estimator sk-toggleable\"><input class=\"sk-toggleable__control sk-hidden--visually\" id=\"13794f96-7d5b-4217-a9a8-3e0a5ebe1140\" type=\"checkbox\" ><label class=\"sk-toggleable__label\" for=\"13794f96-7d5b-4217-a9a8-3e0a5ebe1140\">Amplitude</label><div class=\"sk-toggleable__content\"><pre>Amplitude(metric='heat', metric_params={'n_bins': 100, 'p': 2, 'sigma': 3.2},\n",
       "          n_jobs=-1)</pre></div></div></div></div></div></div></div></div></div></div></div></div></div><div class=\"sk-parallel-item\"><div class=\"sk-item\"><div class=\"sk-label-container\"><div class=\"sk-label sk-toggleable\"><label>pipeline-4</label></div></div><div class=\"sk-serial\"><div class=\"sk-item\"><div class=\"sk-serial\"><div class=\"sk-item\"><div class=\"sk-estimator sk-toggleable\"><input class=\"sk-toggleable__control sk-hidden--visually\" id=\"e5c14a8a-b59f-4538-bcee-73d308dd3c9f\" type=\"checkbox\" ><label class=\"sk-toggleable__label\" for=\"e5c14a8a-b59f-4538-bcee-73d308dd3c9f\">Binarizer</label><div class=\"sk-toggleable__content\"><pre>Binarizer(n_jobs=-1, threshold=0.4)</pre></div></div></div><div class=\"sk-item\"><div class=\"sk-estimator sk-toggleable\"><input class=\"sk-toggleable__control sk-hidden--visually\" id=\"97dffa33-0066-48bc-a1bc-dc0daa52ac2f\" type=\"checkbox\" ><label class=\"sk-toggleable__label\" for=\"97dffa33-0066-48bc-a1bc-dc0daa52ac2f\">HeightFiltration</label><div class=\"sk-toggleable__content\"><pre>HeightFiltration(direction=array([-1,  1]), n_jobs=-1)</pre></div></div></div><div class=\"sk-item\"><div class=\"sk-estimator sk-toggleable\"><input class=\"sk-toggleable__control sk-hidden--visually\" id=\"fc81ee7f-6c77-4622-a9c1-27870c86d6e8\" type=\"checkbox\" ><label class=\"sk-toggleable__label\" for=\"fc81ee7f-6c77-4622-a9c1-27870c86d6e8\">CubicalPersistence</label><div class=\"sk-toggleable__content\"><pre>CubicalPersistence(n_jobs=-1)</pre></div></div></div><div class=\"sk-item\"><div class=\"sk-estimator sk-toggleable\"><input class=\"sk-toggleable__control sk-hidden--visually\" id=\"1fde6556-1e5e-4360-a05c-f80481bf9d84\" type=\"checkbox\" ><label class=\"sk-toggleable__label\" for=\"1fde6556-1e5e-4360-a05c-f80481bf9d84\">Scaler</label><div class=\"sk-toggleable__content\"><pre>Scaler(n_jobs=-1)</pre></div></div></div><div class=\"sk-item sk-dashed-wrapped\"><div class=\"sk-label-container\"><div class=\"sk-label sk-toggleable\"><input class=\"sk-toggleable__control sk-hidden--visually\" id=\"ef7be154-7174-4e5f-afcb-4baa70013276\" type=\"checkbox\" ><label class=\"sk-toggleable__label\" for=\"ef7be154-7174-4e5f-afcb-4baa70013276\">featureunion: FeatureUnion</label><div class=\"sk-toggleable__content\"><pre>FeatureUnion(transformer_list=[('persistenceentropy',\n",
       "                                PersistenceEntropy(nan_fill_value=-1)),\n",
       "                               ('amplitude-1',\n",
       "                                Amplitude(metric='bottleneck', metric_params={},\n",
       "                                          n_jobs=-1)),\n",
       "                               ('amplitude-2',\n",
       "                                Amplitude(metric='wasserstein',\n",
       "                                          metric_params={'p': 1}, n_jobs=-1)),\n",
       "                               ('amplitude-3',\n",
       "                                Amplitude(metric='wasserstein',\n",
       "                                          metric_params={'p': 2}, n_jobs=-1)),\n",
       "                               ('amplitude-4',\n",
       "                                Amplitude...\n",
       "                                          metric_params={'n_bins': 100, 'p': 1,\n",
       "                                                         'sigma': 1.6},\n",
       "                                          n_jobs=-1)),\n",
       "                               ('amplitude-11',\n",
       "                                Amplitude(metric='heat',\n",
       "                                          metric_params={'n_bins': 100, 'p': 1,\n",
       "                                                         'sigma': 3.2},\n",
       "                                          n_jobs=-1)),\n",
       "                               ('amplitude-12',\n",
       "                                Amplitude(metric='heat',\n",
       "                                          metric_params={'n_bins': 100, 'p': 2,\n",
       "                                                         'sigma': 1.6},\n",
       "                                          n_jobs=-1)),\n",
       "                               ('amplitude-13',\n",
       "                                Amplitude(metric='heat',\n",
       "                                          metric_params={'n_bins': 100, 'p': 2,\n",
       "                                                         'sigma': 3.2},\n",
       "                                          n_jobs=-1))])</pre></div></div></div><div class=\"sk-parallel\"><div class=\"sk-parallel-item\"><div class=\"sk-item\"><div class=\"sk-label-container\"><div class=\"sk-label sk-toggleable\"><label>persistenceentropy</label></div></div><div class=\"sk-serial\"><div class=\"sk-item\"><div class=\"sk-estimator sk-toggleable\"><input class=\"sk-toggleable__control sk-hidden--visually\" id=\"af21a9fd-778e-4339-b31d-20008745d1fb\" type=\"checkbox\" ><label class=\"sk-toggleable__label\" for=\"af21a9fd-778e-4339-b31d-20008745d1fb\">PersistenceEntropy</label><div class=\"sk-toggleable__content\"><pre>PersistenceEntropy(nan_fill_value=-1)</pre></div></div></div></div></div></div><div class=\"sk-parallel-item\"><div class=\"sk-item\"><div class=\"sk-label-container\"><div class=\"sk-label sk-toggleable\"><label>amplitude-1</label></div></div><div class=\"sk-serial\"><div class=\"sk-item\"><div class=\"sk-estimator sk-toggleable\"><input class=\"sk-toggleable__control sk-hidden--visually\" id=\"dfd3ada9-1848-42cd-8ac8-dfbb52df78c4\" type=\"checkbox\" ><label class=\"sk-toggleable__label\" for=\"dfd3ada9-1848-42cd-8ac8-dfbb52df78c4\">Amplitude</label><div class=\"sk-toggleable__content\"><pre>Amplitude(metric='bottleneck', metric_params={}, n_jobs=-1)</pre></div></div></div></div></div></div><div class=\"sk-parallel-item\"><div class=\"sk-item\"><div class=\"sk-label-container\"><div class=\"sk-label sk-toggleable\"><label>amplitude-2</label></div></div><div class=\"sk-serial\"><div class=\"sk-item\"><div class=\"sk-estimator sk-toggleable\"><input class=\"sk-toggleable__control sk-hidden--visually\" id=\"8dbe9605-b67f-4089-a13b-c4e2d7cc4730\" type=\"checkbox\" ><label class=\"sk-toggleable__label\" for=\"8dbe9605-b67f-4089-a13b-c4e2d7cc4730\">Amplitude</label><div class=\"sk-toggleable__content\"><pre>Amplitude(metric='wasserstein', metric_params={'p': 1}, n_jobs=-1)</pre></div></div></div></div></div></div><div class=\"sk-parallel-item\"><div class=\"sk-item\"><div class=\"sk-label-container\"><div class=\"sk-label sk-toggleable\"><label>amplitude-3</label></div></div><div class=\"sk-serial\"><div class=\"sk-item\"><div class=\"sk-estimator sk-toggleable\"><input class=\"sk-toggleable__control sk-hidden--visually\" id=\"c1116d1d-2692-4a8d-8205-5977afafb649\" type=\"checkbox\" ><label class=\"sk-toggleable__label\" for=\"c1116d1d-2692-4a8d-8205-5977afafb649\">Amplitude</label><div class=\"sk-toggleable__content\"><pre>Amplitude(metric='wasserstein', metric_params={'p': 2}, n_jobs=-1)</pre></div></div></div></div></div></div><div class=\"sk-parallel-item\"><div class=\"sk-item\"><div class=\"sk-label-container\"><div class=\"sk-label sk-toggleable\"><label>amplitude-4</label></div></div><div class=\"sk-serial\"><div class=\"sk-item\"><div class=\"sk-estimator sk-toggleable\"><input class=\"sk-toggleable__control sk-hidden--visually\" id=\"6cb9230f-f8db-41a1-857f-42de26c955c2\" type=\"checkbox\" ><label class=\"sk-toggleable__label\" for=\"6cb9230f-f8db-41a1-857f-42de26c955c2\">Amplitude</label><div class=\"sk-toggleable__content\"><pre>Amplitude(metric_params={'n_bins': 100, 'n_layers': 1, 'p': 1}, n_jobs=-1)</pre></div></div></div></div></div></div><div class=\"sk-parallel-item\"><div class=\"sk-item\"><div class=\"sk-label-container\"><div class=\"sk-label sk-toggleable\"><label>amplitude-5</label></div></div><div class=\"sk-serial\"><div class=\"sk-item\"><div class=\"sk-estimator sk-toggleable\"><input class=\"sk-toggleable__control sk-hidden--visually\" id=\"8c6d4ff9-28f1-4181-9834-e6ce150522c5\" type=\"checkbox\" ><label class=\"sk-toggleable__label\" for=\"8c6d4ff9-28f1-4181-9834-e6ce150522c5\">Amplitude</label><div class=\"sk-toggleable__content\"><pre>Amplitude(metric_params={'n_bins': 100, 'n_layers': 2, 'p': 1}, n_jobs=-1)</pre></div></div></div></div></div></div><div class=\"sk-parallel-item\"><div class=\"sk-item\"><div class=\"sk-label-container\"><div class=\"sk-label sk-toggleable\"><label>amplitude-6</label></div></div><div class=\"sk-serial\"><div class=\"sk-item\"><div class=\"sk-estimator sk-toggleable\"><input class=\"sk-toggleable__control sk-hidden--visually\" id=\"a5a99af9-ead5-49a8-9190-c43381e4a379\" type=\"checkbox\" ><label class=\"sk-toggleable__label\" for=\"a5a99af9-ead5-49a8-9190-c43381e4a379\">Amplitude</label><div class=\"sk-toggleable__content\"><pre>Amplitude(metric_params={'n_bins': 100, 'n_layers': 1, 'p': 2}, n_jobs=-1)</pre></div></div></div></div></div></div><div class=\"sk-parallel-item\"><div class=\"sk-item\"><div class=\"sk-label-container\"><div class=\"sk-label sk-toggleable\"><label>amplitude-7</label></div></div><div class=\"sk-serial\"><div class=\"sk-item\"><div class=\"sk-estimator sk-toggleable\"><input class=\"sk-toggleable__control sk-hidden--visually\" id=\"aa7fd4ae-b3a2-4ae5-aa7f-fb28d136a8b1\" type=\"checkbox\" ><label class=\"sk-toggleable__label\" for=\"aa7fd4ae-b3a2-4ae5-aa7f-fb28d136a8b1\">Amplitude</label><div class=\"sk-toggleable__content\"><pre>Amplitude(metric_params={'n_bins': 100, 'n_layers': 2, 'p': 2}, n_jobs=-1)</pre></div></div></div></div></div></div><div class=\"sk-parallel-item\"><div class=\"sk-item\"><div class=\"sk-label-container\"><div class=\"sk-label sk-toggleable\"><label>amplitude-8</label></div></div><div class=\"sk-serial\"><div class=\"sk-item\"><div class=\"sk-estimator sk-toggleable\"><input class=\"sk-toggleable__control sk-hidden--visually\" id=\"13296777-0284-4a1d-8b32-ca9d114e07a2\" type=\"checkbox\" ><label class=\"sk-toggleable__label\" for=\"13296777-0284-4a1d-8b32-ca9d114e07a2\">Amplitude</label><div class=\"sk-toggleable__content\"><pre>Amplitude(metric='betti', metric_params={'n_bins': 100, 'p': 1}, n_jobs=-1)</pre></div></div></div></div></div></div><div class=\"sk-parallel-item\"><div class=\"sk-item\"><div class=\"sk-label-container\"><div class=\"sk-label sk-toggleable\"><label>amplitude-9</label></div></div><div class=\"sk-serial\"><div class=\"sk-item\"><div class=\"sk-estimator sk-toggleable\"><input class=\"sk-toggleable__control sk-hidden--visually\" id=\"d2993650-bb7f-4268-b672-69075ab52fe7\" type=\"checkbox\" ><label class=\"sk-toggleable__label\" for=\"d2993650-bb7f-4268-b672-69075ab52fe7\">Amplitude</label><div class=\"sk-toggleable__content\"><pre>Amplitude(metric='betti', metric_params={'n_bins': 100, 'p': 2}, n_jobs=-1)</pre></div></div></div></div></div></div><div class=\"sk-parallel-item\"><div class=\"sk-item\"><div class=\"sk-label-container\"><div class=\"sk-label sk-toggleable\"><label>amplitude-10</label></div></div><div class=\"sk-serial\"><div class=\"sk-item\"><div class=\"sk-estimator sk-toggleable\"><input class=\"sk-toggleable__control sk-hidden--visually\" id=\"6e41126a-8143-408b-957f-199a47147152\" type=\"checkbox\" ><label class=\"sk-toggleable__label\" for=\"6e41126a-8143-408b-957f-199a47147152\">Amplitude</label><div class=\"sk-toggleable__content\"><pre>Amplitude(metric='heat', metric_params={'n_bins': 100, 'p': 1, 'sigma': 1.6},\n",
       "          n_jobs=-1)</pre></div></div></div></div></div></div><div class=\"sk-parallel-item\"><div class=\"sk-item\"><div class=\"sk-label-container\"><div class=\"sk-label sk-toggleable\"><label>amplitude-11</label></div></div><div class=\"sk-serial\"><div class=\"sk-item\"><div class=\"sk-estimator sk-toggleable\"><input class=\"sk-toggleable__control sk-hidden--visually\" id=\"c1fa83a9-4ff7-4d2a-a6c2-06e6846a960a\" type=\"checkbox\" ><label class=\"sk-toggleable__label\" for=\"c1fa83a9-4ff7-4d2a-a6c2-06e6846a960a\">Amplitude</label><div class=\"sk-toggleable__content\"><pre>Amplitude(metric='heat', metric_params={'n_bins': 100, 'p': 1, 'sigma': 3.2},\n",
       "          n_jobs=-1)</pre></div></div></div></div></div></div><div class=\"sk-parallel-item\"><div class=\"sk-item\"><div class=\"sk-label-container\"><div class=\"sk-label sk-toggleable\"><label>amplitude-12</label></div></div><div class=\"sk-serial\"><div class=\"sk-item\"><div class=\"sk-estimator sk-toggleable\"><input class=\"sk-toggleable__control sk-hidden--visually\" id=\"0c1768cf-45db-4e49-ab6c-4590173e6f5b\" type=\"checkbox\" ><label class=\"sk-toggleable__label\" for=\"0c1768cf-45db-4e49-ab6c-4590173e6f5b\">Amplitude</label><div class=\"sk-toggleable__content\"><pre>Amplitude(metric='heat', metric_params={'n_bins': 100, 'p': 2, 'sigma': 1.6},\n",
       "          n_jobs=-1)</pre></div></div></div></div></div></div><div class=\"sk-parallel-item\"><div class=\"sk-item\"><div class=\"sk-label-container\"><div class=\"sk-label sk-toggleable\"><label>amplitude-13</label></div></div><div class=\"sk-serial\"><div class=\"sk-item\"><div class=\"sk-estimator sk-toggleable\"><input class=\"sk-toggleable__control sk-hidden--visually\" id=\"b31bb0b3-fa5c-42f1-ac5a-875cb508de57\" type=\"checkbox\" ><label class=\"sk-toggleable__label\" for=\"b31bb0b3-fa5c-42f1-ac5a-875cb508de57\">Amplitude</label><div class=\"sk-toggleable__content\"><pre>Amplitude(metric='heat', metric_params={'n_bins': 100, 'p': 2, 'sigma': 3.2},\n",
       "          n_jobs=-1)</pre></div></div></div></div></div></div></div></div></div></div></div></div></div><div class=\"sk-parallel-item\"><div class=\"sk-item\"><div class=\"sk-label-container\"><div class=\"sk-label sk-toggleable\"><label>pipeline-5</label></div></div><div class=\"sk-serial\"><div class=\"sk-item\"><div class=\"sk-serial\"><div class=\"sk-item\"><div class=\"sk-estimator sk-toggleable\"><input class=\"sk-toggleable__control sk-hidden--visually\" id=\"6436831a-3039-4927-a35c-53639622bffc\" type=\"checkbox\" ><label class=\"sk-toggleable__label\" for=\"6436831a-3039-4927-a35c-53639622bffc\">Binarizer</label><div class=\"sk-toggleable__content\"><pre>Binarizer(n_jobs=-1, threshold=0.4)</pre></div></div></div><div class=\"sk-item\"><div class=\"sk-estimator sk-toggleable\"><input class=\"sk-toggleable__control sk-hidden--visually\" id=\"1f880cb0-6d24-48b4-904b-6de59747ba7e\" type=\"checkbox\" ><label class=\"sk-toggleable__label\" for=\"1f880cb0-6d24-48b4-904b-6de59747ba7e\">HeightFiltration</label><div class=\"sk-toggleable__content\"><pre>HeightFiltration(direction=array([-1,  0]), n_jobs=-1)</pre></div></div></div><div class=\"sk-item\"><div class=\"sk-estimator sk-toggleable\"><input class=\"sk-toggleable__control sk-hidden--visually\" id=\"497c3e9e-568e-4b8c-b154-37d076f338d0\" type=\"checkbox\" ><label class=\"sk-toggleable__label\" for=\"497c3e9e-568e-4b8c-b154-37d076f338d0\">CubicalPersistence</label><div class=\"sk-toggleable__content\"><pre>CubicalPersistence(n_jobs=-1)</pre></div></div></div><div class=\"sk-item\"><div class=\"sk-estimator sk-toggleable\"><input class=\"sk-toggleable__control sk-hidden--visually\" id=\"e6027323-0f08-4ca3-b570-1d8205796633\" type=\"checkbox\" ><label class=\"sk-toggleable__label\" for=\"e6027323-0f08-4ca3-b570-1d8205796633\">Scaler</label><div class=\"sk-toggleable__content\"><pre>Scaler(n_jobs=-1)</pre></div></div></div><div class=\"sk-item sk-dashed-wrapped\"><div class=\"sk-label-container\"><div class=\"sk-label sk-toggleable\"><input class=\"sk-toggleable__control sk-hidden--visually\" id=\"6893b0cc-2048-42c1-9450-04739cdc4953\" type=\"checkbox\" ><label class=\"sk-toggleable__label\" for=\"6893b0cc-2048-42c1-9450-04739cdc4953\">featureunion: FeatureUnion</label><div class=\"sk-toggleable__content\"><pre>FeatureUnion(transformer_list=[('persistenceentropy',\n",
       "                                PersistenceEntropy(nan_fill_value=-1)),\n",
       "                               ('amplitude-1',\n",
       "                                Amplitude(metric='bottleneck', metric_params={},\n",
       "                                          n_jobs=-1)),\n",
       "                               ('amplitude-2',\n",
       "                                Amplitude(metric='wasserstein',\n",
       "                                          metric_params={'p': 1}, n_jobs=-1)),\n",
       "                               ('amplitude-3',\n",
       "                                Amplitude(metric='wasserstein',\n",
       "                                          metric_params={'p': 2}, n_jobs=-1)),\n",
       "                               ('amplitude-4',\n",
       "                                Amplitude...\n",
       "                                          metric_params={'n_bins': 100, 'p': 1,\n",
       "                                                         'sigma': 1.6},\n",
       "                                          n_jobs=-1)),\n",
       "                               ('amplitude-11',\n",
       "                                Amplitude(metric='heat',\n",
       "                                          metric_params={'n_bins': 100, 'p': 1,\n",
       "                                                         'sigma': 3.2},\n",
       "                                          n_jobs=-1)),\n",
       "                               ('amplitude-12',\n",
       "                                Amplitude(metric='heat',\n",
       "                                          metric_params={'n_bins': 100, 'p': 2,\n",
       "                                                         'sigma': 1.6},\n",
       "                                          n_jobs=-1)),\n",
       "                               ('amplitude-13',\n",
       "                                Amplitude(metric='heat',\n",
       "                                          metric_params={'n_bins': 100, 'p': 2,\n",
       "                                                         'sigma': 3.2},\n",
       "                                          n_jobs=-1))])</pre></div></div></div><div class=\"sk-parallel\"><div class=\"sk-parallel-item\"><div class=\"sk-item\"><div class=\"sk-label-container\"><div class=\"sk-label sk-toggleable\"><label>persistenceentropy</label></div></div><div class=\"sk-serial\"><div class=\"sk-item\"><div class=\"sk-estimator sk-toggleable\"><input class=\"sk-toggleable__control sk-hidden--visually\" id=\"8633b562-229b-4d7e-8646-3e3c95cb4c3e\" type=\"checkbox\" ><label class=\"sk-toggleable__label\" for=\"8633b562-229b-4d7e-8646-3e3c95cb4c3e\">PersistenceEntropy</label><div class=\"sk-toggleable__content\"><pre>PersistenceEntropy(nan_fill_value=-1)</pre></div></div></div></div></div></div><div class=\"sk-parallel-item\"><div class=\"sk-item\"><div class=\"sk-label-container\"><div class=\"sk-label sk-toggleable\"><label>amplitude-1</label></div></div><div class=\"sk-serial\"><div class=\"sk-item\"><div class=\"sk-estimator sk-toggleable\"><input class=\"sk-toggleable__control sk-hidden--visually\" id=\"860ad9bf-f97e-4719-a310-09d6bb192822\" type=\"checkbox\" ><label class=\"sk-toggleable__label\" for=\"860ad9bf-f97e-4719-a310-09d6bb192822\">Amplitude</label><div class=\"sk-toggleable__content\"><pre>Amplitude(metric='bottleneck', metric_params={}, n_jobs=-1)</pre></div></div></div></div></div></div><div class=\"sk-parallel-item\"><div class=\"sk-item\"><div class=\"sk-label-container\"><div class=\"sk-label sk-toggleable\"><label>amplitude-2</label></div></div><div class=\"sk-serial\"><div class=\"sk-item\"><div class=\"sk-estimator sk-toggleable\"><input class=\"sk-toggleable__control sk-hidden--visually\" id=\"e8c85bf3-d18b-4dbd-82d2-998a61ee20bd\" type=\"checkbox\" ><label class=\"sk-toggleable__label\" for=\"e8c85bf3-d18b-4dbd-82d2-998a61ee20bd\">Amplitude</label><div class=\"sk-toggleable__content\"><pre>Amplitude(metric='wasserstein', metric_params={'p': 1}, n_jobs=-1)</pre></div></div></div></div></div></div><div class=\"sk-parallel-item\"><div class=\"sk-item\"><div class=\"sk-label-container\"><div class=\"sk-label sk-toggleable\"><label>amplitude-3</label></div></div><div class=\"sk-serial\"><div class=\"sk-item\"><div class=\"sk-estimator sk-toggleable\"><input class=\"sk-toggleable__control sk-hidden--visually\" id=\"db1e2a88-467a-474c-a956-0480027bb506\" type=\"checkbox\" ><label class=\"sk-toggleable__label\" for=\"db1e2a88-467a-474c-a956-0480027bb506\">Amplitude</label><div class=\"sk-toggleable__content\"><pre>Amplitude(metric='wasserstein', metric_params={'p': 2}, n_jobs=-1)</pre></div></div></div></div></div></div><div class=\"sk-parallel-item\"><div class=\"sk-item\"><div class=\"sk-label-container\"><div class=\"sk-label sk-toggleable\"><label>amplitude-4</label></div></div><div class=\"sk-serial\"><div class=\"sk-item\"><div class=\"sk-estimator sk-toggleable\"><input class=\"sk-toggleable__control sk-hidden--visually\" id=\"42f6db4c-9742-4213-bdff-edca1768b5c9\" type=\"checkbox\" ><label class=\"sk-toggleable__label\" for=\"42f6db4c-9742-4213-bdff-edca1768b5c9\">Amplitude</label><div class=\"sk-toggleable__content\"><pre>Amplitude(metric_params={'n_bins': 100, 'n_layers': 1, 'p': 1}, n_jobs=-1)</pre></div></div></div></div></div></div><div class=\"sk-parallel-item\"><div class=\"sk-item\"><div class=\"sk-label-container\"><div class=\"sk-label sk-toggleable\"><label>amplitude-5</label></div></div><div class=\"sk-serial\"><div class=\"sk-item\"><div class=\"sk-estimator sk-toggleable\"><input class=\"sk-toggleable__control sk-hidden--visually\" id=\"195232b5-d829-43ab-9d08-c94f416c52d8\" type=\"checkbox\" ><label class=\"sk-toggleable__label\" for=\"195232b5-d829-43ab-9d08-c94f416c52d8\">Amplitude</label><div class=\"sk-toggleable__content\"><pre>Amplitude(metric_params={'n_bins': 100, 'n_layers': 2, 'p': 1}, n_jobs=-1)</pre></div></div></div></div></div></div><div class=\"sk-parallel-item\"><div class=\"sk-item\"><div class=\"sk-label-container\"><div class=\"sk-label sk-toggleable\"><label>amplitude-6</label></div></div><div class=\"sk-serial\"><div class=\"sk-item\"><div class=\"sk-estimator sk-toggleable\"><input class=\"sk-toggleable__control sk-hidden--visually\" id=\"53fd6304-6cdd-4523-a215-63c476e97f42\" type=\"checkbox\" ><label class=\"sk-toggleable__label\" for=\"53fd6304-6cdd-4523-a215-63c476e97f42\">Amplitude</label><div class=\"sk-toggleable__content\"><pre>Amplitude(metric_params={'n_bins': 100, 'n_layers': 1, 'p': 2}, n_jobs=-1)</pre></div></div></div></div></div></div><div class=\"sk-parallel-item\"><div class=\"sk-item\"><div class=\"sk-label-container\"><div class=\"sk-label sk-toggleable\"><label>amplitude-7</label></div></div><div class=\"sk-serial\"><div class=\"sk-item\"><div class=\"sk-estimator sk-toggleable\"><input class=\"sk-toggleable__control sk-hidden--visually\" id=\"9502a4d6-8ff3-4c4f-b4d7-65e5758afb20\" type=\"checkbox\" ><label class=\"sk-toggleable__label\" for=\"9502a4d6-8ff3-4c4f-b4d7-65e5758afb20\">Amplitude</label><div class=\"sk-toggleable__content\"><pre>Amplitude(metric_params={'n_bins': 100, 'n_layers': 2, 'p': 2}, n_jobs=-1)</pre></div></div></div></div></div></div><div class=\"sk-parallel-item\"><div class=\"sk-item\"><div class=\"sk-label-container\"><div class=\"sk-label sk-toggleable\"><label>amplitude-8</label></div></div><div class=\"sk-serial\"><div class=\"sk-item\"><div class=\"sk-estimator sk-toggleable\"><input class=\"sk-toggleable__control sk-hidden--visually\" id=\"60bc26cf-37b4-4819-ba62-c7204fe6ff37\" type=\"checkbox\" ><label class=\"sk-toggleable__label\" for=\"60bc26cf-37b4-4819-ba62-c7204fe6ff37\">Amplitude</label><div class=\"sk-toggleable__content\"><pre>Amplitude(metric='betti', metric_params={'n_bins': 100, 'p': 1}, n_jobs=-1)</pre></div></div></div></div></div></div><div class=\"sk-parallel-item\"><div class=\"sk-item\"><div class=\"sk-label-container\"><div class=\"sk-label sk-toggleable\"><label>amplitude-9</label></div></div><div class=\"sk-serial\"><div class=\"sk-item\"><div class=\"sk-estimator sk-toggleable\"><input class=\"sk-toggleable__control sk-hidden--visually\" id=\"982fb4b6-28b5-4715-8fbb-1b1c96d92abb\" type=\"checkbox\" ><label class=\"sk-toggleable__label\" for=\"982fb4b6-28b5-4715-8fbb-1b1c96d92abb\">Amplitude</label><div class=\"sk-toggleable__content\"><pre>Amplitude(metric='betti', metric_params={'n_bins': 100, 'p': 2}, n_jobs=-1)</pre></div></div></div></div></div></div><div class=\"sk-parallel-item\"><div class=\"sk-item\"><div class=\"sk-label-container\"><div class=\"sk-label sk-toggleable\"><label>amplitude-10</label></div></div><div class=\"sk-serial\"><div class=\"sk-item\"><div class=\"sk-estimator sk-toggleable\"><input class=\"sk-toggleable__control sk-hidden--visually\" id=\"091c9cbf-59d6-4511-8b5d-63d132ca6e84\" type=\"checkbox\" ><label class=\"sk-toggleable__label\" for=\"091c9cbf-59d6-4511-8b5d-63d132ca6e84\">Amplitude</label><div class=\"sk-toggleable__content\"><pre>Amplitude(metric='heat', metric_params={'n_bins': 100, 'p': 1, 'sigma': 1.6},\n",
       "          n_jobs=-1)</pre></div></div></div></div></div></div><div class=\"sk-parallel-item\"><div class=\"sk-item\"><div class=\"sk-label-container\"><div class=\"sk-label sk-toggleable\"><label>amplitude-11</label></div></div><div class=\"sk-serial\"><div class=\"sk-item\"><div class=\"sk-estimator sk-toggleable\"><input class=\"sk-toggleable__control sk-hidden--visually\" id=\"68e47bc2-cc8b-4881-bcfc-b231fec5bb6a\" type=\"checkbox\" ><label class=\"sk-toggleable__label\" for=\"68e47bc2-cc8b-4881-bcfc-b231fec5bb6a\">Amplitude</label><div class=\"sk-toggleable__content\"><pre>Amplitude(metric='heat', metric_params={'n_bins': 100, 'p': 1, 'sigma': 3.2},\n",
       "          n_jobs=-1)</pre></div></div></div></div></div></div><div class=\"sk-parallel-item\"><div class=\"sk-item\"><div class=\"sk-label-container\"><div class=\"sk-label sk-toggleable\"><label>amplitude-12</label></div></div><div class=\"sk-serial\"><div class=\"sk-item\"><div class=\"sk-estimator sk-toggleable\"><input class=\"sk-toggleable__control sk-hidden--visually\" id=\"562b1ee1-8ee4-41e4-8a0c-50f57f4dcd33\" type=\"checkbox\" ><label class=\"sk-toggleable__label\" for=\"562b1ee1-8ee4-41e4-8a0c-50f57f4dcd33\">Amplitude</label><div class=\"sk-toggleable__content\"><pre>Amplitude(metric='heat', metric_params={'n_bins': 100, 'p': 2, 'sigma': 1.6},\n",
       "          n_jobs=-1)</pre></div></div></div></div></div></div><div class=\"sk-parallel-item\"><div class=\"sk-item\"><div class=\"sk-label-container\"><div class=\"sk-label sk-toggleable\"><label>amplitude-13</label></div></div><div class=\"sk-serial\"><div class=\"sk-item\"><div class=\"sk-estimator sk-toggleable\"><input class=\"sk-toggleable__control sk-hidden--visually\" id=\"5d3002c8-659d-4fbc-8eb3-a2376925ac27\" type=\"checkbox\" ><label class=\"sk-toggleable__label\" for=\"5d3002c8-659d-4fbc-8eb3-a2376925ac27\">Amplitude</label><div class=\"sk-toggleable__content\"><pre>Amplitude(metric='heat', metric_params={'n_bins': 100, 'p': 2, 'sigma': 3.2},\n",
       "          n_jobs=-1)</pre></div></div></div></div></div></div></div></div></div></div></div></div></div><div class=\"sk-parallel-item\"><div class=\"sk-item\"><div class=\"sk-label-container\"><div class=\"sk-label sk-toggleable\"><label>pipeline-6</label></div></div><div class=\"sk-serial\"><div class=\"sk-item\"><div class=\"sk-serial\"><div class=\"sk-item\"><div class=\"sk-estimator sk-toggleable\"><input class=\"sk-toggleable__control sk-hidden--visually\" id=\"312f5925-1738-41a1-82d5-72f5f93a5208\" type=\"checkbox\" ><label class=\"sk-toggleable__label\" for=\"312f5925-1738-41a1-82d5-72f5f93a5208\">Binarizer</label><div class=\"sk-toggleable__content\"><pre>Binarizer(n_jobs=-1, threshold=0.4)</pre></div></div></div><div class=\"sk-item\"><div class=\"sk-estimator sk-toggleable\"><input class=\"sk-toggleable__control sk-hidden--visually\" id=\"2022dee6-c25a-4d37-afc1-0bc0ad096197\" type=\"checkbox\" ><label class=\"sk-toggleable__label\" for=\"2022dee6-c25a-4d37-afc1-0bc0ad096197\">HeightFiltration</label><div class=\"sk-toggleable__content\"><pre>HeightFiltration(direction=array([-1, -1]), n_jobs=-1)</pre></div></div></div><div class=\"sk-item\"><div class=\"sk-estimator sk-toggleable\"><input class=\"sk-toggleable__control sk-hidden--visually\" id=\"6ce5640e-80e8-4bf9-8cb7-b071664c3d4a\" type=\"checkbox\" ><label class=\"sk-toggleable__label\" for=\"6ce5640e-80e8-4bf9-8cb7-b071664c3d4a\">CubicalPersistence</label><div class=\"sk-toggleable__content\"><pre>CubicalPersistence(n_jobs=-1)</pre></div></div></div><div class=\"sk-item\"><div class=\"sk-estimator sk-toggleable\"><input class=\"sk-toggleable__control sk-hidden--visually\" id=\"d52b8e9d-b529-4867-b7d3-0b910c97dd66\" type=\"checkbox\" ><label class=\"sk-toggleable__label\" for=\"d52b8e9d-b529-4867-b7d3-0b910c97dd66\">Scaler</label><div class=\"sk-toggleable__content\"><pre>Scaler(n_jobs=-1)</pre></div></div></div><div class=\"sk-item sk-dashed-wrapped\"><div class=\"sk-label-container\"><div class=\"sk-label sk-toggleable\"><input class=\"sk-toggleable__control sk-hidden--visually\" id=\"63540fa7-b4ed-4b42-9388-ef4d4e00a913\" type=\"checkbox\" ><label class=\"sk-toggleable__label\" for=\"63540fa7-b4ed-4b42-9388-ef4d4e00a913\">featureunion: FeatureUnion</label><div class=\"sk-toggleable__content\"><pre>FeatureUnion(transformer_list=[('persistenceentropy',\n",
       "                                PersistenceEntropy(nan_fill_value=-1)),\n",
       "                               ('amplitude-1',\n",
       "                                Amplitude(metric='bottleneck', metric_params={},\n",
       "                                          n_jobs=-1)),\n",
       "                               ('amplitude-2',\n",
       "                                Amplitude(metric='wasserstein',\n",
       "                                          metric_params={'p': 1}, n_jobs=-1)),\n",
       "                               ('amplitude-3',\n",
       "                                Amplitude(metric='wasserstein',\n",
       "                                          metric_params={'p': 2}, n_jobs=-1)),\n",
       "                               ('amplitude-4',\n",
       "                                Amplitude...\n",
       "                                          metric_params={'n_bins': 100, 'p': 1,\n",
       "                                                         'sigma': 1.6},\n",
       "                                          n_jobs=-1)),\n",
       "                               ('amplitude-11',\n",
       "                                Amplitude(metric='heat',\n",
       "                                          metric_params={'n_bins': 100, 'p': 1,\n",
       "                                                         'sigma': 3.2},\n",
       "                                          n_jobs=-1)),\n",
       "                               ('amplitude-12',\n",
       "                                Amplitude(metric='heat',\n",
       "                                          metric_params={'n_bins': 100, 'p': 2,\n",
       "                                                         'sigma': 1.6},\n",
       "                                          n_jobs=-1)),\n",
       "                               ('amplitude-13',\n",
       "                                Amplitude(metric='heat',\n",
       "                                          metric_params={'n_bins': 100, 'p': 2,\n",
       "                                                         'sigma': 3.2},\n",
       "                                          n_jobs=-1))])</pre></div></div></div><div class=\"sk-parallel\"><div class=\"sk-parallel-item\"><div class=\"sk-item\"><div class=\"sk-label-container\"><div class=\"sk-label sk-toggleable\"><label>persistenceentropy</label></div></div><div class=\"sk-serial\"><div class=\"sk-item\"><div class=\"sk-estimator sk-toggleable\"><input class=\"sk-toggleable__control sk-hidden--visually\" id=\"2d6c1385-0b99-48b9-8e05-7cfbd1e75121\" type=\"checkbox\" ><label class=\"sk-toggleable__label\" for=\"2d6c1385-0b99-48b9-8e05-7cfbd1e75121\">PersistenceEntropy</label><div class=\"sk-toggleable__content\"><pre>PersistenceEntropy(nan_fill_value=-1)</pre></div></div></div></div></div></div><div class=\"sk-parallel-item\"><div class=\"sk-item\"><div class=\"sk-label-container\"><div class=\"sk-label sk-toggleable\"><label>amplitude-1</label></div></div><div class=\"sk-serial\"><div class=\"sk-item\"><div class=\"sk-estimator sk-toggleable\"><input class=\"sk-toggleable__control sk-hidden--visually\" id=\"13a569aa-b74f-4c6f-a8f0-203d7a51c0e2\" type=\"checkbox\" ><label class=\"sk-toggleable__label\" for=\"13a569aa-b74f-4c6f-a8f0-203d7a51c0e2\">Amplitude</label><div class=\"sk-toggleable__content\"><pre>Amplitude(metric='bottleneck', metric_params={}, n_jobs=-1)</pre></div></div></div></div></div></div><div class=\"sk-parallel-item\"><div class=\"sk-item\"><div class=\"sk-label-container\"><div class=\"sk-label sk-toggleable\"><label>amplitude-2</label></div></div><div class=\"sk-serial\"><div class=\"sk-item\"><div class=\"sk-estimator sk-toggleable\"><input class=\"sk-toggleable__control sk-hidden--visually\" id=\"d0ee8c70-e989-408f-85fa-3bd093c3e3e7\" type=\"checkbox\" ><label class=\"sk-toggleable__label\" for=\"d0ee8c70-e989-408f-85fa-3bd093c3e3e7\">Amplitude</label><div class=\"sk-toggleable__content\"><pre>Amplitude(metric='wasserstein', metric_params={'p': 1}, n_jobs=-1)</pre></div></div></div></div></div></div><div class=\"sk-parallel-item\"><div class=\"sk-item\"><div class=\"sk-label-container\"><div class=\"sk-label sk-toggleable\"><label>amplitude-3</label></div></div><div class=\"sk-serial\"><div class=\"sk-item\"><div class=\"sk-estimator sk-toggleable\"><input class=\"sk-toggleable__control sk-hidden--visually\" id=\"a1fb9207-5b7a-4ce6-a147-24abe8e3beae\" type=\"checkbox\" ><label class=\"sk-toggleable__label\" for=\"a1fb9207-5b7a-4ce6-a147-24abe8e3beae\">Amplitude</label><div class=\"sk-toggleable__content\"><pre>Amplitude(metric='wasserstein', metric_params={'p': 2}, n_jobs=-1)</pre></div></div></div></div></div></div><div class=\"sk-parallel-item\"><div class=\"sk-item\"><div class=\"sk-label-container\"><div class=\"sk-label sk-toggleable\"><label>amplitude-4</label></div></div><div class=\"sk-serial\"><div class=\"sk-item\"><div class=\"sk-estimator sk-toggleable\"><input class=\"sk-toggleable__control sk-hidden--visually\" id=\"ed5a996d-705a-49db-a028-ee6dadc3dc39\" type=\"checkbox\" ><label class=\"sk-toggleable__label\" for=\"ed5a996d-705a-49db-a028-ee6dadc3dc39\">Amplitude</label><div class=\"sk-toggleable__content\"><pre>Amplitude(metric_params={'n_bins': 100, 'n_layers': 1, 'p': 1}, n_jobs=-1)</pre></div></div></div></div></div></div><div class=\"sk-parallel-item\"><div class=\"sk-item\"><div class=\"sk-label-container\"><div class=\"sk-label sk-toggleable\"><label>amplitude-5</label></div></div><div class=\"sk-serial\"><div class=\"sk-item\"><div class=\"sk-estimator sk-toggleable\"><input class=\"sk-toggleable__control sk-hidden--visually\" id=\"c8166ff9-11e2-4122-8396-07979b438734\" type=\"checkbox\" ><label class=\"sk-toggleable__label\" for=\"c8166ff9-11e2-4122-8396-07979b438734\">Amplitude</label><div class=\"sk-toggleable__content\"><pre>Amplitude(metric_params={'n_bins': 100, 'n_layers': 2, 'p': 1}, n_jobs=-1)</pre></div></div></div></div></div></div><div class=\"sk-parallel-item\"><div class=\"sk-item\"><div class=\"sk-label-container\"><div class=\"sk-label sk-toggleable\"><label>amplitude-6</label></div></div><div class=\"sk-serial\"><div class=\"sk-item\"><div class=\"sk-estimator sk-toggleable\"><input class=\"sk-toggleable__control sk-hidden--visually\" id=\"f7df1d99-70aa-4a32-8a0a-b700ffbb6fce\" type=\"checkbox\" ><label class=\"sk-toggleable__label\" for=\"f7df1d99-70aa-4a32-8a0a-b700ffbb6fce\">Amplitude</label><div class=\"sk-toggleable__content\"><pre>Amplitude(metric_params={'n_bins': 100, 'n_layers': 1, 'p': 2}, n_jobs=-1)</pre></div></div></div></div></div></div><div class=\"sk-parallel-item\"><div class=\"sk-item\"><div class=\"sk-label-container\"><div class=\"sk-label sk-toggleable\"><label>amplitude-7</label></div></div><div class=\"sk-serial\"><div class=\"sk-item\"><div class=\"sk-estimator sk-toggleable\"><input class=\"sk-toggleable__control sk-hidden--visually\" id=\"641a95f2-cb98-4f12-a5fa-c21189b6024f\" type=\"checkbox\" ><label class=\"sk-toggleable__label\" for=\"641a95f2-cb98-4f12-a5fa-c21189b6024f\">Amplitude</label><div class=\"sk-toggleable__content\"><pre>Amplitude(metric_params={'n_bins': 100, 'n_layers': 2, 'p': 2}, n_jobs=-1)</pre></div></div></div></div></div></div><div class=\"sk-parallel-item\"><div class=\"sk-item\"><div class=\"sk-label-container\"><div class=\"sk-label sk-toggleable\"><label>amplitude-8</label></div></div><div class=\"sk-serial\"><div class=\"sk-item\"><div class=\"sk-estimator sk-toggleable\"><input class=\"sk-toggleable__control sk-hidden--visually\" id=\"34e6c042-4428-4a6c-bdf4-30957e51088e\" type=\"checkbox\" ><label class=\"sk-toggleable__label\" for=\"34e6c042-4428-4a6c-bdf4-30957e51088e\">Amplitude</label><div class=\"sk-toggleable__content\"><pre>Amplitude(metric='betti', metric_params={'n_bins': 100, 'p': 1}, n_jobs=-1)</pre></div></div></div></div></div></div><div class=\"sk-parallel-item\"><div class=\"sk-item\"><div class=\"sk-label-container\"><div class=\"sk-label sk-toggleable\"><label>amplitude-9</label></div></div><div class=\"sk-serial\"><div class=\"sk-item\"><div class=\"sk-estimator sk-toggleable\"><input class=\"sk-toggleable__control sk-hidden--visually\" id=\"319ab208-d192-4614-a370-f9725d84b935\" type=\"checkbox\" ><label class=\"sk-toggleable__label\" for=\"319ab208-d192-4614-a370-f9725d84b935\">Amplitude</label><div class=\"sk-toggleable__content\"><pre>Amplitude(metric='betti', metric_params={'n_bins': 100, 'p': 2}, n_jobs=-1)</pre></div></div></div></div></div></div><div class=\"sk-parallel-item\"><div class=\"sk-item\"><div class=\"sk-label-container\"><div class=\"sk-label sk-toggleable\"><label>amplitude-10</label></div></div><div class=\"sk-serial\"><div class=\"sk-item\"><div class=\"sk-estimator sk-toggleable\"><input class=\"sk-toggleable__control sk-hidden--visually\" id=\"7d9fd9a5-7b13-4268-87a8-f85591ee3d44\" type=\"checkbox\" ><label class=\"sk-toggleable__label\" for=\"7d9fd9a5-7b13-4268-87a8-f85591ee3d44\">Amplitude</label><div class=\"sk-toggleable__content\"><pre>Amplitude(metric='heat', metric_params={'n_bins': 100, 'p': 1, 'sigma': 1.6},\n",
       "          n_jobs=-1)</pre></div></div></div></div></div></div><div class=\"sk-parallel-item\"><div class=\"sk-item\"><div class=\"sk-label-container\"><div class=\"sk-label sk-toggleable\"><label>amplitude-11</label></div></div><div class=\"sk-serial\"><div class=\"sk-item\"><div class=\"sk-estimator sk-toggleable\"><input class=\"sk-toggleable__control sk-hidden--visually\" id=\"cddd3a2a-dd7e-47db-b9ff-40377ce9c579\" type=\"checkbox\" ><label class=\"sk-toggleable__label\" for=\"cddd3a2a-dd7e-47db-b9ff-40377ce9c579\">Amplitude</label><div class=\"sk-toggleable__content\"><pre>Amplitude(metric='heat', metric_params={'n_bins': 100, 'p': 1, 'sigma': 3.2},\n",
       "          n_jobs=-1)</pre></div></div></div></div></div></div><div class=\"sk-parallel-item\"><div class=\"sk-item\"><div class=\"sk-label-container\"><div class=\"sk-label sk-toggleable\"><label>amplitude-12</label></div></div><div class=\"sk-serial\"><div class=\"sk-item\"><div class=\"sk-estimator sk-toggleable\"><input class=\"sk-toggleable__control sk-hidden--visually\" id=\"1a4d901c-2c2a-46d6-9aca-a02d9874be70\" type=\"checkbox\" ><label class=\"sk-toggleable__label\" for=\"1a4d901c-2c2a-46d6-9aca-a02d9874be70\">Amplitude</label><div class=\"sk-toggleable__content\"><pre>Amplitude(metric='heat', metric_params={'n_bins': 100, 'p': 2, 'sigma': 1.6},\n",
       "          n_jobs=-1)</pre></div></div></div></div></div></div><div class=\"sk-parallel-item\"><div class=\"sk-item\"><div class=\"sk-label-container\"><div class=\"sk-label sk-toggleable\"><label>amplitude-13</label></div></div><div class=\"sk-serial\"><div class=\"sk-item\"><div class=\"sk-estimator sk-toggleable\"><input class=\"sk-toggleable__control sk-hidden--visually\" id=\"8466bb34-003d-4e3b-ac9b-be6f362630e8\" type=\"checkbox\" ><label class=\"sk-toggleable__label\" for=\"8466bb34-003d-4e3b-ac9b-be6f362630e8\">Amplitude</label><div class=\"sk-toggleable__content\"><pre>Amplitude(metric='heat', metric_params={'n_bins': 100, 'p': 2, 'sigma': 3.2},\n",
       "          n_jobs=-1)</pre></div></div></div></div></div></div></div></div></div></div></div></div></div><div class=\"sk-parallel-item\"><div class=\"sk-item\"><div class=\"sk-label-container\"><div class=\"sk-label sk-toggleable\"><label>pipeline-7</label></div></div><div class=\"sk-serial\"><div class=\"sk-item\"><div class=\"sk-serial\"><div class=\"sk-item\"><div class=\"sk-estimator sk-toggleable\"><input class=\"sk-toggleable__control sk-hidden--visually\" id=\"eb7f554c-ac3e-46c4-8b84-505ea1ea26da\" type=\"checkbox\" ><label class=\"sk-toggleable__label\" for=\"eb7f554c-ac3e-46c4-8b84-505ea1ea26da\">Binarizer</label><div class=\"sk-toggleable__content\"><pre>Binarizer(n_jobs=-1, threshold=0.4)</pre></div></div></div><div class=\"sk-item\"><div class=\"sk-estimator sk-toggleable\"><input class=\"sk-toggleable__control sk-hidden--visually\" id=\"240a8abb-4ba9-4f51-b90c-b2c6fd28fcad\" type=\"checkbox\" ><label class=\"sk-toggleable__label\" for=\"240a8abb-4ba9-4f51-b90c-b2c6fd28fcad\">HeightFiltration</label><div class=\"sk-toggleable__content\"><pre>HeightFiltration(direction=array([ 0, -1]), n_jobs=-1)</pre></div></div></div><div class=\"sk-item\"><div class=\"sk-estimator sk-toggleable\"><input class=\"sk-toggleable__control sk-hidden--visually\" id=\"e124c6c9-ac8a-47dc-87c7-aaee94a7ddca\" type=\"checkbox\" ><label class=\"sk-toggleable__label\" for=\"e124c6c9-ac8a-47dc-87c7-aaee94a7ddca\">CubicalPersistence</label><div class=\"sk-toggleable__content\"><pre>CubicalPersistence(n_jobs=-1)</pre></div></div></div><div class=\"sk-item\"><div class=\"sk-estimator sk-toggleable\"><input class=\"sk-toggleable__control sk-hidden--visually\" id=\"89c5f005-f2ad-4faa-aac3-c2c56955de23\" type=\"checkbox\" ><label class=\"sk-toggleable__label\" for=\"89c5f005-f2ad-4faa-aac3-c2c56955de23\">Scaler</label><div class=\"sk-toggleable__content\"><pre>Scaler(n_jobs=-1)</pre></div></div></div><div class=\"sk-item sk-dashed-wrapped\"><div class=\"sk-label-container\"><div class=\"sk-label sk-toggleable\"><input class=\"sk-toggleable__control sk-hidden--visually\" id=\"4add75d6-1b12-4106-a504-18e8785fd6bf\" type=\"checkbox\" ><label class=\"sk-toggleable__label\" for=\"4add75d6-1b12-4106-a504-18e8785fd6bf\">featureunion: FeatureUnion</label><div class=\"sk-toggleable__content\"><pre>FeatureUnion(transformer_list=[('persistenceentropy',\n",
       "                                PersistenceEntropy(nan_fill_value=-1)),\n",
       "                               ('amplitude-1',\n",
       "                                Amplitude(metric='bottleneck', metric_params={},\n",
       "                                          n_jobs=-1)),\n",
       "                               ('amplitude-2',\n",
       "                                Amplitude(metric='wasserstein',\n",
       "                                          metric_params={'p': 1}, n_jobs=-1)),\n",
       "                               ('amplitude-3',\n",
       "                                Amplitude(metric='wasserstein',\n",
       "                                          metric_params={'p': 2}, n_jobs=-1)),\n",
       "                               ('amplitude-4',\n",
       "                                Amplitude...\n",
       "                                          metric_params={'n_bins': 100, 'p': 1,\n",
       "                                                         'sigma': 1.6},\n",
       "                                          n_jobs=-1)),\n",
       "                               ('amplitude-11',\n",
       "                                Amplitude(metric='heat',\n",
       "                                          metric_params={'n_bins': 100, 'p': 1,\n",
       "                                                         'sigma': 3.2},\n",
       "                                          n_jobs=-1)),\n",
       "                               ('amplitude-12',\n",
       "                                Amplitude(metric='heat',\n",
       "                                          metric_params={'n_bins': 100, 'p': 2,\n",
       "                                                         'sigma': 1.6},\n",
       "                                          n_jobs=-1)),\n",
       "                               ('amplitude-13',\n",
       "                                Amplitude(metric='heat',\n",
       "                                          metric_params={'n_bins': 100, 'p': 2,\n",
       "                                                         'sigma': 3.2},\n",
       "                                          n_jobs=-1))])</pre></div></div></div><div class=\"sk-parallel\"><div class=\"sk-parallel-item\"><div class=\"sk-item\"><div class=\"sk-label-container\"><div class=\"sk-label sk-toggleable\"><label>persistenceentropy</label></div></div><div class=\"sk-serial\"><div class=\"sk-item\"><div class=\"sk-estimator sk-toggleable\"><input class=\"sk-toggleable__control sk-hidden--visually\" id=\"a12659f4-028d-4c5c-bf10-9b71bd51bed4\" type=\"checkbox\" ><label class=\"sk-toggleable__label\" for=\"a12659f4-028d-4c5c-bf10-9b71bd51bed4\">PersistenceEntropy</label><div class=\"sk-toggleable__content\"><pre>PersistenceEntropy(nan_fill_value=-1)</pre></div></div></div></div></div></div><div class=\"sk-parallel-item\"><div class=\"sk-item\"><div class=\"sk-label-container\"><div class=\"sk-label sk-toggleable\"><label>amplitude-1</label></div></div><div class=\"sk-serial\"><div class=\"sk-item\"><div class=\"sk-estimator sk-toggleable\"><input class=\"sk-toggleable__control sk-hidden--visually\" id=\"074fd9c0-e0b3-48b6-b4fb-7613f793e5da\" type=\"checkbox\" ><label class=\"sk-toggleable__label\" for=\"074fd9c0-e0b3-48b6-b4fb-7613f793e5da\">Amplitude</label><div class=\"sk-toggleable__content\"><pre>Amplitude(metric='bottleneck', metric_params={}, n_jobs=-1)</pre></div></div></div></div></div></div><div class=\"sk-parallel-item\"><div class=\"sk-item\"><div class=\"sk-label-container\"><div class=\"sk-label sk-toggleable\"><label>amplitude-2</label></div></div><div class=\"sk-serial\"><div class=\"sk-item\"><div class=\"sk-estimator sk-toggleable\"><input class=\"sk-toggleable__control sk-hidden--visually\" id=\"44cbef1a-020a-494b-aa2d-0d59b5ea67ec\" type=\"checkbox\" ><label class=\"sk-toggleable__label\" for=\"44cbef1a-020a-494b-aa2d-0d59b5ea67ec\">Amplitude</label><div class=\"sk-toggleable__content\"><pre>Amplitude(metric='wasserstein', metric_params={'p': 1}, n_jobs=-1)</pre></div></div></div></div></div></div><div class=\"sk-parallel-item\"><div class=\"sk-item\"><div class=\"sk-label-container\"><div class=\"sk-label sk-toggleable\"><label>amplitude-3</label></div></div><div class=\"sk-serial\"><div class=\"sk-item\"><div class=\"sk-estimator sk-toggleable\"><input class=\"sk-toggleable__control sk-hidden--visually\" id=\"b830cae5-7626-41c1-8412-744aa4bcc08a\" type=\"checkbox\" ><label class=\"sk-toggleable__label\" for=\"b830cae5-7626-41c1-8412-744aa4bcc08a\">Amplitude</label><div class=\"sk-toggleable__content\"><pre>Amplitude(metric='wasserstein', metric_params={'p': 2}, n_jobs=-1)</pre></div></div></div></div></div></div><div class=\"sk-parallel-item\"><div class=\"sk-item\"><div class=\"sk-label-container\"><div class=\"sk-label sk-toggleable\"><label>amplitude-4</label></div></div><div class=\"sk-serial\"><div class=\"sk-item\"><div class=\"sk-estimator sk-toggleable\"><input class=\"sk-toggleable__control sk-hidden--visually\" id=\"1f66d283-a057-45b8-b49a-36ec62412286\" type=\"checkbox\" ><label class=\"sk-toggleable__label\" for=\"1f66d283-a057-45b8-b49a-36ec62412286\">Amplitude</label><div class=\"sk-toggleable__content\"><pre>Amplitude(metric_params={'n_bins': 100, 'n_layers': 1, 'p': 1}, n_jobs=-1)</pre></div></div></div></div></div></div><div class=\"sk-parallel-item\"><div class=\"sk-item\"><div class=\"sk-label-container\"><div class=\"sk-label sk-toggleable\"><label>amplitude-5</label></div></div><div class=\"sk-serial\"><div class=\"sk-item\"><div class=\"sk-estimator sk-toggleable\"><input class=\"sk-toggleable__control sk-hidden--visually\" id=\"91c4f135-d441-4ecf-808d-8bd37fc5c423\" type=\"checkbox\" ><label class=\"sk-toggleable__label\" for=\"91c4f135-d441-4ecf-808d-8bd37fc5c423\">Amplitude</label><div class=\"sk-toggleable__content\"><pre>Amplitude(metric_params={'n_bins': 100, 'n_layers': 2, 'p': 1}, n_jobs=-1)</pre></div></div></div></div></div></div><div class=\"sk-parallel-item\"><div class=\"sk-item\"><div class=\"sk-label-container\"><div class=\"sk-label sk-toggleable\"><label>amplitude-6</label></div></div><div class=\"sk-serial\"><div class=\"sk-item\"><div class=\"sk-estimator sk-toggleable\"><input class=\"sk-toggleable__control sk-hidden--visually\" id=\"9dc1b572-c073-494c-9b39-2c0d9e1d9a31\" type=\"checkbox\" ><label class=\"sk-toggleable__label\" for=\"9dc1b572-c073-494c-9b39-2c0d9e1d9a31\">Amplitude</label><div class=\"sk-toggleable__content\"><pre>Amplitude(metric_params={'n_bins': 100, 'n_layers': 1, 'p': 2}, n_jobs=-1)</pre></div></div></div></div></div></div><div class=\"sk-parallel-item\"><div class=\"sk-item\"><div class=\"sk-label-container\"><div class=\"sk-label sk-toggleable\"><label>amplitude-7</label></div></div><div class=\"sk-serial\"><div class=\"sk-item\"><div class=\"sk-estimator sk-toggleable\"><input class=\"sk-toggleable__control sk-hidden--visually\" id=\"fed920cc-57c3-4d6b-b72b-fbd0acbdc282\" type=\"checkbox\" ><label class=\"sk-toggleable__label\" for=\"fed920cc-57c3-4d6b-b72b-fbd0acbdc282\">Amplitude</label><div class=\"sk-toggleable__content\"><pre>Amplitude(metric_params={'n_bins': 100, 'n_layers': 2, 'p': 2}, n_jobs=-1)</pre></div></div></div></div></div></div><div class=\"sk-parallel-item\"><div class=\"sk-item\"><div class=\"sk-label-container\"><div class=\"sk-label sk-toggleable\"><label>amplitude-8</label></div></div><div class=\"sk-serial\"><div class=\"sk-item\"><div class=\"sk-estimator sk-toggleable\"><input class=\"sk-toggleable__control sk-hidden--visually\" id=\"6f7c4387-fca1-458d-aaed-0aea17e8e208\" type=\"checkbox\" ><label class=\"sk-toggleable__label\" for=\"6f7c4387-fca1-458d-aaed-0aea17e8e208\">Amplitude</label><div class=\"sk-toggleable__content\"><pre>Amplitude(metric='betti', metric_params={'n_bins': 100, 'p': 1}, n_jobs=-1)</pre></div></div></div></div></div></div><div class=\"sk-parallel-item\"><div class=\"sk-item\"><div class=\"sk-label-container\"><div class=\"sk-label sk-toggleable\"><label>amplitude-9</label></div></div><div class=\"sk-serial\"><div class=\"sk-item\"><div class=\"sk-estimator sk-toggleable\"><input class=\"sk-toggleable__control sk-hidden--visually\" id=\"b013316f-05cd-4ac8-9e84-85b8e4dcb44d\" type=\"checkbox\" ><label class=\"sk-toggleable__label\" for=\"b013316f-05cd-4ac8-9e84-85b8e4dcb44d\">Amplitude</label><div class=\"sk-toggleable__content\"><pre>Amplitude(metric='betti', metric_params={'n_bins': 100, 'p': 2}, n_jobs=-1)</pre></div></div></div></div></div></div><div class=\"sk-parallel-item\"><div class=\"sk-item\"><div class=\"sk-label-container\"><div class=\"sk-label sk-toggleable\"><label>amplitude-10</label></div></div><div class=\"sk-serial\"><div class=\"sk-item\"><div class=\"sk-estimator sk-toggleable\"><input class=\"sk-toggleable__control sk-hidden--visually\" id=\"9d48f7d5-2fac-41e2-bebc-739a2be25485\" type=\"checkbox\" ><label class=\"sk-toggleable__label\" for=\"9d48f7d5-2fac-41e2-bebc-739a2be25485\">Amplitude</label><div class=\"sk-toggleable__content\"><pre>Amplitude(metric='heat', metric_params={'n_bins': 100, 'p': 1, 'sigma': 1.6},\n",
       "          n_jobs=-1)</pre></div></div></div></div></div></div><div class=\"sk-parallel-item\"><div class=\"sk-item\"><div class=\"sk-label-container\"><div class=\"sk-label sk-toggleable\"><label>amplitude-11</label></div></div><div class=\"sk-serial\"><div class=\"sk-item\"><div class=\"sk-estimator sk-toggleable\"><input class=\"sk-toggleable__control sk-hidden--visually\" id=\"e3c6debc-8950-41d3-b0d1-24273b4b1bf7\" type=\"checkbox\" ><label class=\"sk-toggleable__label\" for=\"e3c6debc-8950-41d3-b0d1-24273b4b1bf7\">Amplitude</label><div class=\"sk-toggleable__content\"><pre>Amplitude(metric='heat', metric_params={'n_bins': 100, 'p': 1, 'sigma': 3.2},\n",
       "          n_jobs=-1)</pre></div></div></div></div></div></div><div class=\"sk-parallel-item\"><div class=\"sk-item\"><div class=\"sk-label-container\"><div class=\"sk-label sk-toggleable\"><label>amplitude-12</label></div></div><div class=\"sk-serial\"><div class=\"sk-item\"><div class=\"sk-estimator sk-toggleable\"><input class=\"sk-toggleable__control sk-hidden--visually\" id=\"1035c0fd-0c2d-4f13-b3ca-43cc05104f0f\" type=\"checkbox\" ><label class=\"sk-toggleable__label\" for=\"1035c0fd-0c2d-4f13-b3ca-43cc05104f0f\">Amplitude</label><div class=\"sk-toggleable__content\"><pre>Amplitude(metric='heat', metric_params={'n_bins': 100, 'p': 2, 'sigma': 1.6},\n",
       "          n_jobs=-1)</pre></div></div></div></div></div></div><div class=\"sk-parallel-item\"><div class=\"sk-item\"><div class=\"sk-label-container\"><div class=\"sk-label sk-toggleable\"><label>amplitude-13</label></div></div><div class=\"sk-serial\"><div class=\"sk-item\"><div class=\"sk-estimator sk-toggleable\"><input class=\"sk-toggleable__control sk-hidden--visually\" id=\"f6893fbf-c1a6-463b-b0ed-27f54c891380\" type=\"checkbox\" ><label class=\"sk-toggleable__label\" for=\"f6893fbf-c1a6-463b-b0ed-27f54c891380\">Amplitude</label><div class=\"sk-toggleable__content\"><pre>Amplitude(metric='heat', metric_params={'n_bins': 100, 'p': 2, 'sigma': 3.2},\n",
       "          n_jobs=-1)</pre></div></div></div></div></div></div></div></div></div></div></div></div></div><div class=\"sk-parallel-item\"><div class=\"sk-item\"><div class=\"sk-label-container\"><div class=\"sk-label sk-toggleable\"><label>pipeline-8</label></div></div><div class=\"sk-serial\"><div class=\"sk-item\"><div class=\"sk-serial\"><div class=\"sk-item\"><div class=\"sk-estimator sk-toggleable\"><input class=\"sk-toggleable__control sk-hidden--visually\" id=\"8d8c478b-de01-431d-81d7-1849899e1e24\" type=\"checkbox\" ><label class=\"sk-toggleable__label\" for=\"8d8c478b-de01-431d-81d7-1849899e1e24\">Binarizer</label><div class=\"sk-toggleable__content\"><pre>Binarizer(n_jobs=-1, threshold=0.4)</pre></div></div></div><div class=\"sk-item\"><div class=\"sk-estimator sk-toggleable\"><input class=\"sk-toggleable__control sk-hidden--visually\" id=\"31e6f4aa-4032-4e14-9641-34cf52789e22\" type=\"checkbox\" ><label class=\"sk-toggleable__label\" for=\"31e6f4aa-4032-4e14-9641-34cf52789e22\">HeightFiltration</label><div class=\"sk-toggleable__content\"><pre>HeightFiltration(direction=array([ 1, -1]), n_jobs=-1)</pre></div></div></div><div class=\"sk-item\"><div class=\"sk-estimator sk-toggleable\"><input class=\"sk-toggleable__control sk-hidden--visually\" id=\"2a8efd66-4dc3-4cdc-89e9-5c61dcf22953\" type=\"checkbox\" ><label class=\"sk-toggleable__label\" for=\"2a8efd66-4dc3-4cdc-89e9-5c61dcf22953\">CubicalPersistence</label><div class=\"sk-toggleable__content\"><pre>CubicalPersistence(n_jobs=-1)</pre></div></div></div><div class=\"sk-item\"><div class=\"sk-estimator sk-toggleable\"><input class=\"sk-toggleable__control sk-hidden--visually\" id=\"cbeab0bc-4dac-4e51-bafd-6c40f6f88d24\" type=\"checkbox\" ><label class=\"sk-toggleable__label\" for=\"cbeab0bc-4dac-4e51-bafd-6c40f6f88d24\">Scaler</label><div class=\"sk-toggleable__content\"><pre>Scaler(n_jobs=-1)</pre></div></div></div><div class=\"sk-item sk-dashed-wrapped\"><div class=\"sk-label-container\"><div class=\"sk-label sk-toggleable\"><input class=\"sk-toggleable__control sk-hidden--visually\" id=\"ac8ccfef-5a08-4714-ac24-592537fe590b\" type=\"checkbox\" ><label class=\"sk-toggleable__label\" for=\"ac8ccfef-5a08-4714-ac24-592537fe590b\">featureunion: FeatureUnion</label><div class=\"sk-toggleable__content\"><pre>FeatureUnion(transformer_list=[('persistenceentropy',\n",
       "                                PersistenceEntropy(nan_fill_value=-1)),\n",
       "                               ('amplitude-1',\n",
       "                                Amplitude(metric='bottleneck', metric_params={},\n",
       "                                          n_jobs=-1)),\n",
       "                               ('amplitude-2',\n",
       "                                Amplitude(metric='wasserstein',\n",
       "                                          metric_params={'p': 1}, n_jobs=-1)),\n",
       "                               ('amplitude-3',\n",
       "                                Amplitude(metric='wasserstein',\n",
       "                                          metric_params={'p': 2}, n_jobs=-1)),\n",
       "                               ('amplitude-4',\n",
       "                                Amplitude...\n",
       "                                          metric_params={'n_bins': 100, 'p': 1,\n",
       "                                                         'sigma': 1.6},\n",
       "                                          n_jobs=-1)),\n",
       "                               ('amplitude-11',\n",
       "                                Amplitude(metric='heat',\n",
       "                                          metric_params={'n_bins': 100, 'p': 1,\n",
       "                                                         'sigma': 3.2},\n",
       "                                          n_jobs=-1)),\n",
       "                               ('amplitude-12',\n",
       "                                Amplitude(metric='heat',\n",
       "                                          metric_params={'n_bins': 100, 'p': 2,\n",
       "                                                         'sigma': 1.6},\n",
       "                                          n_jobs=-1)),\n",
       "                               ('amplitude-13',\n",
       "                                Amplitude(metric='heat',\n",
       "                                          metric_params={'n_bins': 100, 'p': 2,\n",
       "                                                         'sigma': 3.2},\n",
       "                                          n_jobs=-1))])</pre></div></div></div><div class=\"sk-parallel\"><div class=\"sk-parallel-item\"><div class=\"sk-item\"><div class=\"sk-label-container\"><div class=\"sk-label sk-toggleable\"><label>persistenceentropy</label></div></div><div class=\"sk-serial\"><div class=\"sk-item\"><div class=\"sk-estimator sk-toggleable\"><input class=\"sk-toggleable__control sk-hidden--visually\" id=\"22eaee9b-d84c-495b-80f0-758afe279c50\" type=\"checkbox\" ><label class=\"sk-toggleable__label\" for=\"22eaee9b-d84c-495b-80f0-758afe279c50\">PersistenceEntropy</label><div class=\"sk-toggleable__content\"><pre>PersistenceEntropy(nan_fill_value=-1)</pre></div></div></div></div></div></div><div class=\"sk-parallel-item\"><div class=\"sk-item\"><div class=\"sk-label-container\"><div class=\"sk-label sk-toggleable\"><label>amplitude-1</label></div></div><div class=\"sk-serial\"><div class=\"sk-item\"><div class=\"sk-estimator sk-toggleable\"><input class=\"sk-toggleable__control sk-hidden--visually\" id=\"7d0c1c3b-168d-4467-a735-5b57a7fe82a5\" type=\"checkbox\" ><label class=\"sk-toggleable__label\" for=\"7d0c1c3b-168d-4467-a735-5b57a7fe82a5\">Amplitude</label><div class=\"sk-toggleable__content\"><pre>Amplitude(metric='bottleneck', metric_params={}, n_jobs=-1)</pre></div></div></div></div></div></div><div class=\"sk-parallel-item\"><div class=\"sk-item\"><div class=\"sk-label-container\"><div class=\"sk-label sk-toggleable\"><label>amplitude-2</label></div></div><div class=\"sk-serial\"><div class=\"sk-item\"><div class=\"sk-estimator sk-toggleable\"><input class=\"sk-toggleable__control sk-hidden--visually\" id=\"0d31c268-2271-4ce6-8ac5-664c84eb4c6f\" type=\"checkbox\" ><label class=\"sk-toggleable__label\" for=\"0d31c268-2271-4ce6-8ac5-664c84eb4c6f\">Amplitude</label><div class=\"sk-toggleable__content\"><pre>Amplitude(metric='wasserstein', metric_params={'p': 1}, n_jobs=-1)</pre></div></div></div></div></div></div><div class=\"sk-parallel-item\"><div class=\"sk-item\"><div class=\"sk-label-container\"><div class=\"sk-label sk-toggleable\"><label>amplitude-3</label></div></div><div class=\"sk-serial\"><div class=\"sk-item\"><div class=\"sk-estimator sk-toggleable\"><input class=\"sk-toggleable__control sk-hidden--visually\" id=\"ea867239-a09c-4464-bc93-766dfa6979e6\" type=\"checkbox\" ><label class=\"sk-toggleable__label\" for=\"ea867239-a09c-4464-bc93-766dfa6979e6\">Amplitude</label><div class=\"sk-toggleable__content\"><pre>Amplitude(metric='wasserstein', metric_params={'p': 2}, n_jobs=-1)</pre></div></div></div></div></div></div><div class=\"sk-parallel-item\"><div class=\"sk-item\"><div class=\"sk-label-container\"><div class=\"sk-label sk-toggleable\"><label>amplitude-4</label></div></div><div class=\"sk-serial\"><div class=\"sk-item\"><div class=\"sk-estimator sk-toggleable\"><input class=\"sk-toggleable__control sk-hidden--visually\" id=\"bb664e77-00f5-4979-8990-daf28347d121\" type=\"checkbox\" ><label class=\"sk-toggleable__label\" for=\"bb664e77-00f5-4979-8990-daf28347d121\">Amplitude</label><div class=\"sk-toggleable__content\"><pre>Amplitude(metric_params={'n_bins': 100, 'n_layers': 1, 'p': 1}, n_jobs=-1)</pre></div></div></div></div></div></div><div class=\"sk-parallel-item\"><div class=\"sk-item\"><div class=\"sk-label-container\"><div class=\"sk-label sk-toggleable\"><label>amplitude-5</label></div></div><div class=\"sk-serial\"><div class=\"sk-item\"><div class=\"sk-estimator sk-toggleable\"><input class=\"sk-toggleable__control sk-hidden--visually\" id=\"9a6338e1-583f-41d3-977d-c7ec4c887566\" type=\"checkbox\" ><label class=\"sk-toggleable__label\" for=\"9a6338e1-583f-41d3-977d-c7ec4c887566\">Amplitude</label><div class=\"sk-toggleable__content\"><pre>Amplitude(metric_params={'n_bins': 100, 'n_layers': 2, 'p': 1}, n_jobs=-1)</pre></div></div></div></div></div></div><div class=\"sk-parallel-item\"><div class=\"sk-item\"><div class=\"sk-label-container\"><div class=\"sk-label sk-toggleable\"><label>amplitude-6</label></div></div><div class=\"sk-serial\"><div class=\"sk-item\"><div class=\"sk-estimator sk-toggleable\"><input class=\"sk-toggleable__control sk-hidden--visually\" id=\"531cdf99-a72e-436c-ad41-b75c44d3016f\" type=\"checkbox\" ><label class=\"sk-toggleable__label\" for=\"531cdf99-a72e-436c-ad41-b75c44d3016f\">Amplitude</label><div class=\"sk-toggleable__content\"><pre>Amplitude(metric_params={'n_bins': 100, 'n_layers': 1, 'p': 2}, n_jobs=-1)</pre></div></div></div></div></div></div><div class=\"sk-parallel-item\"><div class=\"sk-item\"><div class=\"sk-label-container\"><div class=\"sk-label sk-toggleable\"><label>amplitude-7</label></div></div><div class=\"sk-serial\"><div class=\"sk-item\"><div class=\"sk-estimator sk-toggleable\"><input class=\"sk-toggleable__control sk-hidden--visually\" id=\"b871d9a5-abfa-4353-901f-31e0d03a422f\" type=\"checkbox\" ><label class=\"sk-toggleable__label\" for=\"b871d9a5-abfa-4353-901f-31e0d03a422f\">Amplitude</label><div class=\"sk-toggleable__content\"><pre>Amplitude(metric_params={'n_bins': 100, 'n_layers': 2, 'p': 2}, n_jobs=-1)</pre></div></div></div></div></div></div><div class=\"sk-parallel-item\"><div class=\"sk-item\"><div class=\"sk-label-container\"><div class=\"sk-label sk-toggleable\"><label>amplitude-8</label></div></div><div class=\"sk-serial\"><div class=\"sk-item\"><div class=\"sk-estimator sk-toggleable\"><input class=\"sk-toggleable__control sk-hidden--visually\" id=\"16a9d83c-8d7f-48f9-99d0-91e577bd7f29\" type=\"checkbox\" ><label class=\"sk-toggleable__label\" for=\"16a9d83c-8d7f-48f9-99d0-91e577bd7f29\">Amplitude</label><div class=\"sk-toggleable__content\"><pre>Amplitude(metric='betti', metric_params={'n_bins': 100, 'p': 1}, n_jobs=-1)</pre></div></div></div></div></div></div><div class=\"sk-parallel-item\"><div class=\"sk-item\"><div class=\"sk-label-container\"><div class=\"sk-label sk-toggleable\"><label>amplitude-9</label></div></div><div class=\"sk-serial\"><div class=\"sk-item\"><div class=\"sk-estimator sk-toggleable\"><input class=\"sk-toggleable__control sk-hidden--visually\" id=\"5a38b022-30b6-4a74-81de-40bc24e60cec\" type=\"checkbox\" ><label class=\"sk-toggleable__label\" for=\"5a38b022-30b6-4a74-81de-40bc24e60cec\">Amplitude</label><div class=\"sk-toggleable__content\"><pre>Amplitude(metric='betti', metric_params={'n_bins': 100, 'p': 2}, n_jobs=-1)</pre></div></div></div></div></div></div><div class=\"sk-parallel-item\"><div class=\"sk-item\"><div class=\"sk-label-container\"><div class=\"sk-label sk-toggleable\"><label>amplitude-10</label></div></div><div class=\"sk-serial\"><div class=\"sk-item\"><div class=\"sk-estimator sk-toggleable\"><input class=\"sk-toggleable__control sk-hidden--visually\" id=\"5fb78075-eb03-4a81-9d38-837b166fe7f3\" type=\"checkbox\" ><label class=\"sk-toggleable__label\" for=\"5fb78075-eb03-4a81-9d38-837b166fe7f3\">Amplitude</label><div class=\"sk-toggleable__content\"><pre>Amplitude(metric='heat', metric_params={'n_bins': 100, 'p': 1, 'sigma': 1.6},\n",
       "          n_jobs=-1)</pre></div></div></div></div></div></div><div class=\"sk-parallel-item\"><div class=\"sk-item\"><div class=\"sk-label-container\"><div class=\"sk-label sk-toggleable\"><label>amplitude-11</label></div></div><div class=\"sk-serial\"><div class=\"sk-item\"><div class=\"sk-estimator sk-toggleable\"><input class=\"sk-toggleable__control sk-hidden--visually\" id=\"795056be-55ae-45af-b10d-2ca193b10d2c\" type=\"checkbox\" ><label class=\"sk-toggleable__label\" for=\"795056be-55ae-45af-b10d-2ca193b10d2c\">Amplitude</label><div class=\"sk-toggleable__content\"><pre>Amplitude(metric='heat', metric_params={'n_bins': 100, 'p': 1, 'sigma': 3.2},\n",
       "          n_jobs=-1)</pre></div></div></div></div></div></div><div class=\"sk-parallel-item\"><div class=\"sk-item\"><div class=\"sk-label-container\"><div class=\"sk-label sk-toggleable\"><label>amplitude-12</label></div></div><div class=\"sk-serial\"><div class=\"sk-item\"><div class=\"sk-estimator sk-toggleable\"><input class=\"sk-toggleable__control sk-hidden--visually\" id=\"c9ece19b-e519-457a-92a5-639c6314fb9f\" type=\"checkbox\" ><label class=\"sk-toggleable__label\" for=\"c9ece19b-e519-457a-92a5-639c6314fb9f\">Amplitude</label><div class=\"sk-toggleable__content\"><pre>Amplitude(metric='heat', metric_params={'n_bins': 100, 'p': 2, 'sigma': 1.6},\n",
       "          n_jobs=-1)</pre></div></div></div></div></div></div><div class=\"sk-parallel-item\"><div class=\"sk-item\"><div class=\"sk-label-container\"><div class=\"sk-label sk-toggleable\"><label>amplitude-13</label></div></div><div class=\"sk-serial\"><div class=\"sk-item\"><div class=\"sk-estimator sk-toggleable\"><input class=\"sk-toggleable__control sk-hidden--visually\" id=\"a5ec14e3-a45c-46f3-b7d4-bd844cbbe6e9\" type=\"checkbox\" ><label class=\"sk-toggleable__label\" for=\"a5ec14e3-a45c-46f3-b7d4-bd844cbbe6e9\">Amplitude</label><div class=\"sk-toggleable__content\"><pre>Amplitude(metric='heat', metric_params={'n_bins': 100, 'p': 2, 'sigma': 3.2},\n",
       "          n_jobs=-1)</pre></div></div></div></div></div></div></div></div></div></div></div></div></div><div class=\"sk-parallel-item\"><div class=\"sk-item\"><div class=\"sk-label-container\"><div class=\"sk-label sk-toggleable\"><label>pipeline-9</label></div></div><div class=\"sk-serial\"><div class=\"sk-item\"><div class=\"sk-serial\"><div class=\"sk-item\"><div class=\"sk-estimator sk-toggleable\"><input class=\"sk-toggleable__control sk-hidden--visually\" id=\"845ea402-315e-49fb-909a-e0ffe596de55\" type=\"checkbox\" ><label class=\"sk-toggleable__label\" for=\"845ea402-315e-49fb-909a-e0ffe596de55\">Binarizer</label><div class=\"sk-toggleable__content\"><pre>Binarizer(n_jobs=-1, threshold=0.4)</pre></div></div></div><div class=\"sk-item\"><div class=\"sk-estimator sk-toggleable\"><input class=\"sk-toggleable__control sk-hidden--visually\" id=\"0fdcd717-11b1-4fcb-a1b2-13dda1787b1a\" type=\"checkbox\" ><label class=\"sk-toggleable__label\" for=\"0fdcd717-11b1-4fcb-a1b2-13dda1787b1a\">RadialFiltration</label><div class=\"sk-toggleable__content\"><pre>RadialFiltration(center=array([13,  6]), n_jobs=-1)</pre></div></div></div><div class=\"sk-item\"><div class=\"sk-estimator sk-toggleable\"><input class=\"sk-toggleable__control sk-hidden--visually\" id=\"064fea2a-1273-451e-beec-755d64d02cce\" type=\"checkbox\" ><label class=\"sk-toggleable__label\" for=\"064fea2a-1273-451e-beec-755d64d02cce\">CubicalPersistence</label><div class=\"sk-toggleable__content\"><pre>CubicalPersistence(n_jobs=-1)</pre></div></div></div><div class=\"sk-item\"><div class=\"sk-estimator sk-toggleable\"><input class=\"sk-toggleable__control sk-hidden--visually\" id=\"a157a46f-c2d0-4045-81c8-3c30c20b5490\" type=\"checkbox\" ><label class=\"sk-toggleable__label\" for=\"a157a46f-c2d0-4045-81c8-3c30c20b5490\">Scaler</label><div class=\"sk-toggleable__content\"><pre>Scaler(n_jobs=-1)</pre></div></div></div><div class=\"sk-item sk-dashed-wrapped\"><div class=\"sk-label-container\"><div class=\"sk-label sk-toggleable\"><input class=\"sk-toggleable__control sk-hidden--visually\" id=\"a1df4d88-48ff-428c-bb7c-ef1ed0f0c21e\" type=\"checkbox\" ><label class=\"sk-toggleable__label\" for=\"a1df4d88-48ff-428c-bb7c-ef1ed0f0c21e\">featureunion: FeatureUnion</label><div class=\"sk-toggleable__content\"><pre>FeatureUnion(transformer_list=[('persistenceentropy',\n",
       "                                PersistenceEntropy(nan_fill_value=-1)),\n",
       "                               ('amplitude-1',\n",
       "                                Amplitude(metric='bottleneck', metric_params={},\n",
       "                                          n_jobs=-1)),\n",
       "                               ('amplitude-2',\n",
       "                                Amplitude(metric='wasserstein',\n",
       "                                          metric_params={'p': 1}, n_jobs=-1)),\n",
       "                               ('amplitude-3',\n",
       "                                Amplitude(metric='wasserstein',\n",
       "                                          metric_params={'p': 2}, n_jobs=-1)),\n",
       "                               ('amplitude-4',\n",
       "                                Amplitude...\n",
       "                                          metric_params={'n_bins': 100, 'p': 1,\n",
       "                                                         'sigma': 1.6},\n",
       "                                          n_jobs=-1)),\n",
       "                               ('amplitude-11',\n",
       "                                Amplitude(metric='heat',\n",
       "                                          metric_params={'n_bins': 100, 'p': 1,\n",
       "                                                         'sigma': 3.2},\n",
       "                                          n_jobs=-1)),\n",
       "                               ('amplitude-12',\n",
       "                                Amplitude(metric='heat',\n",
       "                                          metric_params={'n_bins': 100, 'p': 2,\n",
       "                                                         'sigma': 1.6},\n",
       "                                          n_jobs=-1)),\n",
       "                               ('amplitude-13',\n",
       "                                Amplitude(metric='heat',\n",
       "                                          metric_params={'n_bins': 100, 'p': 2,\n",
       "                                                         'sigma': 3.2},\n",
       "                                          n_jobs=-1))])</pre></div></div></div><div class=\"sk-parallel\"><div class=\"sk-parallel-item\"><div class=\"sk-item\"><div class=\"sk-label-container\"><div class=\"sk-label sk-toggleable\"><label>persistenceentropy</label></div></div><div class=\"sk-serial\"><div class=\"sk-item\"><div class=\"sk-estimator sk-toggleable\"><input class=\"sk-toggleable__control sk-hidden--visually\" id=\"346fb510-31ab-45cb-b754-e0de5b82ab77\" type=\"checkbox\" ><label class=\"sk-toggleable__label\" for=\"346fb510-31ab-45cb-b754-e0de5b82ab77\">PersistenceEntropy</label><div class=\"sk-toggleable__content\"><pre>PersistenceEntropy(nan_fill_value=-1)</pre></div></div></div></div></div></div><div class=\"sk-parallel-item\"><div class=\"sk-item\"><div class=\"sk-label-container\"><div class=\"sk-label sk-toggleable\"><label>amplitude-1</label></div></div><div class=\"sk-serial\"><div class=\"sk-item\"><div class=\"sk-estimator sk-toggleable\"><input class=\"sk-toggleable__control sk-hidden--visually\" id=\"0cefaa95-edc7-410c-ba63-bb2d73fa84f4\" type=\"checkbox\" ><label class=\"sk-toggleable__label\" for=\"0cefaa95-edc7-410c-ba63-bb2d73fa84f4\">Amplitude</label><div class=\"sk-toggleable__content\"><pre>Amplitude(metric='bottleneck', metric_params={}, n_jobs=-1)</pre></div></div></div></div></div></div><div class=\"sk-parallel-item\"><div class=\"sk-item\"><div class=\"sk-label-container\"><div class=\"sk-label sk-toggleable\"><label>amplitude-2</label></div></div><div class=\"sk-serial\"><div class=\"sk-item\"><div class=\"sk-estimator sk-toggleable\"><input class=\"sk-toggleable__control sk-hidden--visually\" id=\"c3a07c9a-6787-4c1b-b98e-0cc25bf31d3c\" type=\"checkbox\" ><label class=\"sk-toggleable__label\" for=\"c3a07c9a-6787-4c1b-b98e-0cc25bf31d3c\">Amplitude</label><div class=\"sk-toggleable__content\"><pre>Amplitude(metric='wasserstein', metric_params={'p': 1}, n_jobs=-1)</pre></div></div></div></div></div></div><div class=\"sk-parallel-item\"><div class=\"sk-item\"><div class=\"sk-label-container\"><div class=\"sk-label sk-toggleable\"><label>amplitude-3</label></div></div><div class=\"sk-serial\"><div class=\"sk-item\"><div class=\"sk-estimator sk-toggleable\"><input class=\"sk-toggleable__control sk-hidden--visually\" id=\"3d8ee757-d1c2-4d4e-ae28-166ab68cccef\" type=\"checkbox\" ><label class=\"sk-toggleable__label\" for=\"3d8ee757-d1c2-4d4e-ae28-166ab68cccef\">Amplitude</label><div class=\"sk-toggleable__content\"><pre>Amplitude(metric='wasserstein', metric_params={'p': 2}, n_jobs=-1)</pre></div></div></div></div></div></div><div class=\"sk-parallel-item\"><div class=\"sk-item\"><div class=\"sk-label-container\"><div class=\"sk-label sk-toggleable\"><label>amplitude-4</label></div></div><div class=\"sk-serial\"><div class=\"sk-item\"><div class=\"sk-estimator sk-toggleable\"><input class=\"sk-toggleable__control sk-hidden--visually\" id=\"8150d565-b4b0-41b8-9aae-184b18f51fec\" type=\"checkbox\" ><label class=\"sk-toggleable__label\" for=\"8150d565-b4b0-41b8-9aae-184b18f51fec\">Amplitude</label><div class=\"sk-toggleable__content\"><pre>Amplitude(metric_params={'n_bins': 100, 'n_layers': 1, 'p': 1}, n_jobs=-1)</pre></div></div></div></div></div></div><div class=\"sk-parallel-item\"><div class=\"sk-item\"><div class=\"sk-label-container\"><div class=\"sk-label sk-toggleable\"><label>amplitude-5</label></div></div><div class=\"sk-serial\"><div class=\"sk-item\"><div class=\"sk-estimator sk-toggleable\"><input class=\"sk-toggleable__control sk-hidden--visually\" id=\"1db806d1-a350-4635-80ef-ca5f61636df4\" type=\"checkbox\" ><label class=\"sk-toggleable__label\" for=\"1db806d1-a350-4635-80ef-ca5f61636df4\">Amplitude</label><div class=\"sk-toggleable__content\"><pre>Amplitude(metric_params={'n_bins': 100, 'n_layers': 2, 'p': 1}, n_jobs=-1)</pre></div></div></div></div></div></div><div class=\"sk-parallel-item\"><div class=\"sk-item\"><div class=\"sk-label-container\"><div class=\"sk-label sk-toggleable\"><label>amplitude-6</label></div></div><div class=\"sk-serial\"><div class=\"sk-item\"><div class=\"sk-estimator sk-toggleable\"><input class=\"sk-toggleable__control sk-hidden--visually\" id=\"d173d5d4-c98f-4359-a758-e18700910337\" type=\"checkbox\" ><label class=\"sk-toggleable__label\" for=\"d173d5d4-c98f-4359-a758-e18700910337\">Amplitude</label><div class=\"sk-toggleable__content\"><pre>Amplitude(metric_params={'n_bins': 100, 'n_layers': 1, 'p': 2}, n_jobs=-1)</pre></div></div></div></div></div></div><div class=\"sk-parallel-item\"><div class=\"sk-item\"><div class=\"sk-label-container\"><div class=\"sk-label sk-toggleable\"><label>amplitude-7</label></div></div><div class=\"sk-serial\"><div class=\"sk-item\"><div class=\"sk-estimator sk-toggleable\"><input class=\"sk-toggleable__control sk-hidden--visually\" id=\"09eceb54-1d2c-4e89-bb4b-215b42fe9eef\" type=\"checkbox\" ><label class=\"sk-toggleable__label\" for=\"09eceb54-1d2c-4e89-bb4b-215b42fe9eef\">Amplitude</label><div class=\"sk-toggleable__content\"><pre>Amplitude(metric_params={'n_bins': 100, 'n_layers': 2, 'p': 2}, n_jobs=-1)</pre></div></div></div></div></div></div><div class=\"sk-parallel-item\"><div class=\"sk-item\"><div class=\"sk-label-container\"><div class=\"sk-label sk-toggleable\"><label>amplitude-8</label></div></div><div class=\"sk-serial\"><div class=\"sk-item\"><div class=\"sk-estimator sk-toggleable\"><input class=\"sk-toggleable__control sk-hidden--visually\" id=\"bc2a83d3-0188-4a27-a344-1b6f173fce97\" type=\"checkbox\" ><label class=\"sk-toggleable__label\" for=\"bc2a83d3-0188-4a27-a344-1b6f173fce97\">Amplitude</label><div class=\"sk-toggleable__content\"><pre>Amplitude(metric='betti', metric_params={'n_bins': 100, 'p': 1}, n_jobs=-1)</pre></div></div></div></div></div></div><div class=\"sk-parallel-item\"><div class=\"sk-item\"><div class=\"sk-label-container\"><div class=\"sk-label sk-toggleable\"><label>amplitude-9</label></div></div><div class=\"sk-serial\"><div class=\"sk-item\"><div class=\"sk-estimator sk-toggleable\"><input class=\"sk-toggleable__control sk-hidden--visually\" id=\"f5d72cdb-22b8-40c6-9b81-2d1d2eee0260\" type=\"checkbox\" ><label class=\"sk-toggleable__label\" for=\"f5d72cdb-22b8-40c6-9b81-2d1d2eee0260\">Amplitude</label><div class=\"sk-toggleable__content\"><pre>Amplitude(metric='betti', metric_params={'n_bins': 100, 'p': 2}, n_jobs=-1)</pre></div></div></div></div></div></div><div class=\"sk-parallel-item\"><div class=\"sk-item\"><div class=\"sk-label-container\"><div class=\"sk-label sk-toggleable\"><label>amplitude-10</label></div></div><div class=\"sk-serial\"><div class=\"sk-item\"><div class=\"sk-estimator sk-toggleable\"><input class=\"sk-toggleable__control sk-hidden--visually\" id=\"be8618d1-b534-445a-8dae-ae3f57777e2a\" type=\"checkbox\" ><label class=\"sk-toggleable__label\" for=\"be8618d1-b534-445a-8dae-ae3f57777e2a\">Amplitude</label><div class=\"sk-toggleable__content\"><pre>Amplitude(metric='heat', metric_params={'n_bins': 100, 'p': 1, 'sigma': 1.6},\n",
       "          n_jobs=-1)</pre></div></div></div></div></div></div><div class=\"sk-parallel-item\"><div class=\"sk-item\"><div class=\"sk-label-container\"><div class=\"sk-label sk-toggleable\"><label>amplitude-11</label></div></div><div class=\"sk-serial\"><div class=\"sk-item\"><div class=\"sk-estimator sk-toggleable\"><input class=\"sk-toggleable__control sk-hidden--visually\" id=\"a85feb65-4583-4910-b235-a57cc421d68f\" type=\"checkbox\" ><label class=\"sk-toggleable__label\" for=\"a85feb65-4583-4910-b235-a57cc421d68f\">Amplitude</label><div class=\"sk-toggleable__content\"><pre>Amplitude(metric='heat', metric_params={'n_bins': 100, 'p': 1, 'sigma': 3.2},\n",
       "          n_jobs=-1)</pre></div></div></div></div></div></div><div class=\"sk-parallel-item\"><div class=\"sk-item\"><div class=\"sk-label-container\"><div class=\"sk-label sk-toggleable\"><label>amplitude-12</label></div></div><div class=\"sk-serial\"><div class=\"sk-item\"><div class=\"sk-estimator sk-toggleable\"><input class=\"sk-toggleable__control sk-hidden--visually\" id=\"9a8315c0-7fd4-4965-b753-ef66f04b4313\" type=\"checkbox\" ><label class=\"sk-toggleable__label\" for=\"9a8315c0-7fd4-4965-b753-ef66f04b4313\">Amplitude</label><div class=\"sk-toggleable__content\"><pre>Amplitude(metric='heat', metric_params={'n_bins': 100, 'p': 2, 'sigma': 1.6},\n",
       "          n_jobs=-1)</pre></div></div></div></div></div></div><div class=\"sk-parallel-item\"><div class=\"sk-item\"><div class=\"sk-label-container\"><div class=\"sk-label sk-toggleable\"><label>amplitude-13</label></div></div><div class=\"sk-serial\"><div class=\"sk-item\"><div class=\"sk-estimator sk-toggleable\"><input class=\"sk-toggleable__control sk-hidden--visually\" id=\"1ac4e80f-e781-46f5-8ca7-611c8f092696\" type=\"checkbox\" ><label class=\"sk-toggleable__label\" for=\"1ac4e80f-e781-46f5-8ca7-611c8f092696\">Amplitude</label><div class=\"sk-toggleable__content\"><pre>Amplitude(metric='heat', metric_params={'n_bins': 100, 'p': 2, 'sigma': 3.2},\n",
       "          n_jobs=-1)</pre></div></div></div></div></div></div></div></div></div></div></div></div></div><div class=\"sk-parallel-item\"><div class=\"sk-item\"><div class=\"sk-label-container\"><div class=\"sk-label sk-toggleable\"><label>pipeline-10</label></div></div><div class=\"sk-serial\"><div class=\"sk-item\"><div class=\"sk-serial\"><div class=\"sk-item\"><div class=\"sk-estimator sk-toggleable\"><input class=\"sk-toggleable__control sk-hidden--visually\" id=\"9ea0dea0-b2d5-4fd1-894e-a81a7d4a2b06\" type=\"checkbox\" ><label class=\"sk-toggleable__label\" for=\"9ea0dea0-b2d5-4fd1-894e-a81a7d4a2b06\">Binarizer</label><div class=\"sk-toggleable__content\"><pre>Binarizer(n_jobs=-1, threshold=0.4)</pre></div></div></div><div class=\"sk-item\"><div class=\"sk-estimator sk-toggleable\"><input class=\"sk-toggleable__control sk-hidden--visually\" id=\"231c960c-27b8-427d-955e-9156da21a4c2\" type=\"checkbox\" ><label class=\"sk-toggleable__label\" for=\"231c960c-27b8-427d-955e-9156da21a4c2\">RadialFiltration</label><div class=\"sk-toggleable__content\"><pre>RadialFiltration(center=array([ 6, 13]), n_jobs=-1)</pre></div></div></div><div class=\"sk-item\"><div class=\"sk-estimator sk-toggleable\"><input class=\"sk-toggleable__control sk-hidden--visually\" id=\"fe5f9ef0-74e0-4979-a445-82cefc297761\" type=\"checkbox\" ><label class=\"sk-toggleable__label\" for=\"fe5f9ef0-74e0-4979-a445-82cefc297761\">CubicalPersistence</label><div class=\"sk-toggleable__content\"><pre>CubicalPersistence(n_jobs=-1)</pre></div></div></div><div class=\"sk-item\"><div class=\"sk-estimator sk-toggleable\"><input class=\"sk-toggleable__control sk-hidden--visually\" id=\"8617efea-46f7-42f8-9e9f-b6762d7cd66f\" type=\"checkbox\" ><label class=\"sk-toggleable__label\" for=\"8617efea-46f7-42f8-9e9f-b6762d7cd66f\">Scaler</label><div class=\"sk-toggleable__content\"><pre>Scaler(n_jobs=-1)</pre></div></div></div><div class=\"sk-item sk-dashed-wrapped\"><div class=\"sk-label-container\"><div class=\"sk-label sk-toggleable\"><input class=\"sk-toggleable__control sk-hidden--visually\" id=\"15b88d24-0dd9-41b7-9554-b7e2241904fa\" type=\"checkbox\" ><label class=\"sk-toggleable__label\" for=\"15b88d24-0dd9-41b7-9554-b7e2241904fa\">featureunion: FeatureUnion</label><div class=\"sk-toggleable__content\"><pre>FeatureUnion(transformer_list=[('persistenceentropy',\n",
       "                                PersistenceEntropy(nan_fill_value=-1)),\n",
       "                               ('amplitude-1',\n",
       "                                Amplitude(metric='bottleneck', metric_params={},\n",
       "                                          n_jobs=-1)),\n",
       "                               ('amplitude-2',\n",
       "                                Amplitude(metric='wasserstein',\n",
       "                                          metric_params={'p': 1}, n_jobs=-1)),\n",
       "                               ('amplitude-3',\n",
       "                                Amplitude(metric='wasserstein',\n",
       "                                          metric_params={'p': 2}, n_jobs=-1)),\n",
       "                               ('amplitude-4',\n",
       "                                Amplitude...\n",
       "                                          metric_params={'n_bins': 100, 'p': 1,\n",
       "                                                         'sigma': 1.6},\n",
       "                                          n_jobs=-1)),\n",
       "                               ('amplitude-11',\n",
       "                                Amplitude(metric='heat',\n",
       "                                          metric_params={'n_bins': 100, 'p': 1,\n",
       "                                                         'sigma': 3.2},\n",
       "                                          n_jobs=-1)),\n",
       "                               ('amplitude-12',\n",
       "                                Amplitude(metric='heat',\n",
       "                                          metric_params={'n_bins': 100, 'p': 2,\n",
       "                                                         'sigma': 1.6},\n",
       "                                          n_jobs=-1)),\n",
       "                               ('amplitude-13',\n",
       "                                Amplitude(metric='heat',\n",
       "                                          metric_params={'n_bins': 100, 'p': 2,\n",
       "                                                         'sigma': 3.2},\n",
       "                                          n_jobs=-1))])</pre></div></div></div><div class=\"sk-parallel\"><div class=\"sk-parallel-item\"><div class=\"sk-item\"><div class=\"sk-label-container\"><div class=\"sk-label sk-toggleable\"><label>persistenceentropy</label></div></div><div class=\"sk-serial\"><div class=\"sk-item\"><div class=\"sk-estimator sk-toggleable\"><input class=\"sk-toggleable__control sk-hidden--visually\" id=\"01a6b23f-4589-4575-970a-af04d1315aea\" type=\"checkbox\" ><label class=\"sk-toggleable__label\" for=\"01a6b23f-4589-4575-970a-af04d1315aea\">PersistenceEntropy</label><div class=\"sk-toggleable__content\"><pre>PersistenceEntropy(nan_fill_value=-1)</pre></div></div></div></div></div></div><div class=\"sk-parallel-item\"><div class=\"sk-item\"><div class=\"sk-label-container\"><div class=\"sk-label sk-toggleable\"><label>amplitude-1</label></div></div><div class=\"sk-serial\"><div class=\"sk-item\"><div class=\"sk-estimator sk-toggleable\"><input class=\"sk-toggleable__control sk-hidden--visually\" id=\"8676f57e-5673-48af-ad7c-8bc0b94dbc1f\" type=\"checkbox\" ><label class=\"sk-toggleable__label\" for=\"8676f57e-5673-48af-ad7c-8bc0b94dbc1f\">Amplitude</label><div class=\"sk-toggleable__content\"><pre>Amplitude(metric='bottleneck', metric_params={}, n_jobs=-1)</pre></div></div></div></div></div></div><div class=\"sk-parallel-item\"><div class=\"sk-item\"><div class=\"sk-label-container\"><div class=\"sk-label sk-toggleable\"><label>amplitude-2</label></div></div><div class=\"sk-serial\"><div class=\"sk-item\"><div class=\"sk-estimator sk-toggleable\"><input class=\"sk-toggleable__control sk-hidden--visually\" id=\"784bcdcc-97de-404c-afc9-2472a19b13e4\" type=\"checkbox\" ><label class=\"sk-toggleable__label\" for=\"784bcdcc-97de-404c-afc9-2472a19b13e4\">Amplitude</label><div class=\"sk-toggleable__content\"><pre>Amplitude(metric='wasserstein', metric_params={'p': 1}, n_jobs=-1)</pre></div></div></div></div></div></div><div class=\"sk-parallel-item\"><div class=\"sk-item\"><div class=\"sk-label-container\"><div class=\"sk-label sk-toggleable\"><label>amplitude-3</label></div></div><div class=\"sk-serial\"><div class=\"sk-item\"><div class=\"sk-estimator sk-toggleable\"><input class=\"sk-toggleable__control sk-hidden--visually\" id=\"76512f6c-5d2b-4ad0-8d42-652bd22c26a6\" type=\"checkbox\" ><label class=\"sk-toggleable__label\" for=\"76512f6c-5d2b-4ad0-8d42-652bd22c26a6\">Amplitude</label><div class=\"sk-toggleable__content\"><pre>Amplitude(metric='wasserstein', metric_params={'p': 2}, n_jobs=-1)</pre></div></div></div></div></div></div><div class=\"sk-parallel-item\"><div class=\"sk-item\"><div class=\"sk-label-container\"><div class=\"sk-label sk-toggleable\"><label>amplitude-4</label></div></div><div class=\"sk-serial\"><div class=\"sk-item\"><div class=\"sk-estimator sk-toggleable\"><input class=\"sk-toggleable__control sk-hidden--visually\" id=\"1c0018d7-a537-48e5-a73b-bee0f0f5aa74\" type=\"checkbox\" ><label class=\"sk-toggleable__label\" for=\"1c0018d7-a537-48e5-a73b-bee0f0f5aa74\">Amplitude</label><div class=\"sk-toggleable__content\"><pre>Amplitude(metric_params={'n_bins': 100, 'n_layers': 1, 'p': 1}, n_jobs=-1)</pre></div></div></div></div></div></div><div class=\"sk-parallel-item\"><div class=\"sk-item\"><div class=\"sk-label-container\"><div class=\"sk-label sk-toggleable\"><label>amplitude-5</label></div></div><div class=\"sk-serial\"><div class=\"sk-item\"><div class=\"sk-estimator sk-toggleable\"><input class=\"sk-toggleable__control sk-hidden--visually\" id=\"d56e51b1-a90a-4e73-95ab-4f2f30a961b8\" type=\"checkbox\" ><label class=\"sk-toggleable__label\" for=\"d56e51b1-a90a-4e73-95ab-4f2f30a961b8\">Amplitude</label><div class=\"sk-toggleable__content\"><pre>Amplitude(metric_params={'n_bins': 100, 'n_layers': 2, 'p': 1}, n_jobs=-1)</pre></div></div></div></div></div></div><div class=\"sk-parallel-item\"><div class=\"sk-item\"><div class=\"sk-label-container\"><div class=\"sk-label sk-toggleable\"><label>amplitude-6</label></div></div><div class=\"sk-serial\"><div class=\"sk-item\"><div class=\"sk-estimator sk-toggleable\"><input class=\"sk-toggleable__control sk-hidden--visually\" id=\"3578d662-7eed-4740-a4c5-059a0e9ab715\" type=\"checkbox\" ><label class=\"sk-toggleable__label\" for=\"3578d662-7eed-4740-a4c5-059a0e9ab715\">Amplitude</label><div class=\"sk-toggleable__content\"><pre>Amplitude(metric_params={'n_bins': 100, 'n_layers': 1, 'p': 2}, n_jobs=-1)</pre></div></div></div></div></div></div><div class=\"sk-parallel-item\"><div class=\"sk-item\"><div class=\"sk-label-container\"><div class=\"sk-label sk-toggleable\"><label>amplitude-7</label></div></div><div class=\"sk-serial\"><div class=\"sk-item\"><div class=\"sk-estimator sk-toggleable\"><input class=\"sk-toggleable__control sk-hidden--visually\" id=\"0d53a599-c3b8-497b-ad8c-b0e600da520b\" type=\"checkbox\" ><label class=\"sk-toggleable__label\" for=\"0d53a599-c3b8-497b-ad8c-b0e600da520b\">Amplitude</label><div class=\"sk-toggleable__content\"><pre>Amplitude(metric_params={'n_bins': 100, 'n_layers': 2, 'p': 2}, n_jobs=-1)</pre></div></div></div></div></div></div><div class=\"sk-parallel-item\"><div class=\"sk-item\"><div class=\"sk-label-container\"><div class=\"sk-label sk-toggleable\"><label>amplitude-8</label></div></div><div class=\"sk-serial\"><div class=\"sk-item\"><div class=\"sk-estimator sk-toggleable\"><input class=\"sk-toggleable__control sk-hidden--visually\" id=\"36b7deeb-25f7-4c40-867e-b857c662003e\" type=\"checkbox\" ><label class=\"sk-toggleable__label\" for=\"36b7deeb-25f7-4c40-867e-b857c662003e\">Amplitude</label><div class=\"sk-toggleable__content\"><pre>Amplitude(metric='betti', metric_params={'n_bins': 100, 'p': 1}, n_jobs=-1)</pre></div></div></div></div></div></div><div class=\"sk-parallel-item\"><div class=\"sk-item\"><div class=\"sk-label-container\"><div class=\"sk-label sk-toggleable\"><label>amplitude-9</label></div></div><div class=\"sk-serial\"><div class=\"sk-item\"><div class=\"sk-estimator sk-toggleable\"><input class=\"sk-toggleable__control sk-hidden--visually\" id=\"8f98e3b6-4473-462b-b18e-2376683db400\" type=\"checkbox\" ><label class=\"sk-toggleable__label\" for=\"8f98e3b6-4473-462b-b18e-2376683db400\">Amplitude</label><div class=\"sk-toggleable__content\"><pre>Amplitude(metric='betti', metric_params={'n_bins': 100, 'p': 2}, n_jobs=-1)</pre></div></div></div></div></div></div><div class=\"sk-parallel-item\"><div class=\"sk-item\"><div class=\"sk-label-container\"><div class=\"sk-label sk-toggleable\"><label>amplitude-10</label></div></div><div class=\"sk-serial\"><div class=\"sk-item\"><div class=\"sk-estimator sk-toggleable\"><input class=\"sk-toggleable__control sk-hidden--visually\" id=\"1d7c5e44-e54b-42a9-b0d6-904472510636\" type=\"checkbox\" ><label class=\"sk-toggleable__label\" for=\"1d7c5e44-e54b-42a9-b0d6-904472510636\">Amplitude</label><div class=\"sk-toggleable__content\"><pre>Amplitude(metric='heat', metric_params={'n_bins': 100, 'p': 1, 'sigma': 1.6},\n",
       "          n_jobs=-1)</pre></div></div></div></div></div></div><div class=\"sk-parallel-item\"><div class=\"sk-item\"><div class=\"sk-label-container\"><div class=\"sk-label sk-toggleable\"><label>amplitude-11</label></div></div><div class=\"sk-serial\"><div class=\"sk-item\"><div class=\"sk-estimator sk-toggleable\"><input class=\"sk-toggleable__control sk-hidden--visually\" id=\"f87f40e3-1731-4b31-9d55-21ab657122a6\" type=\"checkbox\" ><label class=\"sk-toggleable__label\" for=\"f87f40e3-1731-4b31-9d55-21ab657122a6\">Amplitude</label><div class=\"sk-toggleable__content\"><pre>Amplitude(metric='heat', metric_params={'n_bins': 100, 'p': 1, 'sigma': 3.2},\n",
       "          n_jobs=-1)</pre></div></div></div></div></div></div><div class=\"sk-parallel-item\"><div class=\"sk-item\"><div class=\"sk-label-container\"><div class=\"sk-label sk-toggleable\"><label>amplitude-12</label></div></div><div class=\"sk-serial\"><div class=\"sk-item\"><div class=\"sk-estimator sk-toggleable\"><input class=\"sk-toggleable__control sk-hidden--visually\" id=\"735d96f8-d5be-4ebc-987b-9bda0e3d63f0\" type=\"checkbox\" ><label class=\"sk-toggleable__label\" for=\"735d96f8-d5be-4ebc-987b-9bda0e3d63f0\">Amplitude</label><div class=\"sk-toggleable__content\"><pre>Amplitude(metric='heat', metric_params={'n_bins': 100, 'p': 2, 'sigma': 1.6},\n",
       "          n_jobs=-1)</pre></div></div></div></div></div></div><div class=\"sk-parallel-item\"><div class=\"sk-item\"><div class=\"sk-label-container\"><div class=\"sk-label sk-toggleable\"><label>amplitude-13</label></div></div><div class=\"sk-serial\"><div class=\"sk-item\"><div class=\"sk-estimator sk-toggleable\"><input class=\"sk-toggleable__control sk-hidden--visually\" id=\"675c9adc-eeb7-43d9-8311-07e89abd86d3\" type=\"checkbox\" ><label class=\"sk-toggleable__label\" for=\"675c9adc-eeb7-43d9-8311-07e89abd86d3\">Amplitude</label><div class=\"sk-toggleable__content\"><pre>Amplitude(metric='heat', metric_params={'n_bins': 100, 'p': 2, 'sigma': 3.2},\n",
       "          n_jobs=-1)</pre></div></div></div></div></div></div></div></div></div></div></div></div></div><div class=\"sk-parallel-item\"><div class=\"sk-item\"><div class=\"sk-label-container\"><div class=\"sk-label sk-toggleable\"><label>pipeline-11</label></div></div><div class=\"sk-serial\"><div class=\"sk-item\"><div class=\"sk-serial\"><div class=\"sk-item\"><div class=\"sk-estimator sk-toggleable\"><input class=\"sk-toggleable__control sk-hidden--visually\" id=\"f621bf61-a1d2-4b7f-b54f-cd0f5b4c3e3c\" type=\"checkbox\" ><label class=\"sk-toggleable__label\" for=\"f621bf61-a1d2-4b7f-b54f-cd0f5b4c3e3c\">Binarizer</label><div class=\"sk-toggleable__content\"><pre>Binarizer(n_jobs=-1, threshold=0.4)</pre></div></div></div><div class=\"sk-item\"><div class=\"sk-estimator sk-toggleable\"><input class=\"sk-toggleable__control sk-hidden--visually\" id=\"c37fe5a1-79bf-42e1-bd12-f28313357c57\" type=\"checkbox\" ><label class=\"sk-toggleable__label\" for=\"c37fe5a1-79bf-42e1-bd12-f28313357c57\">RadialFiltration</label><div class=\"sk-toggleable__content\"><pre>RadialFiltration(center=array([13, 13]), n_jobs=-1)</pre></div></div></div><div class=\"sk-item\"><div class=\"sk-estimator sk-toggleable\"><input class=\"sk-toggleable__control sk-hidden--visually\" id=\"031379bb-21fe-4868-8236-eea451a84685\" type=\"checkbox\" ><label class=\"sk-toggleable__label\" for=\"031379bb-21fe-4868-8236-eea451a84685\">CubicalPersistence</label><div class=\"sk-toggleable__content\"><pre>CubicalPersistence(n_jobs=-1)</pre></div></div></div><div class=\"sk-item\"><div class=\"sk-estimator sk-toggleable\"><input class=\"sk-toggleable__control sk-hidden--visually\" id=\"61656822-d5cc-4fd2-a1ef-4f014b1615f0\" type=\"checkbox\" ><label class=\"sk-toggleable__label\" for=\"61656822-d5cc-4fd2-a1ef-4f014b1615f0\">Scaler</label><div class=\"sk-toggleable__content\"><pre>Scaler(n_jobs=-1)</pre></div></div></div><div class=\"sk-item sk-dashed-wrapped\"><div class=\"sk-label-container\"><div class=\"sk-label sk-toggleable\"><input class=\"sk-toggleable__control sk-hidden--visually\" id=\"85824eb3-76bf-409e-9293-73ba1c0fbf1e\" type=\"checkbox\" ><label class=\"sk-toggleable__label\" for=\"85824eb3-76bf-409e-9293-73ba1c0fbf1e\">featureunion: FeatureUnion</label><div class=\"sk-toggleable__content\"><pre>FeatureUnion(transformer_list=[('persistenceentropy',\n",
       "                                PersistenceEntropy(nan_fill_value=-1)),\n",
       "                               ('amplitude-1',\n",
       "                                Amplitude(metric='bottleneck', metric_params={},\n",
       "                                          n_jobs=-1)),\n",
       "                               ('amplitude-2',\n",
       "                                Amplitude(metric='wasserstein',\n",
       "                                          metric_params={'p': 1}, n_jobs=-1)),\n",
       "                               ('amplitude-3',\n",
       "                                Amplitude(metric='wasserstein',\n",
       "                                          metric_params={'p': 2}, n_jobs=-1)),\n",
       "                               ('amplitude-4',\n",
       "                                Amplitude...\n",
       "                                          metric_params={'n_bins': 100, 'p': 1,\n",
       "                                                         'sigma': 1.6},\n",
       "                                          n_jobs=-1)),\n",
       "                               ('amplitude-11',\n",
       "                                Amplitude(metric='heat',\n",
       "                                          metric_params={'n_bins': 100, 'p': 1,\n",
       "                                                         'sigma': 3.2},\n",
       "                                          n_jobs=-1)),\n",
       "                               ('amplitude-12',\n",
       "                                Amplitude(metric='heat',\n",
       "                                          metric_params={'n_bins': 100, 'p': 2,\n",
       "                                                         'sigma': 1.6},\n",
       "                                          n_jobs=-1)),\n",
       "                               ('amplitude-13',\n",
       "                                Amplitude(metric='heat',\n",
       "                                          metric_params={'n_bins': 100, 'p': 2,\n",
       "                                                         'sigma': 3.2},\n",
       "                                          n_jobs=-1))])</pre></div></div></div><div class=\"sk-parallel\"><div class=\"sk-parallel-item\"><div class=\"sk-item\"><div class=\"sk-label-container\"><div class=\"sk-label sk-toggleable\"><label>persistenceentropy</label></div></div><div class=\"sk-serial\"><div class=\"sk-item\"><div class=\"sk-estimator sk-toggleable\"><input class=\"sk-toggleable__control sk-hidden--visually\" id=\"0c570060-8a46-45e9-a9db-790abdd6e192\" type=\"checkbox\" ><label class=\"sk-toggleable__label\" for=\"0c570060-8a46-45e9-a9db-790abdd6e192\">PersistenceEntropy</label><div class=\"sk-toggleable__content\"><pre>PersistenceEntropy(nan_fill_value=-1)</pre></div></div></div></div></div></div><div class=\"sk-parallel-item\"><div class=\"sk-item\"><div class=\"sk-label-container\"><div class=\"sk-label sk-toggleable\"><label>amplitude-1</label></div></div><div class=\"sk-serial\"><div class=\"sk-item\"><div class=\"sk-estimator sk-toggleable\"><input class=\"sk-toggleable__control sk-hidden--visually\" id=\"fc12455b-64b4-41d8-9f76-731d2eb55d8f\" type=\"checkbox\" ><label class=\"sk-toggleable__label\" for=\"fc12455b-64b4-41d8-9f76-731d2eb55d8f\">Amplitude</label><div class=\"sk-toggleable__content\"><pre>Amplitude(metric='bottleneck', metric_params={}, n_jobs=-1)</pre></div></div></div></div></div></div><div class=\"sk-parallel-item\"><div class=\"sk-item\"><div class=\"sk-label-container\"><div class=\"sk-label sk-toggleable\"><label>amplitude-2</label></div></div><div class=\"sk-serial\"><div class=\"sk-item\"><div class=\"sk-estimator sk-toggleable\"><input class=\"sk-toggleable__control sk-hidden--visually\" id=\"14cf1117-62e3-414e-a58c-a35c94c34981\" type=\"checkbox\" ><label class=\"sk-toggleable__label\" for=\"14cf1117-62e3-414e-a58c-a35c94c34981\">Amplitude</label><div class=\"sk-toggleable__content\"><pre>Amplitude(metric='wasserstein', metric_params={'p': 1}, n_jobs=-1)</pre></div></div></div></div></div></div><div class=\"sk-parallel-item\"><div class=\"sk-item\"><div class=\"sk-label-container\"><div class=\"sk-label sk-toggleable\"><label>amplitude-3</label></div></div><div class=\"sk-serial\"><div class=\"sk-item\"><div class=\"sk-estimator sk-toggleable\"><input class=\"sk-toggleable__control sk-hidden--visually\" id=\"e4a54b09-43a7-468c-8a24-dded180b5a4f\" type=\"checkbox\" ><label class=\"sk-toggleable__label\" for=\"e4a54b09-43a7-468c-8a24-dded180b5a4f\">Amplitude</label><div class=\"sk-toggleable__content\"><pre>Amplitude(metric='wasserstein', metric_params={'p': 2}, n_jobs=-1)</pre></div></div></div></div></div></div><div class=\"sk-parallel-item\"><div class=\"sk-item\"><div class=\"sk-label-container\"><div class=\"sk-label sk-toggleable\"><label>amplitude-4</label></div></div><div class=\"sk-serial\"><div class=\"sk-item\"><div class=\"sk-estimator sk-toggleable\"><input class=\"sk-toggleable__control sk-hidden--visually\" id=\"bb70bd46-20be-4b04-a451-45f4ef7eecbf\" type=\"checkbox\" ><label class=\"sk-toggleable__label\" for=\"bb70bd46-20be-4b04-a451-45f4ef7eecbf\">Amplitude</label><div class=\"sk-toggleable__content\"><pre>Amplitude(metric_params={'n_bins': 100, 'n_layers': 1, 'p': 1}, n_jobs=-1)</pre></div></div></div></div></div></div><div class=\"sk-parallel-item\"><div class=\"sk-item\"><div class=\"sk-label-container\"><div class=\"sk-label sk-toggleable\"><label>amplitude-5</label></div></div><div class=\"sk-serial\"><div class=\"sk-item\"><div class=\"sk-estimator sk-toggleable\"><input class=\"sk-toggleable__control sk-hidden--visually\" id=\"44a03122-8823-4016-a069-3397a4ea5a97\" type=\"checkbox\" ><label class=\"sk-toggleable__label\" for=\"44a03122-8823-4016-a069-3397a4ea5a97\">Amplitude</label><div class=\"sk-toggleable__content\"><pre>Amplitude(metric_params={'n_bins': 100, 'n_layers': 2, 'p': 1}, n_jobs=-1)</pre></div></div></div></div></div></div><div class=\"sk-parallel-item\"><div class=\"sk-item\"><div class=\"sk-label-container\"><div class=\"sk-label sk-toggleable\"><label>amplitude-6</label></div></div><div class=\"sk-serial\"><div class=\"sk-item\"><div class=\"sk-estimator sk-toggleable\"><input class=\"sk-toggleable__control sk-hidden--visually\" id=\"dcad10b1-6e79-4d46-ad76-4e4f0d864661\" type=\"checkbox\" ><label class=\"sk-toggleable__label\" for=\"dcad10b1-6e79-4d46-ad76-4e4f0d864661\">Amplitude</label><div class=\"sk-toggleable__content\"><pre>Amplitude(metric_params={'n_bins': 100, 'n_layers': 1, 'p': 2}, n_jobs=-1)</pre></div></div></div></div></div></div><div class=\"sk-parallel-item\"><div class=\"sk-item\"><div class=\"sk-label-container\"><div class=\"sk-label sk-toggleable\"><label>amplitude-7</label></div></div><div class=\"sk-serial\"><div class=\"sk-item\"><div class=\"sk-estimator sk-toggleable\"><input class=\"sk-toggleable__control sk-hidden--visually\" id=\"7fd515af-0cc3-403d-ad91-43f05dec6390\" type=\"checkbox\" ><label class=\"sk-toggleable__label\" for=\"7fd515af-0cc3-403d-ad91-43f05dec6390\">Amplitude</label><div class=\"sk-toggleable__content\"><pre>Amplitude(metric_params={'n_bins': 100, 'n_layers': 2, 'p': 2}, n_jobs=-1)</pre></div></div></div></div></div></div><div class=\"sk-parallel-item\"><div class=\"sk-item\"><div class=\"sk-label-container\"><div class=\"sk-label sk-toggleable\"><label>amplitude-8</label></div></div><div class=\"sk-serial\"><div class=\"sk-item\"><div class=\"sk-estimator sk-toggleable\"><input class=\"sk-toggleable__control sk-hidden--visually\" id=\"720abf0f-33cf-402c-a023-9763aba4b8e7\" type=\"checkbox\" ><label class=\"sk-toggleable__label\" for=\"720abf0f-33cf-402c-a023-9763aba4b8e7\">Amplitude</label><div class=\"sk-toggleable__content\"><pre>Amplitude(metric='betti', metric_params={'n_bins': 100, 'p': 1}, n_jobs=-1)</pre></div></div></div></div></div></div><div class=\"sk-parallel-item\"><div class=\"sk-item\"><div class=\"sk-label-container\"><div class=\"sk-label sk-toggleable\"><label>amplitude-9</label></div></div><div class=\"sk-serial\"><div class=\"sk-item\"><div class=\"sk-estimator sk-toggleable\"><input class=\"sk-toggleable__control sk-hidden--visually\" id=\"82000fcc-16a9-4947-ba2a-ba23d5ea03f6\" type=\"checkbox\" ><label class=\"sk-toggleable__label\" for=\"82000fcc-16a9-4947-ba2a-ba23d5ea03f6\">Amplitude</label><div class=\"sk-toggleable__content\"><pre>Amplitude(metric='betti', metric_params={'n_bins': 100, 'p': 2}, n_jobs=-1)</pre></div></div></div></div></div></div><div class=\"sk-parallel-item\"><div class=\"sk-item\"><div class=\"sk-label-container\"><div class=\"sk-label sk-toggleable\"><label>amplitude-10</label></div></div><div class=\"sk-serial\"><div class=\"sk-item\"><div class=\"sk-estimator sk-toggleable\"><input class=\"sk-toggleable__control sk-hidden--visually\" id=\"64e985c6-6845-481c-ade3-3fb36dbafd16\" type=\"checkbox\" ><label class=\"sk-toggleable__label\" for=\"64e985c6-6845-481c-ade3-3fb36dbafd16\">Amplitude</label><div class=\"sk-toggleable__content\"><pre>Amplitude(metric='heat', metric_params={'n_bins': 100, 'p': 1, 'sigma': 1.6},\n",
       "          n_jobs=-1)</pre></div></div></div></div></div></div><div class=\"sk-parallel-item\"><div class=\"sk-item\"><div class=\"sk-label-container\"><div class=\"sk-label sk-toggleable\"><label>amplitude-11</label></div></div><div class=\"sk-serial\"><div class=\"sk-item\"><div class=\"sk-estimator sk-toggleable\"><input class=\"sk-toggleable__control sk-hidden--visually\" id=\"8926991a-259d-4d87-bbec-63377ef1374a\" type=\"checkbox\" ><label class=\"sk-toggleable__label\" for=\"8926991a-259d-4d87-bbec-63377ef1374a\">Amplitude</label><div class=\"sk-toggleable__content\"><pre>Amplitude(metric='heat', metric_params={'n_bins': 100, 'p': 1, 'sigma': 3.2},\n",
       "          n_jobs=-1)</pre></div></div></div></div></div></div><div class=\"sk-parallel-item\"><div class=\"sk-item\"><div class=\"sk-label-container\"><div class=\"sk-label sk-toggleable\"><label>amplitude-12</label></div></div><div class=\"sk-serial\"><div class=\"sk-item\"><div class=\"sk-estimator sk-toggleable\"><input class=\"sk-toggleable__control sk-hidden--visually\" id=\"a4a46147-5d3e-4dee-883a-3dcaae558632\" type=\"checkbox\" ><label class=\"sk-toggleable__label\" for=\"a4a46147-5d3e-4dee-883a-3dcaae558632\">Amplitude</label><div class=\"sk-toggleable__content\"><pre>Amplitude(metric='heat', metric_params={'n_bins': 100, 'p': 2, 'sigma': 1.6},\n",
       "          n_jobs=-1)</pre></div></div></div></div></div></div><div class=\"sk-parallel-item\"><div class=\"sk-item\"><div class=\"sk-label-container\"><div class=\"sk-label sk-toggleable\"><label>amplitude-13</label></div></div><div class=\"sk-serial\"><div class=\"sk-item\"><div class=\"sk-estimator sk-toggleable\"><input class=\"sk-toggleable__control sk-hidden--visually\" id=\"7e736791-f45f-4ef6-9dd6-dddf188bce1d\" type=\"checkbox\" ><label class=\"sk-toggleable__label\" for=\"7e736791-f45f-4ef6-9dd6-dddf188bce1d\">Amplitude</label><div class=\"sk-toggleable__content\"><pre>Amplitude(metric='heat', metric_params={'n_bins': 100, 'p': 2, 'sigma': 3.2},\n",
       "          n_jobs=-1)</pre></div></div></div></div></div></div></div></div></div></div></div></div></div><div class=\"sk-parallel-item\"><div class=\"sk-item\"><div class=\"sk-label-container\"><div class=\"sk-label sk-toggleable\"><label>pipeline-12</label></div></div><div class=\"sk-serial\"><div class=\"sk-item\"><div class=\"sk-serial\"><div class=\"sk-item\"><div class=\"sk-estimator sk-toggleable\"><input class=\"sk-toggleable__control sk-hidden--visually\" id=\"e61437d7-9780-45bb-b0f0-2f5d36981114\" type=\"checkbox\" ><label class=\"sk-toggleable__label\" for=\"e61437d7-9780-45bb-b0f0-2f5d36981114\">Binarizer</label><div class=\"sk-toggleable__content\"><pre>Binarizer(n_jobs=-1, threshold=0.4)</pre></div></div></div><div class=\"sk-item\"><div class=\"sk-estimator sk-toggleable\"><input class=\"sk-toggleable__control sk-hidden--visually\" id=\"0e1331c2-abdd-4cfe-9786-a7346f7bc030\" type=\"checkbox\" ><label class=\"sk-toggleable__label\" for=\"0e1331c2-abdd-4cfe-9786-a7346f7bc030\">RadialFiltration</label><div class=\"sk-toggleable__content\"><pre>RadialFiltration(center=array([20, 13]), n_jobs=-1)</pre></div></div></div><div class=\"sk-item\"><div class=\"sk-estimator sk-toggleable\"><input class=\"sk-toggleable__control sk-hidden--visually\" id=\"b7b701c4-8ebf-4212-97e4-2e5b006666e8\" type=\"checkbox\" ><label class=\"sk-toggleable__label\" for=\"b7b701c4-8ebf-4212-97e4-2e5b006666e8\">CubicalPersistence</label><div class=\"sk-toggleable__content\"><pre>CubicalPersistence(n_jobs=-1)</pre></div></div></div><div class=\"sk-item\"><div class=\"sk-estimator sk-toggleable\"><input class=\"sk-toggleable__control sk-hidden--visually\" id=\"7cc34402-671a-4d57-90d6-d388700dcc30\" type=\"checkbox\" ><label class=\"sk-toggleable__label\" for=\"7cc34402-671a-4d57-90d6-d388700dcc30\">Scaler</label><div class=\"sk-toggleable__content\"><pre>Scaler(n_jobs=-1)</pre></div></div></div><div class=\"sk-item sk-dashed-wrapped\"><div class=\"sk-label-container\"><div class=\"sk-label sk-toggleable\"><input class=\"sk-toggleable__control sk-hidden--visually\" id=\"6e2e9bd4-cfc4-46d4-a113-6cbc9444faef\" type=\"checkbox\" ><label class=\"sk-toggleable__label\" for=\"6e2e9bd4-cfc4-46d4-a113-6cbc9444faef\">featureunion: FeatureUnion</label><div class=\"sk-toggleable__content\"><pre>FeatureUnion(transformer_list=[('persistenceentropy',\n",
       "                                PersistenceEntropy(nan_fill_value=-1)),\n",
       "                               ('amplitude-1',\n",
       "                                Amplitude(metric='bottleneck', metric_params={},\n",
       "                                          n_jobs=-1)),\n",
       "                               ('amplitude-2',\n",
       "                                Amplitude(metric='wasserstein',\n",
       "                                          metric_params={'p': 1}, n_jobs=-1)),\n",
       "                               ('amplitude-3',\n",
       "                                Amplitude(metric='wasserstein',\n",
       "                                          metric_params={'p': 2}, n_jobs=-1)),\n",
       "                               ('amplitude-4',\n",
       "                                Amplitude...\n",
       "                                          metric_params={'n_bins': 100, 'p': 1,\n",
       "                                                         'sigma': 1.6},\n",
       "                                          n_jobs=-1)),\n",
       "                               ('amplitude-11',\n",
       "                                Amplitude(metric='heat',\n",
       "                                          metric_params={'n_bins': 100, 'p': 1,\n",
       "                                                         'sigma': 3.2},\n",
       "                                          n_jobs=-1)),\n",
       "                               ('amplitude-12',\n",
       "                                Amplitude(metric='heat',\n",
       "                                          metric_params={'n_bins': 100, 'p': 2,\n",
       "                                                         'sigma': 1.6},\n",
       "                                          n_jobs=-1)),\n",
       "                               ('amplitude-13',\n",
       "                                Amplitude(metric='heat',\n",
       "                                          metric_params={'n_bins': 100, 'p': 2,\n",
       "                                                         'sigma': 3.2},\n",
       "                                          n_jobs=-1))])</pre></div></div></div><div class=\"sk-parallel\"><div class=\"sk-parallel-item\"><div class=\"sk-item\"><div class=\"sk-label-container\"><div class=\"sk-label sk-toggleable\"><label>persistenceentropy</label></div></div><div class=\"sk-serial\"><div class=\"sk-item\"><div class=\"sk-estimator sk-toggleable\"><input class=\"sk-toggleable__control sk-hidden--visually\" id=\"969f5a24-07fe-4fa3-a529-21518a21728f\" type=\"checkbox\" ><label class=\"sk-toggleable__label\" for=\"969f5a24-07fe-4fa3-a529-21518a21728f\">PersistenceEntropy</label><div class=\"sk-toggleable__content\"><pre>PersistenceEntropy(nan_fill_value=-1)</pre></div></div></div></div></div></div><div class=\"sk-parallel-item\"><div class=\"sk-item\"><div class=\"sk-label-container\"><div class=\"sk-label sk-toggleable\"><label>amplitude-1</label></div></div><div class=\"sk-serial\"><div class=\"sk-item\"><div class=\"sk-estimator sk-toggleable\"><input class=\"sk-toggleable__control sk-hidden--visually\" id=\"73b7a3b8-9643-4470-9718-51caae8c4382\" type=\"checkbox\" ><label class=\"sk-toggleable__label\" for=\"73b7a3b8-9643-4470-9718-51caae8c4382\">Amplitude</label><div class=\"sk-toggleable__content\"><pre>Amplitude(metric='bottleneck', metric_params={}, n_jobs=-1)</pre></div></div></div></div></div></div><div class=\"sk-parallel-item\"><div class=\"sk-item\"><div class=\"sk-label-container\"><div class=\"sk-label sk-toggleable\"><label>amplitude-2</label></div></div><div class=\"sk-serial\"><div class=\"sk-item\"><div class=\"sk-estimator sk-toggleable\"><input class=\"sk-toggleable__control sk-hidden--visually\" id=\"e5a08f44-6e19-4963-98c1-c62916036a43\" type=\"checkbox\" ><label class=\"sk-toggleable__label\" for=\"e5a08f44-6e19-4963-98c1-c62916036a43\">Amplitude</label><div class=\"sk-toggleable__content\"><pre>Amplitude(metric='wasserstein', metric_params={'p': 1}, n_jobs=-1)</pre></div></div></div></div></div></div><div class=\"sk-parallel-item\"><div class=\"sk-item\"><div class=\"sk-label-container\"><div class=\"sk-label sk-toggleable\"><label>amplitude-3</label></div></div><div class=\"sk-serial\"><div class=\"sk-item\"><div class=\"sk-estimator sk-toggleable\"><input class=\"sk-toggleable__control sk-hidden--visually\" id=\"e4ccc1e1-e5a7-414a-8875-13be40a909df\" type=\"checkbox\" ><label class=\"sk-toggleable__label\" for=\"e4ccc1e1-e5a7-414a-8875-13be40a909df\">Amplitude</label><div class=\"sk-toggleable__content\"><pre>Amplitude(metric='wasserstein', metric_params={'p': 2}, n_jobs=-1)</pre></div></div></div></div></div></div><div class=\"sk-parallel-item\"><div class=\"sk-item\"><div class=\"sk-label-container\"><div class=\"sk-label sk-toggleable\"><label>amplitude-4</label></div></div><div class=\"sk-serial\"><div class=\"sk-item\"><div class=\"sk-estimator sk-toggleable\"><input class=\"sk-toggleable__control sk-hidden--visually\" id=\"d210d9c7-f886-4ec8-bd58-bf477c1e1ab6\" type=\"checkbox\" ><label class=\"sk-toggleable__label\" for=\"d210d9c7-f886-4ec8-bd58-bf477c1e1ab6\">Amplitude</label><div class=\"sk-toggleable__content\"><pre>Amplitude(metric_params={'n_bins': 100, 'n_layers': 1, 'p': 1}, n_jobs=-1)</pre></div></div></div></div></div></div><div class=\"sk-parallel-item\"><div class=\"sk-item\"><div class=\"sk-label-container\"><div class=\"sk-label sk-toggleable\"><label>amplitude-5</label></div></div><div class=\"sk-serial\"><div class=\"sk-item\"><div class=\"sk-estimator sk-toggleable\"><input class=\"sk-toggleable__control sk-hidden--visually\" id=\"795ccda1-89eb-4d5e-ab7d-63836c40bd5b\" type=\"checkbox\" ><label class=\"sk-toggleable__label\" for=\"795ccda1-89eb-4d5e-ab7d-63836c40bd5b\">Amplitude</label><div class=\"sk-toggleable__content\"><pre>Amplitude(metric_params={'n_bins': 100, 'n_layers': 2, 'p': 1}, n_jobs=-1)</pre></div></div></div></div></div></div><div class=\"sk-parallel-item\"><div class=\"sk-item\"><div class=\"sk-label-container\"><div class=\"sk-label sk-toggleable\"><label>amplitude-6</label></div></div><div class=\"sk-serial\"><div class=\"sk-item\"><div class=\"sk-estimator sk-toggleable\"><input class=\"sk-toggleable__control sk-hidden--visually\" id=\"be2641d0-6115-442c-bc8c-2aafe8f75236\" type=\"checkbox\" ><label class=\"sk-toggleable__label\" for=\"be2641d0-6115-442c-bc8c-2aafe8f75236\">Amplitude</label><div class=\"sk-toggleable__content\"><pre>Amplitude(metric_params={'n_bins': 100, 'n_layers': 1, 'p': 2}, n_jobs=-1)</pre></div></div></div></div></div></div><div class=\"sk-parallel-item\"><div class=\"sk-item\"><div class=\"sk-label-container\"><div class=\"sk-label sk-toggleable\"><label>amplitude-7</label></div></div><div class=\"sk-serial\"><div class=\"sk-item\"><div class=\"sk-estimator sk-toggleable\"><input class=\"sk-toggleable__control sk-hidden--visually\" id=\"4261c75a-5d26-40e2-bb97-a2379e6efe3c\" type=\"checkbox\" ><label class=\"sk-toggleable__label\" for=\"4261c75a-5d26-40e2-bb97-a2379e6efe3c\">Amplitude</label><div class=\"sk-toggleable__content\"><pre>Amplitude(metric_params={'n_bins': 100, 'n_layers': 2, 'p': 2}, n_jobs=-1)</pre></div></div></div></div></div></div><div class=\"sk-parallel-item\"><div class=\"sk-item\"><div class=\"sk-label-container\"><div class=\"sk-label sk-toggleable\"><label>amplitude-8</label></div></div><div class=\"sk-serial\"><div class=\"sk-item\"><div class=\"sk-estimator sk-toggleable\"><input class=\"sk-toggleable__control sk-hidden--visually\" id=\"6b3a8550-7495-429b-bac8-f7a894cce6c9\" type=\"checkbox\" ><label class=\"sk-toggleable__label\" for=\"6b3a8550-7495-429b-bac8-f7a894cce6c9\">Amplitude</label><div class=\"sk-toggleable__content\"><pre>Amplitude(metric='betti', metric_params={'n_bins': 100, 'p': 1}, n_jobs=-1)</pre></div></div></div></div></div></div><div class=\"sk-parallel-item\"><div class=\"sk-item\"><div class=\"sk-label-container\"><div class=\"sk-label sk-toggleable\"><label>amplitude-9</label></div></div><div class=\"sk-serial\"><div class=\"sk-item\"><div class=\"sk-estimator sk-toggleable\"><input class=\"sk-toggleable__control sk-hidden--visually\" id=\"e78b4494-bb59-41b0-9a01-79c5ad5c10ed\" type=\"checkbox\" ><label class=\"sk-toggleable__label\" for=\"e78b4494-bb59-41b0-9a01-79c5ad5c10ed\">Amplitude</label><div class=\"sk-toggleable__content\"><pre>Amplitude(metric='betti', metric_params={'n_bins': 100, 'p': 2}, n_jobs=-1)</pre></div></div></div></div></div></div><div class=\"sk-parallel-item\"><div class=\"sk-item\"><div class=\"sk-label-container\"><div class=\"sk-label sk-toggleable\"><label>amplitude-10</label></div></div><div class=\"sk-serial\"><div class=\"sk-item\"><div class=\"sk-estimator sk-toggleable\"><input class=\"sk-toggleable__control sk-hidden--visually\" id=\"55a086f2-618f-4b8a-a5b9-1a1229dd0bc9\" type=\"checkbox\" ><label class=\"sk-toggleable__label\" for=\"55a086f2-618f-4b8a-a5b9-1a1229dd0bc9\">Amplitude</label><div class=\"sk-toggleable__content\"><pre>Amplitude(metric='heat', metric_params={'n_bins': 100, 'p': 1, 'sigma': 1.6},\n",
       "          n_jobs=-1)</pre></div></div></div></div></div></div><div class=\"sk-parallel-item\"><div class=\"sk-item\"><div class=\"sk-label-container\"><div class=\"sk-label sk-toggleable\"><label>amplitude-11</label></div></div><div class=\"sk-serial\"><div class=\"sk-item\"><div class=\"sk-estimator sk-toggleable\"><input class=\"sk-toggleable__control sk-hidden--visually\" id=\"3ad43a98-71cd-4471-bba9-efd4527e85b2\" type=\"checkbox\" ><label class=\"sk-toggleable__label\" for=\"3ad43a98-71cd-4471-bba9-efd4527e85b2\">Amplitude</label><div class=\"sk-toggleable__content\"><pre>Amplitude(metric='heat', metric_params={'n_bins': 100, 'p': 1, 'sigma': 3.2},\n",
       "          n_jobs=-1)</pre></div></div></div></div></div></div><div class=\"sk-parallel-item\"><div class=\"sk-item\"><div class=\"sk-label-container\"><div class=\"sk-label sk-toggleable\"><label>amplitude-12</label></div></div><div class=\"sk-serial\"><div class=\"sk-item\"><div class=\"sk-estimator sk-toggleable\"><input class=\"sk-toggleable__control sk-hidden--visually\" id=\"1ee4d4ea-9499-4d42-bc4b-de4363949dcd\" type=\"checkbox\" ><label class=\"sk-toggleable__label\" for=\"1ee4d4ea-9499-4d42-bc4b-de4363949dcd\">Amplitude</label><div class=\"sk-toggleable__content\"><pre>Amplitude(metric='heat', metric_params={'n_bins': 100, 'p': 2, 'sigma': 1.6},\n",
       "          n_jobs=-1)</pre></div></div></div></div></div></div><div class=\"sk-parallel-item\"><div class=\"sk-item\"><div class=\"sk-label-container\"><div class=\"sk-label sk-toggleable\"><label>amplitude-13</label></div></div><div class=\"sk-serial\"><div class=\"sk-item\"><div class=\"sk-estimator sk-toggleable\"><input class=\"sk-toggleable__control sk-hidden--visually\" id=\"1a918abb-9794-49f2-9ffc-72a1b5320ff3\" type=\"checkbox\" ><label class=\"sk-toggleable__label\" for=\"1a918abb-9794-49f2-9ffc-72a1b5320ff3\">Amplitude</label><div class=\"sk-toggleable__content\"><pre>Amplitude(metric='heat', metric_params={'n_bins': 100, 'p': 2, 'sigma': 3.2},\n",
       "          n_jobs=-1)</pre></div></div></div></div></div></div></div></div></div></div></div></div></div><div class=\"sk-parallel-item\"><div class=\"sk-item\"><div class=\"sk-label-container\"><div class=\"sk-label sk-toggleable\"><label>pipeline-13</label></div></div><div class=\"sk-serial\"><div class=\"sk-item\"><div class=\"sk-serial\"><div class=\"sk-item\"><div class=\"sk-estimator sk-toggleable\"><input class=\"sk-toggleable__control sk-hidden--visually\" id=\"18c84b14-ea92-4b0c-8e88-22b296ab5f66\" type=\"checkbox\" ><label class=\"sk-toggleable__label\" for=\"18c84b14-ea92-4b0c-8e88-22b296ab5f66\">Binarizer</label><div class=\"sk-toggleable__content\"><pre>Binarizer(n_jobs=-1, threshold=0.4)</pre></div></div></div><div class=\"sk-item\"><div class=\"sk-estimator sk-toggleable\"><input class=\"sk-toggleable__control sk-hidden--visually\" id=\"36a6b29e-ebe7-49d1-a7ce-35b3aff5539e\" type=\"checkbox\" ><label class=\"sk-toggleable__label\" for=\"36a6b29e-ebe7-49d1-a7ce-35b3aff5539e\">RadialFiltration</label><div class=\"sk-toggleable__content\"><pre>RadialFiltration(center=array([13, 20]), n_jobs=-1)</pre></div></div></div><div class=\"sk-item\"><div class=\"sk-estimator sk-toggleable\"><input class=\"sk-toggleable__control sk-hidden--visually\" id=\"a358624f-a2c6-4bcb-bc8f-6e547b44c7dd\" type=\"checkbox\" ><label class=\"sk-toggleable__label\" for=\"a358624f-a2c6-4bcb-bc8f-6e547b44c7dd\">CubicalPersistence</label><div class=\"sk-toggleable__content\"><pre>CubicalPersistence(n_jobs=-1)</pre></div></div></div><div class=\"sk-item\"><div class=\"sk-estimator sk-toggleable\"><input class=\"sk-toggleable__control sk-hidden--visually\" id=\"336cf419-8979-489c-bcb3-d639ac366886\" type=\"checkbox\" ><label class=\"sk-toggleable__label\" for=\"336cf419-8979-489c-bcb3-d639ac366886\">Scaler</label><div class=\"sk-toggleable__content\"><pre>Scaler(n_jobs=-1)</pre></div></div></div><div class=\"sk-item sk-dashed-wrapped\"><div class=\"sk-label-container\"><div class=\"sk-label sk-toggleable\"><input class=\"sk-toggleable__control sk-hidden--visually\" id=\"ad892380-1990-4be5-8973-f4cdfe82a188\" type=\"checkbox\" ><label class=\"sk-toggleable__label\" for=\"ad892380-1990-4be5-8973-f4cdfe82a188\">featureunion: FeatureUnion</label><div class=\"sk-toggleable__content\"><pre>FeatureUnion(transformer_list=[('persistenceentropy',\n",
       "                                PersistenceEntropy(nan_fill_value=-1)),\n",
       "                               ('amplitude-1',\n",
       "                                Amplitude(metric='bottleneck', metric_params={},\n",
       "                                          n_jobs=-1)),\n",
       "                               ('amplitude-2',\n",
       "                                Amplitude(metric='wasserstein',\n",
       "                                          metric_params={'p': 1}, n_jobs=-1)),\n",
       "                               ('amplitude-3',\n",
       "                                Amplitude(metric='wasserstein',\n",
       "                                          metric_params={'p': 2}, n_jobs=-1)),\n",
       "                               ('amplitude-4',\n",
       "                                Amplitude...\n",
       "                                          metric_params={'n_bins': 100, 'p': 1,\n",
       "                                                         'sigma': 1.6},\n",
       "                                          n_jobs=-1)),\n",
       "                               ('amplitude-11',\n",
       "                                Amplitude(metric='heat',\n",
       "                                          metric_params={'n_bins': 100, 'p': 1,\n",
       "                                                         'sigma': 3.2},\n",
       "                                          n_jobs=-1)),\n",
       "                               ('amplitude-12',\n",
       "                                Amplitude(metric='heat',\n",
       "                                          metric_params={'n_bins': 100, 'p': 2,\n",
       "                                                         'sigma': 1.6},\n",
       "                                          n_jobs=-1)),\n",
       "                               ('amplitude-13',\n",
       "                                Amplitude(metric='heat',\n",
       "                                          metric_params={'n_bins': 100, 'p': 2,\n",
       "                                                         'sigma': 3.2},\n",
       "                                          n_jobs=-1))])</pre></div></div></div><div class=\"sk-parallel\"><div class=\"sk-parallel-item\"><div class=\"sk-item\"><div class=\"sk-label-container\"><div class=\"sk-label sk-toggleable\"><label>persistenceentropy</label></div></div><div class=\"sk-serial\"><div class=\"sk-item\"><div class=\"sk-estimator sk-toggleable\"><input class=\"sk-toggleable__control sk-hidden--visually\" id=\"99a72107-a5eb-4ce2-96c6-fadfdd31ff4b\" type=\"checkbox\" ><label class=\"sk-toggleable__label\" for=\"99a72107-a5eb-4ce2-96c6-fadfdd31ff4b\">PersistenceEntropy</label><div class=\"sk-toggleable__content\"><pre>PersistenceEntropy(nan_fill_value=-1)</pre></div></div></div></div></div></div><div class=\"sk-parallel-item\"><div class=\"sk-item\"><div class=\"sk-label-container\"><div class=\"sk-label sk-toggleable\"><label>amplitude-1</label></div></div><div class=\"sk-serial\"><div class=\"sk-item\"><div class=\"sk-estimator sk-toggleable\"><input class=\"sk-toggleable__control sk-hidden--visually\" id=\"2544d3a1-a2db-432c-bdb0-c6a9e95cde7d\" type=\"checkbox\" ><label class=\"sk-toggleable__label\" for=\"2544d3a1-a2db-432c-bdb0-c6a9e95cde7d\">Amplitude</label><div class=\"sk-toggleable__content\"><pre>Amplitude(metric='bottleneck', metric_params={}, n_jobs=-1)</pre></div></div></div></div></div></div><div class=\"sk-parallel-item\"><div class=\"sk-item\"><div class=\"sk-label-container\"><div class=\"sk-label sk-toggleable\"><label>amplitude-2</label></div></div><div class=\"sk-serial\"><div class=\"sk-item\"><div class=\"sk-estimator sk-toggleable\"><input class=\"sk-toggleable__control sk-hidden--visually\" id=\"32683fd4-8a02-4daf-a507-89c0004a5c9a\" type=\"checkbox\" ><label class=\"sk-toggleable__label\" for=\"32683fd4-8a02-4daf-a507-89c0004a5c9a\">Amplitude</label><div class=\"sk-toggleable__content\"><pre>Amplitude(metric='wasserstein', metric_params={'p': 1}, n_jobs=-1)</pre></div></div></div></div></div></div><div class=\"sk-parallel-item\"><div class=\"sk-item\"><div class=\"sk-label-container\"><div class=\"sk-label sk-toggleable\"><label>amplitude-3</label></div></div><div class=\"sk-serial\"><div class=\"sk-item\"><div class=\"sk-estimator sk-toggleable\"><input class=\"sk-toggleable__control sk-hidden--visually\" id=\"def5bc77-7e43-4573-a589-d332d710dc4e\" type=\"checkbox\" ><label class=\"sk-toggleable__label\" for=\"def5bc77-7e43-4573-a589-d332d710dc4e\">Amplitude</label><div class=\"sk-toggleable__content\"><pre>Amplitude(metric='wasserstein', metric_params={'p': 2}, n_jobs=-1)</pre></div></div></div></div></div></div><div class=\"sk-parallel-item\"><div class=\"sk-item\"><div class=\"sk-label-container\"><div class=\"sk-label sk-toggleable\"><label>amplitude-4</label></div></div><div class=\"sk-serial\"><div class=\"sk-item\"><div class=\"sk-estimator sk-toggleable\"><input class=\"sk-toggleable__control sk-hidden--visually\" id=\"6a212847-7294-466e-ad0e-15dd42297d14\" type=\"checkbox\" ><label class=\"sk-toggleable__label\" for=\"6a212847-7294-466e-ad0e-15dd42297d14\">Amplitude</label><div class=\"sk-toggleable__content\"><pre>Amplitude(metric_params={'n_bins': 100, 'n_layers': 1, 'p': 1}, n_jobs=-1)</pre></div></div></div></div></div></div><div class=\"sk-parallel-item\"><div class=\"sk-item\"><div class=\"sk-label-container\"><div class=\"sk-label sk-toggleable\"><label>amplitude-5</label></div></div><div class=\"sk-serial\"><div class=\"sk-item\"><div class=\"sk-estimator sk-toggleable\"><input class=\"sk-toggleable__control sk-hidden--visually\" id=\"fdf2393d-71e9-4adf-a7c2-25fe647b6166\" type=\"checkbox\" ><label class=\"sk-toggleable__label\" for=\"fdf2393d-71e9-4adf-a7c2-25fe647b6166\">Amplitude</label><div class=\"sk-toggleable__content\"><pre>Amplitude(metric_params={'n_bins': 100, 'n_layers': 2, 'p': 1}, n_jobs=-1)</pre></div></div></div></div></div></div><div class=\"sk-parallel-item\"><div class=\"sk-item\"><div class=\"sk-label-container\"><div class=\"sk-label sk-toggleable\"><label>amplitude-6</label></div></div><div class=\"sk-serial\"><div class=\"sk-item\"><div class=\"sk-estimator sk-toggleable\"><input class=\"sk-toggleable__control sk-hidden--visually\" id=\"74f3f526-e42d-482f-92a4-4550df757fe0\" type=\"checkbox\" ><label class=\"sk-toggleable__label\" for=\"74f3f526-e42d-482f-92a4-4550df757fe0\">Amplitude</label><div class=\"sk-toggleable__content\"><pre>Amplitude(metric_params={'n_bins': 100, 'n_layers': 1, 'p': 2}, n_jobs=-1)</pre></div></div></div></div></div></div><div class=\"sk-parallel-item\"><div class=\"sk-item\"><div class=\"sk-label-container\"><div class=\"sk-label sk-toggleable\"><label>amplitude-7</label></div></div><div class=\"sk-serial\"><div class=\"sk-item\"><div class=\"sk-estimator sk-toggleable\"><input class=\"sk-toggleable__control sk-hidden--visually\" id=\"929ffea3-0e2f-4e79-acb7-cf62ac941929\" type=\"checkbox\" ><label class=\"sk-toggleable__label\" for=\"929ffea3-0e2f-4e79-acb7-cf62ac941929\">Amplitude</label><div class=\"sk-toggleable__content\"><pre>Amplitude(metric_params={'n_bins': 100, 'n_layers': 2, 'p': 2}, n_jobs=-1)</pre></div></div></div></div></div></div><div class=\"sk-parallel-item\"><div class=\"sk-item\"><div class=\"sk-label-container\"><div class=\"sk-label sk-toggleable\"><label>amplitude-8</label></div></div><div class=\"sk-serial\"><div class=\"sk-item\"><div class=\"sk-estimator sk-toggleable\"><input class=\"sk-toggleable__control sk-hidden--visually\" id=\"c4f83069-b2e9-4f43-993e-cc553b7ca93b\" type=\"checkbox\" ><label class=\"sk-toggleable__label\" for=\"c4f83069-b2e9-4f43-993e-cc553b7ca93b\">Amplitude</label><div class=\"sk-toggleable__content\"><pre>Amplitude(metric='betti', metric_params={'n_bins': 100, 'p': 1}, n_jobs=-1)</pre></div></div></div></div></div></div><div class=\"sk-parallel-item\"><div class=\"sk-item\"><div class=\"sk-label-container\"><div class=\"sk-label sk-toggleable\"><label>amplitude-9</label></div></div><div class=\"sk-serial\"><div class=\"sk-item\"><div class=\"sk-estimator sk-toggleable\"><input class=\"sk-toggleable__control sk-hidden--visually\" id=\"24772a6b-891d-4f86-a9ca-97eaabfb9b3b\" type=\"checkbox\" ><label class=\"sk-toggleable__label\" for=\"24772a6b-891d-4f86-a9ca-97eaabfb9b3b\">Amplitude</label><div class=\"sk-toggleable__content\"><pre>Amplitude(metric='betti', metric_params={'n_bins': 100, 'p': 2}, n_jobs=-1)</pre></div></div></div></div></div></div><div class=\"sk-parallel-item\"><div class=\"sk-item\"><div class=\"sk-label-container\"><div class=\"sk-label sk-toggleable\"><label>amplitude-10</label></div></div><div class=\"sk-serial\"><div class=\"sk-item\"><div class=\"sk-estimator sk-toggleable\"><input class=\"sk-toggleable__control sk-hidden--visually\" id=\"52774bf0-b505-48bd-b1f4-2c50434a2c45\" type=\"checkbox\" ><label class=\"sk-toggleable__label\" for=\"52774bf0-b505-48bd-b1f4-2c50434a2c45\">Amplitude</label><div class=\"sk-toggleable__content\"><pre>Amplitude(metric='heat', metric_params={'n_bins': 100, 'p': 1, 'sigma': 1.6},\n",
       "          n_jobs=-1)</pre></div></div></div></div></div></div><div class=\"sk-parallel-item\"><div class=\"sk-item\"><div class=\"sk-label-container\"><div class=\"sk-label sk-toggleable\"><label>amplitude-11</label></div></div><div class=\"sk-serial\"><div class=\"sk-item\"><div class=\"sk-estimator sk-toggleable\"><input class=\"sk-toggleable__control sk-hidden--visually\" id=\"e8f014b6-ab89-4895-a6aa-d2645b436f4f\" type=\"checkbox\" ><label class=\"sk-toggleable__label\" for=\"e8f014b6-ab89-4895-a6aa-d2645b436f4f\">Amplitude</label><div class=\"sk-toggleable__content\"><pre>Amplitude(metric='heat', metric_params={'n_bins': 100, 'p': 1, 'sigma': 3.2},\n",
       "          n_jobs=-1)</pre></div></div></div></div></div></div><div class=\"sk-parallel-item\"><div class=\"sk-item\"><div class=\"sk-label-container\"><div class=\"sk-label sk-toggleable\"><label>amplitude-12</label></div></div><div class=\"sk-serial\"><div class=\"sk-item\"><div class=\"sk-estimator sk-toggleable\"><input class=\"sk-toggleable__control sk-hidden--visually\" id=\"d74e5880-580b-4d74-a156-1c54c6ecaf97\" type=\"checkbox\" ><label class=\"sk-toggleable__label\" for=\"d74e5880-580b-4d74-a156-1c54c6ecaf97\">Amplitude</label><div class=\"sk-toggleable__content\"><pre>Amplitude(metric='heat', metric_params={'n_bins': 100, 'p': 2, 'sigma': 1.6},\n",
       "          n_jobs=-1)</pre></div></div></div></div></div></div><div class=\"sk-parallel-item\"><div class=\"sk-item\"><div class=\"sk-label-container\"><div class=\"sk-label sk-toggleable\"><label>amplitude-13</label></div></div><div class=\"sk-serial\"><div class=\"sk-item\"><div class=\"sk-estimator sk-toggleable\"><input class=\"sk-toggleable__control sk-hidden--visually\" id=\"fbdac030-b50d-485f-b6ec-45af08cf616d\" type=\"checkbox\" ><label class=\"sk-toggleable__label\" for=\"fbdac030-b50d-485f-b6ec-45af08cf616d\">Amplitude</label><div class=\"sk-toggleable__content\"><pre>Amplitude(metric='heat', metric_params={'n_bins': 100, 'p': 2, 'sigma': 3.2},\n",
       "          n_jobs=-1)</pre></div></div></div></div></div></div></div></div></div></div></div></div></div><div class=\"sk-parallel-item\"><div class=\"sk-item\"><div class=\"sk-label-container\"><div class=\"sk-label sk-toggleable\"><label>pipeline-14</label></div></div><div class=\"sk-serial\"><div class=\"sk-item\"><div class=\"sk-serial\"><div class=\"sk-item\"><div class=\"sk-estimator sk-toggleable\"><input class=\"sk-toggleable__control sk-hidden--visually\" id=\"c6d46606-1965-49f1-a70b-e6691e996406\" type=\"checkbox\" ><label class=\"sk-toggleable__label\" for=\"c6d46606-1965-49f1-a70b-e6691e996406\">Binarizer</label><div class=\"sk-toggleable__content\"><pre>Binarizer(n_jobs=-1, threshold=0.4)</pre></div></div></div><div class=\"sk-item\"><div class=\"sk-estimator sk-toggleable\"><input class=\"sk-toggleable__control sk-hidden--visually\" id=\"685f385d-2b4c-4e7c-8537-e13de92041d6\" type=\"checkbox\" ><label class=\"sk-toggleable__label\" for=\"685f385d-2b4c-4e7c-8537-e13de92041d6\">RadialFiltration</label><div class=\"sk-toggleable__content\"><pre>RadialFiltration(center=array([6, 6]), n_jobs=-1)</pre></div></div></div><div class=\"sk-item\"><div class=\"sk-estimator sk-toggleable\"><input class=\"sk-toggleable__control sk-hidden--visually\" id=\"6d3d1012-ca6e-4cdd-8514-eff82f3c9746\" type=\"checkbox\" ><label class=\"sk-toggleable__label\" for=\"6d3d1012-ca6e-4cdd-8514-eff82f3c9746\">CubicalPersistence</label><div class=\"sk-toggleable__content\"><pre>CubicalPersistence(n_jobs=-1)</pre></div></div></div><div class=\"sk-item\"><div class=\"sk-estimator sk-toggleable\"><input class=\"sk-toggleable__control sk-hidden--visually\" id=\"59cfc35f-7d44-4bb8-907e-43dec898e597\" type=\"checkbox\" ><label class=\"sk-toggleable__label\" for=\"59cfc35f-7d44-4bb8-907e-43dec898e597\">Scaler</label><div class=\"sk-toggleable__content\"><pre>Scaler(n_jobs=-1)</pre></div></div></div><div class=\"sk-item sk-dashed-wrapped\"><div class=\"sk-label-container\"><div class=\"sk-label sk-toggleable\"><input class=\"sk-toggleable__control sk-hidden--visually\" id=\"71af5ace-2eda-41b9-a156-ae9b50abc692\" type=\"checkbox\" ><label class=\"sk-toggleable__label\" for=\"71af5ace-2eda-41b9-a156-ae9b50abc692\">featureunion: FeatureUnion</label><div class=\"sk-toggleable__content\"><pre>FeatureUnion(transformer_list=[('persistenceentropy',\n",
       "                                PersistenceEntropy(nan_fill_value=-1)),\n",
       "                               ('amplitude-1',\n",
       "                                Amplitude(metric='bottleneck', metric_params={},\n",
       "                                          n_jobs=-1)),\n",
       "                               ('amplitude-2',\n",
       "                                Amplitude(metric='wasserstein',\n",
       "                                          metric_params={'p': 1}, n_jobs=-1)),\n",
       "                               ('amplitude-3',\n",
       "                                Amplitude(metric='wasserstein',\n",
       "                                          metric_params={'p': 2}, n_jobs=-1)),\n",
       "                               ('amplitude-4',\n",
       "                                Amplitude...\n",
       "                                          metric_params={'n_bins': 100, 'p': 1,\n",
       "                                                         'sigma': 1.6},\n",
       "                                          n_jobs=-1)),\n",
       "                               ('amplitude-11',\n",
       "                                Amplitude(metric='heat',\n",
       "                                          metric_params={'n_bins': 100, 'p': 1,\n",
       "                                                         'sigma': 3.2},\n",
       "                                          n_jobs=-1)),\n",
       "                               ('amplitude-12',\n",
       "                                Amplitude(metric='heat',\n",
       "                                          metric_params={'n_bins': 100, 'p': 2,\n",
       "                                                         'sigma': 1.6},\n",
       "                                          n_jobs=-1)),\n",
       "                               ('amplitude-13',\n",
       "                                Amplitude(metric='heat',\n",
       "                                          metric_params={'n_bins': 100, 'p': 2,\n",
       "                                                         'sigma': 3.2},\n",
       "                                          n_jobs=-1))])</pre></div></div></div><div class=\"sk-parallel\"><div class=\"sk-parallel-item\"><div class=\"sk-item\"><div class=\"sk-label-container\"><div class=\"sk-label sk-toggleable\"><label>persistenceentropy</label></div></div><div class=\"sk-serial\"><div class=\"sk-item\"><div class=\"sk-estimator sk-toggleable\"><input class=\"sk-toggleable__control sk-hidden--visually\" id=\"47740bd2-1cdd-4953-b62e-ee995c169b23\" type=\"checkbox\" ><label class=\"sk-toggleable__label\" for=\"47740bd2-1cdd-4953-b62e-ee995c169b23\">PersistenceEntropy</label><div class=\"sk-toggleable__content\"><pre>PersistenceEntropy(nan_fill_value=-1)</pre></div></div></div></div></div></div><div class=\"sk-parallel-item\"><div class=\"sk-item\"><div class=\"sk-label-container\"><div class=\"sk-label sk-toggleable\"><label>amplitude-1</label></div></div><div class=\"sk-serial\"><div class=\"sk-item\"><div class=\"sk-estimator sk-toggleable\"><input class=\"sk-toggleable__control sk-hidden--visually\" id=\"fe22d6d8-59a4-4e45-b2fd-0d61dd2edd5a\" type=\"checkbox\" ><label class=\"sk-toggleable__label\" for=\"fe22d6d8-59a4-4e45-b2fd-0d61dd2edd5a\">Amplitude</label><div class=\"sk-toggleable__content\"><pre>Amplitude(metric='bottleneck', metric_params={}, n_jobs=-1)</pre></div></div></div></div></div></div><div class=\"sk-parallel-item\"><div class=\"sk-item\"><div class=\"sk-label-container\"><div class=\"sk-label sk-toggleable\"><label>amplitude-2</label></div></div><div class=\"sk-serial\"><div class=\"sk-item\"><div class=\"sk-estimator sk-toggleable\"><input class=\"sk-toggleable__control sk-hidden--visually\" id=\"4ab3c811-c9b6-4d9f-a044-5751c1d1c9bf\" type=\"checkbox\" ><label class=\"sk-toggleable__label\" for=\"4ab3c811-c9b6-4d9f-a044-5751c1d1c9bf\">Amplitude</label><div class=\"sk-toggleable__content\"><pre>Amplitude(metric='wasserstein', metric_params={'p': 1}, n_jobs=-1)</pre></div></div></div></div></div></div><div class=\"sk-parallel-item\"><div class=\"sk-item\"><div class=\"sk-label-container\"><div class=\"sk-label sk-toggleable\"><label>amplitude-3</label></div></div><div class=\"sk-serial\"><div class=\"sk-item\"><div class=\"sk-estimator sk-toggleable\"><input class=\"sk-toggleable__control sk-hidden--visually\" id=\"7a16b742-aa45-4dfc-af0a-645a8f2a5723\" type=\"checkbox\" ><label class=\"sk-toggleable__label\" for=\"7a16b742-aa45-4dfc-af0a-645a8f2a5723\">Amplitude</label><div class=\"sk-toggleable__content\"><pre>Amplitude(metric='wasserstein', metric_params={'p': 2}, n_jobs=-1)</pre></div></div></div></div></div></div><div class=\"sk-parallel-item\"><div class=\"sk-item\"><div class=\"sk-label-container\"><div class=\"sk-label sk-toggleable\"><label>amplitude-4</label></div></div><div class=\"sk-serial\"><div class=\"sk-item\"><div class=\"sk-estimator sk-toggleable\"><input class=\"sk-toggleable__control sk-hidden--visually\" id=\"987cddb3-4167-4fd6-81cb-a992904c05d9\" type=\"checkbox\" ><label class=\"sk-toggleable__label\" for=\"987cddb3-4167-4fd6-81cb-a992904c05d9\">Amplitude</label><div class=\"sk-toggleable__content\"><pre>Amplitude(metric_params={'n_bins': 100, 'n_layers': 1, 'p': 1}, n_jobs=-1)</pre></div></div></div></div></div></div><div class=\"sk-parallel-item\"><div class=\"sk-item\"><div class=\"sk-label-container\"><div class=\"sk-label sk-toggleable\"><label>amplitude-5</label></div></div><div class=\"sk-serial\"><div class=\"sk-item\"><div class=\"sk-estimator sk-toggleable\"><input class=\"sk-toggleable__control sk-hidden--visually\" id=\"21399fc3-9cd5-489b-8aec-b1e503c4b55c\" type=\"checkbox\" ><label class=\"sk-toggleable__label\" for=\"21399fc3-9cd5-489b-8aec-b1e503c4b55c\">Amplitude</label><div class=\"sk-toggleable__content\"><pre>Amplitude(metric_params={'n_bins': 100, 'n_layers': 2, 'p': 1}, n_jobs=-1)</pre></div></div></div></div></div></div><div class=\"sk-parallel-item\"><div class=\"sk-item\"><div class=\"sk-label-container\"><div class=\"sk-label sk-toggleable\"><label>amplitude-6</label></div></div><div class=\"sk-serial\"><div class=\"sk-item\"><div class=\"sk-estimator sk-toggleable\"><input class=\"sk-toggleable__control sk-hidden--visually\" id=\"fe0e6569-8bfc-4c50-b5a1-854f94fc08b7\" type=\"checkbox\" ><label class=\"sk-toggleable__label\" for=\"fe0e6569-8bfc-4c50-b5a1-854f94fc08b7\">Amplitude</label><div class=\"sk-toggleable__content\"><pre>Amplitude(metric_params={'n_bins': 100, 'n_layers': 1, 'p': 2}, n_jobs=-1)</pre></div></div></div></div></div></div><div class=\"sk-parallel-item\"><div class=\"sk-item\"><div class=\"sk-label-container\"><div class=\"sk-label sk-toggleable\"><label>amplitude-7</label></div></div><div class=\"sk-serial\"><div class=\"sk-item\"><div class=\"sk-estimator sk-toggleable\"><input class=\"sk-toggleable__control sk-hidden--visually\" id=\"b97e5147-affe-41ee-b876-05a92d471e8a\" type=\"checkbox\" ><label class=\"sk-toggleable__label\" for=\"b97e5147-affe-41ee-b876-05a92d471e8a\">Amplitude</label><div class=\"sk-toggleable__content\"><pre>Amplitude(metric_params={'n_bins': 100, 'n_layers': 2, 'p': 2}, n_jobs=-1)</pre></div></div></div></div></div></div><div class=\"sk-parallel-item\"><div class=\"sk-item\"><div class=\"sk-label-container\"><div class=\"sk-label sk-toggleable\"><label>amplitude-8</label></div></div><div class=\"sk-serial\"><div class=\"sk-item\"><div class=\"sk-estimator sk-toggleable\"><input class=\"sk-toggleable__control sk-hidden--visually\" id=\"bd15ad80-788d-4ea9-9417-12e06a11078f\" type=\"checkbox\" ><label class=\"sk-toggleable__label\" for=\"bd15ad80-788d-4ea9-9417-12e06a11078f\">Amplitude</label><div class=\"sk-toggleable__content\"><pre>Amplitude(metric='betti', metric_params={'n_bins': 100, 'p': 1}, n_jobs=-1)</pre></div></div></div></div></div></div><div class=\"sk-parallel-item\"><div class=\"sk-item\"><div class=\"sk-label-container\"><div class=\"sk-label sk-toggleable\"><label>amplitude-9</label></div></div><div class=\"sk-serial\"><div class=\"sk-item\"><div class=\"sk-estimator sk-toggleable\"><input class=\"sk-toggleable__control sk-hidden--visually\" id=\"cd9fa4cd-c86a-4d1d-8fac-47cc837e9148\" type=\"checkbox\" ><label class=\"sk-toggleable__label\" for=\"cd9fa4cd-c86a-4d1d-8fac-47cc837e9148\">Amplitude</label><div class=\"sk-toggleable__content\"><pre>Amplitude(metric='betti', metric_params={'n_bins': 100, 'p': 2}, n_jobs=-1)</pre></div></div></div></div></div></div><div class=\"sk-parallel-item\"><div class=\"sk-item\"><div class=\"sk-label-container\"><div class=\"sk-label sk-toggleable\"><label>amplitude-10</label></div></div><div class=\"sk-serial\"><div class=\"sk-item\"><div class=\"sk-estimator sk-toggleable\"><input class=\"sk-toggleable__control sk-hidden--visually\" id=\"abbafdc5-a385-4faa-b127-c35a44efdc7d\" type=\"checkbox\" ><label class=\"sk-toggleable__label\" for=\"abbafdc5-a385-4faa-b127-c35a44efdc7d\">Amplitude</label><div class=\"sk-toggleable__content\"><pre>Amplitude(metric='heat', metric_params={'n_bins': 100, 'p': 1, 'sigma': 1.6},\n",
       "          n_jobs=-1)</pre></div></div></div></div></div></div><div class=\"sk-parallel-item\"><div class=\"sk-item\"><div class=\"sk-label-container\"><div class=\"sk-label sk-toggleable\"><label>amplitude-11</label></div></div><div class=\"sk-serial\"><div class=\"sk-item\"><div class=\"sk-estimator sk-toggleable\"><input class=\"sk-toggleable__control sk-hidden--visually\" id=\"440b5506-0194-4917-abf6-4182c7e17bbc\" type=\"checkbox\" ><label class=\"sk-toggleable__label\" for=\"440b5506-0194-4917-abf6-4182c7e17bbc\">Amplitude</label><div class=\"sk-toggleable__content\"><pre>Amplitude(metric='heat', metric_params={'n_bins': 100, 'p': 1, 'sigma': 3.2},\n",
       "          n_jobs=-1)</pre></div></div></div></div></div></div><div class=\"sk-parallel-item\"><div class=\"sk-item\"><div class=\"sk-label-container\"><div class=\"sk-label sk-toggleable\"><label>amplitude-12</label></div></div><div class=\"sk-serial\"><div class=\"sk-item\"><div class=\"sk-estimator sk-toggleable\"><input class=\"sk-toggleable__control sk-hidden--visually\" id=\"862d213b-79c0-4e53-8d28-e8186e2b548a\" type=\"checkbox\" ><label class=\"sk-toggleable__label\" for=\"862d213b-79c0-4e53-8d28-e8186e2b548a\">Amplitude</label><div class=\"sk-toggleable__content\"><pre>Amplitude(metric='heat', metric_params={'n_bins': 100, 'p': 2, 'sigma': 1.6},\n",
       "          n_jobs=-1)</pre></div></div></div></div></div></div><div class=\"sk-parallel-item\"><div class=\"sk-item\"><div class=\"sk-label-container\"><div class=\"sk-label sk-toggleable\"><label>amplitude-13</label></div></div><div class=\"sk-serial\"><div class=\"sk-item\"><div class=\"sk-estimator sk-toggleable\"><input class=\"sk-toggleable__control sk-hidden--visually\" id=\"bbda20d3-1371-40fe-8a76-a2cfac823f2a\" type=\"checkbox\" ><label class=\"sk-toggleable__label\" for=\"bbda20d3-1371-40fe-8a76-a2cfac823f2a\">Amplitude</label><div class=\"sk-toggleable__content\"><pre>Amplitude(metric='heat', metric_params={'n_bins': 100, 'p': 2, 'sigma': 3.2},\n",
       "          n_jobs=-1)</pre></div></div></div></div></div></div></div></div></div></div></div></div></div><div class=\"sk-parallel-item\"><div class=\"sk-item\"><div class=\"sk-label-container\"><div class=\"sk-label sk-toggleable\"><label>pipeline-15</label></div></div><div class=\"sk-serial\"><div class=\"sk-item\"><div class=\"sk-serial\"><div class=\"sk-item\"><div class=\"sk-estimator sk-toggleable\"><input class=\"sk-toggleable__control sk-hidden--visually\" id=\"a33f84a0-b5b9-49d1-a9ef-cd393aaee781\" type=\"checkbox\" ><label class=\"sk-toggleable__label\" for=\"a33f84a0-b5b9-49d1-a9ef-cd393aaee781\">Binarizer</label><div class=\"sk-toggleable__content\"><pre>Binarizer(n_jobs=-1, threshold=0.4)</pre></div></div></div><div class=\"sk-item\"><div class=\"sk-estimator sk-toggleable\"><input class=\"sk-toggleable__control sk-hidden--visually\" id=\"e7da86e7-3fa1-49e5-ab08-a59293059e4b\" type=\"checkbox\" ><label class=\"sk-toggleable__label\" for=\"e7da86e7-3fa1-49e5-ab08-a59293059e4b\">RadialFiltration</label><div class=\"sk-toggleable__content\"><pre>RadialFiltration(center=array([ 6, 20]), n_jobs=-1)</pre></div></div></div><div class=\"sk-item\"><div class=\"sk-estimator sk-toggleable\"><input class=\"sk-toggleable__control sk-hidden--visually\" id=\"b4b37595-f218-4641-9aa9-74582f7b143f\" type=\"checkbox\" ><label class=\"sk-toggleable__label\" for=\"b4b37595-f218-4641-9aa9-74582f7b143f\">CubicalPersistence</label><div class=\"sk-toggleable__content\"><pre>CubicalPersistence(n_jobs=-1)</pre></div></div></div><div class=\"sk-item\"><div class=\"sk-estimator sk-toggleable\"><input class=\"sk-toggleable__control sk-hidden--visually\" id=\"c64252c6-776b-416a-8127-e6a24ab13155\" type=\"checkbox\" ><label class=\"sk-toggleable__label\" for=\"c64252c6-776b-416a-8127-e6a24ab13155\">Scaler</label><div class=\"sk-toggleable__content\"><pre>Scaler(n_jobs=-1)</pre></div></div></div><div class=\"sk-item sk-dashed-wrapped\"><div class=\"sk-label-container\"><div class=\"sk-label sk-toggleable\"><input class=\"sk-toggleable__control sk-hidden--visually\" id=\"3ff39b67-796c-4a30-9b09-a201aafb7816\" type=\"checkbox\" ><label class=\"sk-toggleable__label\" for=\"3ff39b67-796c-4a30-9b09-a201aafb7816\">featureunion: FeatureUnion</label><div class=\"sk-toggleable__content\"><pre>FeatureUnion(transformer_list=[('persistenceentropy',\n",
       "                                PersistenceEntropy(nan_fill_value=-1)),\n",
       "                               ('amplitude-1',\n",
       "                                Amplitude(metric='bottleneck', metric_params={},\n",
       "                                          n_jobs=-1)),\n",
       "                               ('amplitude-2',\n",
       "                                Amplitude(metric='wasserstein',\n",
       "                                          metric_params={'p': 1}, n_jobs=-1)),\n",
       "                               ('amplitude-3',\n",
       "                                Amplitude(metric='wasserstein',\n",
       "                                          metric_params={'p': 2}, n_jobs=-1)),\n",
       "                               ('amplitude-4',\n",
       "                                Amplitude...\n",
       "                                          metric_params={'n_bins': 100, 'p': 1,\n",
       "                                                         'sigma': 1.6},\n",
       "                                          n_jobs=-1)),\n",
       "                               ('amplitude-11',\n",
       "                                Amplitude(metric='heat',\n",
       "                                          metric_params={'n_bins': 100, 'p': 1,\n",
       "                                                         'sigma': 3.2},\n",
       "                                          n_jobs=-1)),\n",
       "                               ('amplitude-12',\n",
       "                                Amplitude(metric='heat',\n",
       "                                          metric_params={'n_bins': 100, 'p': 2,\n",
       "                                                         'sigma': 1.6},\n",
       "                                          n_jobs=-1)),\n",
       "                               ('amplitude-13',\n",
       "                                Amplitude(metric='heat',\n",
       "                                          metric_params={'n_bins': 100, 'p': 2,\n",
       "                                                         'sigma': 3.2},\n",
       "                                          n_jobs=-1))])</pre></div></div></div><div class=\"sk-parallel\"><div class=\"sk-parallel-item\"><div class=\"sk-item\"><div class=\"sk-label-container\"><div class=\"sk-label sk-toggleable\"><label>persistenceentropy</label></div></div><div class=\"sk-serial\"><div class=\"sk-item\"><div class=\"sk-estimator sk-toggleable\"><input class=\"sk-toggleable__control sk-hidden--visually\" id=\"260013f6-5334-46b5-8030-5c46292276a4\" type=\"checkbox\" ><label class=\"sk-toggleable__label\" for=\"260013f6-5334-46b5-8030-5c46292276a4\">PersistenceEntropy</label><div class=\"sk-toggleable__content\"><pre>PersistenceEntropy(nan_fill_value=-1)</pre></div></div></div></div></div></div><div class=\"sk-parallel-item\"><div class=\"sk-item\"><div class=\"sk-label-container\"><div class=\"sk-label sk-toggleable\"><label>amplitude-1</label></div></div><div class=\"sk-serial\"><div class=\"sk-item\"><div class=\"sk-estimator sk-toggleable\"><input class=\"sk-toggleable__control sk-hidden--visually\" id=\"28a08821-b356-47ce-9f60-52d2f7c18e6a\" type=\"checkbox\" ><label class=\"sk-toggleable__label\" for=\"28a08821-b356-47ce-9f60-52d2f7c18e6a\">Amplitude</label><div class=\"sk-toggleable__content\"><pre>Amplitude(metric='bottleneck', metric_params={}, n_jobs=-1)</pre></div></div></div></div></div></div><div class=\"sk-parallel-item\"><div class=\"sk-item\"><div class=\"sk-label-container\"><div class=\"sk-label sk-toggleable\"><label>amplitude-2</label></div></div><div class=\"sk-serial\"><div class=\"sk-item\"><div class=\"sk-estimator sk-toggleable\"><input class=\"sk-toggleable__control sk-hidden--visually\" id=\"ecbe62d4-aac1-4243-9356-348ad805a26b\" type=\"checkbox\" ><label class=\"sk-toggleable__label\" for=\"ecbe62d4-aac1-4243-9356-348ad805a26b\">Amplitude</label><div class=\"sk-toggleable__content\"><pre>Amplitude(metric='wasserstein', metric_params={'p': 1}, n_jobs=-1)</pre></div></div></div></div></div></div><div class=\"sk-parallel-item\"><div class=\"sk-item\"><div class=\"sk-label-container\"><div class=\"sk-label sk-toggleable\"><label>amplitude-3</label></div></div><div class=\"sk-serial\"><div class=\"sk-item\"><div class=\"sk-estimator sk-toggleable\"><input class=\"sk-toggleable__control sk-hidden--visually\" id=\"22461408-3b5a-4d17-bdb5-761047feb3d0\" type=\"checkbox\" ><label class=\"sk-toggleable__label\" for=\"22461408-3b5a-4d17-bdb5-761047feb3d0\">Amplitude</label><div class=\"sk-toggleable__content\"><pre>Amplitude(metric='wasserstein', metric_params={'p': 2}, n_jobs=-1)</pre></div></div></div></div></div></div><div class=\"sk-parallel-item\"><div class=\"sk-item\"><div class=\"sk-label-container\"><div class=\"sk-label sk-toggleable\"><label>amplitude-4</label></div></div><div class=\"sk-serial\"><div class=\"sk-item\"><div class=\"sk-estimator sk-toggleable\"><input class=\"sk-toggleable__control sk-hidden--visually\" id=\"d60c86e6-e494-44dd-aeb2-bc0fe2375e7d\" type=\"checkbox\" ><label class=\"sk-toggleable__label\" for=\"d60c86e6-e494-44dd-aeb2-bc0fe2375e7d\">Amplitude</label><div class=\"sk-toggleable__content\"><pre>Amplitude(metric_params={'n_bins': 100, 'n_layers': 1, 'p': 1}, n_jobs=-1)</pre></div></div></div></div></div></div><div class=\"sk-parallel-item\"><div class=\"sk-item\"><div class=\"sk-label-container\"><div class=\"sk-label sk-toggleable\"><label>amplitude-5</label></div></div><div class=\"sk-serial\"><div class=\"sk-item\"><div class=\"sk-estimator sk-toggleable\"><input class=\"sk-toggleable__control sk-hidden--visually\" id=\"445a7031-b165-4b1f-95ac-3a592ae45907\" type=\"checkbox\" ><label class=\"sk-toggleable__label\" for=\"445a7031-b165-4b1f-95ac-3a592ae45907\">Amplitude</label><div class=\"sk-toggleable__content\"><pre>Amplitude(metric_params={'n_bins': 100, 'n_layers': 2, 'p': 1}, n_jobs=-1)</pre></div></div></div></div></div></div><div class=\"sk-parallel-item\"><div class=\"sk-item\"><div class=\"sk-label-container\"><div class=\"sk-label sk-toggleable\"><label>amplitude-6</label></div></div><div class=\"sk-serial\"><div class=\"sk-item\"><div class=\"sk-estimator sk-toggleable\"><input class=\"sk-toggleable__control sk-hidden--visually\" id=\"e900a028-e51a-4563-a73f-98344194d20c\" type=\"checkbox\" ><label class=\"sk-toggleable__label\" for=\"e900a028-e51a-4563-a73f-98344194d20c\">Amplitude</label><div class=\"sk-toggleable__content\"><pre>Amplitude(metric_params={'n_bins': 100, 'n_layers': 1, 'p': 2}, n_jobs=-1)</pre></div></div></div></div></div></div><div class=\"sk-parallel-item\"><div class=\"sk-item\"><div class=\"sk-label-container\"><div class=\"sk-label sk-toggleable\"><label>amplitude-7</label></div></div><div class=\"sk-serial\"><div class=\"sk-item\"><div class=\"sk-estimator sk-toggleable\"><input class=\"sk-toggleable__control sk-hidden--visually\" id=\"9f9cd15e-a7f4-4f8b-8538-612928f68001\" type=\"checkbox\" ><label class=\"sk-toggleable__label\" for=\"9f9cd15e-a7f4-4f8b-8538-612928f68001\">Amplitude</label><div class=\"sk-toggleable__content\"><pre>Amplitude(metric_params={'n_bins': 100, 'n_layers': 2, 'p': 2}, n_jobs=-1)</pre></div></div></div></div></div></div><div class=\"sk-parallel-item\"><div class=\"sk-item\"><div class=\"sk-label-container\"><div class=\"sk-label sk-toggleable\"><label>amplitude-8</label></div></div><div class=\"sk-serial\"><div class=\"sk-item\"><div class=\"sk-estimator sk-toggleable\"><input class=\"sk-toggleable__control sk-hidden--visually\" id=\"420a76a9-7a08-427f-89e2-f383ae7ee7c4\" type=\"checkbox\" ><label class=\"sk-toggleable__label\" for=\"420a76a9-7a08-427f-89e2-f383ae7ee7c4\">Amplitude</label><div class=\"sk-toggleable__content\"><pre>Amplitude(metric='betti', metric_params={'n_bins': 100, 'p': 1}, n_jobs=-1)</pre></div></div></div></div></div></div><div class=\"sk-parallel-item\"><div class=\"sk-item\"><div class=\"sk-label-container\"><div class=\"sk-label sk-toggleable\"><label>amplitude-9</label></div></div><div class=\"sk-serial\"><div class=\"sk-item\"><div class=\"sk-estimator sk-toggleable\"><input class=\"sk-toggleable__control sk-hidden--visually\" id=\"205ef6b0-98f5-4522-8817-d190e5b0cf6d\" type=\"checkbox\" ><label class=\"sk-toggleable__label\" for=\"205ef6b0-98f5-4522-8817-d190e5b0cf6d\">Amplitude</label><div class=\"sk-toggleable__content\"><pre>Amplitude(metric='betti', metric_params={'n_bins': 100, 'p': 2}, n_jobs=-1)</pre></div></div></div></div></div></div><div class=\"sk-parallel-item\"><div class=\"sk-item\"><div class=\"sk-label-container\"><div class=\"sk-label sk-toggleable\"><label>amplitude-10</label></div></div><div class=\"sk-serial\"><div class=\"sk-item\"><div class=\"sk-estimator sk-toggleable\"><input class=\"sk-toggleable__control sk-hidden--visually\" id=\"17f386ff-b699-4dd9-8cf4-bf50d1312726\" type=\"checkbox\" ><label class=\"sk-toggleable__label\" for=\"17f386ff-b699-4dd9-8cf4-bf50d1312726\">Amplitude</label><div class=\"sk-toggleable__content\"><pre>Amplitude(metric='heat', metric_params={'n_bins': 100, 'p': 1, 'sigma': 1.6},\n",
       "          n_jobs=-1)</pre></div></div></div></div></div></div><div class=\"sk-parallel-item\"><div class=\"sk-item\"><div class=\"sk-label-container\"><div class=\"sk-label sk-toggleable\"><label>amplitude-11</label></div></div><div class=\"sk-serial\"><div class=\"sk-item\"><div class=\"sk-estimator sk-toggleable\"><input class=\"sk-toggleable__control sk-hidden--visually\" id=\"a8913c7e-fd75-4029-9928-b43ef0d7daff\" type=\"checkbox\" ><label class=\"sk-toggleable__label\" for=\"a8913c7e-fd75-4029-9928-b43ef0d7daff\">Amplitude</label><div class=\"sk-toggleable__content\"><pre>Amplitude(metric='heat', metric_params={'n_bins': 100, 'p': 1, 'sigma': 3.2},\n",
       "          n_jobs=-1)</pre></div></div></div></div></div></div><div class=\"sk-parallel-item\"><div class=\"sk-item\"><div class=\"sk-label-container\"><div class=\"sk-label sk-toggleable\"><label>amplitude-12</label></div></div><div class=\"sk-serial\"><div class=\"sk-item\"><div class=\"sk-estimator sk-toggleable\"><input class=\"sk-toggleable__control sk-hidden--visually\" id=\"cc964d23-0560-44a6-9364-640e1317b10a\" type=\"checkbox\" ><label class=\"sk-toggleable__label\" for=\"cc964d23-0560-44a6-9364-640e1317b10a\">Amplitude</label><div class=\"sk-toggleable__content\"><pre>Amplitude(metric='heat', metric_params={'n_bins': 100, 'p': 2, 'sigma': 1.6},\n",
       "          n_jobs=-1)</pre></div></div></div></div></div></div><div class=\"sk-parallel-item\"><div class=\"sk-item\"><div class=\"sk-label-container\"><div class=\"sk-label sk-toggleable\"><label>amplitude-13</label></div></div><div class=\"sk-serial\"><div class=\"sk-item\"><div class=\"sk-estimator sk-toggleable\"><input class=\"sk-toggleable__control sk-hidden--visually\" id=\"7c73c27d-fc4f-42d7-b78c-a2b60d9f8246\" type=\"checkbox\" ><label class=\"sk-toggleable__label\" for=\"7c73c27d-fc4f-42d7-b78c-a2b60d9f8246\">Amplitude</label><div class=\"sk-toggleable__content\"><pre>Amplitude(metric='heat', metric_params={'n_bins': 100, 'p': 2, 'sigma': 3.2},\n",
       "          n_jobs=-1)</pre></div></div></div></div></div></div></div></div></div></div></div></div></div><div class=\"sk-parallel-item\"><div class=\"sk-item\"><div class=\"sk-label-container\"><div class=\"sk-label sk-toggleable\"><label>pipeline-16</label></div></div><div class=\"sk-serial\"><div class=\"sk-item\"><div class=\"sk-serial\"><div class=\"sk-item\"><div class=\"sk-estimator sk-toggleable\"><input class=\"sk-toggleable__control sk-hidden--visually\" id=\"32590af6-2352-43ad-a36b-8369fc68f50b\" type=\"checkbox\" ><label class=\"sk-toggleable__label\" for=\"32590af6-2352-43ad-a36b-8369fc68f50b\">Binarizer</label><div class=\"sk-toggleable__content\"><pre>Binarizer(n_jobs=-1, threshold=0.4)</pre></div></div></div><div class=\"sk-item\"><div class=\"sk-estimator sk-toggleable\"><input class=\"sk-toggleable__control sk-hidden--visually\" id=\"fe43e8e7-0d96-4c72-84d7-c55ce9fccda3\" type=\"checkbox\" ><label class=\"sk-toggleable__label\" for=\"fe43e8e7-0d96-4c72-84d7-c55ce9fccda3\">RadialFiltration</label><div class=\"sk-toggleable__content\"><pre>RadialFiltration(center=array([20,  6]), n_jobs=-1)</pre></div></div></div><div class=\"sk-item\"><div class=\"sk-estimator sk-toggleable\"><input class=\"sk-toggleable__control sk-hidden--visually\" id=\"68346264-fcfe-437b-a60f-1a197a143e3e\" type=\"checkbox\" ><label class=\"sk-toggleable__label\" for=\"68346264-fcfe-437b-a60f-1a197a143e3e\">CubicalPersistence</label><div class=\"sk-toggleable__content\"><pre>CubicalPersistence(n_jobs=-1)</pre></div></div></div><div class=\"sk-item\"><div class=\"sk-estimator sk-toggleable\"><input class=\"sk-toggleable__control sk-hidden--visually\" id=\"219ffba4-1577-490a-a34d-96e1cd3afab2\" type=\"checkbox\" ><label class=\"sk-toggleable__label\" for=\"219ffba4-1577-490a-a34d-96e1cd3afab2\">Scaler</label><div class=\"sk-toggleable__content\"><pre>Scaler(n_jobs=-1)</pre></div></div></div><div class=\"sk-item sk-dashed-wrapped\"><div class=\"sk-label-container\"><div class=\"sk-label sk-toggleable\"><input class=\"sk-toggleable__control sk-hidden--visually\" id=\"66449629-59c2-4962-aa4e-076fb3cd2723\" type=\"checkbox\" ><label class=\"sk-toggleable__label\" for=\"66449629-59c2-4962-aa4e-076fb3cd2723\">featureunion: FeatureUnion</label><div class=\"sk-toggleable__content\"><pre>FeatureUnion(transformer_list=[('persistenceentropy',\n",
       "                                PersistenceEntropy(nan_fill_value=-1)),\n",
       "                               ('amplitude-1',\n",
       "                                Amplitude(metric='bottleneck', metric_params={},\n",
       "                                          n_jobs=-1)),\n",
       "                               ('amplitude-2',\n",
       "                                Amplitude(metric='wasserstein',\n",
       "                                          metric_params={'p': 1}, n_jobs=-1)),\n",
       "                               ('amplitude-3',\n",
       "                                Amplitude(metric='wasserstein',\n",
       "                                          metric_params={'p': 2}, n_jobs=-1)),\n",
       "                               ('amplitude-4',\n",
       "                                Amplitude...\n",
       "                                          metric_params={'n_bins': 100, 'p': 1,\n",
       "                                                         'sigma': 1.6},\n",
       "                                          n_jobs=-1)),\n",
       "                               ('amplitude-11',\n",
       "                                Amplitude(metric='heat',\n",
       "                                          metric_params={'n_bins': 100, 'p': 1,\n",
       "                                                         'sigma': 3.2},\n",
       "                                          n_jobs=-1)),\n",
       "                               ('amplitude-12',\n",
       "                                Amplitude(metric='heat',\n",
       "                                          metric_params={'n_bins': 100, 'p': 2,\n",
       "                                                         'sigma': 1.6},\n",
       "                                          n_jobs=-1)),\n",
       "                               ('amplitude-13',\n",
       "                                Amplitude(metric='heat',\n",
       "                                          metric_params={'n_bins': 100, 'p': 2,\n",
       "                                                         'sigma': 3.2},\n",
       "                                          n_jobs=-1))])</pre></div></div></div><div class=\"sk-parallel\"><div class=\"sk-parallel-item\"><div class=\"sk-item\"><div class=\"sk-label-container\"><div class=\"sk-label sk-toggleable\"><label>persistenceentropy</label></div></div><div class=\"sk-serial\"><div class=\"sk-item\"><div class=\"sk-estimator sk-toggleable\"><input class=\"sk-toggleable__control sk-hidden--visually\" id=\"72535a2b-8f1a-40a1-8514-09bdd68119a7\" type=\"checkbox\" ><label class=\"sk-toggleable__label\" for=\"72535a2b-8f1a-40a1-8514-09bdd68119a7\">PersistenceEntropy</label><div class=\"sk-toggleable__content\"><pre>PersistenceEntropy(nan_fill_value=-1)</pre></div></div></div></div></div></div><div class=\"sk-parallel-item\"><div class=\"sk-item\"><div class=\"sk-label-container\"><div class=\"sk-label sk-toggleable\"><label>amplitude-1</label></div></div><div class=\"sk-serial\"><div class=\"sk-item\"><div class=\"sk-estimator sk-toggleable\"><input class=\"sk-toggleable__control sk-hidden--visually\" id=\"8c627c54-0b0a-4824-a0c0-d5eea619f060\" type=\"checkbox\" ><label class=\"sk-toggleable__label\" for=\"8c627c54-0b0a-4824-a0c0-d5eea619f060\">Amplitude</label><div class=\"sk-toggleable__content\"><pre>Amplitude(metric='bottleneck', metric_params={}, n_jobs=-1)</pre></div></div></div></div></div></div><div class=\"sk-parallel-item\"><div class=\"sk-item\"><div class=\"sk-label-container\"><div class=\"sk-label sk-toggleable\"><label>amplitude-2</label></div></div><div class=\"sk-serial\"><div class=\"sk-item\"><div class=\"sk-estimator sk-toggleable\"><input class=\"sk-toggleable__control sk-hidden--visually\" id=\"c2c85c96-6651-49f7-a289-9b500fe4e91d\" type=\"checkbox\" ><label class=\"sk-toggleable__label\" for=\"c2c85c96-6651-49f7-a289-9b500fe4e91d\">Amplitude</label><div class=\"sk-toggleable__content\"><pre>Amplitude(metric='wasserstein', metric_params={'p': 1}, n_jobs=-1)</pre></div></div></div></div></div></div><div class=\"sk-parallel-item\"><div class=\"sk-item\"><div class=\"sk-label-container\"><div class=\"sk-label sk-toggleable\"><label>amplitude-3</label></div></div><div class=\"sk-serial\"><div class=\"sk-item\"><div class=\"sk-estimator sk-toggleable\"><input class=\"sk-toggleable__control sk-hidden--visually\" id=\"bd966f84-6cb2-494e-9e88-5ced84b9987b\" type=\"checkbox\" ><label class=\"sk-toggleable__label\" for=\"bd966f84-6cb2-494e-9e88-5ced84b9987b\">Amplitude</label><div class=\"sk-toggleable__content\"><pre>Amplitude(metric='wasserstein', metric_params={'p': 2}, n_jobs=-1)</pre></div></div></div></div></div></div><div class=\"sk-parallel-item\"><div class=\"sk-item\"><div class=\"sk-label-container\"><div class=\"sk-label sk-toggleable\"><label>amplitude-4</label></div></div><div class=\"sk-serial\"><div class=\"sk-item\"><div class=\"sk-estimator sk-toggleable\"><input class=\"sk-toggleable__control sk-hidden--visually\" id=\"55c4b3d1-c50e-4037-9fd3-bc84e4408e11\" type=\"checkbox\" ><label class=\"sk-toggleable__label\" for=\"55c4b3d1-c50e-4037-9fd3-bc84e4408e11\">Amplitude</label><div class=\"sk-toggleable__content\"><pre>Amplitude(metric_params={'n_bins': 100, 'n_layers': 1, 'p': 1}, n_jobs=-1)</pre></div></div></div></div></div></div><div class=\"sk-parallel-item\"><div class=\"sk-item\"><div class=\"sk-label-container\"><div class=\"sk-label sk-toggleable\"><label>amplitude-5</label></div></div><div class=\"sk-serial\"><div class=\"sk-item\"><div class=\"sk-estimator sk-toggleable\"><input class=\"sk-toggleable__control sk-hidden--visually\" id=\"13dee90c-723f-49a2-ae4a-fc62aa9ddce5\" type=\"checkbox\" ><label class=\"sk-toggleable__label\" for=\"13dee90c-723f-49a2-ae4a-fc62aa9ddce5\">Amplitude</label><div class=\"sk-toggleable__content\"><pre>Amplitude(metric_params={'n_bins': 100, 'n_layers': 2, 'p': 1}, n_jobs=-1)</pre></div></div></div></div></div></div><div class=\"sk-parallel-item\"><div class=\"sk-item\"><div class=\"sk-label-container\"><div class=\"sk-label sk-toggleable\"><label>amplitude-6</label></div></div><div class=\"sk-serial\"><div class=\"sk-item\"><div class=\"sk-estimator sk-toggleable\"><input class=\"sk-toggleable__control sk-hidden--visually\" id=\"f5b85bdd-1a68-44e3-ac2a-286898ac3e50\" type=\"checkbox\" ><label class=\"sk-toggleable__label\" for=\"f5b85bdd-1a68-44e3-ac2a-286898ac3e50\">Amplitude</label><div class=\"sk-toggleable__content\"><pre>Amplitude(metric_params={'n_bins': 100, 'n_layers': 1, 'p': 2}, n_jobs=-1)</pre></div></div></div></div></div></div><div class=\"sk-parallel-item\"><div class=\"sk-item\"><div class=\"sk-label-container\"><div class=\"sk-label sk-toggleable\"><label>amplitude-7</label></div></div><div class=\"sk-serial\"><div class=\"sk-item\"><div class=\"sk-estimator sk-toggleable\"><input class=\"sk-toggleable__control sk-hidden--visually\" id=\"be34129c-e064-4d98-878e-59e1129352b6\" type=\"checkbox\" ><label class=\"sk-toggleable__label\" for=\"be34129c-e064-4d98-878e-59e1129352b6\">Amplitude</label><div class=\"sk-toggleable__content\"><pre>Amplitude(metric_params={'n_bins': 100, 'n_layers': 2, 'p': 2}, n_jobs=-1)</pre></div></div></div></div></div></div><div class=\"sk-parallel-item\"><div class=\"sk-item\"><div class=\"sk-label-container\"><div class=\"sk-label sk-toggleable\"><label>amplitude-8</label></div></div><div class=\"sk-serial\"><div class=\"sk-item\"><div class=\"sk-estimator sk-toggleable\"><input class=\"sk-toggleable__control sk-hidden--visually\" id=\"6314bf56-19cc-41f0-ad60-410ce8a35bf9\" type=\"checkbox\" ><label class=\"sk-toggleable__label\" for=\"6314bf56-19cc-41f0-ad60-410ce8a35bf9\">Amplitude</label><div class=\"sk-toggleable__content\"><pre>Amplitude(metric='betti', metric_params={'n_bins': 100, 'p': 1}, n_jobs=-1)</pre></div></div></div></div></div></div><div class=\"sk-parallel-item\"><div class=\"sk-item\"><div class=\"sk-label-container\"><div class=\"sk-label sk-toggleable\"><label>amplitude-9</label></div></div><div class=\"sk-serial\"><div class=\"sk-item\"><div class=\"sk-estimator sk-toggleable\"><input class=\"sk-toggleable__control sk-hidden--visually\" id=\"4894b547-7c1e-4747-81c4-20d05887574d\" type=\"checkbox\" ><label class=\"sk-toggleable__label\" for=\"4894b547-7c1e-4747-81c4-20d05887574d\">Amplitude</label><div class=\"sk-toggleable__content\"><pre>Amplitude(metric='betti', metric_params={'n_bins': 100, 'p': 2}, n_jobs=-1)</pre></div></div></div></div></div></div><div class=\"sk-parallel-item\"><div class=\"sk-item\"><div class=\"sk-label-container\"><div class=\"sk-label sk-toggleable\"><label>amplitude-10</label></div></div><div class=\"sk-serial\"><div class=\"sk-item\"><div class=\"sk-estimator sk-toggleable\"><input class=\"sk-toggleable__control sk-hidden--visually\" id=\"1b4f7072-3600-49ae-bda6-68737c5c1584\" type=\"checkbox\" ><label class=\"sk-toggleable__label\" for=\"1b4f7072-3600-49ae-bda6-68737c5c1584\">Amplitude</label><div class=\"sk-toggleable__content\"><pre>Amplitude(metric='heat', metric_params={'n_bins': 100, 'p': 1, 'sigma': 1.6},\n",
       "          n_jobs=-1)</pre></div></div></div></div></div></div><div class=\"sk-parallel-item\"><div class=\"sk-item\"><div class=\"sk-label-container\"><div class=\"sk-label sk-toggleable\"><label>amplitude-11</label></div></div><div class=\"sk-serial\"><div class=\"sk-item\"><div class=\"sk-estimator sk-toggleable\"><input class=\"sk-toggleable__control sk-hidden--visually\" id=\"3a9db8a8-854a-4932-95af-9ec27eae99de\" type=\"checkbox\" ><label class=\"sk-toggleable__label\" for=\"3a9db8a8-854a-4932-95af-9ec27eae99de\">Amplitude</label><div class=\"sk-toggleable__content\"><pre>Amplitude(metric='heat', metric_params={'n_bins': 100, 'p': 1, 'sigma': 3.2},\n",
       "          n_jobs=-1)</pre></div></div></div></div></div></div><div class=\"sk-parallel-item\"><div class=\"sk-item\"><div class=\"sk-label-container\"><div class=\"sk-label sk-toggleable\"><label>amplitude-12</label></div></div><div class=\"sk-serial\"><div class=\"sk-item\"><div class=\"sk-estimator sk-toggleable\"><input class=\"sk-toggleable__control sk-hidden--visually\" id=\"62bffee5-c98d-4e32-a797-ef3e119226dc\" type=\"checkbox\" ><label class=\"sk-toggleable__label\" for=\"62bffee5-c98d-4e32-a797-ef3e119226dc\">Amplitude</label><div class=\"sk-toggleable__content\"><pre>Amplitude(metric='heat', metric_params={'n_bins': 100, 'p': 2, 'sigma': 1.6},\n",
       "          n_jobs=-1)</pre></div></div></div></div></div></div><div class=\"sk-parallel-item\"><div class=\"sk-item\"><div class=\"sk-label-container\"><div class=\"sk-label sk-toggleable\"><label>amplitude-13</label></div></div><div class=\"sk-serial\"><div class=\"sk-item\"><div class=\"sk-estimator sk-toggleable\"><input class=\"sk-toggleable__control sk-hidden--visually\" id=\"60938d13-593b-4f18-a295-48cb86ed9bcd\" type=\"checkbox\" ><label class=\"sk-toggleable__label\" for=\"60938d13-593b-4f18-a295-48cb86ed9bcd\">Amplitude</label><div class=\"sk-toggleable__content\"><pre>Amplitude(metric='heat', metric_params={'n_bins': 100, 'p': 2, 'sigma': 3.2},\n",
       "          n_jobs=-1)</pre></div></div></div></div></div></div></div></div></div></div></div></div></div><div class=\"sk-parallel-item\"><div class=\"sk-item\"><div class=\"sk-label-container\"><div class=\"sk-label sk-toggleable\"><label>pipeline-17</label></div></div><div class=\"sk-serial\"><div class=\"sk-item\"><div class=\"sk-serial\"><div class=\"sk-item\"><div class=\"sk-estimator sk-toggleable\"><input class=\"sk-toggleable__control sk-hidden--visually\" id=\"28d94d6d-63eb-45a2-a774-a830aea303d2\" type=\"checkbox\" ><label class=\"sk-toggleable__label\" for=\"28d94d6d-63eb-45a2-a774-a830aea303d2\">Binarizer</label><div class=\"sk-toggleable__content\"><pre>Binarizer(n_jobs=-1, threshold=0.4)</pre></div></div></div><div class=\"sk-item\"><div class=\"sk-estimator sk-toggleable\"><input class=\"sk-toggleable__control sk-hidden--visually\" id=\"a009d98b-483d-4cac-adad-755e00afd257\" type=\"checkbox\" ><label class=\"sk-toggleable__label\" for=\"a009d98b-483d-4cac-adad-755e00afd257\">RadialFiltration</label><div class=\"sk-toggleable__content\"><pre>RadialFiltration(center=array([20, 20]), n_jobs=-1)</pre></div></div></div><div class=\"sk-item\"><div class=\"sk-estimator sk-toggleable\"><input class=\"sk-toggleable__control sk-hidden--visually\" id=\"7b81df27-0e4c-4350-ad5e-fa3d191a3626\" type=\"checkbox\" ><label class=\"sk-toggleable__label\" for=\"7b81df27-0e4c-4350-ad5e-fa3d191a3626\">CubicalPersistence</label><div class=\"sk-toggleable__content\"><pre>CubicalPersistence(n_jobs=-1)</pre></div></div></div><div class=\"sk-item\"><div class=\"sk-estimator sk-toggleable\"><input class=\"sk-toggleable__control sk-hidden--visually\" id=\"bd786f4f-cff8-4606-b2b6-8d056ff41aec\" type=\"checkbox\" ><label class=\"sk-toggleable__label\" for=\"bd786f4f-cff8-4606-b2b6-8d056ff41aec\">Scaler</label><div class=\"sk-toggleable__content\"><pre>Scaler(n_jobs=-1)</pre></div></div></div><div class=\"sk-item sk-dashed-wrapped\"><div class=\"sk-label-container\"><div class=\"sk-label sk-toggleable\"><input class=\"sk-toggleable__control sk-hidden--visually\" id=\"ef9bc7bc-935f-4e0f-b9f2-32f4239ac1e3\" type=\"checkbox\" ><label class=\"sk-toggleable__label\" for=\"ef9bc7bc-935f-4e0f-b9f2-32f4239ac1e3\">featureunion: FeatureUnion</label><div class=\"sk-toggleable__content\"><pre>FeatureUnion(transformer_list=[('persistenceentropy',\n",
       "                                PersistenceEntropy(nan_fill_value=-1)),\n",
       "                               ('amplitude-1',\n",
       "                                Amplitude(metric='bottleneck', metric_params={},\n",
       "                                          n_jobs=-1)),\n",
       "                               ('amplitude-2',\n",
       "                                Amplitude(metric='wasserstein',\n",
       "                                          metric_params={'p': 1}, n_jobs=-1)),\n",
       "                               ('amplitude-3',\n",
       "                                Amplitude(metric='wasserstein',\n",
       "                                          metric_params={'p': 2}, n_jobs=-1)),\n",
       "                               ('amplitude-4',\n",
       "                                Amplitude...\n",
       "                                          metric_params={'n_bins': 100, 'p': 1,\n",
       "                                                         'sigma': 1.6},\n",
       "                                          n_jobs=-1)),\n",
       "                               ('amplitude-11',\n",
       "                                Amplitude(metric='heat',\n",
       "                                          metric_params={'n_bins': 100, 'p': 1,\n",
       "                                                         'sigma': 3.2},\n",
       "                                          n_jobs=-1)),\n",
       "                               ('amplitude-12',\n",
       "                                Amplitude(metric='heat',\n",
       "                                          metric_params={'n_bins': 100, 'p': 2,\n",
       "                                                         'sigma': 1.6},\n",
       "                                          n_jobs=-1)),\n",
       "                               ('amplitude-13',\n",
       "                                Amplitude(metric='heat',\n",
       "                                          metric_params={'n_bins': 100, 'p': 2,\n",
       "                                                         'sigma': 3.2},\n",
       "                                          n_jobs=-1))])</pre></div></div></div><div class=\"sk-parallel\"><div class=\"sk-parallel-item\"><div class=\"sk-item\"><div class=\"sk-label-container\"><div class=\"sk-label sk-toggleable\"><label>persistenceentropy</label></div></div><div class=\"sk-serial\"><div class=\"sk-item\"><div class=\"sk-estimator sk-toggleable\"><input class=\"sk-toggleable__control sk-hidden--visually\" id=\"a8e6edf8-a287-480b-bada-79e6d19db8d9\" type=\"checkbox\" ><label class=\"sk-toggleable__label\" for=\"a8e6edf8-a287-480b-bada-79e6d19db8d9\">PersistenceEntropy</label><div class=\"sk-toggleable__content\"><pre>PersistenceEntropy(nan_fill_value=-1)</pre></div></div></div></div></div></div><div class=\"sk-parallel-item\"><div class=\"sk-item\"><div class=\"sk-label-container\"><div class=\"sk-label sk-toggleable\"><label>amplitude-1</label></div></div><div class=\"sk-serial\"><div class=\"sk-item\"><div class=\"sk-estimator sk-toggleable\"><input class=\"sk-toggleable__control sk-hidden--visually\" id=\"17dfccdb-04d9-4718-a878-6531c1fbf7ef\" type=\"checkbox\" ><label class=\"sk-toggleable__label\" for=\"17dfccdb-04d9-4718-a878-6531c1fbf7ef\">Amplitude</label><div class=\"sk-toggleable__content\"><pre>Amplitude(metric='bottleneck', metric_params={}, n_jobs=-1)</pre></div></div></div></div></div></div><div class=\"sk-parallel-item\"><div class=\"sk-item\"><div class=\"sk-label-container\"><div class=\"sk-label sk-toggleable\"><label>amplitude-2</label></div></div><div class=\"sk-serial\"><div class=\"sk-item\"><div class=\"sk-estimator sk-toggleable\"><input class=\"sk-toggleable__control sk-hidden--visually\" id=\"1a661a2d-3e3a-4630-b7d2-c91d5c4307c8\" type=\"checkbox\" ><label class=\"sk-toggleable__label\" for=\"1a661a2d-3e3a-4630-b7d2-c91d5c4307c8\">Amplitude</label><div class=\"sk-toggleable__content\"><pre>Amplitude(metric='wasserstein', metric_params={'p': 1}, n_jobs=-1)</pre></div></div></div></div></div></div><div class=\"sk-parallel-item\"><div class=\"sk-item\"><div class=\"sk-label-container\"><div class=\"sk-label sk-toggleable\"><label>amplitude-3</label></div></div><div class=\"sk-serial\"><div class=\"sk-item\"><div class=\"sk-estimator sk-toggleable\"><input class=\"sk-toggleable__control sk-hidden--visually\" id=\"6b0df49f-b18e-456d-a4e0-1f3d2d877c1b\" type=\"checkbox\" ><label class=\"sk-toggleable__label\" for=\"6b0df49f-b18e-456d-a4e0-1f3d2d877c1b\">Amplitude</label><div class=\"sk-toggleable__content\"><pre>Amplitude(metric='wasserstein', metric_params={'p': 2}, n_jobs=-1)</pre></div></div></div></div></div></div><div class=\"sk-parallel-item\"><div class=\"sk-item\"><div class=\"sk-label-container\"><div class=\"sk-label sk-toggleable\"><label>amplitude-4</label></div></div><div class=\"sk-serial\"><div class=\"sk-item\"><div class=\"sk-estimator sk-toggleable\"><input class=\"sk-toggleable__control sk-hidden--visually\" id=\"e79ebeda-da10-4093-83dc-519238710779\" type=\"checkbox\" ><label class=\"sk-toggleable__label\" for=\"e79ebeda-da10-4093-83dc-519238710779\">Amplitude</label><div class=\"sk-toggleable__content\"><pre>Amplitude(metric_params={'n_bins': 100, 'n_layers': 1, 'p': 1}, n_jobs=-1)</pre></div></div></div></div></div></div><div class=\"sk-parallel-item\"><div class=\"sk-item\"><div class=\"sk-label-container\"><div class=\"sk-label sk-toggleable\"><label>amplitude-5</label></div></div><div class=\"sk-serial\"><div class=\"sk-item\"><div class=\"sk-estimator sk-toggleable\"><input class=\"sk-toggleable__control sk-hidden--visually\" id=\"b3eb86f8-6fc7-4a93-be46-3dda0c4059e1\" type=\"checkbox\" ><label class=\"sk-toggleable__label\" for=\"b3eb86f8-6fc7-4a93-be46-3dda0c4059e1\">Amplitude</label><div class=\"sk-toggleable__content\"><pre>Amplitude(metric_params={'n_bins': 100, 'n_layers': 2, 'p': 1}, n_jobs=-1)</pre></div></div></div></div></div></div><div class=\"sk-parallel-item\"><div class=\"sk-item\"><div class=\"sk-label-container\"><div class=\"sk-label sk-toggleable\"><label>amplitude-6</label></div></div><div class=\"sk-serial\"><div class=\"sk-item\"><div class=\"sk-estimator sk-toggleable\"><input class=\"sk-toggleable__control sk-hidden--visually\" id=\"329542c4-1c1a-40e0-bdb1-f2a6d65ef711\" type=\"checkbox\" ><label class=\"sk-toggleable__label\" for=\"329542c4-1c1a-40e0-bdb1-f2a6d65ef711\">Amplitude</label><div class=\"sk-toggleable__content\"><pre>Amplitude(metric_params={'n_bins': 100, 'n_layers': 1, 'p': 2}, n_jobs=-1)</pre></div></div></div></div></div></div><div class=\"sk-parallel-item\"><div class=\"sk-item\"><div class=\"sk-label-container\"><div class=\"sk-label sk-toggleable\"><label>amplitude-7</label></div></div><div class=\"sk-serial\"><div class=\"sk-item\"><div class=\"sk-estimator sk-toggleable\"><input class=\"sk-toggleable__control sk-hidden--visually\" id=\"969aad5d-569b-48ac-9ed8-7861a092c9e1\" type=\"checkbox\" ><label class=\"sk-toggleable__label\" for=\"969aad5d-569b-48ac-9ed8-7861a092c9e1\">Amplitude</label><div class=\"sk-toggleable__content\"><pre>Amplitude(metric_params={'n_bins': 100, 'n_layers': 2, 'p': 2}, n_jobs=-1)</pre></div></div></div></div></div></div><div class=\"sk-parallel-item\"><div class=\"sk-item\"><div class=\"sk-label-container\"><div class=\"sk-label sk-toggleable\"><label>amplitude-8</label></div></div><div class=\"sk-serial\"><div class=\"sk-item\"><div class=\"sk-estimator sk-toggleable\"><input class=\"sk-toggleable__control sk-hidden--visually\" id=\"99de8c06-9047-42c3-8d3e-bcf9864266e8\" type=\"checkbox\" ><label class=\"sk-toggleable__label\" for=\"99de8c06-9047-42c3-8d3e-bcf9864266e8\">Amplitude</label><div class=\"sk-toggleable__content\"><pre>Amplitude(metric='betti', metric_params={'n_bins': 100, 'p': 1}, n_jobs=-1)</pre></div></div></div></div></div></div><div class=\"sk-parallel-item\"><div class=\"sk-item\"><div class=\"sk-label-container\"><div class=\"sk-label sk-toggleable\"><label>amplitude-9</label></div></div><div class=\"sk-serial\"><div class=\"sk-item\"><div class=\"sk-estimator sk-toggleable\"><input class=\"sk-toggleable__control sk-hidden--visually\" id=\"4aaf7569-2c68-4f2d-8945-3b0ee1e875b2\" type=\"checkbox\" ><label class=\"sk-toggleable__label\" for=\"4aaf7569-2c68-4f2d-8945-3b0ee1e875b2\">Amplitude</label><div class=\"sk-toggleable__content\"><pre>Amplitude(metric='betti', metric_params={'n_bins': 100, 'p': 2}, n_jobs=-1)</pre></div></div></div></div></div></div><div class=\"sk-parallel-item\"><div class=\"sk-item\"><div class=\"sk-label-container\"><div class=\"sk-label sk-toggleable\"><label>amplitude-10</label></div></div><div class=\"sk-serial\"><div class=\"sk-item\"><div class=\"sk-estimator sk-toggleable\"><input class=\"sk-toggleable__control sk-hidden--visually\" id=\"94b89837-8a1c-440a-882c-7130658dc17a\" type=\"checkbox\" ><label class=\"sk-toggleable__label\" for=\"94b89837-8a1c-440a-882c-7130658dc17a\">Amplitude</label><div class=\"sk-toggleable__content\"><pre>Amplitude(metric='heat', metric_params={'n_bins': 100, 'p': 1, 'sigma': 1.6},\n",
       "          n_jobs=-1)</pre></div></div></div></div></div></div><div class=\"sk-parallel-item\"><div class=\"sk-item\"><div class=\"sk-label-container\"><div class=\"sk-label sk-toggleable\"><label>amplitude-11</label></div></div><div class=\"sk-serial\"><div class=\"sk-item\"><div class=\"sk-estimator sk-toggleable\"><input class=\"sk-toggleable__control sk-hidden--visually\" id=\"05d995ac-4196-41cb-8bd4-ebab610458e7\" type=\"checkbox\" ><label class=\"sk-toggleable__label\" for=\"05d995ac-4196-41cb-8bd4-ebab610458e7\">Amplitude</label><div class=\"sk-toggleable__content\"><pre>Amplitude(metric='heat', metric_params={'n_bins': 100, 'p': 1, 'sigma': 3.2},\n",
       "          n_jobs=-1)</pre></div></div></div></div></div></div><div class=\"sk-parallel-item\"><div class=\"sk-item\"><div class=\"sk-label-container\"><div class=\"sk-label sk-toggleable\"><label>amplitude-12</label></div></div><div class=\"sk-serial\"><div class=\"sk-item\"><div class=\"sk-estimator sk-toggleable\"><input class=\"sk-toggleable__control sk-hidden--visually\" id=\"40b77cd3-553f-4deb-b767-a720f2ca28fe\" type=\"checkbox\" ><label class=\"sk-toggleable__label\" for=\"40b77cd3-553f-4deb-b767-a720f2ca28fe\">Amplitude</label><div class=\"sk-toggleable__content\"><pre>Amplitude(metric='heat', metric_params={'n_bins': 100, 'p': 2, 'sigma': 1.6},\n",
       "          n_jobs=-1)</pre></div></div></div></div></div></div><div class=\"sk-parallel-item\"><div class=\"sk-item\"><div class=\"sk-label-container\"><div class=\"sk-label sk-toggleable\"><label>amplitude-13</label></div></div><div class=\"sk-serial\"><div class=\"sk-item\"><div class=\"sk-estimator sk-toggleable\"><input class=\"sk-toggleable__control sk-hidden--visually\" id=\"37bdc173-5492-4f54-883d-458afdef19d0\" type=\"checkbox\" ><label class=\"sk-toggleable__label\" for=\"37bdc173-5492-4f54-883d-458afdef19d0\">Amplitude</label><div class=\"sk-toggleable__content\"><pre>Amplitude(metric='heat', metric_params={'n_bins': 100, 'p': 2, 'sigma': 3.2},\n",
       "          n_jobs=-1)</pre></div></div></div></div></div></div></div></div></div></div></div></div></div></div></div></div></div>"
      ]
     },
     "metadata": {},
     "execution_count": 19
    }
   ],
   "metadata": {}
  },
  {
   "cell_type": "code",
   "execution_count": 17,
   "source": [
    "X_train.shape"
   ],
   "outputs": [
    {
     "output_type": "execute_result",
     "data": {
      "text/plain": [
       "(60, 28, 28)"
      ]
     },
     "metadata": {},
     "execution_count": 17
    }
   ],
   "metadata": {}
  },
  {
   "cell_type": "markdown",
   "source": [
    "It's now a simple matter to run the whole pipeline:"
   ],
   "metadata": {}
  },
  {
   "cell_type": "code",
   "execution_count": 21,
   "source": [
    "X_train_tda = tda_union.fit_transform(X_train)\n",
    "X_train_tda.shape"
   ],
   "outputs": [
    {
     "output_type": "execute_result",
     "data": {
      "text/plain": [
       "(60, 476)"
      ]
     },
     "metadata": {},
     "execution_count": 21
    }
   ],
   "metadata": {}
  },
  {
   "cell_type": "markdown",
   "source": [
    "## Training a classifier"
   ],
   "metadata": {}
  },
  {
   "cell_type": "markdown",
   "source": [
    "We see we have generated $(8 + 9) \\times 2 \\times 14 = 476$ topological features per image! In general, some of these features will be highly correlated and a feature selection procedure could be used to select the most informative ones. Nevertheless, let's train a Random Forest classifier on our training set to see what kind of performance we can get:"
   ],
   "metadata": {}
  },
  {
   "cell_type": "code",
   "execution_count": 22,
   "source": [
    "from sklearn.ensemble import RandomForestClassifier\n",
    "\n",
    "rf = RandomForestClassifier()\n",
    "rf.fit(X_train_tda, y_train)\n",
    "\n",
    "X_test_tda = tda_union.transform(X_test)\n",
    "rf.score(X_test_tda, y_test)"
   ],
   "outputs": [
    {
     "output_type": "execute_result",
     "data": {
      "text/plain": [
       "0.8"
      ]
     },
     "metadata": {},
     "execution_count": 22
    }
   ],
   "metadata": {}
  },
  {
   "cell_type": "markdown",
   "source": [
    "For such a small dataset, this accuracy is not too bad but accuracies above 96% can be achieved by training on the full MNIST dataset together with feature selection strategies."
   ],
   "metadata": {}
  },
  {
   "cell_type": "markdown",
   "source": [
    "## Using hyperparameter search with topological pipelines "
   ],
   "metadata": {}
  },
  {
   "cell_type": "markdown",
   "source": [
    "In the above pipeline, we can think of our choices for the directions and centers of the filtrations as hyperparameter. To wrap up our analysis, let's see how we can run a hyperparameter search over the directions of the height filtration. We'll use a simplified pipeline to show the main steps, but note that a realistic application would involve running the search over a pipeline like the one in the previous section.\n",
    "\n",
    "As usual, we define our pipeline in terms of topological transformers and an estimator as the final step:"
   ],
   "metadata": {}
  },
  {
   "cell_type": "code",
   "execution_count": null,
   "source": [
    "height_pipeline = Pipeline([\n",
    "    ('binarizer', Binarizer(threshold=0.4)),\n",
    "    ('filtration', HeightFiltration()),\n",
    "    ('diagram', CubicalPersistence()),\n",
    "    ('feature', PersistenceEntropy(nan_fill_value=-1)),\n",
    "    ('classifier', RandomForestClassifier(random_state=42))\n",
    "])"
   ],
   "outputs": [],
   "metadata": {}
  },
  {
   "cell_type": "markdown",
   "source": [
    "Next we can search for the best combination of directions, homology dimensions, and number of trees in our Random Forest as follows:"
   ],
   "metadata": {}
  },
  {
   "cell_type": "code",
   "execution_count": null,
   "source": [
    "from sklearn.model_selection import GridSearchCV\n",
    "\n",
    "direction_list = [[1, 0], [1, 1], [0, 1], [-1, 1], [-1, 0], [-1, -1], [0, -1], [1, -1]]\n",
    "homology_dimensions_list = [[0], [1]]\n",
    "n_estimators_list = [500, 1000, 2000]\n",
    "\n",
    "param_grid = {\n",
    "    \"filtration__direction\": [np.array(direction) for direction in direction_list],\n",
    "    \"diagram__homology_dimensions\": [\n",
    "        homology_dimensions for homology_dimensions in homology_dimensions_list\n",
    "    ],\n",
    "    \"classifier__n_estimators\": [n_estimators for n_estimators in n_estimators_list],\n",
    "}\n",
    "\n",
    "grid_search = GridSearchCV(\n",
    "    estimator=height_pipeline, param_grid=param_grid, cv=3, n_jobs=-1\n",
    ")\n",
    "\n",
    "grid_search.fit(X_train, y_train)"
   ],
   "outputs": [],
   "metadata": {}
  },
  {
   "cell_type": "markdown",
   "source": [
    "By looking at the best hyperparameters"
   ],
   "metadata": {}
  },
  {
   "cell_type": "code",
   "execution_count": null,
   "source": [
    "grid_search.best_params_"
   ],
   "outputs": [],
   "metadata": {}
  },
  {
   "cell_type": "markdown",
   "source": [
    "we see that the direction [1, 0] with homology dimension 0 produces the best features. By comparing say a \"6\" and \"9\" digit, can you think of a reason why this might be the case?"
   ],
   "metadata": {}
  }
 ],
 "metadata": {
  "kernelspec": {
   "display_name": "Python 3",
   "language": "python",
   "name": "python3"
  },
  "language_info": {
   "codemirror_mode": {
    "name": "ipython",
    "version": 3
   },
   "file_extension": ".py",
   "mimetype": "text/x-python",
   "name": "python",
   "nbconvert_exporter": "python",
   "pygments_lexer": "ipython3",
   "version": "3.8.5"
  }
 },
 "nbformat": 4,
 "nbformat_minor": 4
}